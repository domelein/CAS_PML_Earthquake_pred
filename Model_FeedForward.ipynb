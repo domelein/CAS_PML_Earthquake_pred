{
 "cells": [
  {
   "cell_type": "markdown",
   "metadata": {},
   "source": [
    "# Imports"
   ]
  },
  {
   "cell_type": "code",
   "execution_count": 1,
   "metadata": {
    "ExecuteTime": {
     "end_time": "2019-03-27T16:36:28.697535Z",
     "start_time": "2019-03-27T16:36:24.985964Z"
    }
   },
   "outputs": [
    {
     "name": "stderr",
     "output_type": "stream",
     "text": [
      "Using TensorFlow backend.\n"
     ]
    }
   ],
   "source": [
    "import pandas as pd\n",
    "import numpy as np\n",
    "#data visualization\n",
    "import matplotlib.pyplot as plt\n",
    "from sklearn.model_selection import train_test_split\n",
    "from sklearn.preprocessing import StandardScaler\n",
    "from sklearn.metrics import mean_absolute_error\n",
    "\n",
    "from keras.models import Sequential\n",
    "from keras.layers import Dense, Activation\n",
    "\n",
    "pd.options.display.precision = 10"
   ]
  },
  {
   "cell_type": "markdown",
   "metadata": {},
   "source": [
    "# Umgebungsvariablen"
   ]
  },
  {
   "cell_type": "code",
   "execution_count": 2,
   "metadata": {
    "ExecuteTime": {
     "end_time": "2019-03-27T16:36:30.738683Z",
     "start_time": "2019-03-27T16:36:30.733716Z"
    }
   },
   "outputs": [],
   "source": [
    "# path data Domenico\n",
    "#feature generated 24.03.2019\n",
    "earthquake_daten = '''C:/Users/taacodo4/GITRepos/CAS_PML_Earthquake_pred/data/'''\n",
    "feature_62900_94 = 'Features_62900-94.csv'\n",
    "feature_41934_94 = 'Features_41934_94.csv'\n",
    "Features_4194_94 = 'Features_4194_94.csv'"
   ]
  },
  {
   "cell_type": "markdown",
   "metadata": {},
   "source": [
    "# Feature laden"
   ]
  },
  {
   "cell_type": "code",
   "execution_count": 3,
   "metadata": {
    "ExecuteTime": {
     "end_time": "2019-03-27T16:36:34.834699Z",
     "start_time": "2019-03-27T16:36:33.943571Z"
    }
   },
   "outputs": [],
   "source": [
    "train_data = pd.read_csv(earthquake_daten+feature_41934_94)"
   ]
  },
  {
   "cell_type": "code",
   "execution_count": 4,
   "metadata": {
    "ExecuteTime": {
     "end_time": "2019-03-27T16:36:46.890991Z",
     "start_time": "2019-03-27T16:36:46.870936Z"
    }
   },
   "outputs": [],
   "source": [
    "feature_data = train_data.iloc[:,1:95]\n",
    "time_to_failure = np.array(train_data.iloc[:,-1])"
   ]
  },
  {
   "cell_type": "markdown",
   "metadata": {},
   "source": [
    "# Feature Filtern"
   ]
  },
  {
   "cell_type": "code",
   "execution_count": 48,
   "metadata": {},
   "outputs": [],
   "source": [
    "items_to_filter=['spec_cent_75%q', 'max', 'mean', 'min', 'skew', 'rolloff_75%q', 'zero_crossings', 'spec_cent_95%q', 'spec_bw_25%q', 'absMax', 'spec_bw_75%q', 'psd_skew', 'chroma_stft_std', 'spec_cent_absStd', 'psd_kurt', 'rolloff_min', 'rolloff_25%q', 'spec_cent_std', 'spec_cent_5%q', 'kurt', 'psd_75%q', 'spec_cent_min', 'chroma_stft_mean', 'rolloff_95%q', 'spec_cent_absMean', 'absMean', 'spec_cent_25%q', 'spec_cent_99%q', 'chroma_stft_skew', 'spec_cent_max']\n",
    "filtered_feature_data = feature_data.filter(items=items_to_filter)"
   ]
  },
  {
   "cell_type": "code",
   "execution_count": 49,
   "metadata": {},
   "outputs": [
    {
     "data": {
      "text/html": [
       "<div>\n",
       "<style scoped>\n",
       "    .dataframe tbody tr th:only-of-type {\n",
       "        vertical-align: middle;\n",
       "    }\n",
       "\n",
       "    .dataframe tbody tr th {\n",
       "        vertical-align: top;\n",
       "    }\n",
       "\n",
       "    .dataframe thead th {\n",
       "        text-align: right;\n",
       "    }\n",
       "</style>\n",
       "<table border=\"1\" class=\"dataframe\">\n",
       "  <thead>\n",
       "    <tr style=\"text-align: right;\">\n",
       "      <th></th>\n",
       "      <th>spec_cent_75%q</th>\n",
       "      <th>max</th>\n",
       "      <th>mean</th>\n",
       "      <th>min</th>\n",
       "      <th>skew</th>\n",
       "      <th>rolloff_75%q</th>\n",
       "      <th>zero_crossings</th>\n",
       "      <th>spec_cent_95%q</th>\n",
       "      <th>spec_bw_25%q</th>\n",
       "      <th>absMax</th>\n",
       "      <th>...</th>\n",
       "      <th>psd_75%q</th>\n",
       "      <th>spec_cent_min</th>\n",
       "      <th>chroma_stft_mean</th>\n",
       "      <th>rolloff_95%q</th>\n",
       "      <th>spec_cent_absMean</th>\n",
       "      <th>absMean</th>\n",
       "      <th>spec_cent_25%q</th>\n",
       "      <th>spec_cent_99%q</th>\n",
       "      <th>chroma_stft_skew</th>\n",
       "      <th>spec_cent_max</th>\n",
       "    </tr>\n",
       "  </thead>\n",
       "  <tbody>\n",
       "    <tr>\n",
       "      <th>0</th>\n",
       "      <td>733159.4642193337</td>\n",
       "      <td>104</td>\n",
       "      <td>4.8841133333</td>\n",
       "      <td>-98</td>\n",
       "      <td>-0.0240611666</td>\n",
       "      <td>1460937.500</td>\n",
       "      <td>11112</td>\n",
       "      <td>757406.6983228923</td>\n",
       "      <td>557429.6937546992</td>\n",
       "      <td>104</td>\n",
       "      <td>...</td>\n",
       "      <td>0.0000051602</td>\n",
       "      <td>344137.5866431109</td>\n",
       "      <td>0.9718849487</td>\n",
       "      <td>1498046.875</td>\n",
       "      <td>675299.9943783229</td>\n",
       "      <td>5.5765666667</td>\n",
       "      <td>634216.6864112499</td>\n",
       "      <td>775422.7117589850</td>\n",
       "      <td>0.3649612855</td>\n",
       "      <td>779718.3984031264</td>\n",
       "    </tr>\n",
       "    <tr>\n",
       "      <th>1</th>\n",
       "      <td>736612.5134613134</td>\n",
       "      <td>181</td>\n",
       "      <td>4.8460000000</td>\n",
       "      <td>-154</td>\n",
       "      <td>0.3925487681</td>\n",
       "      <td>1464843.750</td>\n",
       "      <td>10896</td>\n",
       "      <td>758500.7081672971</td>\n",
       "      <td>557835.3492556307</td>\n",
       "      <td>181</td>\n",
       "      <td>...</td>\n",
       "      <td>0.0000052140</td>\n",
       "      <td>267026.7775581809</td>\n",
       "      <td>0.9716164141</td>\n",
       "      <td>1496093.750</td>\n",
       "      <td>679242.6166165252</td>\n",
       "      <td>5.5397733333</td>\n",
       "      <td>639542.6603908021</td>\n",
       "      <td>774492.1946102306</td>\n",
       "      <td>-11.1282768673</td>\n",
       "      <td>779399.3470904609</td>\n",
       "    </tr>\n",
       "    <tr>\n",
       "      <th>2</th>\n",
       "      <td>737973.7808192460</td>\n",
       "      <td>181</td>\n",
       "      <td>4.8111600000</td>\n",
       "      <td>-154</td>\n",
       "      <td>0.4131461554</td>\n",
       "      <td>1462890.625</td>\n",
       "      <td>11002</td>\n",
       "      <td>758961.3555535431</td>\n",
       "      <td>558113.8118867078</td>\n",
       "      <td>181</td>\n",
       "      <td>...</td>\n",
       "      <td>0.0000052309</td>\n",
       "      <td>270683.2349891659</td>\n",
       "      <td>0.9716184120</td>\n",
       "      <td>1494140.625</td>\n",
       "      <td>680252.8575712403</td>\n",
       "      <td>5.4927200000</td>\n",
       "      <td>636292.9403923374</td>\n",
       "      <td>774492.2387742114</td>\n",
       "      <td>-10.8530496921</td>\n",
       "      <td>780546.9703317202</td>\n",
       "    </tr>\n",
       "    <tr>\n",
       "      <th>3</th>\n",
       "      <td>737384.8299326156</td>\n",
       "      <td>181</td>\n",
       "      <td>4.7970666667</td>\n",
       "      <td>-154</td>\n",
       "      <td>0.3948502125</td>\n",
       "      <td>1462890.625</td>\n",
       "      <td>11102</td>\n",
       "      <td>758423.8895016053</td>\n",
       "      <td>556857.8166817626</td>\n",
       "      <td>181</td>\n",
       "      <td>...</td>\n",
       "      <td>0.0000052344</td>\n",
       "      <td>275071.6517177345</td>\n",
       "      <td>0.9716175451</td>\n",
       "      <td>1496093.750</td>\n",
       "      <td>676762.4451292974</td>\n",
       "      <td>5.5360666667</td>\n",
       "      <td>634641.2622919537</td>\n",
       "      <td>775489.8181291984</td>\n",
       "      <td>-9.9423065072</td>\n",
       "      <td>780605.6109377267</td>\n",
       "    </tr>\n",
       "    <tr>\n",
       "      <th>4</th>\n",
       "      <td>731781.3140465751</td>\n",
       "      <td>181</td>\n",
       "      <td>4.7963466667</td>\n",
       "      <td>-154</td>\n",
       "      <td>0.4967878159</td>\n",
       "      <td>1457031.250</td>\n",
       "      <td>11492</td>\n",
       "      <td>758944.2582974294</td>\n",
       "      <td>552611.6044073350</td>\n",
       "      <td>181</td>\n",
       "      <td>...</td>\n",
       "      <td>0.0000052794</td>\n",
       "      <td>267450.5228245327</td>\n",
       "      <td>0.9716255541</td>\n",
       "      <td>1496093.750</td>\n",
       "      <td>670948.9908539157</td>\n",
       "      <td>5.6779333333</td>\n",
       "      <td>624543.9763641407</td>\n",
       "      <td>775308.7449658551</td>\n",
       "      <td>-10.3648509485</td>\n",
       "      <td>779109.7670845632</td>\n",
       "    </tr>\n",
       "  </tbody>\n",
       "</table>\n",
       "<p>5 rows × 30 columns</p>\n",
       "</div>"
      ],
      "text/plain": [
       "      spec_cent_75%q  max          mean  min          skew  rolloff_75%q  \\\n",
       "0  733159.4642193337  104  4.8841133333  -98 -0.0240611666   1460937.500   \n",
       "1  736612.5134613134  181  4.8460000000 -154  0.3925487681   1464843.750   \n",
       "2  737973.7808192460  181  4.8111600000 -154  0.4131461554   1462890.625   \n",
       "3  737384.8299326156  181  4.7970666667 -154  0.3948502125   1462890.625   \n",
       "4  731781.3140465751  181  4.7963466667 -154  0.4967878159   1457031.250   \n",
       "\n",
       "   zero_crossings     spec_cent_95%q       spec_bw_25%q  absMax  ...  \\\n",
       "0           11112  757406.6983228923  557429.6937546992     104  ...   \n",
       "1           10896  758500.7081672971  557835.3492556307     181  ...   \n",
       "2           11002  758961.3555535431  558113.8118867078     181  ...   \n",
       "3           11102  758423.8895016053  556857.8166817626     181  ...   \n",
       "4           11492  758944.2582974294  552611.6044073350     181  ...   \n",
       "\n",
       "       psd_75%q      spec_cent_min  chroma_stft_mean  rolloff_95%q  \\\n",
       "0  0.0000051602  344137.5866431109      0.9718849487   1498046.875   \n",
       "1  0.0000052140  267026.7775581809      0.9716164141   1496093.750   \n",
       "2  0.0000052309  270683.2349891659      0.9716184120   1494140.625   \n",
       "3  0.0000052344  275071.6517177345      0.9716175451   1496093.750   \n",
       "4  0.0000052794  267450.5228245327      0.9716255541   1496093.750   \n",
       "\n",
       "   spec_cent_absMean       absMean     spec_cent_25%q     spec_cent_99%q  \\\n",
       "0  675299.9943783229  5.5765666667  634216.6864112499  775422.7117589850   \n",
       "1  679242.6166165252  5.5397733333  639542.6603908021  774492.1946102306   \n",
       "2  680252.8575712403  5.4927200000  636292.9403923374  774492.2387742114   \n",
       "3  676762.4451292974  5.5360666667  634641.2622919537  775489.8181291984   \n",
       "4  670948.9908539157  5.6779333333  624543.9763641407  775308.7449658551   \n",
       "\n",
       "   chroma_stft_skew      spec_cent_max  \n",
       "0      0.3649612855  779718.3984031264  \n",
       "1    -11.1282768673  779399.3470904609  \n",
       "2    -10.8530496921  780546.9703317202  \n",
       "3     -9.9423065072  780605.6109377267  \n",
       "4    -10.3648509485  779109.7670845632  \n",
       "\n",
       "[5 rows x 30 columns]"
      ]
     },
     "execution_count": 49,
     "metadata": {},
     "output_type": "execute_result"
    }
   ],
   "source": [
    "filtered_feature_data.head()"
   ]
  },
  {
   "cell_type": "code",
   "execution_count": 71,
   "metadata": {},
   "outputs": [],
   "source": [
    "#feature_data = filtered_feature_data"
   ]
  },
  {
   "cell_type": "code",
   "execution_count": 5,
   "metadata": {
    "ExecuteTime": {
     "end_time": "2019-03-27T16:37:05.842781Z",
     "start_time": "2019-03-27T16:37:05.806130Z"
    }
   },
   "outputs": [
    {
     "data": {
      "text/html": [
       "<div>\n",
       "<style scoped>\n",
       "    .dataframe tbody tr th:only-of-type {\n",
       "        vertical-align: middle;\n",
       "    }\n",
       "\n",
       "    .dataframe tbody tr th {\n",
       "        vertical-align: top;\n",
       "    }\n",
       "\n",
       "    .dataframe thead th {\n",
       "        text-align: right;\n",
       "    }\n",
       "</style>\n",
       "<table border=\"1\" class=\"dataframe\">\n",
       "  <thead>\n",
       "    <tr style=\"text-align: right;\">\n",
       "      <th></th>\n",
       "      <th>mean</th>\n",
       "      <th>std</th>\n",
       "      <th>kurt</th>\n",
       "      <th>skew</th>\n",
       "      <th>min</th>\n",
       "      <th>max</th>\n",
       "      <th>1%q</th>\n",
       "      <th>5%q</th>\n",
       "      <th>25%q</th>\n",
       "      <th>75%q</th>\n",
       "      <th>...</th>\n",
       "      <th>spec_bw_kurt</th>\n",
       "      <th>spec_bw_skew</th>\n",
       "      <th>spec_bw_min</th>\n",
       "      <th>spec_bw_max</th>\n",
       "      <th>spec_bw_1%q</th>\n",
       "      <th>spec_bw_5%q</th>\n",
       "      <th>spec_bw_25%q</th>\n",
       "      <th>spec_bw_75%q</th>\n",
       "      <th>spec_bw_95%q</th>\n",
       "      <th>spec_bw_99%q</th>\n",
       "    </tr>\n",
       "  </thead>\n",
       "  <tbody>\n",
       "    <tr>\n",
       "      <th>0</th>\n",
       "      <td>4.8841133333</td>\n",
       "      <td>5.1011061306</td>\n",
       "      <td>33.6624812935</td>\n",
       "      <td>-0.0240611666</td>\n",
       "      <td>-98</td>\n",
       "      <td>104</td>\n",
       "      <td>-8.0</td>\n",
       "      <td>-2.0</td>\n",
       "      <td>3.0</td>\n",
       "      <td>7.0</td>\n",
       "      <td>...</td>\n",
       "      <td>12.7760446198</td>\n",
       "      <td>-2.9176274163</td>\n",
       "      <td>381349.1865900679</td>\n",
       "      <td>593848.0949585186</td>\n",
       "      <td>464802.9437660335</td>\n",
       "      <td>513229.8197951605</td>\n",
       "      <td>557429.6937546992</td>\n",
       "      <td>578910.9580815419</td>\n",
       "      <td>586597.8954874629</td>\n",
       "      <td>589247.3423812583</td>\n",
       "    </tr>\n",
       "    <tr>\n",
       "      <th>1</th>\n",
       "      <td>4.8460000000</td>\n",
       "      <td>5.3572687695</td>\n",
       "      <td>107.6590450983</td>\n",
       "      <td>0.3925487681</td>\n",
       "      <td>-154</td>\n",
       "      <td>181</td>\n",
       "      <td>-8.0</td>\n",
       "      <td>-2.0</td>\n",
       "      <td>3.0</td>\n",
       "      <td>7.0</td>\n",
       "      <td>...</td>\n",
       "      <td>22.8557929787</td>\n",
       "      <td>-3.8872902502</td>\n",
       "      <td>329836.4019458159</td>\n",
       "      <td>591835.0083446358</td>\n",
       "      <td>439108.3658902883</td>\n",
       "      <td>516325.3313475318</td>\n",
       "      <td>557835.3492556307</td>\n",
       "      <td>579988.6349873011</td>\n",
       "      <td>586440.8325607502</td>\n",
       "      <td>589359.9034747409</td>\n",
       "    </tr>\n",
       "    <tr>\n",
       "      <th>2</th>\n",
       "      <td>4.8111600000</td>\n",
       "      <td>5.3222446671</td>\n",
       "      <td>110.4614763269</td>\n",
       "      <td>0.4131461554</td>\n",
       "      <td>-154</td>\n",
       "      <td>181</td>\n",
       "      <td>-8.0</td>\n",
       "      <td>-2.0</td>\n",
       "      <td>2.0</td>\n",
       "      <td>7.0</td>\n",
       "      <td>...</td>\n",
       "      <td>23.7946792295</td>\n",
       "      <td>-3.9943724011</td>\n",
       "      <td>332568.2442054225</td>\n",
       "      <td>593958.4716608603</td>\n",
       "      <td>445689.0151435903</td>\n",
       "      <td>516651.7592641455</td>\n",
       "      <td>558113.8118867078</td>\n",
       "      <td>578970.1809539023</td>\n",
       "      <td>585994.1793593073</td>\n",
       "      <td>588331.0470630293</td>\n",
       "    </tr>\n",
       "    <tr>\n",
       "      <th>3</th>\n",
       "      <td>4.7970666667</td>\n",
       "      <td>5.4298018331</td>\n",
       "      <td>102.2839738481</td>\n",
       "      <td>0.3948502125</td>\n",
       "      <td>-154</td>\n",
       "      <td>181</td>\n",
       "      <td>-8.0</td>\n",
       "      <td>-2.0</td>\n",
       "      <td>2.0</td>\n",
       "      <td>7.0</td>\n",
       "      <td>...</td>\n",
       "      <td>20.7818401916</td>\n",
       "      <td>-3.6765386574</td>\n",
       "      <td>343556.3218677743</td>\n",
       "      <td>594248.5566511984</td>\n",
       "      <td>462607.7576279854</td>\n",
       "      <td>515205.1687599596</td>\n",
       "      <td>556857.8166817626</td>\n",
       "      <td>578945.5839074623</td>\n",
       "      <td>586079.6053871689</td>\n",
       "      <td>588848.0485897590</td>\n",
       "    </tr>\n",
       "    <tr>\n",
       "      <th>4</th>\n",
       "      <td>4.7963466667</td>\n",
       "      <td>6.2361343193</td>\n",
       "      <td>112.5711765807</td>\n",
       "      <td>0.4967878159</td>\n",
       "      <td>-154</td>\n",
       "      <td>181</td>\n",
       "      <td>-9.0</td>\n",
       "      <td>-2.0</td>\n",
       "      <td>2.0</td>\n",
       "      <td>7.0</td>\n",
       "      <td>...</td>\n",
       "      <td>16.5391347377</td>\n",
       "      <td>-3.5297803851</td>\n",
       "      <td>331287.5290388099</td>\n",
       "      <td>592701.6014523738</td>\n",
       "      <td>387511.7411545423</td>\n",
       "      <td>507656.1892000461</td>\n",
       "      <td>552611.6044073350</td>\n",
       "      <td>578410.6210616485</td>\n",
       "      <td>585635.5282477409</td>\n",
       "      <td>589839.5361300857</td>\n",
       "    </tr>\n",
       "  </tbody>\n",
       "</table>\n",
       "<p>5 rows × 94 columns</p>\n",
       "</div>"
      ],
      "text/plain": [
       "           mean           std            kurt          skew  min  max  1%q  \\\n",
       "0  4.8841133333  5.1011061306   33.6624812935 -0.0240611666  -98  104 -8.0   \n",
       "1  4.8460000000  5.3572687695  107.6590450983  0.3925487681 -154  181 -8.0   \n",
       "2  4.8111600000  5.3222446671  110.4614763269  0.4131461554 -154  181 -8.0   \n",
       "3  4.7970666667  5.4298018331  102.2839738481  0.3948502125 -154  181 -8.0   \n",
       "4  4.7963466667  6.2361343193  112.5711765807  0.4967878159 -154  181 -9.0   \n",
       "\n",
       "   5%q  25%q  75%q  ...   spec_bw_kurt  spec_bw_skew        spec_bw_min  \\\n",
       "0 -2.0   3.0   7.0  ...  12.7760446198 -2.9176274163  381349.1865900679   \n",
       "1 -2.0   3.0   7.0  ...  22.8557929787 -3.8872902502  329836.4019458159   \n",
       "2 -2.0   2.0   7.0  ...  23.7946792295 -3.9943724011  332568.2442054225   \n",
       "3 -2.0   2.0   7.0  ...  20.7818401916 -3.6765386574  343556.3218677743   \n",
       "4 -2.0   2.0   7.0  ...  16.5391347377 -3.5297803851  331287.5290388099   \n",
       "\n",
       "         spec_bw_max        spec_bw_1%q        spec_bw_5%q       spec_bw_25%q  \\\n",
       "0  593848.0949585186  464802.9437660335  513229.8197951605  557429.6937546992   \n",
       "1  591835.0083446358  439108.3658902883  516325.3313475318  557835.3492556307   \n",
       "2  593958.4716608603  445689.0151435903  516651.7592641455  558113.8118867078   \n",
       "3  594248.5566511984  462607.7576279854  515205.1687599596  556857.8166817626   \n",
       "4  592701.6014523738  387511.7411545423  507656.1892000461  552611.6044073350   \n",
       "\n",
       "        spec_bw_75%q       spec_bw_95%q       spec_bw_99%q  \n",
       "0  578910.9580815419  586597.8954874629  589247.3423812583  \n",
       "1  579988.6349873011  586440.8325607502  589359.9034747409  \n",
       "2  578970.1809539023  585994.1793593073  588331.0470630293  \n",
       "3  578945.5839074623  586079.6053871689  588848.0485897590  \n",
       "4  578410.6210616485  585635.5282477409  589839.5361300857  \n",
       "\n",
       "[5 rows x 94 columns]"
      ]
     },
     "execution_count": 5,
     "metadata": {},
     "output_type": "execute_result"
    }
   ],
   "source": [
    "feature_data.head()"
   ]
  },
  {
   "cell_type": "markdown",
   "metadata": {},
   "source": [
    "# Training / Testdaten vorbereiten"
   ]
  },
  {
   "cell_type": "code",
   "execution_count": 6,
   "metadata": {
    "ExecuteTime": {
     "end_time": "2019-03-27T16:37:08.556000Z",
     "start_time": "2019-03-27T16:37:08.519912Z"
    }
   },
   "outputs": [],
   "source": [
    "X_train, X_test, y_train, y_test = train_test_split(\n",
    "    feature_data,\n",
    "    time_to_failure,\n",
    "    random_state=0,\n",
    "    test_size=0.25)"
   ]
  },
  {
   "cell_type": "code",
   "execution_count": 7,
   "metadata": {
    "ExecuteTime": {
     "end_time": "2019-03-27T16:37:10.557217Z",
     "start_time": "2019-03-27T16:37:10.417234Z"
    }
   },
   "outputs": [
    {
     "name": "stderr",
     "output_type": "stream",
     "text": [
      "C:\\Users\\taacodo4\\AppData\\Local\\Continuum\\anaconda3\\envs\\deeplearning\\lib\\site-packages\\sklearn\\preprocessing\\data.py:645: DataConversionWarning: Data with input dtype int64, float64 were all converted to float64 by StandardScaler.\n",
      "  return self.partial_fit(X, y)\n",
      "C:\\Users\\taacodo4\\AppData\\Local\\Continuum\\anaconda3\\envs\\deeplearning\\lib\\site-packages\\ipykernel_launcher.py:2: DataConversionWarning: Data with input dtype int64, float64 were all converted to float64 by StandardScaler.\n",
      "  \n"
     ]
    }
   ],
   "source": [
    "scaler = StandardScaler().fit(X_train)\n",
    "X_train_scaled=scaler.transform(X_train)"
   ]
  },
  {
   "cell_type": "markdown",
   "metadata": {},
   "source": [
    "# Create Model"
   ]
  },
  {
   "cell_type": "code",
   "execution_count": 59,
   "metadata": {
    "ExecuteTime": {
     "end_time": "2019-03-27T10:31:25.991042Z",
     "start_time": "2019-03-27T10:31:24.745694Z"
    }
   },
   "outputs": [],
   "source": []
  },
  {
   "cell_type": "code",
   "execution_count": 87,
   "metadata": {},
   "outputs": [],
   "source": []
  },
  {
   "cell_type": "markdown",
   "metadata": {},
   "source": [
    "# Compilation"
   ]
  },
  {
   "cell_type": "code",
   "execution_count": 20,
   "metadata": {
    "ExecuteTime": {
     "end_time": "2019-03-27T16:52:12.148439Z",
     "start_time": "2019-03-27T16:48:39.131893Z"
    },
    "scrolled": true
   },
   "outputs": [
    {
     "name": "stdout",
     "output_type": "stream",
     "text": [
      "Epoch 1/100\n",
      "31450/31450 [==============================] - 2s 70us/step - loss: 2.0965 - mean_absolute_error: 2.0965 - acc: 0.0000e+00\n",
      "Epoch 2/100\n",
      "31450/31450 [==============================] - 2s 63us/step - loss: 2.0155 - mean_absolute_error: 2.0155 - acc: 0.0000e+00\n",
      "Epoch 3/100\n",
      "31450/31450 [==============================] - 2s 64us/step - loss: 1.9907 - mean_absolute_error: 1.9907 - acc: 0.0000e+00\n",
      "Epoch 4/100\n",
      "31450/31450 [==============================] - 2s 64us/step - loss: 1.9746 - mean_absolute_error: 1.9746 - acc: 0.0000e+00\n",
      "Epoch 5/100\n",
      "31450/31450 [==============================] - 2s 59us/step - loss: 1.9633 - mean_absolute_error: 1.9633 - acc: 0.0000e+00\n",
      "Epoch 6/100\n",
      "31450/31450 [==============================] - 2s 60us/step - loss: 1.9508 - mean_absolute_error: 1.9508 - acc: 0.0000e+00\n",
      "Epoch 7/100\n",
      "31450/31450 [==============================] - 2s 59us/step - loss: 1.9412 - mean_absolute_error: 1.9412 - acc: 0.0000e+00\n",
      "Epoch 8/100\n",
      "31450/31450 [==============================] - 2s 59us/step - loss: 1.9300 - mean_absolute_error: 1.9300 - acc: 0.0000e+00\n",
      "Epoch 9/100\n",
      "31450/31450 [==============================] - 2s 60us/step - loss: 1.9193 - mean_absolute_error: 1.9193 - acc: 0.0000e+00\n",
      "Epoch 10/100\n",
      "31450/31450 [==============================] - 2s 65us/step - loss: 1.9081 - mean_absolute_error: 1.9081 - acc: 0.0000e+00\n",
      "Epoch 11/100\n",
      "31450/31450 [==============================] - 2s 63us/step - loss: 1.9039 - mean_absolute_error: 1.9039 - acc: 0.0000e+00\n",
      "Epoch 12/100\n",
      "31450/31450 [==============================] - 2s 61us/step - loss: 1.8914 - mean_absolute_error: 1.8914 - acc: 0.0000e+00\n",
      "Epoch 13/100\n",
      "31450/31450 [==============================] - 2s 61us/step - loss: 1.8855 - mean_absolute_error: 1.8855 - acc: 0.0000e+00\n",
      "Epoch 14/100\n",
      "31450/31450 [==============================] - 2s 60us/step - loss: 1.8725 - mean_absolute_error: 1.8725 - acc: 0.0000e+00\n",
      "Epoch 15/100\n",
      "31450/31450 [==============================] - 2s 61us/step - loss: 1.8658 - mean_absolute_error: 1.8658 - acc: 0.0000e+00\n",
      "Epoch 16/100\n",
      "31450/31450 [==============================] - 2s 61us/step - loss: 1.8578 - mean_absolute_error: 1.8578 - acc: 0.0000e+00\n",
      "Epoch 17/100\n",
      "31450/31450 [==============================] - 2s 61us/step - loss: 1.8501 - mean_absolute_error: 1.8501 - acc: 0.0000e+00\n",
      "Epoch 18/100\n",
      "31450/31450 [==============================] - 2s 71us/step - loss: 1.8437 - mean_absolute_error: 1.8437 - acc: 0.0000e+00\n",
      "Epoch 19/100\n",
      "31450/31450 [==============================] - 2s 69us/step - loss: 1.8352 - mean_absolute_error: 1.8352 - acc: 0.0000e+00\n",
      "Epoch 20/100\n",
      "31450/31450 [==============================] - 2s 66us/step - loss: 1.8286 - mean_absolute_error: 1.8286 - acc: 0.0000e+00\n",
      "Epoch 21/100\n",
      "31450/31450 [==============================] - 2s 66us/step - loss: 1.8235 - mean_absolute_error: 1.8235 - acc: 0.0000e+00\n",
      "Epoch 22/100\n",
      "31450/31450 [==============================] - 2s 66us/step - loss: 1.8151 - mean_absolute_error: 1.8151 - acc: 0.0000e+00\n",
      "Epoch 23/100\n",
      "31450/31450 [==============================] - 2s 67us/step - loss: 1.8095 - mean_absolute_error: 1.8095 - acc: 0.0000e+00\n",
      "Epoch 24/100\n",
      "31450/31450 [==============================] - 2s 67us/step - loss: 1.8047 - mean_absolute_error: 1.8047 - acc: 0.0000e+00\n",
      "Epoch 25/100\n",
      "31450/31450 [==============================] - 2s 67us/step - loss: 1.7965 - mean_absolute_error: 1.7965 - acc: 0.0000e+00\n",
      "Epoch 26/100\n",
      "31450/31450 [==============================] - 2s 75us/step - loss: 1.7909 - mean_absolute_error: 1.7909 - acc: 0.0000e+00\n",
      "Epoch 27/100\n",
      "31450/31450 [==============================] - 2s 66us/step - loss: 1.7886 - mean_absolute_error: 1.7886 - acc: 0.0000e+00\n",
      "Epoch 28/100\n",
      "31450/31450 [==============================] - 2s 67us/step - loss: 1.7808 - mean_absolute_error: 1.7808 - acc: 0.0000e+00\n",
      "Epoch 29/100\n",
      "31450/31450 [==============================] - 2s 67us/step - loss: 1.7757 - mean_absolute_error: 1.7757 - acc: 0.0000e+00\n",
      "Epoch 30/100\n",
      "31450/31450 [==============================] - 2s 66us/step - loss: 1.7674 - mean_absolute_error: 1.7674 - acc: 0.0000e+00\n",
      "Epoch 31/100\n",
      "31450/31450 [==============================] - 2s 67us/step - loss: 1.7638 - mean_absolute_error: 1.7638 - acc: 0.0000e+00\n",
      "Epoch 32/100\n",
      "31450/31450 [==============================] - 2s 66us/step - loss: 1.7569 - mean_absolute_error: 1.7569 - acc: 0.0000e+00\n",
      "Epoch 33/100\n",
      "31450/31450 [==============================] - 2s 76us/step - loss: 1.7563 - mean_absolute_error: 1.7563 - acc: 0.0000e+00\n",
      "Epoch 34/100\n",
      "31450/31450 [==============================] - 2s 78us/step - loss: 1.7503 - mean_absolute_error: 1.7503 - acc: 0.0000e+00\n",
      "Epoch 35/100\n",
      "31450/31450 [==============================] - 2s 69us/step - loss: 1.7446 - mean_absolute_error: 1.7446 - acc: 0.0000e+00\n",
      "Epoch 36/100\n",
      "31450/31450 [==============================] - 2s 68us/step - loss: 1.7399 - mean_absolute_error: 1.7399 - acc: 0.0000e+00\n",
      "Epoch 37/100\n",
      "31450/31450 [==============================] - 2s 75us/step - loss: 1.7357 - mean_absolute_error: 1.7357 - acc: 0.0000e+00\n",
      "Epoch 38/100\n",
      "31450/31450 [==============================] - 2s 72us/step - loss: 1.7322 - mean_absolute_error: 1.7322 - acc: 0.0000e+00\n",
      "Epoch 39/100\n",
      "31450/31450 [==============================] - 2s 69us/step - loss: 1.7276 - mean_absolute_error: 1.7276 - acc: 0.0000e+00\n",
      "Epoch 40/100\n",
      "31450/31450 [==============================] - 2s 79us/step - loss: 1.7233 - mean_absolute_error: 1.7233 - acc: 0.0000e+00\n",
      "Epoch 41/100\n",
      "31450/31450 [==============================] - 2s 69us/step - loss: 1.7194 - mean_absolute_error: 1.7194 - acc: 0.0000e+00\n",
      "Epoch 42/100\n",
      "31450/31450 [==============================] - 2s 67us/step - loss: 1.7163 - mean_absolute_error: 1.7163 - acc: 0.0000e+00\n",
      "Epoch 43/100\n",
      "31450/31450 [==============================] - 2s 69us/step - loss: 1.7103 - mean_absolute_error: 1.7103 - acc: 0.0000e+00\n",
      "Epoch 44/100\n",
      "31450/31450 [==============================] - 2s 67us/step - loss: 1.7075 - mean_absolute_error: 1.7075 - acc: 0.0000e+00\n",
      "Epoch 45/100\n",
      "31450/31450 [==============================] - 2s 66us/step - loss: 1.7088 - mean_absolute_error: 1.7088 - acc: 0.0000e+00\n",
      "Epoch 46/100\n",
      "31450/31450 [==============================] - 2s 67us/step - loss: 1.7028 - mean_absolute_error: 1.7028 - acc: 0.0000e+00\n",
      "Epoch 47/100\n",
      "31450/31450 [==============================] - 2s 70us/step - loss: 1.7017 - mean_absolute_error: 1.7017 - acc: 0.0000e+00\n",
      "Epoch 48/100\n",
      "31450/31450 [==============================] - 2s 73us/step - loss: 1.6938 - mean_absolute_error: 1.6938 - acc: 0.0000e+00\n",
      "Epoch 49/100\n",
      "31450/31450 [==============================] - 2s 67us/step - loss: 1.6940 - mean_absolute_error: 1.6940 - acc: 0.0000e+00\n",
      "Epoch 50/100\n",
      "31450/31450 [==============================] - 2s 66us/step - loss: 1.6891 - mean_absolute_error: 1.6891 - acc: 0.0000e+00\n",
      "Epoch 51/100\n",
      "31450/31450 [==============================] - 2s 67us/step - loss: 1.6872 - mean_absolute_error: 1.6872 - acc: 0.0000e+00\n",
      "Epoch 52/100\n",
      "31450/31450 [==============================] - 2s 67us/step - loss: 1.6840 - mean_absolute_error: 1.6840 - acc: 0.0000e+00\n",
      "Epoch 53/100\n",
      "31450/31450 [==============================] - 2s 67us/step - loss: 1.6771 - mean_absolute_error: 1.6771 - acc: 0.0000e+00\n",
      "Epoch 54/100\n",
      "31450/31450 [==============================] - 2s 68us/step - loss: 1.6764 - mean_absolute_error: 1.6764 - acc: 0.0000e+00\n",
      "Epoch 55/100\n",
      "31450/31450 [==============================] - 2s 76us/step - loss: 1.6689 - mean_absolute_error: 1.6689 - acc: 0.0000e+00\n",
      "Epoch 56/100\n",
      "31450/31450 [==============================] - 2s 73us/step - loss: 1.6686 - mean_absolute_error: 1.6686 - acc: 0.0000e+00\n",
      "Epoch 57/100\n",
      "31450/31450 [==============================] - 2s 69us/step - loss: 1.6649 - mean_absolute_error: 1.6649 - acc: 0.0000e+00\n",
      "Epoch 58/100\n",
      "31450/31450 [==============================] - 2s 70us/step - loss: 1.6641 - mean_absolute_error: 1.6641 - acc: 0.0000e+00\n",
      "Epoch 59/100\n",
      "31450/31450 [==============================] - 2s 67us/step - loss: 1.6621 - mean_absolute_error: 1.6621 - acc: 0.0000e+00\n",
      "Epoch 60/100\n",
      "31450/31450 [==============================] - 2s 68us/step - loss: 1.6595 - mean_absolute_error: 1.6595 - acc: 0.0000e+00\n",
      "Epoch 61/100\n"
     ]
    },
    {
     "name": "stdout",
     "output_type": "stream",
     "text": [
      "31450/31450 [==============================] - 2s 63us/step - loss: 1.6544 - mean_absolute_error: 1.6544 - acc: 0.0000e+00\n",
      "Epoch 62/100\n",
      "31450/31450 [==============================] - 3s 80us/step - loss: 1.6525 - mean_absolute_error: 1.6525 - acc: 0.0000e+00\n",
      "Epoch 63/100\n",
      "31450/31450 [==============================] - 2s 70us/step - loss: 1.6499 - mean_absolute_error: 1.6499 - acc: 0.0000e+00\n",
      "Epoch 64/100\n",
      "31450/31450 [==============================] - 2s 65us/step - loss: 1.6503 - mean_absolute_error: 1.6503 - acc: 0.0000e+00\n",
      "Epoch 65/100\n",
      "31450/31450 [==============================] - 2s 62us/step - loss: 1.6467 - mean_absolute_error: 1.6467 - acc: 0.0000e+00\n",
      "Epoch 66/100\n",
      "31450/31450 [==============================] - 2s 64us/step - loss: 1.6440 - mean_absolute_error: 1.6440 - acc: 0.0000e+00\n",
      "Epoch 67/100\n",
      "31450/31450 [==============================] - 2s 65us/step - loss: 1.6422 - mean_absolute_error: 1.6422 - acc: 0.0000e+00\n",
      "Epoch 68/100\n",
      "31450/31450 [==============================] - 2s 66us/step - loss: 1.6391 - mean_absolute_error: 1.6391 - acc: 0.0000e+00\n",
      "Epoch 69/100\n",
      "31450/31450 [==============================] - 2s 66us/step - loss: 1.6367 - mean_absolute_error: 1.6367 - acc: 0.0000e+00\n",
      "Epoch 70/100\n",
      "31450/31450 [==============================] - 2s 74us/step - loss: 1.6382 - mean_absolute_error: 1.6382 - acc: 0.0000e+00\n",
      "Epoch 71/100\n",
      "31450/31450 [==============================] - 2s 68us/step - loss: 1.6349 - mean_absolute_error: 1.6349 - acc: 0.0000e+00\n",
      "Epoch 72/100\n",
      "31450/31450 [==============================] - 2s 65us/step - loss: 1.6285 - mean_absolute_error: 1.6285 - acc: 0.0000e+00\n",
      "Epoch 73/100\n",
      "31450/31450 [==============================] - 2s 65us/step - loss: 1.6261 - mean_absolute_error: 1.6261 - acc: 0.0000e+00\n",
      "Epoch 74/100\n",
      "31450/31450 [==============================] - 2s 65us/step - loss: 1.6258 - mean_absolute_error: 1.6258 - acc: 0.0000e+00\n",
      "Epoch 75/100\n",
      "31450/31450 [==============================] - 2s 67us/step - loss: 1.6286 - mean_absolute_error: 1.6286 - acc: 0.0000e+00\n",
      "Epoch 76/100\n",
      "31450/31450 [==============================] - 2s 64us/step - loss: 1.6258 - mean_absolute_error: 1.6258 - acc: 0.0000e+00\n",
      "Epoch 77/100\n",
      "31450/31450 [==============================] - 2s 68us/step - loss: 1.6208 - mean_absolute_error: 1.6208 - acc: 0.0000e+00\n",
      "Epoch 78/100\n",
      "31450/31450 [==============================] - 2s 75us/step - loss: 1.6206 - mean_absolute_error: 1.6206 - acc: 0.0000e+00\n",
      "Epoch 79/100\n",
      "31450/31450 [==============================] - 2s 67us/step - loss: 1.6186 - mean_absolute_error: 1.6186 - acc: 0.0000e+00\n",
      "Epoch 80/100\n",
      "31450/31450 [==============================] - 2s 69us/step - loss: 1.6167 - mean_absolute_error: 1.6167 - acc: 0.0000e+00\n",
      "Epoch 81/100\n",
      "31450/31450 [==============================] - 2s 65us/step - loss: 1.6131 - mean_absolute_error: 1.6131 - acc: 0.0000e+00\n",
      "Epoch 82/100\n",
      "31450/31450 [==============================] - 2s 66us/step - loss: 1.6115 - mean_absolute_error: 1.6115 - acc: 0.0000e+00\n",
      "Epoch 83/100\n",
      "31450/31450 [==============================] - 2s 66us/step - loss: 1.6104 - mean_absolute_error: 1.6104 - acc: 0.0000e+00\n",
      "Epoch 84/100\n",
      "31450/31450 [==============================] - 2s 66us/step - loss: 1.6028 - mean_absolute_error: 1.6028 - acc: 0.0000e+00\n",
      "Epoch 85/100\n",
      "31450/31450 [==============================] - 2s 75us/step - loss: 1.6029 - mean_absolute_error: 1.6029 - acc: 0.0000e+00\n",
      "Epoch 86/100\n",
      "31450/31450 [==============================] - 2s 68us/step - loss: 1.6064 - mean_absolute_error: 1.6064 - acc: 0.0000e+00\n",
      "Epoch 87/100\n",
      "31450/31450 [==============================] - 2s 66us/step - loss: 1.6051 - mean_absolute_error: 1.6051 - acc: 0.0000e+00\n",
      "Epoch 88/100\n",
      "31450/31450 [==============================] - 2s 67us/step - loss: 1.6043 - mean_absolute_error: 1.6043 - acc: 0.0000e+00\n",
      "Epoch 89/100\n",
      "31450/31450 [==============================] - 2s 68us/step - loss: 1.5985 - mean_absolute_error: 1.5985 - acc: 0.0000e+00\n",
      "Epoch 90/100\n",
      "31450/31450 [==============================] - 2s 75us/step - loss: 1.6002 - mean_absolute_error: 1.6002 - acc: 0.0000e+00\n",
      "Epoch 91/100\n",
      "31450/31450 [==============================] - 2s 68us/step - loss: 1.5961 - mean_absolute_error: 1.5961 - acc: 0.0000e+00\n",
      "Epoch 92/100\n",
      "31450/31450 [==============================] - 2s 75us/step - loss: 1.5935 - mean_absolute_error: 1.5935 - acc: 0.0000e+00\n",
      "Epoch 93/100\n",
      "31450/31450 [==============================] - 2s 75us/step - loss: 1.5978 - mean_absolute_error: 1.5978 - acc: 0.0000e+00\n",
      "Epoch 94/100\n",
      "31450/31450 [==============================] - 2s 68us/step - loss: 1.5905 - mean_absolute_error: 1.5905 - acc: 0.0000e+00\n",
      "Epoch 95/100\n",
      "31450/31450 [==============================] - 2s 68us/step - loss: 1.5912 - mean_absolute_error: 1.5912 - acc: 0.0000e+00\n",
      "Epoch 96/100\n",
      "31450/31450 [==============================] - 2s 70us/step - loss: 1.5896 - mean_absolute_error: 1.5896 - acc: 0.0000e+00\n",
      "Epoch 97/100\n",
      "31450/31450 [==============================] - 2s 71us/step - loss: 1.5906 - mean_absolute_error: 1.5906 - acc: 0.0000e+00\n",
      "Epoch 98/100\n",
      "31450/31450 [==============================] - 2s 70us/step - loss: 1.5889 - mean_absolute_error: 1.5889 - acc: 0.0000e+00\n",
      "Epoch 99/100\n",
      "31450/31450 [==============================] - 2s 75us/step - loss: 1.5813 - mean_absolute_error: 1.5813 - acc: 0.0000e+00\n",
      "Epoch 100/100\n",
      "31450/31450 [==============================] - 2s 75us/step - loss: 1.5843 - mean_absolute_error: 1.5843 - acc: 0.0000e+00\n"
     ]
    },
    {
     "data": {
      "text/plain": [
       "<keras.callbacks.History at 0x12316f7c438>"
      ]
     },
     "execution_count": 20,
     "metadata": {},
     "output_type": "execute_result"
    }
   ],
   "source": [
    "model = Sequential()\n",
    "model.add(Dense(30, activation='relu', input_dim=94))\n",
    "model.add(Dense(40, activation='relu'))\n",
    "model.add(Dense(30, activation='relu'))\n",
    "model.add(Dense(1, activation='linear'))\n",
    "model.compile(loss='mae',optimizer='sgd',metrics=['mae', 'acc'],)\n",
    "#model.compile(loss='mae', optimizer='adam')\n",
    "\n",
    "model.fit(X_train_scaled, y_train, epochs=100, batch_size=10)"
   ]
  },
  {
   "cell_type": "code",
   "execution_count": 21,
   "metadata": {
    "ExecuteTime": {
     "end_time": "2019-03-27T16:52:18.084509Z",
     "start_time": "2019-03-27T16:52:18.066461Z"
    }
   },
   "outputs": [
    {
     "name": "stderr",
     "output_type": "stream",
     "text": [
      "C:\\Users\\taacodo4\\AppData\\Local\\Continuum\\anaconda3\\envs\\deeplearning\\lib\\site-packages\\ipykernel_launcher.py:1: DataConversionWarning: Data with input dtype int64, float64 were all converted to float64 by StandardScaler.\n",
      "  \"\"\"Entry point for launching an IPython kernel.\n"
     ]
    }
   ],
   "source": [
    "X_test_scaled=scaler.transform(X_test)"
   ]
  },
  {
   "cell_type": "code",
   "execution_count": 22,
   "metadata": {
    "ExecuteTime": {
     "end_time": "2019-03-27T16:52:36.715713Z",
     "start_time": "2019-03-27T16:52:36.709694Z"
    }
   },
   "outputs": [
    {
     "name": "stdout",
     "output_type": "stream",
     "text": [
      "_________________________________________________________________\n",
      "Layer (type)                 Output Shape              Param #   \n",
      "=================================================================\n",
      "dense_17 (Dense)             (None, 30)                2850      \n",
      "_________________________________________________________________\n",
      "dense_18 (Dense)             (None, 40)                1240      \n",
      "_________________________________________________________________\n",
      "dense_19 (Dense)             (None, 30)                1230      \n",
      "_________________________________________________________________\n",
      "dense_20 (Dense)             (None, 1)                 31        \n",
      "=================================================================\n",
      "Total params: 5,351\n",
      "Trainable params: 5,351\n",
      "Non-trainable params: 0\n",
      "_________________________________________________________________\n"
     ]
    }
   ],
   "source": [
    "model.summary()"
   ]
  },
  {
   "cell_type": "code",
   "execution_count": 23,
   "metadata": {
    "ExecuteTime": {
     "end_time": "2019-03-27T16:52:40.574655Z",
     "start_time": "2019-03-27T16:52:40.427722Z"
    }
   },
   "outputs": [
    {
     "name": "stdout",
     "output_type": "stream",
     "text": [
      "\n",
      "Model Report\n",
      "<bound method Network.summary of <keras.engine.sequential.Sequential object at 0x00000123187E60F0>>\n",
      "MAE train data: 1.774\n"
     ]
    }
   ],
   "source": [
    "prediction=model.predict(X_test_scaled)\n",
    "#Print model report:\n",
    "print(\"\\nModel Report\")\n",
    "print(model.summary)\n",
    "print(\"MAE train data: %.4g\" % mean_absolute_error(y_test, prediction))"
   ]
  }
 ],
 "metadata": {
  "kernelspec": {
   "display_name": "Python 3",
   "language": "python",
   "name": "python3"
  },
  "language_info": {
   "codemirror_mode": {
    "name": "ipython",
    "version": 3
   },
   "file_extension": ".py",
   "mimetype": "text/x-python",
   "name": "python",
   "nbconvert_exporter": "python",
   "pygments_lexer": "ipython3",
   "version": "3.7.2"
  },
  "toc": {
   "base_numbering": 1,
   "nav_menu": {
    "height": "347.003px",
    "width": "275.994px"
   },
   "number_sections": true,
   "sideBar": true,
   "skip_h1_title": false,
   "title_cell": "Table of Contents",
   "title_sidebar": "Contents",
   "toc_cell": false,
   "toc_position": {},
   "toc_section_display": true,
   "toc_window_display": true
  }
 },
 "nbformat": 4,
 "nbformat_minor": 2
}
