{
 "cells": [
  {
   "cell_type": "markdown",
   "metadata": {},
   "source": [
    "## Loading Packages"
   ]
  },
  {
   "cell_type": "code",
   "execution_count": 1,
   "metadata": {
    "ExecuteTime": {
     "end_time": "2019-03-24T14:47:59.405060Z",
     "start_time": "2019-03-24T14:47:25.087037Z"
    }
   },
   "outputs": [],
   "source": [
    "import pandas as pd\n",
    "import numpy as np\n",
    "import matplotlib.pyplot as plt\n",
    "import seaborn as sns\n",
    "from pandas.plotting import autocorrelation_plot\n",
    "\n",
    "from scipy import stats\n",
    "from scipy import signal\n",
    "import librosa\n",
    "import librosa.display\n",
    "\n",
    "from statsmodels.tsa.stattools import adfuller\n",
    "from statsmodels.tsa.stattools import kpss\n",
    "from statsmodels.tsa.stattools import acf\n",
    "\n",
    "import statsmodels.api as sm\n",
    "from statsmodels.graphics.tsaplots import plot_acf"
   ]
  },
  {
   "cell_type": "code",
   "execution_count": 2,
   "metadata": {
    "ExecuteTime": {
     "end_time": "2019-03-24T14:48:05.508254Z",
     "start_time": "2019-03-24T14:48:05.482593Z"
    }
   },
   "outputs": [],
   "source": [
    "%matplotlib inline\n",
    "#sns.set()\n",
    "#%matplotlib nbagg\n",
    "\n",
    "pd.options.display.precision = 15"
   ]
  },
  {
   "cell_type": "markdown",
   "metadata": {},
   "source": [
    "## Umgebungsvariablen"
   ]
  },
  {
   "cell_type": "code",
   "execution_count": 4,
   "metadata": {
    "ExecuteTime": {
     "end_time": "2019-03-24T14:51:30.518377Z",
     "start_time": "2019-03-24T14:51:30.513361Z"
    }
   },
   "outputs": [],
   "source": [
    "# path data Stefan\n",
    "failure_datapath = '''D:/jupyter-notebooks/LANL_Earthquake_Prediction/failure/'''\n",
    "train_data_path = '''C:/studium/studium/CAS_PML/Projekt_Arbeit/earthquake/Daten/all/train.csv'''"
   ]
  },
  {
   "cell_type": "code",
   "execution_count": 6,
   "metadata": {
    "ExecuteTime": {
     "end_time": "2019-03-24T14:51:54.055809Z",
     "start_time": "2019-03-24T14:51:54.053099Z"
    }
   },
   "outputs": [],
   "source": [
    "# path data Domenico\n",
    "failure_datapath = '''C:/Users/taacodo4/GITRepos/CAS_PML_Earthquake_pred/failure'''\n",
    "train_data_path = '''C:/Users/taacodo4/GITRepos/CAS_PML_Earthquake_pred/data/train.csv'''"
   ]
  },
  {
   "cell_type": "markdown",
   "metadata": {},
   "source": [
    "\n",
    "### Load the full dataset"
   ]
  },
  {
   "cell_type": "code",
   "execution_count": null,
   "metadata": {
    "ExecuteTime": {
     "end_time": "2019-03-24T14:52:48.719736Z",
     "start_time": "2019-03-24T14:51:57.392210Z"
    }
   },
   "outputs": [],
   "source": [
    "train_data = pd.read_csv(train_data_path, dtype={'acoustic_data': np.int16, 'time_to_failure': np.float64})"
   ]
  },
  {
   "cell_type": "markdown",
   "metadata": {},
   "source": [
    "#  Data Exploration"
   ]
  },
  {
   "cell_type": "markdown",
   "metadata": {},
   "source": [
    "## Acoustic data"
   ]
  },
  {
   "cell_type": "code",
   "execution_count": null,
   "metadata": {
    "ExecuteTime": {
     "end_time": "2019-03-05T20:53:50.310563Z",
     "start_time": "2019-03-05T20:53:40.663298Z"
    }
   },
   "outputs": [],
   "source": [
    "train_data.acoustic_data.describe()"
   ]
  },
  {
   "cell_type": "code",
   "execution_count": null,
   "metadata": {},
   "outputs": [],
   "source": [
    "train_sample =train_data.sample(frac=0.05)\n",
    "plt.figure(figsize=(15,8))\n",
    "plt.title(\"Acoustic data distribution (5% sample of 6.2914548000e+08)\")\n",
    "ax = sns.distplot(train_sample.acoustic_data)\n",
    "#quelle: https://www.kaggle.com/jsaguiar/seismic-data-exploration"
   ]
  },
  {
   "cell_type": "markdown",
   "metadata": {},
   "source": [
    "Max Value beträgt: 5.4440000000e+03"
   ]
  },
  {
   "cell_type": "code",
   "execution_count": null,
   "metadata": {},
   "outputs": [],
   "source": [
    "train_sample.acoustic_data.quantile(0.9)"
   ]
  },
  {
   "cell_type": "markdown",
   "metadata": {},
   "source": [
    "90% der accoustic daten liegen unter 9."
   ]
  },
  {
   "cell_type": "code",
   "execution_count": null,
   "metadata": {},
   "outputs": [],
   "source": [
    "plt.figure(figsize=(15,8))\n",
    "plt.title(\"Acoustic data distribution (5% sample of 6.2914548000e+08)\")\n",
    "ax = sns.distplot(train_sample.acoustic_data[train_sample.acoustic_data.between(-9, 9)], kde=False,fit=stats.norm)\n",
    "#kde = whether to plot a gaussian kernel density estimate.\n",
    "#quelle: https://www.kaggle.com/jsaguiar/seismic-data-exploration"
   ]
  },
  {
   "cell_type": "markdown",
   "metadata": {},
   "source": [
    "## Time to failure"
   ]
  },
  {
   "cell_type": "code",
   "execution_count": null,
   "metadata": {
    "ExecuteTime": {
     "end_time": "2019-03-05T20:55:00.509287Z",
     "start_time": "2019-03-05T20:54:48.703839Z"
    }
   },
   "outputs": [],
   "source": [
    "train_data.time_to_failure.describe()"
   ]
  },
  {
   "cell_type": "code",
   "execution_count": null,
   "metadata": {},
   "outputs": [],
   "source": [
    "plt.figure(figsize=(15,8))\n",
    "plt.title(\"Time to failure distribution (5% sample of 6.2914548000e+08)\")\n",
    "ax = sns.distplot(train_sample.time_to_failure,fit=stats.norm,kde=False )"
   ]
  },
  {
   "cell_type": "markdown",
   "metadata": {},
   "source": [
    "Die Dauer bis zu einem Erdbeben liegt im Schnitt bei 5 - 7 Sekunden"
   ]
  },
  {
   "cell_type": "markdown",
   "metadata": {},
   "source": [
    "# Data preparation\n",
    "Die Trainingsdaten werden in die einzelnen Erdbeben aufgeteilt und je in ein separates File faulure gespeichert"
   ]
  },
  {
   "cell_type": "markdown",
   "metadata": {},
   "source": [
    "## Die einzelnen Erdbeben voneinander trennen"
   ]
  },
  {
   "cell_type": "code",
   "execution_count": null,
   "metadata": {
    "ExecuteTime": {
     "end_time": "2019-03-06T20:30:24.387478Z",
     "start_time": "2019-03-06T20:30:20.246430Z"
    }
   },
   "outputs": [],
   "source": [
    "#diff = a[n+1] - a[n].In case of a slip (time_to_failure near zero) the following number a[n] is higher than a[n+1]\n",
    "failure_border = np.where(np.diff(train_data.time_to_failure) > 0)"
   ]
  },
  {
   "cell_type": "code",
   "execution_count": null,
   "metadata": {
    "ExecuteTime": {
     "end_time": "2019-03-06T20:30:37.438242Z",
     "start_time": "2019-03-06T20:30:37.420203Z"
    }
   },
   "outputs": [],
   "source": [
    "failures = []\n",
    "start = 0\n",
    "for end in failure_border[0]:\n",
    "    failures.append(train_data.iloc[start:end])\n",
    "    start = end + 1"
   ]
  },
  {
   "cell_type": "code",
   "execution_count": null,
   "metadata": {
    "ExecuteTime": {
     "end_time": "2019-03-06T20:49:52.240908Z",
     "start_time": "2019-03-06T20:47:41.582147Z"
    }
   },
   "outputs": [],
   "source": [
    "for failure in failures:\n",
    "    print(failure.describe())"
   ]
  },
  {
   "cell_type": "markdown",
   "metadata": {
    "ExecuteTime": {
     "end_time": "2019-03-06T20:38:27.567757Z",
     "start_time": "2019-03-06T20:38:27.564871Z"
    }
   },
   "source": [
    "### Save each failure to file"
   ]
  },
  {
   "cell_type": "code",
   "execution_count": null,
   "metadata": {
    "ExecuteTime": {
     "end_time": "2019-03-06T20:45:09.316811Z",
     "start_time": "2019-03-06T20:43:44.380202Z"
    }
   },
   "outputs": [],
   "source": [
    "for failure in range(0,len(failures)):\n",
    "    np.save('./failure/failure{}'.format(failure),failures[failure])"
   ]
  },
  {
   "cell_type": "markdown",
   "metadata": {},
   "source": [
    "### load first earthquake"
   ]
  },
  {
   "cell_type": "code",
   "execution_count": null,
   "metadata": {},
   "outputs": [],
   "source": [
    "failure = pd.DataFrame(np.load(failure_datapath+'/failure{}.npy'.format(0)))\n",
    "failure.columns = ['acoustic_data','time_to_failure']"
   ]
  },
  {
   "cell_type": "markdown",
   "metadata": {},
   "source": [
    "### Reduce datapoints from first earthquake"
   ]
  },
  {
   "cell_type": "code",
   "execution_count": null,
   "metadata": {
    "scrolled": true
   },
   "outputs": [],
   "source": [
    "failure_reduced = failure.iloc[::2, :] #every second element\n",
    "failure_reduced.reset_index(inplace=True)\n",
    "failure_reduced.describe()"
   ]
  },
  {
   "cell_type": "markdown",
   "metadata": {},
   "source": [
    "## Reduce decimal places\n",
    "To reduze the compute time, the decimal places shall be reduced to 4 places only."
   ]
  },
  {
   "cell_type": "code",
   "execution_count": 26,
   "metadata": {
    "ExecuteTime": {
     "end_time": "2019-03-24T15:23:23.252173Z",
     "start_time": "2019-03-24T15:22:16.672821Z"
    }
   },
   "outputs": [],
   "source": [
    "import os\n",
    "path, dirs, files = next(os.walk(failure_datapath))\n",
    "file_count = len(files)\n",
    "\n",
    "for failure in range(0,file_count-1):\n",
    "    data = pd.DataFrame(np.load(failure_datapath+'/failure{}.npy'.format(failure)))\n",
    "    data.columns = ['acoustic_data','time_to_failure']\n",
    "    data['time_to_failure']=data['time_to_failure'].round(4)\n",
    "    data.to_pickle('./failure/failure{}_4decimals.pkl'.format(failure))"
   ]
  },
  {
   "cell_type": "code",
   "execution_count": 54,
   "metadata": {
    "ExecuteTime": {
     "end_time": "2019-03-24T20:00:30.726261Z",
     "start_time": "2019-03-24T20:00:30.162604Z"
    }
   },
   "outputs": [],
   "source": [
    "failure=1\n",
    "data = pd.DataFrame(np.load(failure_datapath+'/failure{}.npy'.format(failure)))"
   ]
  },
  {
   "cell_type": "code",
   "execution_count": 38,
   "metadata": {
    "ExecuteTime": {
     "end_time": "2019-03-24T16:44:27.326962Z",
     "start_time": "2019-03-24T16:44:27.321948Z"
    }
   },
   "outputs": [],
   "source": [
    "data.columns = ['acoustic_data','time_to_failure']"
   ]
  },
  {
   "cell_type": "code",
   "execution_count": 49,
   "metadata": {
    "ExecuteTime": {
     "end_time": "2019-03-24T19:36:47.637363Z",
     "start_time": "2019-03-24T19:36:47.617483Z"
    }
   },
   "outputs": [],
   "source": [
    "import math\n",
    "def truncate(number, digits) -> float:\n",
    "    stepper = pow(10.0, digits)\n",
    "    return math.trunc(stepper * number) / stepper"
   ]
  },
  {
   "cell_type": "code",
   "execution_count": 61,
   "metadata": {
    "ExecuteTime": {
     "end_time": "2019-03-24T20:04:10.305556Z",
     "start_time": "2019-03-24T20:02:54.626368Z"
    }
   },
   "outputs": [],
   "source": [
    "data['time_to_failure']=data['time_to_failure'].apply(lambda x: truncate(x, 4))"
   ]
  },
  {
   "cell_type": "code",
   "execution_count": 57,
   "metadata": {
    "ExecuteTime": {
     "end_time": "2019-03-24T20:01:31.159964Z",
     "start_time": "2019-03-24T20:01:29.905606Z"
    }
   },
   "outputs": [],
   "source": [
    "    data = pd.DataFrame(np.load(failure_datapath+'/failure{}.npy'.format(failure)))\n",
    "    data.columns = ['acoustic_data','time_to_failure']\n",
    "    data['time_to_failure']=data['time_to_failure'].round(4)"
   ]
  },
  {
   "cell_type": "code",
   "execution_count": 64,
   "metadata": {
    "ExecuteTime": {
     "end_time": "2019-03-24T20:04:42.573724Z",
     "start_time": "2019-03-24T20:04:42.562160Z"
    }
   },
   "outputs": [
    {
     "data": {
      "text/html": [
       "<div>\n",
       "<style scoped>\n",
       "    .dataframe tbody tr th:only-of-type {\n",
       "        vertical-align: middle;\n",
       "    }\n",
       "\n",
       "    .dataframe tbody tr th {\n",
       "        vertical-align: top;\n",
       "    }\n",
       "\n",
       "    .dataframe thead th {\n",
       "        text-align: right;\n",
       "    }\n",
       "</style>\n",
       "<table border=\"1\" class=\"dataframe\">\n",
       "  <thead>\n",
       "    <tr style=\"text-align: right;\">\n",
       "      <th></th>\n",
       "      <th>acoustic_data</th>\n",
       "      <th>time_to_failure</th>\n",
       "    </tr>\n",
       "  </thead>\n",
       "  <tbody>\n",
       "    <tr>\n",
       "      <th>0</th>\n",
       "      <td>4.0</td>\n",
       "      <td>11.540800000000001</td>\n",
       "    </tr>\n",
       "    <tr>\n",
       "      <th>1</th>\n",
       "      <td>5.0</td>\n",
       "      <td>11.540800000000001</td>\n",
       "    </tr>\n",
       "    <tr>\n",
       "      <th>2</th>\n",
       "      <td>6.0</td>\n",
       "      <td>11.540800000000001</td>\n",
       "    </tr>\n",
       "    <tr>\n",
       "      <th>3</th>\n",
       "      <td>3.0</td>\n",
       "      <td>11.540800000000001</td>\n",
       "    </tr>\n",
       "    <tr>\n",
       "      <th>4</th>\n",
       "      <td>4.0</td>\n",
       "      <td>11.540800000000001</td>\n",
       "    </tr>\n",
       "  </tbody>\n",
       "</table>\n",
       "</div>"
      ],
      "text/plain": [
       "   acoustic_data     time_to_failure\n",
       "0            4.0  11.540800000000001\n",
       "1            5.0  11.540800000000001\n",
       "2            6.0  11.540800000000001\n",
       "3            3.0  11.540800000000001\n",
       "4            4.0  11.540800000000001"
      ]
     },
     "execution_count": 64,
     "metadata": {},
     "output_type": "execute_result"
    }
   ],
   "source": [
    "data.head()"
   ]
  },
  {
   "cell_type": "code",
   "execution_count": 28,
   "metadata": {
    "ExecuteTime": {
     "end_time": "2019-03-24T15:25:02.032425Z",
     "start_time": "2019-03-24T15:24:32.133923Z"
    }
   },
   "outputs": [
    {
     "name": "stdout",
     "output_type": "stream",
     "text": [
      "   acoustic_data  time_to_failure\n",
      "0           12.0           1.4691\n",
      "1            6.0           1.4691\n",
      "2            8.0           1.4691\n",
      "3            5.0           1.4691\n",
      "4            8.0           1.4691\n",
      "   acoustic_data     time_to_failure\n",
      "0            4.0  11.540800000000001\n",
      "1            5.0  11.540800000000001\n",
      "2            6.0  11.540800000000001\n",
      "3            3.0  11.540800000000001\n",
      "4            4.0  11.540800000000001\n",
      "   acoustic_data  time_to_failure\n",
      "0            1.0          14.1806\n",
      "1            2.0          14.1806\n",
      "2           -1.0          14.1806\n",
      "3            5.0          14.1806\n",
      "4            7.0          14.1806\n",
      "   acoustic_data  time_to_failure\n",
      "0            4.0           8.8567\n",
      "1            4.0           8.8567\n",
      "2            1.0           8.8567\n",
      "3            6.0           8.8567\n",
      "4           10.0           8.8567\n",
      "   acoustic_data     time_to_failure\n",
      "0           -4.0  12.694000000000001\n",
      "1           -1.0  12.694000000000001\n",
      "2            1.0  12.694000000000001\n",
      "3            2.0  12.694000000000001\n",
      "4            0.0  12.694000000000001\n",
      "   acoustic_data  time_to_failure\n",
      "0            2.0           8.0555\n",
      "1            8.0           8.0555\n",
      "2            1.0           8.0555\n",
      "3            4.0           8.0555\n",
      "4            4.0           8.0555\n",
      "   acoustic_data  time_to_failure\n",
      "0            4.0            7.059\n",
      "1           10.0            7.059\n",
      "2            5.0            7.059\n",
      "3            2.0            7.059\n",
      "4            2.0            7.059\n",
      "   acoustic_data     time_to_failure\n",
      "0            2.0  16.107399999999998\n",
      "1            4.0  16.107399999999998\n",
      "2            5.0  16.107399999999998\n",
      "3            1.0  16.107399999999998\n",
      "4            6.0  16.107399999999998\n",
      "   acoustic_data  time_to_failure\n",
      "0            2.0           7.9056\n",
      "1            2.0           7.9056\n",
      "2            0.0           7.9056\n",
      "3            6.0           7.9056\n",
      "4            4.0           7.9056\n",
      "   acoustic_data  time_to_failure\n",
      "0            3.0           9.6371\n",
      "1            5.0           9.6371\n",
      "2            7.0           9.6371\n",
      "3            4.0           9.6371\n",
      "4            5.0           9.6371\n",
      "   acoustic_data     time_to_failure\n",
      "0            0.0  11.426399999999999\n",
      "1            5.0  11.426399999999999\n",
      "2            6.0  11.426399999999999\n",
      "3            4.0  11.426399999999999\n",
      "4            6.0  11.426399999999999\n",
      "   acoustic_data  time_to_failure\n",
      "0           -3.0          11.0242\n",
      "1           -6.0          11.0242\n",
      "2          -10.0          11.0242\n",
      "3           -6.0          11.0242\n",
      "4            1.0          11.0242\n",
      "   acoustic_data    time_to_failure\n",
      "0            3.0  8.828099999999999\n",
      "1            5.0  8.828099999999999\n",
      "2            0.0  8.828099999999999\n",
      "3            2.0  8.828099999999999\n",
      "4            8.0  8.828099999999999\n",
      "   acoustic_data    time_to_failure\n",
      "0            2.0  8.566000000000001\n",
      "1            3.0  8.566000000000001\n",
      "2            4.0  8.566000000000001\n",
      "3            6.0  8.566000000000001\n",
      "4            6.0  8.566000000000001\n",
      "   acoustic_data     time_to_failure\n",
      "0            2.0  14.751799999999999\n",
      "1            6.0  14.751799999999999\n",
      "2            9.0  14.751799999999999\n",
      "3            8.0  14.751799999999999\n",
      "4            8.0  14.751799999999999\n"
     ]
    }
   ],
   "source": [
    "for i in range(0,15):\n",
    "    failure=pd.read_pickle('./failure/failure{}_4decimals.pkl'.format(i))\n",
    "    print(failure.head())                     "
   ]
  },
  {
   "cell_type": "markdown",
   "metadata": {},
   "source": [
    "# Plot all earthquakes"
   ]
  },
  {
   "cell_type": "code",
   "execution_count": null,
   "metadata": {
    "ExecuteTime": {
     "end_time": "2019-03-22T13:54:50.535009Z",
     "start_time": "2019-03-22T13:54:50.530055Z"
    }
   },
   "outputs": [],
   "source": [
    "def plot_acc_ttf_data(train, final_idx, init_idx=0, step=1, title=\"\",\n",
    "                      color1='orange', color2='blue'):\n",
    "    '''quelle: https://www.kaggle.com/jsaguiar/seismic-data-exploration\n",
    "       train: DataFrame mit column acoustic_data und time_to_failure\n",
    "       init_idx: start index\n",
    "       final_idx: end iundex\n",
    "    '''\n",
    "    idx = [i for i in range(init_idx, final_idx, step)]\n",
    "    fig, ax1 = plt.subplots(figsize=(15, 8))\n",
    "    fig.suptitle(title +' (step size: '+str(step)+')', fontsize=14)\n",
    "    \n",
    "    ax2 = ax1.twinx()\n",
    "    ax1.set_xlabel('index')\n",
    "    ax1.set_ylabel('Acoustic data')\n",
    "    ax2.set_ylabel('Time to failure')\n",
    "    p1 = sns.lineplot(data=train.iloc[idx].acoustic_data.values, ax=ax1, color=color1)\n",
    "    p2 = sns.lineplot(data=train.iloc[idx].time_to_failure.values, ax=ax2, color=color2)"
   ]
  },
  {
   "cell_type": "code",
   "execution_count": null,
   "metadata": {},
   "outputs": [],
   "source": [
    "plot_acc_ttf_data(train_data,final_idx=len(train_data), step=1000, title=\"All training data\")\n",
    "print('Amount of samples: {}'.format(len(train_data)))"
   ]
  },
  {
   "cell_type": "markdown",
   "metadata": {},
   "source": [
    "### Peaks"
   ]
  },
  {
   "cell_type": "code",
   "execution_count": null,
   "metadata": {
    "ExecuteTime": {
     "end_time": "2019-03-22T13:33:38.327791Z",
     "start_time": "2019-03-22T13:33:35.289184Z"
    }
   },
   "outputs": [],
   "source": [
    "peaks = train_data[train_data.acoustic_data.abs() > 3000]\n",
    "#print(peaks)\n",
    "peaks.time_to_failure.describe()"
   ]
  },
  {
   "cell_type": "code",
   "execution_count": null,
   "metadata": {
    "ExecuteTime": {
     "end_time": "2019-03-22T13:42:37.788372Z",
     "start_time": "2019-03-22T13:42:36.383137Z"
    },
    "scrolled": false
   },
   "outputs": [],
   "source": [
    "plt.hist(peaks.time_to_failure[peaks.time_to_failure<0.5],bins=1000)\n",
    "plt.show()"
   ]
  },
  {
   "cell_type": "code",
   "execution_count": null,
   "metadata": {
    "ExecuteTime": {
     "end_time": "2019-03-22T13:41:42.174151Z",
     "start_time": "2019-03-22T13:41:42.165175Z"
    }
   },
   "outputs": [],
   "source": [
    "peaks.time_to_failure[peaks.time_to_failure>0.5].describe()"
   ]
  },
  {
   "cell_type": "code",
   "execution_count": null,
   "metadata": {
    "ExecuteTime": {
     "end_time": "2019-03-10T20:10:20.804622Z",
     "start_time": "2019-03-10T20:10:19.261699Z"
    }
   },
   "outputs": [],
   "source": [
    "peaks = train_data[train_data.acoustic_data.abs() > 1000]\n",
    "#print(peaks)\n",
    "peaks.time_to_failure.describe()"
   ]
  },
  {
   "cell_type": "code",
   "execution_count": null,
   "metadata": {
    "ExecuteTime": {
     "end_time": "2019-03-10T20:10:25.515447Z",
     "start_time": "2019-03-10T20:10:24.021443Z"
    }
   },
   "outputs": [],
   "source": [
    "peaks = train_data[train_data.acoustic_data.abs() > 500]\n",
    "#print(peaks)\n",
    "peaks.time_to_failure.describe()"
   ]
  },
  {
   "cell_type": "code",
   "execution_count": null,
   "metadata": {},
   "outputs": [],
   "source": [
    "plot_acc_ttf_data(failure,final_idx=len(failure), step=100, title=\"Earthquake from file failure0.npy\")\n",
    "print('Amount of samples: {}'.format(len(failure)))"
   ]
  },
  {
   "cell_type": "code",
   "execution_count": null,
   "metadata": {},
   "outputs": [],
   "source": [
    "samplingFrequency = 4000000\n",
    "\n",
    "# Plot the spectrogram\n",
    "plt.figure(figsize=(15,8))\n",
    "plt.title(\"Spectrogram Earthquake from file failure0.npy\")\n",
    "powerSpectrum, freqenciesFound, time, imageAxis = plt.specgram(failure.acoustic_data,\n",
    "                                                               Fs=samplingFrequency,\n",
    "                                                               noverlap=90,\n",
    "                                                               NFFT=4096)\n",
    "plt.xlabel('Time (s)')\n",
    "plt.ylabel('Frequency (Hz)')\n",
    "plt.colorbar(format='%+2.0f dB')\n",
    "plt.show()"
   ]
  },
  {
   "cell_type": "code",
   "execution_count": null,
   "metadata": {},
   "outputs": [],
   "source": [
    "samplingFrequency = 4000000\n",
    "\n",
    "# Plot the spectrogram\n",
    "plt.figure(figsize=(15,8))\n",
    "plt.title(\"Spectrogram Earthquake from file failure0.npy\")\n",
    "powerSpectrum, freqenciesFound, time, imageAxis = plt.specgram(failure.acoustic_data,\n",
    "                                                               Fs=samplingFrequency)\n",
    "plt.xlabel('Time (s)')\n",
    "plt.ylabel('Frequency (Hz)')\n",
    "plt.colorbar(format='%+2.0f dB')\n",
    "plt.show()"
   ]
  },
  {
   "cell_type": "code",
   "execution_count": null,
   "metadata": {},
   "outputs": [],
   "source": [
    "powerSpectrum[2,].mean()"
   ]
  },
  {
   "cell_type": "code",
   "execution_count": null,
   "metadata": {},
   "outputs": [],
   "source": [
    "Pxx"
   ]
  },
  {
   "cell_type": "code",
   "execution_count": null,
   "metadata": {},
   "outputs": [],
   "source": [
    "#https://matplotlib.org/api/_as_gen/matplotlib.pyplot.angle_spectrum.html#matplotlib.pyplot.angle_spectrum\n",
    "samplingFrequency = 4000000\n",
    "\n",
    "# Plot the spectrogram\n",
    "plt.figure(figsize=(15,8))\n",
    "plt.title(\"Phase Spectrogram Earthquake from file failure0.npy\")\n",
    "spectrum, freqs, line = plt.phase_spectrum(failure.acoustic_data,Fs=samplingFrequency)\n",
    "plt.show()"
   ]
  },
  {
   "cell_type": "code",
   "execution_count": null,
   "metadata": {},
   "outputs": [],
   "source": [
    "#https://matplotlib.org/api/_as_gen/matplotlib.pyplot.magnitude_spectrum.html\n",
    "samplingFrequency = 4000000\n",
    "\n",
    "# Plot the spectrogram\n",
    "plt.figure(figsize=(15,8))\n",
    "plt.yscale('log')\n",
    "plt.xscale('log')\n",
    "plt.xlabel('Frequency (log) ')\n",
    "plt.ylabel('Magnitude (log)')\n",
    "plt.title(\"Magnitude_spectrum from file failure0.npy\")\n",
    "spectrum, freqs, line = plt.magnitude_spectrum(failure.acoustic_data,Fs=samplingFrequency)\n",
    "plt.show()"
   ]
  },
  {
   "cell_type": "code",
   "execution_count": null,
   "metadata": {},
   "outputs": [],
   "source": [
    "samplingFrequency = 4000000\n",
    "\n",
    "# Plot the spectrogram\n",
    "plt.figure(figsize=(15,8))\n",
    "plt.title(\"Power spectral density from file failure0.npy\")\n",
    "#plt.xscale('log')\n",
    "Pxx, freqs = plt.psd(x=failure.acoustic_data, Fs=samplingFrequency)\n",
    "\n",
    "plt.xlabel('Frequency (Hz)')\n",
    "plt.show()"
   ]
  },
  {
   "cell_type": "code",
   "execution_count": null,
   "metadata": {},
   "outputs": [],
   "source": [
    "plt.figure(figsize=(15,8))\n",
    "plt.title(\"FFT Earthquake from file failure0.npy\")\n",
    "                                                             \n",
    "plt.xlabel('Frequency (Hz)')\n",
    "plt.ylabel('')\n",
    "plt.plot(freqenciesFound,powerSpectrum)\n",
    "plt.show()"
   ]
  },
  {
   "cell_type": "code",
   "execution_count": null,
   "metadata": {},
   "outputs": [],
   "source": [
    "powerSpectrum.shape"
   ]
  },
  {
   "cell_type": "code",
   "execution_count": null,
   "metadata": {},
   "outputs": [],
   "source": [
    "Pxx.shape"
   ]
  },
  {
   "cell_type": "code",
   "execution_count": null,
   "metadata": {},
   "outputs": [],
   "source": [
    "y = np.array(failure.acoustic_data)\n",
    "samplingFrequency = 2000000\n",
    "\n",
    "#to display spectrogram for a ind. file\n",
    "    \n",
    "fig= plt.figure(figsize=(15,8))\n",
    "#plt.subplot(1,2,2)\n",
    "   \n",
    "# calc the STFT with a window = 1024 . \n",
    "D = librosa.core.stft(y, n_fft=4096,hop_length=1024)\n",
    "\n",
    "powerSpectrum_librosa = librosa.amplitude_to_db(np.abs(D),ref=np.max)\n",
    "librosa.display.specshow(powerSpectrum_librosa,y_axis='linear', x_axis='time',sr=samplingFrequency)\n",
    "\n",
    "plt.title('Spectrogram Earthquake from file failure0.npy', fontsize = 20)\n",
    "plt.colorbar(format='%+2.0f dB')\n",
    "plt.tight_layout()                 \n",
    "plt.xlabel('Time (s)', fontsize = 20)\n",
    "plt.ylabel('Frequency (Hz)', fontsize = 20)"
   ]
  },
  {
   "cell_type": "markdown",
   "metadata": {},
   "source": [
    "Der erste Test dauert nur ca. 1.4 Sekunden"
   ]
  },
  {
   "cell_type": "code",
   "execution_count": null,
   "metadata": {
    "ExecuteTime": {
     "end_time": "2019-03-22T14:08:22.272470Z",
     "start_time": "2019-03-22T14:08:22.002129Z"
    }
   },
   "outputs": [],
   "source": [
    "#load second earthquake\n",
    "failure_2 = pd.DataFrame(np.load(failure_datapath+'/failure{}.npy'.format(1)))\n",
    "failure_2.columns = ['acoustic_data','time_to_failure']"
   ]
  },
  {
   "cell_type": "code",
   "execution_count": null,
   "metadata": {
    "ExecuteTime": {
     "end_time": "2019-03-22T14:10:13.324360Z",
     "start_time": "2019-03-22T14:10:10.442936Z"
    }
   },
   "outputs": [],
   "source": [
    "plot_acc_ttf_data(failure_2,final_idx=len(failure_2),init_idx=len(failure_2)-1500000, step=100, title=\"Earthquake from file failure2.npy\")\n",
    "print('Amount of samples: {}'.format(len(failure_3)))"
   ]
  },
  {
   "cell_type": "code",
   "execution_count": null,
   "metadata": {},
   "outputs": [],
   "source": [
    "failure_2.columns = ['acoustic_data','time_to_failure']\n",
    "plot_acc_ttf_data(failure_2,final_idx=len(failure_2), step=100, title=\"Earthquake from file failure1.npy\")\n",
    "print('Amount of samples: {}'.format(len(failure_2)))"
   ]
  },
  {
   "cell_type": "code",
   "execution_count": null,
   "metadata": {},
   "outputs": [],
   "source": [
    "samplingFrequency = 4000000\n",
    "\n",
    "# Plot the spectrogram\n",
    "plt.figure(figsize=(15,8))\n",
    "plt.title(\"Spectrogram Earthquake from file failure1.npy\")\n",
    "powerSpectrum_2, freqenciesFound_2, time, imageAxis = plt.specgram(failure_2.acoustic_data,\n",
    "                                                               Fs=samplingFrequency,\n",
    "                                                               noverlap=900,\n",
    "                                                               NFFT=4096)\n",
    "plt.xlabel('Time (s)')\n",
    "plt.ylabel('Frequency (Hz)')\n",
    "plt.colorbar(format='%+2.0f dB')\n",
    "plt.show()"
   ]
  },
  {
   "cell_type": "code",
   "execution_count": null,
   "metadata": {},
   "outputs": [],
   "source": [
    "samplingFrequency = 4000000\n",
    "\n",
    "# Plot the spectrogram\n",
    "plt.figure(figsize=(15,8))\n",
    "plt.title(\"power spectral density from file failure0.npy\")\n",
    "powerSpectrum, freqenciesFound, time, imageAxis = plt.psd(failure_2.acoustic_data,Fs=samplingFrequency)\n",
    "\n",
    "plt.xlabel('Frequency (Hz)')\n",
    "plt.show()"
   ]
  },
  {
   "cell_type": "code",
   "execution_count": null,
   "metadata": {},
   "outputs": [],
   "source": [
    "print(powerSpectrum_2.shape)\n",
    "print(freqenciesFound_2.shape)"
   ]
  },
  {
   "cell_type": "code",
   "execution_count": null,
   "metadata": {},
   "outputs": [],
   "source": [
    "powerSpectrum_2"
   ]
  },
  {
   "cell_type": "code",
   "execution_count": null,
   "metadata": {},
   "outputs": [],
   "source": [
    "plt.figure(figsize=(15,8))\n",
    "plt.title(\"FFT Earthquake from file failure1.npy\")                                                          \n",
    "plt.xlabel('Frequency (Hz)')\n",
    "plt.ylabel('')\n",
    "plt.plot(freqenciesFound_2,powerSpectrum_2)\n",
    "plt.show()"
   ]
  },
  {
   "cell_type": "code",
   "execution_count": null,
   "metadata": {},
   "outputs": [],
   "source": [
    "y = np.array(failure_2.acoustic_data)\n",
    "samplingFrequency = 2000000\n",
    "\n",
    "#to display spectrogram for a ind. file\n",
    "    \n",
    "fig= plt.figure(figsize=(15,8))\n",
    "#plt.subplot(1,2,2)\n",
    "   \n",
    "# calc the STFT with a window = 1024 . \n",
    "D = librosa.core.stft(y, n_fft=4096,hop_length=1024)\n",
    "\n",
    "powerSpectrum_librosa = librosa.amplitude_to_db(np.abs(D),ref=np.max)\n",
    "librosa.display.specshow(powerSpectrum_librosa,y_axis='linear', x_axis='time',sr=samplingFrequency)\n",
    "\n",
    "plt.title('Spectrogram Earthquake from file failure1.npy', fontsize = 20)\n",
    "plt.colorbar(format='%+2.0f dB')\n",
    "plt.tight_layout()                 \n",
    "plt.xlabel('Time (s)', fontsize = 20)\n",
    "plt.ylabel('Frequency (Hz)', fontsize = 20)"
   ]
  },
  {
   "cell_type": "code",
   "execution_count": null,
   "metadata": {
    "ExecuteTime": {
     "end_time": "2019-03-22T14:00:31.356593Z",
     "start_time": "2019-03-22T14:00:31.017405Z"
    }
   },
   "outputs": [],
   "source": [
    "#load third earthquake\n",
    "failure_3 = pd.DataFrame(np.load(failure_datapath+'/failure{}.npy'.format(2)))\n",
    "failure_3.columns = ['acoustic_data','time_to_failure']"
   ]
  },
  {
   "cell_type": "code",
   "execution_count": null,
   "metadata": {
    "ExecuteTime": {
     "end_time": "2019-03-22T14:10:45.418824Z",
     "start_time": "2019-03-22T14:10:42.513593Z"
    }
   },
   "outputs": [],
   "source": [
    "plot_acc_ttf_data(failure_3,final_idx=len(failure_3),init_idx=len(failure_3)-1500000, step=100, title=\"Earthquake from file failure2.npy\")\n",
    "print('Amount of samples: {}'.format(len(failure_3)))"
   ]
  },
  {
   "cell_type": "code",
   "execution_count": null,
   "metadata": {
    "ExecuteTime": {
     "end_time": "2019-03-22T14:02:16.051475Z",
     "start_time": "2019-03-22T14:00:39.465937Z"
    }
   },
   "outputs": [],
   "source": [
    "plot_acc_ttf_data(failure_3,final_idx=len(failure_3), step=100, title=\"Earthquake from file failure2.npy\")\n",
    "print('Amount of samples: {}'.format(len(failure_3)))"
   ]
  },
  {
   "cell_type": "code",
   "execution_count": null,
   "metadata": {},
   "outputs": [],
   "source": [
    "samplingFrequency = 4000000\n",
    "\n",
    "# Plot the spectrogram\n",
    "plt.figure(figsize=(15,8))\n",
    "plt.title(\"power spectral density from file failure2.npy\")\n",
    "powerSpectrum_PSD, freqenciesFound, time, imageAxis = plt.psd(failure_3.acoustic_data,\n",
    "                                                               Fs=samplingFrequency,\n",
    "                                                               noverlap=90,\n",
    "                                                               NFFT=4096)\n",
    "\n",
    "plt.xlabel('Frequency (Hz)')\n",
    "plt.show()"
   ]
  },
  {
   "cell_type": "code",
   "execution_count": null,
   "metadata": {},
   "outputs": [],
   "source": [
    "plt.figure(figsize=(15,8))\n",
    "plt.title(\"FFT Earthquake from file failure2.npy\")\n",
    "                                                             \n",
    "plt.xlabel('Frequency (Hz)')\n",
    "plt.ylabel('')\n",
    "plt.plot(freqenciesFound_3,powerSpectrum_3)\n",
    "plt.show()"
   ]
  },
  {
   "cell_type": "code",
   "execution_count": null,
   "metadata": {},
   "outputs": [],
   "source": [
    "y = np.array(failure_3.acoustic_data)\n",
    "samplingFrequency = 2000000\n",
    "\n",
    "#to display spectrogram for a ind. file\n",
    "    \n",
    "fig= plt.figure(figsize=(15,8))\n",
    "#plt.subplot(1,2,2)\n",
    "   \n",
    "# calc the STFT with a window = 1024 . \n",
    "D = librosa.core.stft(y, n_fft=4096,hop_length=1024)\n",
    "\n",
    "powerSpectrum_librosa = librosa.amplitude_to_db(np.abs(D),ref=np.max)\n",
    "librosa.display.specshow(powerSpectrum_librosa,y_axis='linear', x_axis='time',sr=samplingFrequency)\n",
    "\n",
    "plt.title('Spectrogram Earthquake from file failure2.npy', fontsize = 20)\n",
    "plt.colorbar(format='%+2.0f dB')\n",
    "plt.tight_layout()                 \n",
    "plt.xlabel('Time (s)', fontsize = 20)\n",
    "plt.ylabel('Frequency (Hz)', fontsize = 20)\n",
    "plt.show()"
   ]
  },
  {
   "cell_type": "markdown",
   "metadata": {},
   "source": [
    "# sollten wir die 'Ausreisser' entfernen?"
   ]
  },
  {
   "cell_type": "markdown",
   "metadata": {
    "ExecuteTime": {
     "end_time": "2019-03-06T20:58:47.288965Z",
     "start_time": "2019-03-06T20:58:47.213935Z"
    }
   },
   "source": [
    "# Trends and Seasonality"
   ]
  },
  {
   "cell_type": "markdown",
   "metadata": {},
   "source": [
    "## Augmented Dickey-Fuller test"
   ]
  },
  {
   "cell_type": "markdown",
   "metadata": {},
   "source": [
    "### Was ist eine stationäre Zeitreihe?"
   ]
  },
  {
   "cell_type": "markdown",
   "metadata": {},
   "source": [
    "Stationäre Zeitreihen weisen keine systematische Veränderung im Gesamtbild auf, d.h. es bestehen keine systematischen Änderungen im Mittel oder der Varianz, und es liegen keine streng periodischen Schwankungen vor. Anders ausgedrückt, schwanken solche Zeitreihen nicht regelmässig mit Jahresperiode, sie weisen keine mehrjährigen, zyklischen Verläufe auf und es lässt sich auch keine deutlich positive oder negative Steigung über einen längeren Zeitraum erkennen --> keine Saison und Trend - Komponenten enthalten. \n",
    "\n",
    "Wenn eine Zeitreihe stationär ist, kann das Modellieren einfacher sein. Statistische Modellierungsmethoden setzen voraus, dass die Zeitreihen stationär sind, um wirksam zu sein."
   ]
  },
  {
   "cell_type": "markdown",
   "metadata": {},
   "source": [
    "#### Null Hypothesis (H0): \n",
    "non-stationary. It has some time dependent structure.\n",
    "#### Alternate Hypothesis (H1): \n",
    "meaning it is stationary. It does not have time-dependent structure."
   ]
  },
  {
   "cell_type": "markdown",
   "metadata": {},
   "source": [
    "#### Prepare Data"
   ]
  },
  {
   "cell_type": "code",
   "execution_count": null,
   "metadata": {},
   "outputs": [],
   "source": [
    "failure_1 = pd.DataFrame(np.load(failure_datapath+'/failure{}.npy'.format(0)))\n",
    "failure_1.columns = ['acoustic_data','time_to_failure']\n",
    "failure_reduced_1 = failure_1.iloc[::100, :] \n",
    "failure_reduced_1.reset_index(inplace=True)"
   ]
  },
  {
   "cell_type": "markdown",
   "metadata": {},
   "source": [
    "#### adfuller and  Kwiatkowski-Phillips-Schmidt-Shin test test"
   ]
  },
  {
   "cell_type": "code",
   "execution_count": null,
   "metadata": {},
   "outputs": [],
   "source": [
    "print('Augmented Dickey-Fuller unit root test')\n",
    "result_adfuller = adfuller(failure_reduced_1.acoustic_data)\n",
    "print('ADF Statistic: %f' % result_adfuller[0])\n",
    "print('p-value: %f' % result_adfuller[1])\n",
    "print('Critical Values:')\n",
    "for key, value in result_adfuller[4].items():\n",
    "\tprint('\\t%s: %.3f' % (key, value))\n",
    "\n",
    "print('Kwiatkowski-Phillips-Schmidt-Shin test')\n",
    "result_kpss = kpss(failure_reduced_1.acoustic_data)\n",
    "print('kpss_stat: %f' % result_kpss[0])\n",
    "print('p-value: %f' % result_kpss[1])\n",
    "print('Critical Values:')\n",
    "for key, value in result_kpss[3].items():\n",
    "\tprint('\\t%s: %.3f' % (key, value))"
   ]
  },
  {
   "cell_type": "markdown",
   "metadata": {},
   "source": [
    "## Ist das Accoustic Signal stationär?"
   ]
  },
  {
   "cell_type": "markdown",
   "metadata": {},
   "source": [
    "##### H0 kann verworfen werden. Das acoustic signal ist ein stationäres Signal."
   ]
  },
  {
   "cell_type": "markdown",
   "metadata": {},
   "source": [
    "## Analysen mit Window"
   ]
  },
  {
   "cell_type": "markdown",
   "metadata": {},
   "source": [
    "### Rolling statistics mean and standardaviation"
   ]
  },
  {
   "cell_type": "markdown",
   "metadata": {},
   "source": [
    "Prepare data"
   ]
  },
  {
   "cell_type": "code",
   "execution_count": null,
   "metadata": {},
   "outputs": [],
   "source": [
    "failure_1 = pd.DataFrame(np.load(failure_datapath+'/failure{}.npy'.format(0)))\n",
    "failure_1.columns = ['acoustic_data','time_to_failure']\n",
    "failure_reduced_1 = failure_1.iloc[::2, :] \n",
    "failure_reduced_1.reset_index(inplace=True)"
   ]
  },
  {
   "cell_type": "code",
   "execution_count": null,
   "metadata": {},
   "outputs": [],
   "source": [
    "rolmean = failure_reduced_1[['acoustic_data']].rolling(1000).mean()\n",
    "rolstd = failure_reduced_1[['acoustic_data']].rolling(1000).std()\n",
    "\n",
    "orig = plt.plot(failure_reduced_1[['acoustic_data']], color='orange', label='Original')\n",
    "mean = plt.plot(rolmean, color='red', label='Rolling mean')\n",
    "rolstd = plt.plot(rolstd, color='black', label='Rolling std')\n",
    "plt.legend(loc='best')\n",
    "plt.title('Rolling Mean and Standard Deviation')\n",
    "plt.show(block=False)"
   ]
  },
  {
   "cell_type": "markdown",
   "metadata": {},
   "source": [
    "Auch visuell bestätigt sich die Annahme, dass das Signal keine Trendkomponente enthaltet."
   ]
  },
  {
   "cell_type": "markdown",
   "metadata": {},
   "source": [
    "## Prepare data for windows plot"
   ]
  },
  {
   "cell_type": "code",
   "execution_count": null,
   "metadata": {
    "ExecuteTime": {
     "end_time": "2019-03-10T21:18:40.706696Z",
     "start_time": "2019-03-10T21:18:35.685727Z"
    }
   },
   "outputs": [],
   "source": [
    "failure_2 = pd.DataFrame(np.load(failure_datapath+'/failure{}.npy'.format(1)))\n",
    "failure_2.columns = ['acoustic_data','time_to_failure']\n",
    "#failure_reduced_2 = failure_2.iloc[::2, :] \n",
    "#failure_reduced_2.reset_index(inplace=True)"
   ]
  },
  {
   "cell_type": "code",
   "execution_count": null,
   "metadata": {
    "ExecuteTime": {
     "end_time": "2019-03-10T20:13:52.465002Z",
     "start_time": "2019-03-10T20:13:52.462043Z"
    }
   },
   "outputs": [],
   "source": [
    "window = 5000 #willkürlich gewählt --> sollte noch besprochen werden!"
   ]
  },
  {
   "cell_type": "code",
   "execution_count": null,
   "metadata": {
    "ExecuteTime": {
     "end_time": "2019-03-10T22:08:49.787281Z",
     "start_time": "2019-03-10T22:08:49.782487Z"
    }
   },
   "outputs": [],
   "source": [
    "def plot_double_series(first_chunk,first_ylabel,second_chunk,second_ylabel,xlabel,title):\n",
    "    # plot rolling mean\n",
    "    fig, ax1 = plt.subplots(figsize=(15, 8))\n",
    "    fig.suptitle(title, fontsize=14)\n",
    "\n",
    "    ax2 = ax1.twinx()\n",
    "    ax1.set_xlabel(xlabel)\n",
    "    ax1.set_ylabel(first_ylabel)\n",
    "    ax2.set_ylabel(second_ylabel)\n",
    "    p1 = sns.lineplot(data=first_chunk, ax=ax1, color='orange',label=first_ylabel)\n",
    "    p2 = sns.lineplot(data=second_chunk, ax=ax2,label=second_ylabel)\n",
    "    plt.legend(loc='best')\n",
    "    plt.show()"
   ]
  },
  {
   "cell_type": "code",
   "execution_count": null,
   "metadata": {
    "ExecuteTime": {
     "end_time": "2019-03-10T22:09:34.347313Z",
     "start_time": "2019-03-10T22:09:34.341773Z"
    }
   },
   "outputs": [],
   "source": [
    "def plot_triple_series(first_chunk,first_ylabel,second_chunk,second_ylabel,time_to_failure,xlabel,title):\n",
    "    # plot rolling mean\n",
    "    fig, ax1 = plt.subplots(figsize=(15, 8))\n",
    "    fig.suptitle(title, fontsize=14)\n",
    "\n",
    "    ax2 = ax1.twinx()\n",
    "    ax1.set_xlabel(xlabel)\n",
    "    ax1.set_ylabel(first_ylabel)\n",
    "    ax2.set_ylabel(second_ylabel)\n",
    "    p1 = sns.lineplot(data=first_chunk, ax=ax1, color='orange',label=first_ylabel)\n",
    "    p2 = sns.lineplot(data=second_chunk, ax=ax2,label=second_ylabel)\n",
    "    p3 = sns.lineplot(data=time_to_failure, label='time_to_failure',color='black')\n",
    "    plt.legend(loc='best')\n",
    "    plt.show()"
   ]
  },
  {
   "cell_type": "code",
   "execution_count": null,
   "metadata": {
    "ExecuteTime": {
     "end_time": "2019-03-10T22:01:01.747556Z",
     "start_time": "2019-03-10T22:00:20.054035Z"
    }
   },
   "outputs": [],
   "source": [
    "train = train_data\n",
    "window_size = 150000\n",
    "\n",
    "rolling_mean = []\n",
    "rolling_std = []\n",
    "rolling_skew = []\n",
    "rolling_kurt = []\n",
    "rolling_max = []\n",
    "rolling_min = []\n",
    "rolling_25Quantile = []\n",
    "\n",
    "last_time_to_failure = []\n",
    "\n",
    "\n",
    "init_idx = 0\n",
    "for _ in range(int(np.round(len(train)/150000))):  # 629M / 150k = 4194\n",
    "    x = train.iloc[init_idx:init_idx + window_size]\n",
    "    last_time_to_failure.append(x.time_to_failure.values[-1])\n",
    "    rolling_mean.append(x.acoustic_data.mean())\n",
    "    rolling_std.append(x.acoustic_data.std())\n",
    "    rolling_skew.append(x.acoustic_data.skew())\n",
    "    rolling_kurt.append(x.acoustic_data.kurt())\n",
    "    rolling_max.append(x.acoustic_data.max())\n",
    "    rolling_min.append(x.acoustic_data.min())\n",
    "    rolling_25Quantile.append(x.acoustic_data.quantile(.25, interpolation='midpoint'))\n",
    "    \n",
    "    init_idx += window_size\n",
    "    \n",
    "rolling_mean = np.array(rolling_mean)\n",
    "rolling_std = np.array(rolling_std)\n",
    "rolling_skew = np.array(rolling_skew)\n",
    "rolling_kurt = np.array(rolling_kurt)\n",
    "rolling_max = np.array(rolling_max)\n",
    "rolling_min = np.array(rolling_min)\n",
    "rolling_25Quantile = np.array(rolling_25Quantile)\n",
    "\n",
    "last_time_to_failure = np.array(last_time_to_failure)\n"
   ]
  },
  {
   "cell_type": "markdown",
   "metadata": {},
   "source": [
    "## Plot Windows"
   ]
  },
  {
   "cell_type": "markdown",
   "metadata": {},
   "source": [
    "### Rolling Mean"
   ]
  },
  {
   "cell_type": "code",
   "execution_count": null,
   "metadata": {
    "ExecuteTime": {
     "end_time": "2019-03-10T22:02:13.389734Z",
     "start_time": "2019-03-10T22:02:12.389374Z"
    }
   },
   "outputs": [],
   "source": [
    "plot_double_series(rolling_mean,'Acoustic data',last_time_to_failure,'Time to failure','index','Rolling Mean / Time to failure')"
   ]
  },
  {
   "cell_type": "code",
   "execution_count": null,
   "metadata": {
    "ExecuteTime": {
     "end_time": "2019-03-10T22:10:57.531817Z",
     "start_time": "2019-03-10T22:10:56.142500Z"
    }
   },
   "outputs": [],
   "source": [
    "plot_triple_series(rolling_mean,'Acoustic data',rolling_std,'Standard Deviation',last_time_to_failure,'index','Rolling Mean / Rolling Standard Deviation')"
   ]
  },
  {
   "cell_type": "code",
   "execution_count": null,
   "metadata": {
    "ExecuteTime": {
     "end_time": "2019-03-10T22:11:17.311179Z",
     "start_time": "2019-03-10T22:11:15.902640Z"
    }
   },
   "outputs": [],
   "source": [
    "plot_triple_series(rolling_mean,'Acoustic data',rolling_skew,'Skewness',last_time_to_failure,'index','Rolling Mean / Rolling Skewness')"
   ]
  },
  {
   "cell_type": "code",
   "execution_count": null,
   "metadata": {
    "ExecuteTime": {
     "end_time": "2019-03-10T22:11:36.951342Z",
     "start_time": "2019-03-10T22:11:35.526148Z"
    }
   },
   "outputs": [],
   "source": [
    "plot_triple_series(rolling_mean,'Acoustic data',rolling_kurt,'Kurtosis',last_time_to_failure,'index','Rolling Mean / Rolling Kurtosis')"
   ]
  },
  {
   "cell_type": "code",
   "execution_count": null,
   "metadata": {
    "ExecuteTime": {
     "end_time": "2019-03-10T22:11:53.599022Z",
     "start_time": "2019-03-10T22:11:52.230649Z"
    }
   },
   "outputs": [],
   "source": [
    "plot_triple_series(rolling_mean,'Acoustic data',rolling_max,'Max',last_time_to_failure,'index','Rolling Mean / Rolling Max')"
   ]
  },
  {
   "cell_type": "code",
   "execution_count": null,
   "metadata": {
    "ExecuteTime": {
     "end_time": "2019-03-10T22:12:38.193273Z",
     "start_time": "2019-03-10T22:12:36.806764Z"
    }
   },
   "outputs": [],
   "source": [
    "plot_triple_series(rolling_mean,'Acoustic data',rolling_min,'Min',last_time_to_failure,'index','Rolling Mean / Rolling Min')"
   ]
  },
  {
   "cell_type": "code",
   "execution_count": null,
   "metadata": {
    "ExecuteTime": {
     "end_time": "2019-03-10T22:12:54.734869Z",
     "start_time": "2019-03-10T22:12:53.310071Z"
    }
   },
   "outputs": [],
   "source": [
    "plot_triple_series(rolling_mean,'Acoustic data',rolling_25Quantile,'25% quantile',last_time_to_failure,'index','Rolling Mean / Rolling 25% Quantile')"
   ]
  },
  {
   "cell_type": "markdown",
   "metadata": {},
   "source": [
    "## Autokorrelationen"
   ]
  },
  {
   "cell_type": "code",
   "execution_count": null,
   "metadata": {
    "scrolled": true
   },
   "outputs": [],
   "source": [
    "print(acf(failure_reduced[0], nlags=100, fft=True))"
   ]
  },
  {
   "cell_type": "code",
   "execution_count": null,
   "metadata": {},
   "outputs": [],
   "source": [
    "plot_acf(failure_reduced.acoustic_data,alpha=0.05,lags=1000)\n",
    "plt.show()"
   ]
  },
  {
   "cell_type": "code",
   "execution_count": null,
   "metadata": {},
   "outputs": [],
   "source": []
  },
  {
   "cell_type": "markdown",
   "metadata": {},
   "source": [
    "# Erkenntnisse aus der Datenanalyse"
   ]
  },
  {
   "cell_type": "markdown",
   "metadata": {},
   "source": [
    "## Stationarität der Trainingsdaten"
   ]
  },
  {
   "cell_type": "markdown",
   "metadata": {},
   "source": [
    "Die Erdbeben aus den Trainingsdaten sind stationär (Dickey–Fuller und Kwiatkowski-Phillips-Schmidt-Shin test)"
   ]
  },
  {
   "cell_type": "markdown",
   "metadata": {},
   "source": [
    "## Stationarität der Testdaten"
   ]
  },
  {
   "cell_type": "markdown",
   "metadata": {},
   "source": []
  },
  {
   "cell_type": "markdown",
   "metadata": {},
   "source": [
    "## Muster in den Daten"
   ]
  },
  {
   "cell_type": "markdown",
   "metadata": {},
   "source": [
    "### Standardabweichung"
   ]
  },
  {
   "cell_type": "markdown",
   "metadata": {},
   "source": [
    "Muster: Je näher das Erdbeben umso mehr steigt die Std an. "
   ]
  },
  {
   "cell_type": "markdown",
   "metadata": {},
   "source": [
    "### Schiefe (Skweness)"
   ]
  },
  {
   "cell_type": "markdown",
   "metadata": {},
   "source": [
    "Muster: Je näher das Erdbeben umso linksschiefer wird die Verteilung"
   ]
  },
  {
   "cell_type": "markdown",
   "metadata": {},
   "source": [
    "## Erkenntnis"
   ]
  },
  {
   "cell_type": "code",
   "execution_count": null,
   "metadata": {},
   "outputs": [],
   "source": [
    "Voraussagen mittels Machine learning sollten anhand der vorhandenen Muster möglich sein."
   ]
  },
  {
   "cell_type": "code",
   "execution_count": null,
   "metadata": {},
   "outputs": [],
   "source": []
  },
  {
   "cell_type": "markdown",
   "metadata": {},
   "source": [
    "# ToDo"
   ]
  },
  {
   "cell_type": "markdown",
   "metadata": {},
   "source": [
    "Stationaritätstest auf mehreren Erdbeben ausführen\n",
    "Stationaritätstest auf den Testdaten ausführen\n",
    "Testdaten anzeigen\n",
    "\n",
    "\n",
    "Muster (Std./ Skew / Kurtosis) in den Daten besser herausarbeiten (siehe Bsp. https://www.kaggle.com/jsaguiar/seismic-data-exploration Standard deviation)\n",
    "\n",
    "Tiefpassfilter um noise zu entfernen? -> gibt es einen Kernel dazu?"
   ]
  },
  {
   "cell_type": "code",
   "execution_count": null,
   "metadata": {},
   "outputs": [],
   "source": [
    "def plot_Earthquake(failure):\n",
    "    fig, ax = plt.subplots(nrows=8, ncols=2,figsize=(15,10))\n",
    "    for row in ax:\n",
    "        for col in row:\n",
    "            plot_acc_ttf_data(failure,final_idx=len(failure),ax1=col, step=100, title=\"Earthquake from file failure{}.npy\".format(i))"
   ]
  },
  {
   "cell_type": "markdown",
   "metadata": {},
   "source": [
    "# Quellen"
   ]
  },
  {
   "cell_type": "markdown",
   "metadata": {},
   "source": [
    "  -  CNN Spectrum: https://www.kaggle.com/michael422/spectrogram-convolution"
   ]
  },
  {
   "cell_type": "code",
   "execution_count": null,
   "metadata": {},
   "outputs": [],
   "source": []
  }
 ],
 "metadata": {
  "kernelspec": {
   "display_name": "Python 3",
   "language": "python",
   "name": "python3"
  },
  "language_info": {
   "codemirror_mode": {
    "name": "ipython",
    "version": 3
   },
   "file_extension": ".py",
   "mimetype": "text/x-python",
   "name": "python",
   "nbconvert_exporter": "python",
   "pygments_lexer": "ipython3",
   "version": "3.7.1"
  },
  "toc": {
   "base_numbering": 1,
   "nav_menu": {},
   "number_sections": true,
   "sideBar": true,
   "skip_h1_title": false,
   "title_cell": "Table of Contents",
   "title_sidebar": "Contents",
   "toc_cell": false,
   "toc_position": {
    "height": "calc(100% - 180px)",
    "left": "10px",
    "top": "150px",
    "width": "304.475px"
   },
   "toc_section_display": true,
   "toc_window_display": true
  }
 },
 "nbformat": 4,
 "nbformat_minor": 2
}
