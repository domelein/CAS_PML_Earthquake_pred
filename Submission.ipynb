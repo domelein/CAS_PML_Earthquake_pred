{
 "cells": [
  {
   "cell_type": "markdown",
   "metadata": {},
   "source": [
    "# Imports"
   ]
  },
  {
   "cell_type": "code",
   "execution_count": 44,
   "metadata": {
    "ExecuteTime": {
     "end_time": "2019-03-23T19:10:03.636100Z",
     "start_time": "2019-03-23T19:10:00.035629Z"
    }
   },
   "outputs": [],
   "source": [
    "import pandas as pd\n",
    "import numpy as np\n",
    "\n",
    "import librosa\n",
    "\n",
    "from scipy.stats import kurtosis\n",
    "from scipy.stats import skew\n",
    "from scipy import signal\n",
    "\n",
    "import warnings\n",
    "warnings.filterwarnings('ignore')"
   ]
  },
  {
   "cell_type": "markdown",
   "metadata": {},
   "source": [
    "# Feature Extraction"
   ]
  },
  {
   "cell_type": "markdown",
   "metadata": {},
   "source": []
  },
  {
   "cell_type": "code",
   "execution_count": 45,
   "metadata": {
    "ExecuteTime": {
     "end_time": "2019-03-23T19:10:05.294576Z",
     "start_time": "2019-03-23T19:10:05.267616Z"
    }
   },
   "outputs": [],
   "source": [
    "def generate_featureRow(acoustic_data, sample_rate):\n",
    "    \n",
    "    strain_feature = pd.DataFrame()\n",
    "    strain_feature['mean'] = [acoustic_data.mean()]\n",
    "    strain_feature['std'] = [acoustic_data.std()]\n",
    "    strain_feature['kurt'] = [acoustic_data.kurtosis()]\n",
    "    strain_feature['skew'] = [acoustic_data.skew()]\n",
    "    strain_feature['min'] = [acoustic_data.min()]\n",
    "    strain_feature['max'] = [acoustic_data.max()]\n",
    "    strain_feature['1%q'] = [acoustic_data.quantile(0.01, interpolation='midpoint')]\n",
    "    strain_feature['5%q'] = [acoustic_data.quantile(0.05,interpolation='midpoint')]\n",
    "    strain_feature['25%q'] = [acoustic_data.quantile(0.25,interpolation='midpoint')]\n",
    "    strain_feature['75%q'] = [acoustic_data.quantile(0.75,interpolation='midpoint')]\n",
    "    strain_feature['95%q'] = [acoustic_data.quantile(0.95,interpolation='midpoint')]\n",
    "    strain_feature['99%q'] = [acoustic_data.quantile(0.99,interpolation='midpoint')]\n",
    "    strain_feature['absMax'] = [acoustic_data.abs().max()]\n",
    "    strain_feature['absMean'] = [acoustic_data.abs().mean()]\n",
    "    strain_feature['absStd'] = [acoustic_data.abs().std()]\n",
    "    \n",
    "    \n",
    "    #Compute root-mean-square (RMS) value for each frame\n",
    "    rms = librosa.feature.rms(y=np.array(acoustic_data,dtype=np.float64),frame_length=len(acoustic_data))\n",
    "    rms = pd.Series(rms[0,:])\n",
    "    strain_feature['rms_mean'] = [rms.mean()]\n",
    "    strain_feature['rms_std'] = [rms.std()]\n",
    "    strain_feature['rms_kurt'] = [rms.kurtosis()]\n",
    "    strain_feature['rms_skew'] = [rms.skew()]\n",
    "    strain_feature['rms_min'] = [rms.min()]\n",
    "    strain_feature['rms_max'] = [rms.max()]\n",
    "    strain_feature['rms_1%q'] = [rms.quantile(0.01, interpolation='midpoint')]\n",
    "    strain_feature['rms_5%q'] = [rms.quantile(0.05,interpolation='midpoint')]\n",
    "    strain_feature['rms_25%q'] = [rms.quantile(0.25,interpolation='midpoint')]\n",
    "    strain_feature['rms_75%q'] = [rms.quantile(0.75,interpolation='midpoint')]\n",
    "    strain_feature['rms_95%q'] = [rms.quantile(0.95,interpolation='midpoint')]\n",
    "    strain_feature['rms_99%q'] = [rms.quantile(0.99,interpolation='midpoint')]\n",
    "    strain_feature['rms_absMax'] = [rms.abs().max()]\n",
    "    strain_feature['rms_absMean'] = [rms.abs().mean()]\n",
    "    strain_feature['rms_absStd'] = [rms.abs().std()]\n",
    "    \n",
    "    #Zero Crossing Rate\n",
    "    '''The zero crossing rate is the rate of sign-changes along a signal, i.e., \n",
    "    the rate at which the signal changes from positive to negative or back.'''\n",
    "    zero_crossings = librosa.zero_crossings(np.array(acoustic_data,dtype=np.float64), pad=False)\n",
    "    strain_feature['zero_crossings'] = [sum(zero_crossings)]\n",
    "    \n",
    "    #Spectral Centroid\n",
    "    '''Each frame of a magnitude spectrogram is normalized and treated as a distribution\n",
    "    over frequency bins, from which the mean (centroid) is extracted per frame.So spectral centroid for blues \n",
    "    song will lie somewhere near the middle of its spectrum while that for a metal song would be towards its end.'''\n",
    "    spectral_centroids = librosa.feature.spectral_centroid(np.array(acoustic_data,dtype=np.float64), sr=sample_rate)[0]\n",
    "    spectral_centroids = pd.Series(spectral_centroids)\n",
    "    strain_feature['spec_cent_mean'] = [spectral_centroids.mean()]\n",
    "    strain_feature['spec_cent_std'] = [spectral_centroids.std()]\n",
    "    strain_feature['spec_cent_kurt'] = [spectral_centroids.kurtosis()]\n",
    "    strain_feature['spec_cent_skew'] = [spectral_centroids.skew()]\n",
    "    strain_feature['spec_cent_min'] = [spectral_centroids.min()]\n",
    "    strain_feature['spec_cent_max'] = [spectral_centroids.max()]\n",
    "    strain_feature['spec_cent_1%q'] = [spectral_centroids.quantile(0.01, interpolation='midpoint')]\n",
    "    strain_feature['spec_cent_5%q'] = [spectral_centroids.quantile(0.05,interpolation='midpoint')]\n",
    "    strain_feature['spec_cent_25%q'] = [spectral_centroids.quantile(0.25,interpolation='midpoint')]\n",
    "    strain_feature['spec_cent_75%q'] = [spectral_centroids.quantile(0.75,interpolation='midpoint')]\n",
    "    strain_feature['spec_cent_95%q'] = [spectral_centroids.quantile(0.95,interpolation='midpoint')]\n",
    "    strain_feature['spec_cent_99%q'] = [spectral_centroids.quantile(0.99,interpolation='midpoint')]\n",
    "    strain_feature['spec_cent_absMax'] = [spectral_centroids.abs().max()]\n",
    "    strain_feature['spec_cent_absMean'] = [spectral_centroids.abs().mean()]\n",
    "    strain_feature['spec_cent_absStd'] = [spectral_centroids.abs().std()]\n",
    "    \n",
    "    \n",
    "    \n",
    "    #power spectral density\n",
    "    f, Pxx_den = signal.welch(acoustic_data, sample_rate)\n",
    "    strain_feature['psd_mean'] = [np.mean(Pxx_den)]\n",
    "    strain_feature['psd_std'] = [np.std(Pxx_den)]\n",
    "    strain_feature['psd_kurt'] = [kurtosis(Pxx_den)]\n",
    "    strain_feature['psd_skew'] = [skew(Pxx_den)]\n",
    "    strain_feature['psd_min'] = [np.min(Pxx_den)]\n",
    "    strain_feature['psd_max'] = [np.max(Pxx_den)]\n",
    "    strain_feature['psd_1%q'] = [np.quantile(Pxx_den,0.01, interpolation='midpoint')]\n",
    "    strain_feature['psd_5%q'] = [np.quantile(Pxx_den,0.05,interpolation='midpoint')]\n",
    "    strain_feature['psd_25%q'] = [np.quantile(Pxx_den,0.25,interpolation='midpoint')]\n",
    "    strain_feature['psd_75%q'] = [np.quantile(Pxx_den,0.75,interpolation='midpoint')]\n",
    "    strain_feature['psd_95%q'] = [np.quantile(Pxx_den,0.95,interpolation='midpoint')]\n",
    "    strain_feature['psd_99%q'] = [np.quantile(Pxx_den,0.99,interpolation='midpoint')]\n",
    "   \n",
    "    #Chroma Frequencies\n",
    "    '''Chroma features are an interesting and powerful representation for music audio in which the entire \n",
    "    spectrum is projected onto 12 bins representing the 12 distinct semitones (or chroma) of the musical octave.'''\n",
    "    chroma_stft = librosa.feature.chroma_stft(y=np.array(acoustic_data,dtype=np.float64), sr=sample_rate)\n",
    "    strain_feature['chroma_stft_mean'] = [np.mean(chroma_stft)]\n",
    "    strain_feature['chroma_stft_std'] = [np.std(chroma_stft)]\n",
    "    strain_feature['chroma_stft_kurt'] = [kurtosis(chroma_stft[0])]\n",
    "    strain_feature['chroma_stft_skew'] = [skew(chroma_stft[0])]\n",
    "    strain_feature['chroma_stft_min'] = [np.min(chroma_stft)]\n",
    "    strain_feature['chroma_stft_max'] = [np.max(chroma_stft)]\n",
    "    strain_feature['chroma_stft_1%q'] = [np.quantile(chroma_stft,0.01, interpolation='midpoint')]\n",
    "    strain_feature['chroma_stft_5%q'] = [np.quantile(chroma_stft,0.05,interpolation='midpoint')]\n",
    "    strain_feature['chroma_stft_25%q'] = [np.quantile(chroma_stft,0.25,interpolation='midpoint')]\n",
    "    strain_feature['chroma_stft_75%q'] = [np.quantile(chroma_stft,0.75,interpolation='midpoint')]\n",
    "    strain_feature['chroma_stft_95%q'] = [np.quantile(chroma_stft,0.95,interpolation='midpoint')]\n",
    "    strain_feature['chroma_stft_99%q'] = [np.quantile(chroma_stft,0.99,interpolation='midpoint')]\n",
    "    \n",
    "    #Spectral Rolloff\n",
    "    '''It is a measure of the shape of the signal. \n",
    "    It represents the frequency below which a specified percentage of the total spectral energy, e.g. 85%, lies.'''\n",
    "    rolloff = librosa.feature.spectral_rolloff(y=np.array(acoustic_data,dtype=np.float64), sr=sample_rate)[0]\n",
    "    strain_feature['rolloff_mean'] = [np.mean(rolloff)]\n",
    "    strain_feature['rolloff_std'] = [np.std(rolloff)]\n",
    "    strain_feature['rolloff_kurt'] = [kurtosis(rolloff)]\n",
    "    strain_feature['rolloff_skew'] = [skew(rolloff)]\n",
    "    strain_feature['rolloff_min'] = [np.min(rolloff)]\n",
    "    strain_feature['rolloff_max'] = [np.max(rolloff)]\n",
    "    strain_feature['rolloff_1%q'] = [np.quantile(rolloff,0.01, interpolation='midpoint')]\n",
    "    strain_feature['rolloff_5%q'] = [np.quantile(rolloff,0.05,interpolation='midpoint')]\n",
    "    strain_feature['rolloff_25%q'] = [np.quantile(rolloff,0.25,interpolation='midpoint')]\n",
    "    strain_feature['rolloff_75%q'] = [np.quantile(rolloff,0.75,interpolation='midpoint')]\n",
    "    strain_feature['rolloff_95%q'] = [np.quantile(rolloff,0.95,interpolation='midpoint')]\n",
    "    strain_feature['rolloff_99%q'] = [np.quantile(rolloff,0.99,interpolation='midpoint')]\n",
    "    \n",
    "    #spectral_bandwidth\n",
    "    spec_bw = librosa.feature.spectral_bandwidth(y=np.array(acoustic_data,dtype=np.float64), sr=sample_rate)\n",
    "    spec_bw = spec_bw[0,:]\n",
    "    strain_feature['spec_bw_mean'] = [np.mean(spec_bw)]\n",
    "    strain_feature['spec_bw_std'] = [np.std(spec_bw)]\n",
    "    strain_feature['spec_bw_kurt'] = [kurtosis(spec_bw)]\n",
    "    strain_feature['spec_bw_skew'] = [skew(spec_bw)]\n",
    "    strain_feature['spec_bw_min'] = [np.min(spec_bw)]\n",
    "    strain_feature['spec_bw_max'] = [np.max(spec_bw)]\n",
    "    strain_feature['spec_bw_1%q'] = [np.quantile(spec_bw,0.01, interpolation='midpoint')]\n",
    "    strain_feature['spec_bw_5%q'] = [np.quantile(spec_bw,0.05,interpolation='midpoint')]\n",
    "    strain_feature['spec_bw_25%q'] = [np.quantile(spec_bw,0.25,interpolation='midpoint')]\n",
    "    strain_feature['spec_bw_75%q'] = [np.quantile(spec_bw,0.75,interpolation='midpoint')]\n",
    "    strain_feature['spec_bw_95%q'] = [np.quantile(spec_bw,0.95,interpolation='midpoint')]\n",
    "    strain_feature['spec_bw_99%q'] = [np.quantile(spec_bw,0.99,interpolation='midpoint')]\n",
    "    \n",
    "  \n",
    "    return strain_feature"
   ]
  },
  {
   "cell_type": "markdown",
   "metadata": {},
   "source": [
    "Das Fenster, mit der grösse 150000), wird durch das Trainingssignal geschoben mit einer geplanten Überlappung von 80%"
   ]
  },
  {
   "cell_type": "markdown",
   "metadata": {},
   "source": [
    "# Submission"
   ]
  },
  {
   "cell_type": "markdown",
   "metadata": {
    "ExecuteTime": {
     "end_time": "2019-03-22T16:38:42.671889Z",
     "start_time": "2019-03-22T16:38:42.662828Z"
    }
   },
   "source": [
    "## Umgebungsvariablen"
   ]
  },
  {
   "cell_type": "code",
   "execution_count": 46,
   "metadata": {
    "ExecuteTime": {
     "end_time": "2019-03-23T19:10:13.174720Z",
     "start_time": "2019-03-23T19:10:13.170762Z"
    }
   },
   "outputs": [],
   "source": [
    "failure_datapath = '''D:/jupyter-notebooks/LANL_Earthquake_Prediction/failure/'''\n",
    "train_data_path = '''C:/studium/studium/CAS_PML/Projekt_Arbeit/earthquake/Daten/all/train.csv'''\n",
    "feature_data_path = '''C:/studium/studium/CAS_PML/Projekt_Arbeit/earthquake/Daten/all/earthquakeFeatures.csv'''\n",
    "\n",
    "cat_boost_path = '''C:/studium/studium/CAS_PML/Projekt_Arbeit/earthquake/Daten/all/catboost.dump'''"
   ]
  },
  {
   "cell_type": "code",
   "execution_count": null,
   "metadata": {
    "ExecuteTime": {
     "end_time": "2019-03-22T16:47:53.709181Z",
     "start_time": "2019-03-22T16:47:53.704194Z"
    }
   },
   "outputs": [],
   "source": []
  },
  {
   "cell_type": "markdown",
   "metadata": {},
   "source": [
    "## load test data"
   ]
  },
  {
   "cell_type": "markdown",
   "metadata": {},
   "source": [
    "### Function to convert test data into features"
   ]
  },
  {
   "cell_type": "code",
   "execution_count": 47,
   "metadata": {
    "ExecuteTime": {
     "end_time": "2019-03-23T19:12:14.160792Z",
     "start_time": "2019-03-23T19:12:14.155842Z"
    }
   },
   "outputs": [],
   "source": [
    "def load_test_features(sampleRate):\n",
    "    \"\"\" load raw test data and transform to a feature dataframe \"\"\"\n",
    "    print(\"loading train segment ids...\")\n",
    "    seg_ids = pd.read_csv(submission_file_path, index_col=\"seg_id\").index\n",
    "    print(\"converting test segments into feature dataframes. \")\n",
    "    features = pd.DataFrame()\n",
    "    for i, seg_id in enumerate(seg_ids):\n",
    "        segment = pd.read_csv(\n",
    "            filepath_or_buffer=f\"C:/studium/studium/CAS_PML/Projekt_Arbeit/earthquake/Daten/all/test/{seg_id}.csv\",\n",
    "            dtype={\"acoustic_data\": np.int16, \"time_to_failure\": np.float32})\n",
    "        feature_row = generate_featureRow(segment.acoustic_data,sampleRate)\n",
    "        features = features.append(feature_row, ignore_index=True)\n",
    "        \n",
    "    print(\"test feature dataframe created\")\n",
    "    return features"
   ]
  },
  {
   "cell_type": "code",
   "execution_count": 48,
   "metadata": {
    "ExecuteTime": {
     "end_time": "2019-03-23T19:12:19.422668Z",
     "start_time": "2019-03-23T19:12:19.419678Z"
    }
   },
   "outputs": [],
   "source": [
    "submission_file_path = '''C:/studium/studium/CAS_PML/Projekt_Arbeit/earthquake/Daten/all/sample_submission.csv'''\n",
    "test_data_path = '''C:/studium/studium/CAS_PML/Projekt_Arbeit/earthquake/Daten/all/test/'''"
   ]
  },
  {
   "cell_type": "code",
   "execution_count": 49,
   "metadata": {
    "ExecuteTime": {
     "end_time": "2019-03-23T19:12:22.543563Z",
     "start_time": "2019-03-23T19:12:22.357093Z"
    }
   },
   "outputs": [
    {
     "name": "stdout",
     "output_type": "stream",
     "text": [
      "loading train segment ids...\n",
      "converting test segments into feature dataframes. \n"
     ]
    },
    {
     "ename": "KeyboardInterrupt",
     "evalue": "",
     "output_type": "error",
     "traceback": [
      "\u001b[1;31m---------------------------------------------------------------------------\u001b[0m",
      "\u001b[1;31mKeyboardInterrupt\u001b[0m                         Traceback (most recent call last)",
      "\u001b[1;32m<ipython-input-49-e1287c6b3c69>\u001b[0m in \u001b[0;36m<module>\u001b[1;34m\u001b[0m\n\u001b[0;32m      1\u001b[0m \u001b[0msampleRate\u001b[0m\u001b[1;33m=\u001b[0m\u001b[1;36m4000000\u001b[0m\u001b[1;33m\u001b[0m\u001b[1;33m\u001b[0m\u001b[0m\n\u001b[1;32m----> 2\u001b[1;33m \u001b[0mtest_features\u001b[0m \u001b[1;33m=\u001b[0m \u001b[0mload_test_features\u001b[0m\u001b[1;33m(\u001b[0m\u001b[0msampleRate\u001b[0m\u001b[1;33m)\u001b[0m\u001b[1;33m\u001b[0m\u001b[1;33m\u001b[0m\u001b[0m\n\u001b[0m",
      "\u001b[1;32m<ipython-input-47-418d06b0688a>\u001b[0m in \u001b[0;36mload_test_features\u001b[1;34m(sampleRate)\u001b[0m\n\u001b[0;32m      9\u001b[0m             \u001b[0mfilepath_or_buffer\u001b[0m\u001b[1;33m=\u001b[0m\u001b[1;34mf\"C:/studium/studium/CAS_PML/Projekt_Arbeit/earthquake/Daten/all/test/{seg_id}.csv\"\u001b[0m\u001b[1;33m,\u001b[0m\u001b[1;33m\u001b[0m\u001b[1;33m\u001b[0m\u001b[0m\n\u001b[0;32m     10\u001b[0m             dtype={\"acoustic_data\": np.int16, \"time_to_failure\": np.float32})\n\u001b[1;32m---> 11\u001b[1;33m         \u001b[0mfeature_row\u001b[0m \u001b[1;33m=\u001b[0m \u001b[0mgenerate_featureRow\u001b[0m\u001b[1;33m(\u001b[0m\u001b[0msegment\u001b[0m\u001b[1;33m.\u001b[0m\u001b[0macoustic_data\u001b[0m\u001b[1;33m,\u001b[0m\u001b[0msampleRate\u001b[0m\u001b[1;33m)\u001b[0m\u001b[1;33m\u001b[0m\u001b[1;33m\u001b[0m\u001b[0m\n\u001b[0m\u001b[0;32m     12\u001b[0m         \u001b[0mfeatures\u001b[0m \u001b[1;33m=\u001b[0m \u001b[0mfeatures\u001b[0m\u001b[1;33m.\u001b[0m\u001b[0mappend\u001b[0m\u001b[1;33m(\u001b[0m\u001b[0mfeature_row\u001b[0m\u001b[1;33m,\u001b[0m \u001b[0mignore_index\u001b[0m\u001b[1;33m=\u001b[0m\u001b[1;32mTrue\u001b[0m\u001b[1;33m)\u001b[0m\u001b[1;33m\u001b[0m\u001b[1;33m\u001b[0m\u001b[0m\n\u001b[0;32m     13\u001b[0m \u001b[1;33m\u001b[0m\u001b[0m\n",
      "\u001b[1;32m<ipython-input-45-483c16d5efaf>\u001b[0m in \u001b[0;36mgenerate_featureRow\u001b[1;34m(acoustic_data, sample_rate)\u001b[0m\n\u001b[0;32m    103\u001b[0m     '''It is a measure of the shape of the signal. \n\u001b[0;32m    104\u001b[0m     It represents the frequency below which a specified percentage of the total spectral energy, e.g. 85%, lies.'''\n\u001b[1;32m--> 105\u001b[1;33m     \u001b[0mrolloff\u001b[0m \u001b[1;33m=\u001b[0m \u001b[0mlibrosa\u001b[0m\u001b[1;33m.\u001b[0m\u001b[0mfeature\u001b[0m\u001b[1;33m.\u001b[0m\u001b[0mspectral_rolloff\u001b[0m\u001b[1;33m(\u001b[0m\u001b[0my\u001b[0m\u001b[1;33m=\u001b[0m\u001b[0mnp\u001b[0m\u001b[1;33m.\u001b[0m\u001b[0marray\u001b[0m\u001b[1;33m(\u001b[0m\u001b[0macoustic_data\u001b[0m\u001b[1;33m,\u001b[0m\u001b[0mdtype\u001b[0m\u001b[1;33m=\u001b[0m\u001b[0mnp\u001b[0m\u001b[1;33m.\u001b[0m\u001b[0mfloat64\u001b[0m\u001b[1;33m)\u001b[0m\u001b[1;33m,\u001b[0m \u001b[0msr\u001b[0m\u001b[1;33m=\u001b[0m\u001b[0msample_rate\u001b[0m\u001b[1;33m)\u001b[0m\u001b[1;33m[\u001b[0m\u001b[1;36m0\u001b[0m\u001b[1;33m]\u001b[0m\u001b[1;33m\u001b[0m\u001b[1;33m\u001b[0m\u001b[0m\n\u001b[0m\u001b[0;32m    106\u001b[0m     \u001b[0mstrain_feature\u001b[0m\u001b[1;33m[\u001b[0m\u001b[1;34m'rolloff_mean'\u001b[0m\u001b[1;33m]\u001b[0m \u001b[1;33m=\u001b[0m \u001b[1;33m[\u001b[0m\u001b[0mnp\u001b[0m\u001b[1;33m.\u001b[0m\u001b[0mmean\u001b[0m\u001b[1;33m(\u001b[0m\u001b[0mrolloff\u001b[0m\u001b[1;33m)\u001b[0m\u001b[1;33m]\u001b[0m\u001b[1;33m\u001b[0m\u001b[1;33m\u001b[0m\u001b[0m\n\u001b[0;32m    107\u001b[0m     \u001b[0mstrain_feature\u001b[0m\u001b[1;33m[\u001b[0m\u001b[1;34m'rolloff_std'\u001b[0m\u001b[1;33m]\u001b[0m \u001b[1;33m=\u001b[0m \u001b[1;33m[\u001b[0m\u001b[0mnp\u001b[0m\u001b[1;33m.\u001b[0m\u001b[0mstd\u001b[0m\u001b[1;33m(\u001b[0m\u001b[0mrolloff\u001b[0m\u001b[1;33m)\u001b[0m\u001b[1;33m]\u001b[0m\u001b[1;33m\u001b[0m\u001b[1;33m\u001b[0m\u001b[0m\n",
      "\u001b[1;32mC:\\ProgramData\\Anaconda3\\lib\\site-packages\\librosa\\feature\\spectral.py\u001b[0m in \u001b[0;36mspectral_rolloff\u001b[1;34m(y, sr, S, n_fft, hop_length, freq, roll_percent)\u001b[0m\n\u001b[0;32m    491\u001b[0m         \u001b[1;32mraise\u001b[0m \u001b[0mParameterError\u001b[0m\u001b[1;33m(\u001b[0m\u001b[1;34m'roll_percent must lie in the range (0, 1)'\u001b[0m\u001b[1;33m)\u001b[0m\u001b[1;33m\u001b[0m\u001b[1;33m\u001b[0m\u001b[0m\n\u001b[0;32m    492\u001b[0m \u001b[1;33m\u001b[0m\u001b[0m\n\u001b[1;32m--> 493\u001b[1;33m     \u001b[0mS\u001b[0m\u001b[1;33m,\u001b[0m \u001b[0mn_fft\u001b[0m \u001b[1;33m=\u001b[0m \u001b[0m_spectrogram\u001b[0m\u001b[1;33m(\u001b[0m\u001b[0my\u001b[0m\u001b[1;33m=\u001b[0m\u001b[0my\u001b[0m\u001b[1;33m,\u001b[0m \u001b[0mS\u001b[0m\u001b[1;33m=\u001b[0m\u001b[0mS\u001b[0m\u001b[1;33m,\u001b[0m \u001b[0mn_fft\u001b[0m\u001b[1;33m=\u001b[0m\u001b[0mn_fft\u001b[0m\u001b[1;33m,\u001b[0m \u001b[0mhop_length\u001b[0m\u001b[1;33m=\u001b[0m\u001b[0mhop_length\u001b[0m\u001b[1;33m)\u001b[0m\u001b[1;33m\u001b[0m\u001b[1;33m\u001b[0m\u001b[0m\n\u001b[0m\u001b[0;32m    494\u001b[0m \u001b[1;33m\u001b[0m\u001b[0m\n\u001b[0;32m    495\u001b[0m     \u001b[1;32mif\u001b[0m \u001b[1;32mnot\u001b[0m \u001b[0mnp\u001b[0m\u001b[1;33m.\u001b[0m\u001b[0misrealobj\u001b[0m\u001b[1;33m(\u001b[0m\u001b[0mS\u001b[0m\u001b[1;33m)\u001b[0m\u001b[1;33m:\u001b[0m\u001b[1;33m\u001b[0m\u001b[1;33m\u001b[0m\u001b[0m\n",
      "\u001b[1;32mC:\\ProgramData\\Anaconda3\\lib\\site-packages\\librosa\\core\\spectrum.py\u001b[0m in \u001b[0;36m_spectrogram\u001b[1;34m(y, S, n_fft, hop_length, power)\u001b[0m\n\u001b[0;32m   1555\u001b[0m     \u001b[1;32melse\u001b[0m\u001b[1;33m:\u001b[0m\u001b[1;33m\u001b[0m\u001b[1;33m\u001b[0m\u001b[0m\n\u001b[0;32m   1556\u001b[0m         \u001b[1;31m# Otherwise, compute a magnitude spectrogram from input\u001b[0m\u001b[1;33m\u001b[0m\u001b[1;33m\u001b[0m\u001b[1;33m\u001b[0m\u001b[0m\n\u001b[1;32m-> 1557\u001b[1;33m         \u001b[0mS\u001b[0m \u001b[1;33m=\u001b[0m \u001b[0mnp\u001b[0m\u001b[1;33m.\u001b[0m\u001b[0mabs\u001b[0m\u001b[1;33m(\u001b[0m\u001b[0mstft\u001b[0m\u001b[1;33m(\u001b[0m\u001b[0my\u001b[0m\u001b[1;33m,\u001b[0m \u001b[0mn_fft\u001b[0m\u001b[1;33m=\u001b[0m\u001b[0mn_fft\u001b[0m\u001b[1;33m,\u001b[0m \u001b[0mhop_length\u001b[0m\u001b[1;33m=\u001b[0m\u001b[0mhop_length\u001b[0m\u001b[1;33m)\u001b[0m\u001b[1;33m)\u001b[0m\u001b[1;33m**\u001b[0m\u001b[0mpower\u001b[0m\u001b[1;33m\u001b[0m\u001b[1;33m\u001b[0m\u001b[0m\n\u001b[0m\u001b[0;32m   1558\u001b[0m \u001b[1;33m\u001b[0m\u001b[0m\n\u001b[0;32m   1559\u001b[0m     \u001b[1;32mreturn\u001b[0m \u001b[0mS\u001b[0m\u001b[1;33m,\u001b[0m \u001b[0mn_fft\u001b[0m\u001b[1;33m\u001b[0m\u001b[1;33m\u001b[0m\u001b[0m\n",
      "\u001b[1;32mC:\\ProgramData\\Anaconda3\\lib\\site-packages\\librosa\\core\\spectrum.py\u001b[0m in \u001b[0;36mstft\u001b[1;34m(y, n_fft, hop_length, win_length, window, center, dtype, pad_mode)\u001b[0m\n\u001b[0;32m    181\u001b[0m \u001b[1;33m\u001b[0m\u001b[0m\n\u001b[0;32m    182\u001b[0m         stft_matrix[:, bl_s:bl_t] = fft.fft(fft_window *\n\u001b[1;32m--> 183\u001b[1;33m                                             \u001b[0my_frames\u001b[0m\u001b[1;33m[\u001b[0m\u001b[1;33m:\u001b[0m\u001b[1;33m,\u001b[0m \u001b[0mbl_s\u001b[0m\u001b[1;33m:\u001b[0m\u001b[0mbl_t\u001b[0m\u001b[1;33m]\u001b[0m\u001b[1;33m,\u001b[0m\u001b[1;33m\u001b[0m\u001b[1;33m\u001b[0m\u001b[0m\n\u001b[0m\u001b[0;32m    184\u001b[0m                                             axis=0)[:stft_matrix.shape[0]]\n\u001b[0;32m    185\u001b[0m \u001b[1;33m\u001b[0m\u001b[0m\n",
      "\u001b[1;31mKeyboardInterrupt\u001b[0m: "
     ]
    }
   ],
   "source": [
    "sampleRate=4000000\n",
    "test_features = load_test_features(sampleRate)"
   ]
  },
  {
   "cell_type": "markdown",
   "metadata": {},
   "source": [
    "## load model"
   ]
  },
  {
   "cell_type": "code",
   "execution_count": 14,
   "metadata": {
    "ExecuteTime": {
     "end_time": "2019-03-22T16:28:31.000973Z",
     "start_time": "2019-03-22T16:28:30.952112Z"
    }
   },
   "outputs": [],
   "source": [
    "model = CatBoostRegressor()\n",
    "model.load_model(cat_boost_path);"
   ]
  },
  {
   "cell_type": "code",
   "execution_count": null,
   "metadata": {},
   "outputs": [],
   "source": [
    "\n",
    "submission['time_to_failure'] = m.predict(fea)\n",
    "submission.to_csv('submission.csv')"
   ]
  },
  {
   "cell_type": "code",
   "execution_count": null,
   "metadata": {},
   "outputs": [],
   "source": []
  }
 ],
 "metadata": {
  "kernelspec": {
   "display_name": "Python 3",
   "language": "python",
   "name": "python3"
  },
  "language_info": {
   "codemirror_mode": {
    "name": "ipython",
    "version": 3
   },
   "file_extension": ".py",
   "mimetype": "text/x-python",
   "name": "python",
   "nbconvert_exporter": "python",
   "pygments_lexer": "ipython3",
   "version": "3.6.8"
  },
  "toc": {
   "base_numbering": 1,
   "nav_menu": {},
   "number_sections": true,
   "sideBar": true,
   "skip_h1_title": false,
   "title_cell": "Table of Contents",
   "title_sidebar": "Contents",
   "toc_cell": false,
   "toc_position": {
    "height": "calc(100% - 180px)",
    "left": "10px",
    "top": "150px",
    "width": "349.091px"
   },
   "toc_section_display": true,
   "toc_window_display": true
  }
 },
 "nbformat": 4,
 "nbformat_minor": 2
}
