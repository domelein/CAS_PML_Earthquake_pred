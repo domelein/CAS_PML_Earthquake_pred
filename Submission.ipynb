{
 "cells": [
  {
   "cell_type": "markdown",
   "metadata": {},
   "source": [
    "# Imports"
   ]
  },
  {
   "cell_type": "code",
   "execution_count": 1,
   "metadata": {
    "ExecuteTime": {
     "end_time": "2019-03-23T19:10:03.636100Z",
     "start_time": "2019-03-23T19:10:00.035629Z"
    }
   },
   "outputs": [],
   "source": [
    "import time\n",
    "import pandas as pd\n",
    "import numpy as np\n",
    "\n",
    "import librosa\n",
    "\n",
    "from scipy.stats import kurtosis\n",
    "from scipy.stats import skew\n",
    "from scipy import signal\n",
    "\n",
    "from sklearn.ensemble import GradientBoostingRegressor\n",
    "from catboost import CatBoostRegressor, Pool, cv\n",
    "\n",
    "import warnings\n",
    "warnings.filterwarnings('ignore')"
   ]
  },
  {
   "cell_type": "markdown",
   "metadata": {},
   "source": [
    "# Feature Extraction"
   ]
  },
  {
   "cell_type": "code",
   "execution_count": 8,
   "metadata": {},
   "outputs": [],
   "source": [
    "def generate_featureRow(acoustic_data, sample_rate):\n",
    "    \n",
    "    strain_feature = pd.DataFrame()\n",
    "    strain_feature['mean'] = [acoustic_data.mean()]\n",
    "    strain_feature['std'] = [acoustic_data.std()]\n",
    "    strain_feature['kurt'] = [acoustic_data.kurtosis()]\n",
    "    strain_feature['skew'] = [acoustic_data.skew()]\n",
    "    strain_feature['min'] = [acoustic_data.min()]\n",
    "    strain_feature['max'] = [acoustic_data.max()]\n",
    "    strain_feature['1%q'] = [acoustic_data.quantile(0.01, interpolation='midpoint')]\n",
    "    strain_feature['5%q'] = [acoustic_data.quantile(0.05,interpolation='midpoint')]\n",
    "    strain_feature['25%q'] = [acoustic_data.quantile(0.25,interpolation='midpoint')]\n",
    "    strain_feature['75%q'] = [acoustic_data.quantile(0.75,interpolation='midpoint')]\n",
    "    strain_feature['95%q'] = [acoustic_data.quantile(0.95,interpolation='midpoint')]\n",
    "    strain_feature['99%q'] = [acoustic_data.quantile(0.99,interpolation='midpoint')]\n",
    "    strain_feature['absMax'] = [acoustic_data.abs().max()]\n",
    "    strain_feature['absMean'] = [acoustic_data.abs().mean()]\n",
    "    strain_feature['absStd'] = [acoustic_data.abs().std()]\n",
    "    \n",
    "    \n",
    "    #Compute root-mean-square (RMS) value for each frame\n",
    "    rms = librosa.feature.rms(y=np.array(acoustic_data,dtype=np.float64),frame_length=len(acoustic_data))\n",
    "    rms = pd.Series(rms[0,:])\n",
    "    strain_feature['rms_mean'] = [rms.mean()]\n",
    "    strain_feature['rms_std'] = [rms.std()]\n",
    "    strain_feature['rms_kurt'] = [rms.kurtosis()]\n",
    "    strain_feature['rms_skew'] = [rms.skew()]\n",
    "    strain_feature['rms_min'] = [rms.min()]\n",
    "    strain_feature['rms_max'] = [rms.max()]\n",
    "    strain_feature['rms_1%q'] = [rms.quantile(0.01, interpolation='midpoint')]\n",
    "    strain_feature['rms_5%q'] = [rms.quantile(0.05,interpolation='midpoint')]\n",
    "    strain_feature['rms_25%q'] = [rms.quantile(0.25,interpolation='midpoint')]\n",
    "    strain_feature['rms_75%q'] = [rms.quantile(0.75,interpolation='midpoint')]\n",
    "    strain_feature['rms_95%q'] = [rms.quantile(0.95,interpolation='midpoint')]\n",
    "    strain_feature['rms_99%q'] = [rms.quantile(0.99,interpolation='midpoint')]\n",
    "    strain_feature['rms_absMax'] = [rms.abs().max()]\n",
    "    strain_feature['rms_absMean'] = [rms.abs().mean()]\n",
    "    strain_feature['rms_absStd'] = [rms.abs().std()]\n",
    "    \n",
    "    #Zero Crossing Rate\n",
    "    '''The zero crossing rate is the rate of sign-changes along a signal, i.e., \n",
    "    the rate at which the signal changes from positive to negative or back.'''\n",
    "    zero_crossings = librosa.zero_crossings(np.array(acoustic_data,dtype=np.float64), pad=False)\n",
    "    strain_feature['zero_crossings'] = [sum(zero_crossings)]\n",
    "    \n",
    "    #Spectral Centroid\n",
    "    '''Each frame of a magnitude spectrogram is normalized and treated as a distribution\n",
    "    over frequency bins, from which the mean (centroid) is extracted per frame.So spectral centroid for blues \n",
    "    song will lie somewhere near the middle of its spectrum while that for a metal song would be towards its end.'''\n",
    "    spectral_centroids = librosa.feature.spectral_centroid(np.array(acoustic_data,dtype=np.float64), sr=sample_rate)[0]\n",
    "    spectral_centroids = pd.Series(spectral_centroids)\n",
    "    strain_feature['spec_cent_mean'] = [spectral_centroids.mean()]\n",
    "    strain_feature['spec_cent_std'] = [spectral_centroids.std()]\n",
    "    strain_feature['spec_cent_kurt'] = [spectral_centroids.kurtosis()]\n",
    "    strain_feature['spec_cent_skew'] = [spectral_centroids.skew()]\n",
    "    strain_feature['spec_cent_min'] = [spectral_centroids.min()]\n",
    "    strain_feature['spec_cent_max'] = [spectral_centroids.max()]\n",
    "    strain_feature['spec_cent_1%q'] = [spectral_centroids.quantile(0.01, interpolation='midpoint')]\n",
    "    strain_feature['spec_cent_5%q'] = [spectral_centroids.quantile(0.05,interpolation='midpoint')]\n",
    "    strain_feature['spec_cent_25%q'] = [spectral_centroids.quantile(0.25,interpolation='midpoint')]\n",
    "    strain_feature['spec_cent_75%q'] = [spectral_centroids.quantile(0.75,interpolation='midpoint')]\n",
    "    strain_feature['spec_cent_95%q'] = [spectral_centroids.quantile(0.95,interpolation='midpoint')]\n",
    "    strain_feature['spec_cent_99%q'] = [spectral_centroids.quantile(0.99,interpolation='midpoint')]\n",
    "    strain_feature['spec_cent_absMax'] = [spectral_centroids.abs().max()]\n",
    "    strain_feature['spec_cent_absMean'] = [spectral_centroids.abs().mean()]\n",
    "    strain_feature['spec_cent_absStd'] = [spectral_centroids.abs().std()]\n",
    "    \n",
    "    \n",
    "    \n",
    "    #power spectral density\n",
    "    f, Pxx_den = signal.welch(acoustic_data, sample_rate)\n",
    "    strain_feature['psd_mean'] = [np.mean(Pxx_den)]\n",
    "    strain_feature['psd_std'] = [np.std(Pxx_den)]\n",
    "    strain_feature['psd_kurt'] = [kurtosis(Pxx_den)]\n",
    "    strain_feature['psd_skew'] = [skew(Pxx_den)]\n",
    "    strain_feature['psd_min'] = [np.min(Pxx_den)]\n",
    "    strain_feature['psd_max'] = [np.max(Pxx_den)]\n",
    "    strain_feature['psd_1%q'] = [np.quantile(Pxx_den,0.01, interpolation='midpoint')]\n",
    "    strain_feature['psd_5%q'] = [np.quantile(Pxx_den,0.05,interpolation='midpoint')]\n",
    "    strain_feature['psd_25%q'] = [np.quantile(Pxx_den,0.25,interpolation='midpoint')]\n",
    "    strain_feature['psd_75%q'] = [np.quantile(Pxx_den,0.75,interpolation='midpoint')]\n",
    "    strain_feature['psd_95%q'] = [np.quantile(Pxx_den,0.95,interpolation='midpoint')]\n",
    "    strain_feature['psd_99%q'] = [np.quantile(Pxx_den,0.99,interpolation='midpoint')]\n",
    "   \n",
    "    #Chroma Frequencies\n",
    "    '''Chroma features are an interesting and powerful representation for music audio in which the entire \n",
    "    spectrum is projected onto 12 bins representing the 12 distinct semitones (or chroma) of the musical octave.'''\n",
    "    chroma_stft = librosa.feature.chroma_stft(y=np.array(acoustic_data,dtype=np.float64), sr=sample_rate)\n",
    "    strain_feature['chroma_stft_mean'] = [np.mean(chroma_stft)]\n",
    "    strain_feature['chroma_stft_std'] = [np.std(chroma_stft)]\n",
    "    strain_feature['chroma_stft_kurt'] = [kurtosis(chroma_stft[0])]\n",
    "    strain_feature['chroma_stft_skew'] = [skew(chroma_stft[0])]\n",
    "    strain_feature['chroma_stft_min'] = [np.min(chroma_stft)]\n",
    "    strain_feature['chroma_stft_max'] = [np.max(chroma_stft)]\n",
    "    strain_feature['chroma_stft_1%q'] = [np.quantile(chroma_stft,0.01, interpolation='midpoint')]\n",
    "    strain_feature['chroma_stft_5%q'] = [np.quantile(chroma_stft,0.05,interpolation='midpoint')]\n",
    "    strain_feature['chroma_stft_25%q'] = [np.quantile(chroma_stft,0.25,interpolation='midpoint')]\n",
    "    strain_feature['chroma_stft_75%q'] = [np.quantile(chroma_stft,0.75,interpolation='midpoint')]\n",
    "    strain_feature['chroma_stft_95%q'] = [np.quantile(chroma_stft,0.95,interpolation='midpoint')]\n",
    "    strain_feature['chroma_stft_99%q'] = [np.quantile(chroma_stft,0.99,interpolation='midpoint')]\n",
    "    \n",
    "    #Spectral Rolloff\n",
    "    '''It is a measure of the shape of the signal. \n",
    "    It represents the frequency below which a specified percentage of the total spectral energy, e.g. 85%, lies.'''\n",
    "    rolloff = librosa.feature.spectral_rolloff(y=np.array(acoustic_data,dtype=np.float64), sr=sample_rate)[0]\n",
    "    strain_feature['rolloff_mean'] = [np.mean(rolloff)]\n",
    "    strain_feature['rolloff_std'] = [np.std(rolloff)]\n",
    "    strain_feature['rolloff_kurt'] = [kurtosis(rolloff)]\n",
    "    strain_feature['rolloff_skew'] = [skew(rolloff)]\n",
    "    strain_feature['rolloff_min'] = [np.min(rolloff)]\n",
    "    strain_feature['rolloff_max'] = [np.max(rolloff)]\n",
    "    strain_feature['rolloff_1%q'] = [np.quantile(rolloff,0.01, interpolation='midpoint')]\n",
    "    strain_feature['rolloff_5%q'] = [np.quantile(rolloff,0.05,interpolation='midpoint')]\n",
    "    strain_feature['rolloff_25%q'] = [np.quantile(rolloff,0.25,interpolation='midpoint')]\n",
    "    strain_feature['rolloff_75%q'] = [np.quantile(rolloff,0.75,interpolation='midpoint')]\n",
    "    strain_feature['rolloff_95%q'] = [np.quantile(rolloff,0.95,interpolation='midpoint')]\n",
    "    strain_feature['rolloff_99%q'] = [np.quantile(rolloff,0.99,interpolation='midpoint')]\n",
    "    \n",
    "    #spectral_bandwidth\n",
    "    spec_bw = librosa.feature.spectral_bandwidth(y=np.array(acoustic_data,dtype=np.float64), sr=sample_rate)\n",
    "    spec_bw = spec_bw[0,:]\n",
    "    strain_feature['spec_bw_mean'] = [np.mean(spec_bw)]\n",
    "    strain_feature['spec_bw_std'] = [np.std(spec_bw)]\n",
    "    strain_feature['spec_bw_kurt'] = [kurtosis(spec_bw)]\n",
    "    strain_feature['spec_bw_skew'] = [skew(spec_bw)]\n",
    "    strain_feature['spec_bw_min'] = [np.min(spec_bw)]\n",
    "    strain_feature['spec_bw_max'] = [np.max(spec_bw)]\n",
    "    strain_feature['spec_bw_1%q'] = [np.quantile(spec_bw,0.01, interpolation='midpoint')]\n",
    "    strain_feature['spec_bw_5%q'] = [np.quantile(spec_bw,0.05,interpolation='midpoint')]\n",
    "    strain_feature['spec_bw_25%q'] = [np.quantile(spec_bw,0.25,interpolation='midpoint')]\n",
    "    strain_feature['spec_bw_75%q'] = [np.quantile(spec_bw,0.75,interpolation='midpoint')]\n",
    "    strain_feature['spec_bw_95%q'] = [np.quantile(spec_bw,0.95,interpolation='midpoint')]\n",
    "    strain_feature['spec_bw_99%q'] = [np.quantile(spec_bw,0.99,interpolation='midpoint')]\n",
    "    \n",
    "  \n",
    "    return strain_feature"
   ]
  },
  {
   "cell_type": "code",
   "execution_count": 64,
   "metadata": {
    "ExecuteTime": {
     "end_time": "2019-03-23T19:10:05.294576Z",
     "start_time": "2019-03-23T19:10:05.267616Z"
    }
   },
   "outputs": [],
   "source": [
    "def generate_featureRow_old(acoustic_data, sample_rate):\n",
    "    \n",
    "    strain_feature = pd.DataFrame()\n",
    "    strain_feature['mean'] = [acoustic_data.mean()]\n",
    "    strain_feature['kurt'] = [acoustic_data.kurtosis()]\n",
    "    strain_feature['skew'] = [acoustic_data.skew()]\n",
    "    strain_feature['min'] = [acoustic_data.min()]\n",
    "    strain_feature['max'] = [acoustic_data.max()]\n",
    "   \n",
    "    strain_feature['absMax'] = [acoustic_data.abs().max()]\n",
    "    \n",
    "    #Compute root-mean-square (RMS) value for each frame\n",
    "    rms = librosa.feature.rms(y=np.array(acoustic_data,dtype=np.float64),frame_length=len(acoustic_data))\n",
    "    rms = pd.Series(rms[0,:])\n",
    "    strain_feature['rms_kurt'] = [rms.kurtosis()]\n",
    "  \n",
    "    #Zero Crossing Rate\n",
    "    '''The zero crossing rate is the rate of sign-changes along a signal, i.e., \n",
    "    the rate at which the signal changes from positive to negative or back.'''\n",
    "    zero_crossings = librosa.zero_crossings(np.array(acoustic_data,dtype=np.float64), pad=False)\n",
    "    strain_feature['zero_crossings'] = [sum(zero_crossings)]\n",
    "    \n",
    "    #Spectral Centroid\n",
    "    '''Each frame of a magnitude spectrogram is normalized and treated as a distribution\n",
    "    over frequency bins, from which the mean (centroid) is extracted per frame.So spectral centroid for blues \n",
    "    song will lie somewhere near the middle of its spectrum while that for a metal song would be towards its end.'''\n",
    "    spectral_centroids = librosa.feature.spectral_centroid(np.array(acoustic_data,dtype=np.float64), sr=sample_rate)[0]\n",
    "    spectral_centroids = pd.Series(spectral_centroids)\n",
    "    strain_feature['spec_cent_max'] = [spectral_centroids.max()]\n",
    "    strain_feature['spec_cent_75%q'] = [spectral_centroids.quantile(0.75,interpolation='midpoint')]\n",
    "\n",
    "    #power spectral density\n",
    "    f, Pxx_den = signal.welch(acoustic_data, sample_rate)\n",
    "    strain_feature['psd_kurt'] = [kurtosis(Pxx_den)]\n",
    "    strain_feature['psd_skew'] = [skew(Pxx_den)]\n",
    "    strain_feature['psd_min'] = [np.min(Pxx_den)]\n",
    "    strain_feature['psd_5%q'] = [np.quantile(Pxx_den,0.05,interpolation='midpoint')]\n",
    "    strain_feature['psd_25%q'] = [np.quantile(Pxx_den,0.25,interpolation='midpoint')]\n",
    "    strain_feature['psd_75%q'] = [np.quantile(Pxx_den,0.75,interpolation='midpoint')]\n",
    "   \n",
    "    #Chroma Frequencies\n",
    "    '''Chroma features are an interesting and powerful representation for music audio in which the entire \n",
    "    spectrum is projected onto 12 bins representing the 12 distinct semitones (or chroma) of the musical octave.'''\n",
    "    chroma_stft = librosa.feature.chroma_stft(y=np.array(acoustic_data,dtype=np.float64), sr=sample_rate)\n",
    "   \n",
    "    strain_feature['chroma_stft_skew'] = [skew(chroma_stft[0])]\n",
    "    strain_feature['chroma_stft_75%q'] = [np.quantile(chroma_stft,0.75,interpolation='midpoint')]\n",
    "    \n",
    "    #spectral_bandwidth\n",
    "    spec_bw = librosa.feature.spectral_bandwidth(y=np.array(acoustic_data,dtype=np.float64), sr=sample_rate)\n",
    "    spec_bw = spec_bw[0,:]\n",
    "    strain_feature['spec_bw_max'] = [np.max(spec_bw)]\n",
    "    strain_feature['spec_bw_99%q'] = [np.quantile(spec_bw,0.99,interpolation='midpoint')]\n",
    "  \n",
    "    return strain_feature"
   ]
  },
  {
   "cell_type": "markdown",
   "metadata": {},
   "source": [
    "Das Fenster, mit der grösse 150000), wird durch das Trainingssignal geschoben mit einer geplanten Überlappung von 80%"
   ]
  },
  {
   "cell_type": "markdown",
   "metadata": {},
   "source": [
    "# Submission"
   ]
  },
  {
   "cell_type": "markdown",
   "metadata": {
    "ExecuteTime": {
     "end_time": "2019-03-22T16:38:42.671889Z",
     "start_time": "2019-03-22T16:38:42.662828Z"
    }
   },
   "source": [
    "## Umgebungsvariablen"
   ]
  },
  {
   "cell_type": "code",
   "execution_count": 40,
   "metadata": {
    "ExecuteTime": {
     "end_time": "2019-03-22T16:47:53.709181Z",
     "start_time": "2019-03-22T16:47:53.704194Z"
    }
   },
   "outputs": [],
   "source": [
    "sample_submission_file = '''C:/studium/studium/CAS_PML/Projekt_Arbeit/earthquake/Daten/all/sample_submission.csv'''\n",
    "test_data_path = '''C:/studium/studium/CAS_PML/Projekt_Arbeit/earthquake/Daten/earthquake_data/'''"
   ]
  },
  {
   "cell_type": "markdown",
   "metadata": {},
   "source": [
    "## Process test data"
   ]
  },
  {
   "cell_type": "markdown",
   "metadata": {},
   "source": [
    "### Function to convert test data into features"
   ]
  },
  {
   "cell_type": "code",
   "execution_count": 10,
   "metadata": {
    "ExecuteTime": {
     "end_time": "2019-03-23T19:12:14.160792Z",
     "start_time": "2019-03-23T19:12:14.155842Z"
    }
   },
   "outputs": [],
   "source": [
    "def load_test_features(sampleRate):\n",
    "    \"\"\" load raw test data and transform to a feature dataframe \"\"\"\n",
    "    print(\"loading train segment ids...\")\n",
    "    seg_ids = pd.read_csv(sample_submission_file, index_col=\"seg_id\").index\n",
    "    print(\"converting test segments into feature dataframes. \")\n",
    "    features = pd.DataFrame()\n",
    "    for i, seg_id in enumerate(seg_ids):\n",
    "        segment = pd.read_csv(\n",
    "            filepath_or_buffer=f\"C:/studium/studium/CAS_PML/Projekt_Arbeit/earthquake/Daten/all/test/{seg_id}.csv\",\n",
    "            dtype={\"acoustic_data\": np.int16, \"time_to_failure\": np.float32})\n",
    "        feature_row = generate_featureRow(segment.acoustic_data,sampleRate)\n",
    "        feature_row['seg_id'] = seg_id\n",
    "        features = features.append(feature_row, ignore_index=True)\n",
    "        \n",
    "    print(\"test feature dataframe created\")\n",
    "    return features"
   ]
  },
  {
   "cell_type": "markdown",
   "metadata": {},
   "source": [
    "Convert Test data into features"
   ]
  },
  {
   "cell_type": "code",
   "execution_count": 11,
   "metadata": {
    "ExecuteTime": {
     "end_time": "2019-03-23T19:12:19.422668Z",
     "start_time": "2019-03-23T19:12:19.419678Z"
    }
   },
   "outputs": [
    {
     "name": "stdout",
     "output_type": "stream",
     "text": [
      "loading train segment ids...\n",
      "converting test segments into feature dataframes. \n",
      "test feature dataframe created\n"
     ]
    }
   ],
   "source": [
    "sampleRate=4000000\n",
    "test_features = load_test_features(sampleRate)"
   ]
  },
  {
   "cell_type": "code",
   "execution_count": 12,
   "metadata": {},
   "outputs": [
    {
     "data": {
      "text/html": [
       "<div>\n",
       "<style scoped>\n",
       "    .dataframe tbody tr th:only-of-type {\n",
       "        vertical-align: middle;\n",
       "    }\n",
       "\n",
       "    .dataframe tbody tr th {\n",
       "        vertical-align: top;\n",
       "    }\n",
       "\n",
       "    .dataframe thead th {\n",
       "        text-align: right;\n",
       "    }\n",
       "</style>\n",
       "<table border=\"1\" class=\"dataframe\">\n",
       "  <thead>\n",
       "    <tr style=\"text-align: right;\">\n",
       "      <th></th>\n",
       "      <th>mean</th>\n",
       "      <th>std</th>\n",
       "      <th>kurt</th>\n",
       "      <th>skew</th>\n",
       "      <th>min</th>\n",
       "      <th>max</th>\n",
       "      <th>1%q</th>\n",
       "      <th>5%q</th>\n",
       "      <th>25%q</th>\n",
       "      <th>75%q</th>\n",
       "      <th>...</th>\n",
       "      <th>spec_bw_skew</th>\n",
       "      <th>spec_bw_min</th>\n",
       "      <th>spec_bw_max</th>\n",
       "      <th>spec_bw_1%q</th>\n",
       "      <th>spec_bw_5%q</th>\n",
       "      <th>spec_bw_25%q</th>\n",
       "      <th>spec_bw_75%q</th>\n",
       "      <th>spec_bw_95%q</th>\n",
       "      <th>spec_bw_99%q</th>\n",
       "      <th>seg_id</th>\n",
       "    </tr>\n",
       "  </thead>\n",
       "  <tbody>\n",
       "    <tr>\n",
       "      <th>0</th>\n",
       "      <td>4.491780</td>\n",
       "      <td>4.893690</td>\n",
       "      <td>28.837568</td>\n",
       "      <td>0.327908</td>\n",
       "      <td>-75</td>\n",
       "      <td>115</td>\n",
       "      <td>-8.0</td>\n",
       "      <td>-2.0</td>\n",
       "      <td>2.0</td>\n",
       "      <td>7.0</td>\n",
       "      <td>...</td>\n",
       "      <td>-2.910948</td>\n",
       "      <td>389168.895994</td>\n",
       "      <td>594355.538515</td>\n",
       "      <td>453133.903303</td>\n",
       "      <td>501321.626228</td>\n",
       "      <td>558980.155284</td>\n",
       "      <td>575288.168384</td>\n",
       "      <td>583270.046928</td>\n",
       "      <td>588387.085638</td>\n",
       "      <td>seg_00030f</td>\n",
       "    </tr>\n",
       "    <tr>\n",
       "      <th>1</th>\n",
       "      <td>4.171153</td>\n",
       "      <td>5.922839</td>\n",
       "      <td>56.218955</td>\n",
       "      <td>0.295708</td>\n",
       "      <td>-140</td>\n",
       "      <td>152</td>\n",
       "      <td>-12.0</td>\n",
       "      <td>-2.0</td>\n",
       "      <td>2.0</td>\n",
       "      <td>7.0</td>\n",
       "      <td>...</td>\n",
       "      <td>-3.050476</td>\n",
       "      <td>371359.134212</td>\n",
       "      <td>593240.944419</td>\n",
       "      <td>385671.910366</td>\n",
       "      <td>492372.746985</td>\n",
       "      <td>557686.368421</td>\n",
       "      <td>578095.274019</td>\n",
       "      <td>584096.113468</td>\n",
       "      <td>588191.204128</td>\n",
       "      <td>seg_0012b5</td>\n",
       "    </tr>\n",
       "    <tr>\n",
       "      <th>2</th>\n",
       "      <td>4.610260</td>\n",
       "      <td>6.946990</td>\n",
       "      <td>162.118284</td>\n",
       "      <td>0.428688</td>\n",
       "      <td>-193</td>\n",
       "      <td>248</td>\n",
       "      <td>-11.0</td>\n",
       "      <td>-2.0</td>\n",
       "      <td>2.0</td>\n",
       "      <td>7.0</td>\n",
       "      <td>...</td>\n",
       "      <td>-3.565564</td>\n",
       "      <td>309377.657539</td>\n",
       "      <td>591117.284209</td>\n",
       "      <td>371769.294600</td>\n",
       "      <td>493156.967745</td>\n",
       "      <td>561120.221811</td>\n",
       "      <td>578788.275032</td>\n",
       "      <td>584466.690457</td>\n",
       "      <td>590222.250678</td>\n",
       "      <td>seg_00184e</td>\n",
       "    </tr>\n",
       "    <tr>\n",
       "      <th>3</th>\n",
       "      <td>4.531473</td>\n",
       "      <td>4.114147</td>\n",
       "      <td>41.241827</td>\n",
       "      <td>0.061889</td>\n",
       "      <td>-93</td>\n",
       "      <td>85</td>\n",
       "      <td>-5.0</td>\n",
       "      <td>-1.0</td>\n",
       "      <td>3.0</td>\n",
       "      <td>7.0</td>\n",
       "      <td>...</td>\n",
       "      <td>-3.574696</td>\n",
       "      <td>414276.257820</td>\n",
       "      <td>594655.170667</td>\n",
       "      <td>464998.294747</td>\n",
       "      <td>527333.008354</td>\n",
       "      <td>568400.014405</td>\n",
       "      <td>581364.970211</td>\n",
       "      <td>588569.580525</td>\n",
       "      <td>593403.763679</td>\n",
       "      <td>seg_003339</td>\n",
       "    </tr>\n",
       "    <tr>\n",
       "      <th>4</th>\n",
       "      <td>4.128340</td>\n",
       "      <td>5.797164</td>\n",
       "      <td>79.539708</td>\n",
       "      <td>0.073898</td>\n",
       "      <td>-147</td>\n",
       "      <td>177</td>\n",
       "      <td>-10.0</td>\n",
       "      <td>-2.0</td>\n",
       "      <td>2.0</td>\n",
       "      <td>6.0</td>\n",
       "      <td>...</td>\n",
       "      <td>-3.250066</td>\n",
       "      <td>357277.532319</td>\n",
       "      <td>589801.549099</td>\n",
       "      <td>404377.415124</td>\n",
       "      <td>502984.245096</td>\n",
       "      <td>562608.226846</td>\n",
       "      <td>579016.554195</td>\n",
       "      <td>585596.709514</td>\n",
       "      <td>588086.204851</td>\n",
       "      <td>seg_0042cc</td>\n",
       "    </tr>\n",
       "  </tbody>\n",
       "</table>\n",
       "<p>5 rows × 95 columns</p>\n",
       "</div>"
      ],
      "text/plain": [
       "       mean       std        kurt      skew  min  max   1%q  5%q  25%q  75%q  \\\n",
       "0  4.491780  4.893690   28.837568  0.327908  -75  115  -8.0 -2.0   2.0   7.0   \n",
       "1  4.171153  5.922839   56.218955  0.295708 -140  152 -12.0 -2.0   2.0   7.0   \n",
       "2  4.610260  6.946990  162.118284  0.428688 -193  248 -11.0 -2.0   2.0   7.0   \n",
       "3  4.531473  4.114147   41.241827  0.061889  -93   85  -5.0 -1.0   3.0   7.0   \n",
       "4  4.128340  5.797164   79.539708  0.073898 -147  177 -10.0 -2.0   2.0   6.0   \n",
       "\n",
       "   ...  spec_bw_skew    spec_bw_min    spec_bw_max    spec_bw_1%q  \\\n",
       "0  ...     -2.910948  389168.895994  594355.538515  453133.903303   \n",
       "1  ...     -3.050476  371359.134212  593240.944419  385671.910366   \n",
       "2  ...     -3.565564  309377.657539  591117.284209  371769.294600   \n",
       "3  ...     -3.574696  414276.257820  594655.170667  464998.294747   \n",
       "4  ...     -3.250066  357277.532319  589801.549099  404377.415124   \n",
       "\n",
       "     spec_bw_5%q   spec_bw_25%q   spec_bw_75%q   spec_bw_95%q   spec_bw_99%q  \\\n",
       "0  501321.626228  558980.155284  575288.168384  583270.046928  588387.085638   \n",
       "1  492372.746985  557686.368421  578095.274019  584096.113468  588191.204128   \n",
       "2  493156.967745  561120.221811  578788.275032  584466.690457  590222.250678   \n",
       "3  527333.008354  568400.014405  581364.970211  588569.580525  593403.763679   \n",
       "4  502984.245096  562608.226846  579016.554195  585596.709514  588086.204851   \n",
       "\n",
       "       seg_id  \n",
       "0  seg_00030f  \n",
       "1  seg_0012b5  \n",
       "2  seg_00184e  \n",
       "3  seg_003339  \n",
       "4  seg_0042cc  \n",
       "\n",
       "[5 rows x 95 columns]"
      ]
     },
     "execution_count": 12,
     "metadata": {},
     "output_type": "execute_result"
    }
   ],
   "source": [
    "test_features.head()"
   ]
  },
  {
   "cell_type": "code",
   "execution_count": 13,
   "metadata": {},
   "outputs": [],
   "source": [
    "# saving the dataframe\n",
    "timestamp = time.time()\n",
    "test_features.to_csv(test_data_path+'competition_test_Features_extended'+str(timestamp)+'_.csv', header=True, index=True)"
   ]
  },
  {
   "cell_type": "markdown",
   "metadata": {},
   "source": [
    "# Umgebungsvariablen"
   ]
  },
  {
   "cell_type": "code",
   "execution_count": 21,
   "metadata": {},
   "outputs": [],
   "source": [
    "Test_Features_20 ='''C:/studium/studium/CAS_PML/Projekt_Arbeit/earthquake/Daten/earthquake_data/Test_Features_20.csv'''\n",
    "Test_Features_95 ='''C:/studium/studium/CAS_PML/Projekt_Arbeit/earthquake/Daten/earthquake_data/Test_Features_94.csv'''\n",
    "\n",
    "cat_boost_model = '''C:/studium/studium/CAS_PML/Projekt_Arbeit/earthquake/Daten/all/'''"
   ]
  },
  {
   "cell_type": "markdown",
   "metadata": {},
   "source": [
    "# Load Submission-Test Data"
   ]
  },
  {
   "cell_type": "code",
   "execution_count": 27,
   "metadata": {},
   "outputs": [],
   "source": [
    "test_data = pd.read_csv(Test_Features_20)"
   ]
  },
  {
   "cell_type": "markdown",
   "metadata": {},
   "source": [
    "# Load model"
   ]
  },
  {
   "cell_type": "code",
   "execution_count": 22,
   "metadata": {},
   "outputs": [],
   "source": [
    "cat_boost_path = cat_boost_model+'Trained_Catboost_model_V3.dump'"
   ]
  },
  {
   "cell_type": "code",
   "execution_count": 23,
   "metadata": {
    "ExecuteTime": {
     "end_time": "2019-03-22T16:28:31.000973Z",
     "start_time": "2019-03-22T16:28:30.952112Z"
    }
   },
   "outputs": [],
   "source": [
    "model = CatBoostRegressor()\n",
    "model.load_model(cat_boost_path);"
   ]
  },
  {
   "cell_type": "markdown",
   "metadata": {},
   "source": [
    "## Predict and save to file"
   ]
  },
  {
   "cell_type": "code",
   "execution_count": 39,
   "metadata": {},
   "outputs": [
    {
     "data": {
      "text/plain": [
       "(2624, 22)"
      ]
     },
     "execution_count": 39,
     "metadata": {},
     "output_type": "execute_result"
    }
   ],
   "source": [
    "test_data.shape"
   ]
  },
  {
   "cell_type": "code",
   "execution_count": 41,
   "metadata": {},
   "outputs": [],
   "source": [
    "submission = pd.DataFrame()\n",
    "submission['time_to_failure'] = model.predict(test_data.iloc[:,1:21])\n",
    "submission['seg_id'] = test_features.ix[:,'seg_id']\n",
    "submission = submission[['seg_id', 'time_to_failure']]\n",
    "submission.to_csv(test_data_path+'submission_3.csv',index=False)"
   ]
  },
  {
   "cell_type": "code",
   "execution_count": 35,
   "metadata": {},
   "outputs": [
    {
     "data": {
      "text/html": [
       "<div>\n",
       "<style scoped>\n",
       "    .dataframe tbody tr th:only-of-type {\n",
       "        vertical-align: middle;\n",
       "    }\n",
       "\n",
       "    .dataframe tbody tr th {\n",
       "        vertical-align: top;\n",
       "    }\n",
       "\n",
       "    .dataframe thead th {\n",
       "        text-align: right;\n",
       "    }\n",
       "</style>\n",
       "<table border=\"1\" class=\"dataframe\">\n",
       "  <thead>\n",
       "    <tr style=\"text-align: right;\">\n",
       "      <th></th>\n",
       "      <th>seg_id</th>\n",
       "      <th>time_to_failure</th>\n",
       "    </tr>\n",
       "  </thead>\n",
       "  <tbody>\n",
       "  </tbody>\n",
       "</table>\n",
       "</div>"
      ],
      "text/plain": [
       "Empty DataFrame\n",
       "Columns: [seg_id, time_to_failure]\n",
       "Index: []"
      ]
     },
     "execution_count": 35,
     "metadata": {},
     "output_type": "execute_result"
    }
   ],
   "source": [
    "submission[submission.time_to_failure < 0]"
   ]
  },
  {
   "cell_type": "code",
   "execution_count": null,
   "metadata": {},
   "outputs": [],
   "source": []
  }
 ],
 "metadata": {
  "kernelspec": {
   "display_name": "Python 3",
   "language": "python",
   "name": "python3"
  },
  "language_info": {
   "codemirror_mode": {
    "name": "ipython",
    "version": 3
   },
   "file_extension": ".py",
   "mimetype": "text/x-python",
   "name": "python",
   "nbconvert_exporter": "python",
   "pygments_lexer": "ipython3",
   "version": "3.6.8"
  },
  "toc": {
   "base_numbering": 1,
   "nav_menu": {},
   "number_sections": true,
   "sideBar": true,
   "skip_h1_title": false,
   "title_cell": "Table of Contents",
   "title_sidebar": "Contents",
   "toc_cell": false,
   "toc_position": {
    "height": "calc(100% - 180px)",
    "left": "10px",
    "top": "150px",
    "width": "349.091px"
   },
   "toc_section_display": true,
   "toc_window_display": true
  }
 },
 "nbformat": 4,
 "nbformat_minor": 2
}
