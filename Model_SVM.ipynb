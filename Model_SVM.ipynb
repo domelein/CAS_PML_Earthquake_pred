{
 "cells": [
  {
   "cell_type": "code",
   "execution_count": 32,
   "metadata": {
    "ExecuteTime": {
     "end_time": "2019-03-22T16:41:48.139506Z",
     "start_time": "2019-03-22T16:41:48.135481Z"
    }
   },
   "outputs": [],
   "source": [
    "import pandas as pd\n",
    "import numpy as np\n",
    "#data visualization\n",
    "import matplotlib.pyplot as plt\n",
    "import librosa\n",
    "\n",
    "from scipy.stats import kurtosis\n",
    "from scipy.stats import skew\n",
    "\n",
    "pd.options.display.precision = 10"
   ]
  },
  {
   "cell_type": "markdown",
   "metadata": {},
   "source": [
    "## Umgebungsvariablen"
   ]
  },
  {
   "cell_type": "code",
   "execution_count": 33,
   "metadata": {
    "ExecuteTime": {
     "end_time": "2019-03-22T16:41:50.459001Z",
     "start_time": "2019-03-22T16:41:50.455027Z"
    }
   },
   "outputs": [],
   "source": [
    "feature_data_path = '''C:/studium/studium/CAS_PML/Projekt_Arbeit/earthquake/Daten/all/earthquakeFeatures_ext.csv'''"
   ]
  },
  {
   "cell_type": "markdown",
   "metadata": {},
   "source": [
    "# Feature laden"
   ]
  },
  {
   "cell_type": "code",
   "execution_count": 40,
   "metadata": {
    "ExecuteTime": {
     "end_time": "2019-03-20T22:30:58.743626Z",
     "start_time": "2019-03-20T22:29:20.518415Z"
    }
   },
   "outputs": [],
   "source": [
    "train_data = pd.read_csv(feature_data_path, dtype={'acoustic_data': np.int16, 'time_to_failure': np.float64})"
   ]
  },
  {
   "cell_type": "markdown",
   "metadata": {},
   "source": [
    "## Testdaten vorbereiten"
   ]
  },
  {
   "cell_type": "code",
   "execution_count": null,
   "metadata": {},
   "outputs": [],
   "source": [
    "X_train, X_test, y_train, y_test = train_test_split(\n",
    "    features.iloc[:,1:93], features.iloc[:,-1], random_state=0, test_size=0.25)"
   ]
  },
  {
   "cell_type": "markdown",
   "metadata": {},
   "source": [
    "# Create Model Workbench"
   ]
  },
  {
   "cell_type": "markdown",
   "metadata": {},
   "source": [
    "## Imports"
   ]
  },
  {
   "cell_type": "code",
   "execution_count": 8,
   "metadata": {
    "ExecuteTime": {
     "end_time": "2019-03-22T16:13:06.413639Z",
     "start_time": "2019-03-22T16:13:06.409381Z"
    }
   },
   "outputs": [],
   "source": [
    "# Scaler\n",
    "from sklearn.preprocessing import StandardScaler\n",
    "from sklearn.preprocessing import RobustScaler\n",
    "\n",
    "# Model selection\n",
    "from sklearn.pipeline import Pipeline\n",
    "from sklearn.model_selection import GridSearchCV\n",
    "from sklearn.metrics import mean_absolute_error\n",
    "from sklearn.model_selection import train_test_split\n",
    "from sklearn.preprocessing import PolynomialFeatures\n",
    "\n",
    "# Modell\n",
    "from sklearn.ensemble import GradientBoostingRegressor\n",
    "from catboost import CatBoostRegressor, Pool\n",
    "from sklearn.ensemble import RandomForestRegressor\n",
    "from sklearn.svm import SVR"
   ]
  },
  {
   "cell_type": "markdown",
   "metadata": {},
   "source": [
    "# Support Vector Regression (SVR) using linear and non-linear kernels"
   ]
  },
  {
   "cell_type": "code",
   "execution_count": 19,
   "metadata": {
    "ExecuteTime": {
     "end_time": "2019-03-20T18:30:41.126639Z",
     "start_time": "2019-03-20T18:30:41.123644Z"
    }
   },
   "outputs": [],
   "source": [
    "pipe = Pipeline([('preprocessing', StandardScaler()), ('regressor', SVR())])"
   ]
  },
  {
   "cell_type": "code",
   "execution_count": 25,
   "metadata": {},
   "outputs": [],
   "source": [
    "param_grid = [\n",
    "    {'regressor': [SVR(kernel='rbf',epsilon=.1)], \n",
    "     'preprocessing': [StandardScaler()],\n",
    "     'regressor__gamma': [0.001, 0.01, 0.1, 1, 10, 100],\n",
    "     'regressor__C': [0.001, 0.01, 0.1, 1, 10, 100]}]"
   ]
  },
  {
   "cell_type": "code",
   "execution_count": 20,
   "metadata": {
    "ExecuteTime": {
     "end_time": "2019-03-20T18:33:26.035440Z",
     "start_time": "2019-03-20T18:33:26.031486Z"
    }
   },
   "outputs": [],
   "source": [
    "param_grid = [\n",
    "    {'regressor': [SVR(kernel='linear')],\n",
    "     'preprocessing': [StandardScaler(), RobustScaler()],\n",
    "     'regressor__gamma': [0.001, 0.01, 0.1, 1, 10, 100],\n",
    "     'regressor__C': [0.001, 0.01, 0.1, 1, 10, 100]}]"
   ]
  },
  {
   "cell_type": "code",
   "execution_count": 15,
   "metadata": {},
   "outputs": [],
   "source": [
    "param_grid = [\n",
    "    {'regressor': [SVR(kernel='poly',epsilon=.1)],\n",
    "     'preprocessing': [StandardScaler()],\n",
    "     'regressor__gamma': [0.001, 0.01, 0.1, 1, 10, 100],\n",
    "     'regressor__degree': [1,2],\n",
    "     'regressor__C': [0.001, 0.01, 0.1, 1, 10, 100]}]"
   ]
  },
  {
   "cell_type": "code",
   "execution_count": 38,
   "metadata": {},
   "outputs": [],
   "source": [
    "param_grid = [\n",
    "    {'regressor': [SVR(kernel='rbf',epsilon=.1)], \n",
    "     'preprocessing': [StandardScaler()],\n",
    "     'regressor__gamma': [0.001, 0.01, 0.1, 1, 10, 100],\n",
    "     'regressor__C': [0.001, 0.01, 0.1, 1, 10, 100]},\n",
    "    {'regressor': [SVR(kernel='linear')],\n",
    "     'preprocessing': [StandardScaler(), RobustScaler()],\n",
    "     'regressor__gamma': [0.001, 0.01, 0.1, 1, 10, 100],\n",
    "     'regressor__C': [0.001, 0.01, 0.1, 1, 10, 100]},\n",
    "    {'regressor': [SVR(kernel='poly',epsilon=.1)],\n",
    "     'preprocessing': [StandardScaler(), RobustScaler()],\n",
    "     'regressor__gamma': [0.001, 0.01, 0.1, 1, 10, 100],\n",
    "     'regressor__degree': [1,2,3],\n",
    "     'regressor__C': [0.001, 0.01, 0.1, 1, 10, 100]}]"
   ]
  },
  {
   "cell_type": "code",
   "execution_count": null,
   "metadata": {
    "ExecuteTime": {
     "start_time": "2019-03-20T18:33:46.526Z"
    }
   },
   "outputs": [],
   "source": [
    "grid = GridSearchCV(pipe, param_grid, scoring='neg_mean_absolute_error', cv=5, n_jobs=-1)\n",
    "grid.fit(X_train, y_train)"
   ]
  },
  {
   "cell_type": "code",
   "execution_count": 28,
   "metadata": {},
   "outputs": [
    {
     "name": "stdout",
     "output_type": "stream",
     "text": [
      "SVR(kernel=rbf\n",
      "Best params:\n",
      "{'preprocessing': StandardScaler(copy=True, with_mean=True, with_std=True), 'regressor': SVR(C=100, cache_size=200, coef0=0.0, degree=3, epsilon=0.1, gamma=0.01,\n",
      "  kernel='rbf', max_iter=-1, shrinking=True, tol=0.001, verbose=False), 'regressor__C': 100, 'regressor__gamma': 0.01}\n",
      "\n",
      "Best cross-validation score: -2.11\n",
      "Test-set score: -2.12\n",
      "Test-set: mean absolute error : 2.12\n"
     ]
    }
   ],
   "source": [
    "print('SVR(kernel=rbf')\n",
    "print(\"Best params:\\n{}\\n\".format(grid.best_params_))\n",
    "print(\"Best cross-validation score: {:.2f}\".format(grid.best_score_))\n",
    "print(\"Test-set score: {:.2f}\".format(grid.score(X_test, y_test)))\n",
    "print(\"Test-set: mean absolute error : {:.2f}\".format(mean_absolute_error(y_test, grid.predict(X_test))))"
   ]
  },
  {
   "cell_type": "code",
   "execution_count": 33,
   "metadata": {},
   "outputs": [
    {
     "name": "stdout",
     "output_type": "stream",
     "text": [
      "SVR(kernel=linear\n",
      "Best params:\n",
      "{'preprocessing': RobustScaler(copy=True, quantile_range=(25.0, 75.0), with_centering=True,\n",
      "       with_scaling=True), 'regressor': SVR(C=100, cache_size=200, coef0=0.0, degree=3, epsilon=0.1, gamma=0.001,\n",
      "  kernel='linear', max_iter=-1, shrinking=True, tol=0.001, verbose=False), 'regressor__C': 100, 'regressor__gamma': 0.001}\n",
      "\n",
      "Best cross-validation score: -2.19\n",
      "Test-set score: -2.21\n",
      "Test-set: mean absolute error : 2.21\n"
     ]
    }
   ],
   "source": [
    "print('SVR(kernel=linear')\n",
    "print(\"Best params:\\n{}\\n\".format(grid.best_params_))\n",
    "print(\"Best cross-validation score: {:.2f}\".format(grid.best_score_))\n",
    "print(\"Test-set score: {:.2f}\".format(grid.score(X_test, y_test)))\n",
    "print(\"Test-set: mean absolute error : {:.2f}\".format(mean_absolute_error(y_test, grid.predict(X_test))))"
   ]
  },
  {
   "cell_type": "code",
   "execution_count": null,
   "metadata": {},
   "outputs": [],
   "source": [
    "print('SVR(kernel=poly')\n",
    "print(\"Best params:\\n{}\\n\".format(grid.best_params_))\n",
    "print(\"Best cross-validation score: {:.2f}\".format(grid.best_score_))\n",
    "print(\"Test-set score: {:.2f}\".format(grid.score(X_test, y_test)))\n",
    "print(\"Test-set: mean absolute error : {:.2f}\".format(mean_absolute_error(y_test, grid.predict(X_test))))"
   ]
  },
  {
   "cell_type": "markdown",
   "metadata": {},
   "source": [
    "# Erkenntnisse"
   ]
  },
  {
   "cell_type": "code",
   "execution_count": null,
   "metadata": {},
   "outputs": [],
   "source": []
  },
  {
   "cell_type": "code",
   "execution_count": null,
   "metadata": {},
   "outputs": [],
   "source": []
  },
  {
   "cell_type": "markdown",
   "metadata": {},
   "source": [
    "# Model selection\n",
    " - Random forrest\n",
    " - Other GradientBoost (AdaBoost)\n",
    "\n",
    " - Feed Forward NN (with Karas)\n",
    " - Reccurent Neuronal Net: LSTM (with Karas)\n",
    " - Convolutional NN https://www.kaggle.com/michael422/spectrogram-convolution https://www.kaggle.com/michael422/spectrogram-convolution\n",
    " \n",
    " \n",
    " - CatBoost vs. Light GBM vs. XGBoost https://www.kdnuggets.com/2018/03/catboost-vs-light-gbm-vs-xgboost.html\n",
    " - CatBoost-GridSearch https://setscholars.net/2019/02/19/how-to-find-optimal-parameters-for-catboost-using-gridsearchcv-for-regression-in-python/"
   ]
  },
  {
   "cell_type": "code",
   "execution_count": null,
   "metadata": {},
   "outputs": [],
   "source": []
  }
 ],
 "metadata": {
  "kernelspec": {
   "display_name": "Python 3",
   "language": "python",
   "name": "python3"
  },
  "language_info": {
   "codemirror_mode": {
    "name": "ipython",
    "version": 3
   },
   "file_extension": ".py",
   "mimetype": "text/x-python",
   "name": "python",
   "nbconvert_exporter": "python",
   "pygments_lexer": "ipython3",
   "version": "3.6.8"
  },
  "toc": {
   "base_numbering": 1,
   "nav_menu": {},
   "number_sections": true,
   "sideBar": true,
   "skip_h1_title": false,
   "title_cell": "Table of Contents",
   "title_sidebar": "Contents",
   "toc_cell": false,
   "toc_position": {
    "height": "calc(100% - 180px)",
    "left": "10px",
    "top": "150px",
    "width": "349.091px"
   },
   "toc_section_display": true,
   "toc_window_display": true
  }
 },
 "nbformat": 4,
 "nbformat_minor": 2
}
