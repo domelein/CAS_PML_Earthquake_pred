{
 "cells": [
  {
   "cell_type": "code",
   "execution_count": 1,
   "metadata": {
    "ExecuteTime": {
     "end_time": "2019-03-22T16:41:48.139506Z",
     "start_time": "2019-03-22T16:41:48.135481Z"
    }
   },
   "outputs": [],
   "source": [
    "import pandas as pd\n",
    "import numpy as np\n",
    "#data visualization\n",
    "import matplotlib.pyplot as plt\n",
    "import librosa\n",
    "\n",
    "from scipy.stats import kurtosis\n",
    "from scipy.stats import skew\n",
    "\n",
    "from sklearn.model_selection import train_test_split\n",
    "\n",
    "import warnings\n",
    "warnings.filterwarnings('ignore')\n",
    "\n",
    "pd.options.display.precision = 10"
   ]
  },
  {
   "cell_type": "markdown",
   "metadata": {},
   "source": [
    "## Umgebungsvariablen"
   ]
  },
  {
   "cell_type": "code",
   "execution_count": 2,
   "metadata": {
    "ExecuteTime": {
     "end_time": "2019-03-22T16:41:50.459001Z",
     "start_time": "2019-03-22T16:41:50.455027Z"
    }
   },
   "outputs": [],
   "source": [
    "#feature generated 24.03.2019\n",
    "earthquake_daten = '''C:/studium/studium/CAS_PML/Projekt_Arbeit/earthquake/Daten/earthquake_data/'''\n",
    "feature_62900_94 = 'Features_62900-94.csv'\n",
    "feature_41934_94 = 'Features_41934_94.csv'\n",
    "Features_4194_94 = 'Features_4194_94.csv'"
   ]
  },
  {
   "cell_type": "markdown",
   "metadata": {},
   "source": [
    "# Feature laden"
   ]
  },
  {
   "cell_type": "code",
   "execution_count": 3,
   "metadata": {
    "ExecuteTime": {
     "end_time": "2019-03-20T22:30:58.743626Z",
     "start_time": "2019-03-20T22:29:20.518415Z"
    }
   },
   "outputs": [],
   "source": [
    "train_data = pd.read_csv(earthquake_daten+Features_4194_94 )"
   ]
  },
  {
   "cell_type": "code",
   "execution_count": 4,
   "metadata": {},
   "outputs": [],
   "source": [
    "train_data_reduced = train_data.filter(items=['spec_cent_75%q',\n",
    " 'min',\n",
    " 'mean',\n",
    " 'max',\n",
    " 'zero_crossings',\n",
    " 'skew',\n",
    " 'absMax',\n",
    " 'rolloff_min',\n",
    " 'chroma_stft_std',\n",
    " 'kurt',\n",
    " 'spec_cent_min',\n",
    " 'spec_cent_95%q',\n",
    " 'spec_bw_min',\n",
    " 'spec_bw_75%q',\n",
    " 'rolloff_75%q',\n",
    " 'chroma_stft_skew',\n",
    " 'chroma_stft_mean',\n",
    " 'psd_skew',\n",
    " 'chroma_stft_min',\n",
    " 'chroma_stft_kurt',\n",
    " 'psd_75%q',\n",
    " 'psd_kurt',\n",
    " 'rolloff_max',\n",
    " 'psd_25%q',\n",
    " 'chroma_stft_75%q',\n",
    " 'spec_cent_max',\n",
    " 'rolloff_95%q',\n",
    " 'spec_cent_99%q',\n",
    " 'psd_max',\n",
    " 'spec_bw_99%q',\n",
    " 'spec_bw_95%q',\n",
    " 'absMean',\n",
    " 'spec_bw_25%q',\n",
    " 'chroma_stft_25%q',\n",
    " 'spec_bw_max',\n",
    " 'rolloff_99%q',\n",
    " 'spec_cent_25%q',\n",
    " 'psd_5%q',\n",
    " 'spec_bw_kurt',\n",
    " 'spec_cent_std',\n",
    " 'time_to_failure'])"
   ]
  },
  {
   "cell_type": "markdown",
   "metadata": {},
   "source": [
    "## Testdaten vorbereiten"
   ]
  },
  {
   "cell_type": "code",
   "execution_count": 5,
   "metadata": {},
   "outputs": [],
   "source": [
    "X_train, X_test, y_train, y_test = train_test_split(\n",
    "    train_data_reduced.iloc[:,0:40], train_data_reduced.iloc[:,-1], random_state=0, test_size=0.25)"
   ]
  },
  {
   "cell_type": "markdown",
   "metadata": {},
   "source": [
    "# Create Model Workbench"
   ]
  },
  {
   "cell_type": "markdown",
   "metadata": {},
   "source": [
    "## Imports"
   ]
  },
  {
   "cell_type": "code",
   "execution_count": 6,
   "metadata": {
    "ExecuteTime": {
     "end_time": "2019-03-22T16:13:06.413639Z",
     "start_time": "2019-03-22T16:13:06.409381Z"
    }
   },
   "outputs": [],
   "source": [
    "# Scaler\n",
    "from sklearn.preprocessing import StandardScaler\n",
    "from sklearn.preprocessing import MinMaxScaler\n",
    "\n",
    "# Model selection\n",
    "from sklearn.pipeline import Pipeline\n",
    "from sklearn.model_selection import GridSearchCV\n",
    "from sklearn.metrics import mean_absolute_error\n",
    "from sklearn.model_selection import train_test_split\n",
    "from sklearn.preprocessing import PolynomialFeatures\n",
    "\n",
    "# Modell\n",
    "from sklearn.ensemble import GradientBoostingRegressor\n",
    "from catboost import CatBoostRegressor, Pool\n",
    "from sklearn.ensemble import RandomForestRegressor\n",
    "from sklearn.svm import SVR"
   ]
  },
  {
   "cell_type": "markdown",
   "metadata": {},
   "source": [
    "# Support Vector Regression (SVR) using linear and non-linear kernels"
   ]
  },
  {
   "cell_type": "code",
   "execution_count": 11,
   "metadata": {
    "ExecuteTime": {
     "end_time": "2019-03-20T18:30:41.126639Z",
     "start_time": "2019-03-20T18:30:41.123644Z"
    }
   },
   "outputs": [],
   "source": [
    "pipe = Pipeline([('preprocessing', StandardScaler()), ('regressor', SVR())])"
   ]
  },
  {
   "cell_type": "code",
   "execution_count": 20,
   "metadata": {},
   "outputs": [],
   "source": [
    "param_grid = [\n",
    "    {'regressor': [SVR(kernel='rbf')], \n",
    "     'preprocessing': [StandardScaler(),MinMaxScaler()],\n",
    "     'regressor__epsilon': [0.1],\n",
    "     'regressor__gamma': [0.008,0.01,0.03,0.05],\n",
    "     'regressor__C': [ 0.9, 1, 1.2, 1,5]}]"
   ]
  },
  {
   "cell_type": "code",
   "execution_count": 21,
   "metadata": {
    "ExecuteTime": {
     "end_time": "2019-03-20T18:33:26.035440Z",
     "start_time": "2019-03-20T18:33:26.031486Z"
    }
   },
   "outputs": [],
   "source": [
    "param_grid = [\n",
    "    {'regressor': [SVR(kernel='linear')],\n",
    "     'preprocessing': [StandardScaler()],\n",
    "     'regressor__gamma': [0.1, 1, 10],\n",
    "      'regressor__C': [0.1,1, 10, 100]}]"
   ]
  },
  {
   "cell_type": "code",
   "execution_count": 24,
   "metadata": {},
   "outputs": [],
   "source": [
    "param_grid = [\n",
    "    {'regressor': [SVR(kernel='poly')],\n",
    "      'preprocessing': [StandardScaler()],\n",
    "     'regressor__gamma': [0.1, 1, 10],\n",
    "     'regressor__degree': [1,2],\n",
    "     'regressor__C': [0.1,1, 10, 100]}]"
   ]
  },
  {
   "cell_type": "code",
   "execution_count": 28,
   "metadata": {},
   "outputs": [],
   "source": [
    "param_grid = [\n",
    "    {'regressor': [SVR(kernel='rbf',epsilon=.1)], \n",
    "     'preprocessing': [StandardScaler()],\n",
    "     'regressor__gamma': [0.001, 0.01, 0.1, 1, 10, 100],\n",
    "     'regressor__C': [0.001, 0.01, 0.1, 1, 10, 100]},\n",
    "    {'regressor': [SVR(kernel='linear')],\n",
    "     'preprocessing': [StandardScaler()],\n",
    "     'regressor__gamma': [0.001, 0.01, 0.1, 1, 10, 100],\n",
    "     'regressor__C': [0.001, 0.01, 0.1, 1, 10, 100]},]"
   ]
  },
  {
   "cell_type": "code",
   "execution_count": null,
   "metadata": {},
   "outputs": [],
   "source": [
    "grid = GridSearchCV(pipe, param_grid, scoring='neg_mean_absolute_error', cv=5,n_jobs=-1 )\n",
    "grid.fit(X_train, y_train)"
   ]
  },
  {
   "cell_type": "code",
   "execution_count": 18,
   "metadata": {},
   "outputs": [
    {
     "name": "stdout",
     "output_type": "stream",
     "text": [
      "SVR(kernel=rbf\n",
      "Best params:\n",
      "{'preprocessing': StandardScaler(copy=True, with_mean=True, with_std=True), 'regressor': SVR(C=1, cache_size=200, coef0=0.0, degree=3, epsilon=0.5, gamma=0.01,\n",
      "  kernel='rbf', max_iter=-1, shrinking=True, tol=0.001, verbose=False), 'regressor__C': 1, 'regressor__epsilon': 0.5, 'regressor__gamma': 0.01}\n",
      "\n",
      "Best cross-validation score: -2.05\n",
      "Test-set score: -2.05\n",
      "Test-set: mean absolute error : 2.05\n"
     ]
    }
   ],
   "source": [
    "param_grid = [\n",
    "    {'regressor': [SVR(kernel='rbf')],\n",
    "      'preprocessing': [StandardScaler()],\n",
    "     'regressor__gamma': [0.1, 1, 10],\n",
    "     'regressor__C': [0.1,1, 10, 100]}]\n",
    "\n",
    "grid = GridSearchCV(pipe, param_grid, scoring='neg_mean_absolute_error', cv=5,n_jobs=-1 )\n",
    "grid.fit(X_train, y_train)\n",
    "\n",
    "#26.03.2018 mit 40 Features\n",
    "print('SVR(kernel=rbf')\n",
    "print(\"Best params:\\n{}\\n\".format(grid.best_params_))\n",
    "print(\"Best cross-validation score: {:.2f}\".format(grid.best_score_))\n",
    "print(\"Test-set score: {:.2f}\".format(grid.score(X_test, y_test)))\n",
    "print(\"Test-set: mean absolute error : {:.2f}\".format(mean_absolute_error(y_test, grid.predict(X_test))))"
   ]
  },
  {
   "cell_type": "code",
   "execution_count": 23,
   "metadata": {},
   "outputs": [
    {
     "name": "stdout",
     "output_type": "stream",
     "text": [
      "SVR(kernel=linear\n",
      "Best params:\n",
      "{'preprocessing': StandardScaler(copy=True, with_mean=True, with_std=True), 'regressor': SVR(C=0.1, cache_size=200, coef0=0.0, degree=3, epsilon=0.1, gamma=0.1,\n",
      "  kernel='linear', max_iter=-1, shrinking=True, tol=0.001, verbose=False), 'regressor__C': 0.1, 'regressor__gamma': 0.1}\n",
      "\n",
      "Best cross-validation score: -2.11\n",
      "Test-set score: -2.09\n",
      "Test-set: mean absolute error : 2.09\n"
     ]
    }
   ],
   "source": [
    "param_grid = [\n",
    "    {'regressor': [SVR(kernel='linear')],\n",
    "      'preprocessing': [StandardScaler()],\n",
    "     'regressor__gamma': [0.1, 1, 10],\n",
    "     'regressor__degree': [1,2],\n",
    "     'regressor__C': [0.1,1, 10, 100]}]\n",
    "\n",
    "grid = GridSearchCV(pipe, param_grid, scoring='neg_mean_absolute_error', cv=5,n_jobs=-1 )\n",
    "grid.fit(X_train, y_train)\n",
    "\n",
    "#26.03.2018 mit 40 Features\n",
    "print('SVR(kernel=linear')\n",
    "print(\"Best params:\\n{}\\n\".format(grid.best_params_))\n",
    "print(\"Best cross-validation score: {:.2f}\".format(grid.best_score_))\n",
    "print(\"Test-set score: {:.2f}\".format(grid.score(X_test, y_test)))\n",
    "print(\"Test-set: mean absolute error : {:.2f}\".format(mean_absolute_error(y_test, grid.predict(X_test))))"
   ]
  },
  {
   "cell_type": "code",
   "execution_count": null,
   "metadata": {},
   "outputs": [],
   "source": [
    "#26.03.2018 mit 40 Features\n",
    "print('SVR(kernel=poly')\n",
    "print(\"Best params:\\n{}\\n\".format(grid.best_params_))\n",
    "print(\"Best cross-validation score: {:.2f}\".format(grid.best_score_))\n",
    "print(\"Test-set score: {:.2f}\".format(grid.score(X_test, y_test)))\n",
    "print(\"Test-set: mean absolute error : {:.2f}\".format(mean_absolute_error(y_test, grid.predict(X_test))))"
   ]
  },
  {
   "cell_type": "code",
   "execution_count": null,
   "metadata": {},
   "outputs": [],
   "source": []
  },
  {
   "cell_type": "markdown",
   "metadata": {},
   "source": [
    "### print('SVR(kernel=poly')\n",
    "print(\"Best params:\\n{}\\n\".format(grid.best_params_))\n",
    "print(\"Best cross-validation score: {:.2f}\".format(grid.best_score_))\n",
    "print(\"Test-set score: {:.2f}\".format(grid.score(X_test, y_test)))\n",
    "print(\"Test-set: mean absolute error : {:.2f}\".format(mean_absolute_error(y_test, grid.predict(X_test))))"
   ]
  },
  {
   "cell_type": "code",
   "execution_count": null,
   "metadata": {},
   "outputs": [],
   "source": []
  },
  {
   "cell_type": "markdown",
   "metadata": {},
   "source": [
    "# Erkenntnisse"
   ]
  },
  {
   "cell_type": "code",
   "execution_count": null,
   "metadata": {},
   "outputs": [],
   "source": []
  },
  {
   "cell_type": "code",
   "execution_count": null,
   "metadata": {},
   "outputs": [],
   "source": []
  },
  {
   "cell_type": "markdown",
   "metadata": {},
   "source": [
    "# Model selection\n",
    " - Random forrest\n",
    " - Other GradientBoost (AdaBoost)\n",
    "\n",
    " - Feed Forward NN (with Karas)\n",
    " - Reccurent Neuronal Net: LSTM (with Karas)\n",
    " - Convolutional NN https://www.kaggle.com/michael422/spectrogram-convolution https://www.kaggle.com/michael422/spectrogram-convolution\n",
    " \n",
    " \n",
    " - CatBoost vs. Light GBM vs. XGBoost https://www.kdnuggets.com/2018/03/catboost-vs-light-gbm-vs-xgboost.html\n",
    " - CatBoost-GridSearch https://setscholars.net/2019/02/19/how-to-find-optimal-parameters-for-catboost-using-gridsearchcv-for-regression-in-python/"
   ]
  },
  {
   "cell_type": "code",
   "execution_count": null,
   "metadata": {},
   "outputs": [],
   "source": []
  }
 ],
 "metadata": {
  "kernelspec": {
   "display_name": "Python 3",
   "language": "python",
   "name": "python3"
  },
  "language_info": {
   "codemirror_mode": {
    "name": "ipython",
    "version": 3
   },
   "file_extension": ".py",
   "mimetype": "text/x-python",
   "name": "python",
   "nbconvert_exporter": "python",
   "pygments_lexer": "ipython3",
   "version": "3.6.8"
  },
  "toc": {
   "base_numbering": 1,
   "nav_menu": {},
   "number_sections": true,
   "sideBar": true,
   "skip_h1_title": false,
   "title_cell": "Table of Contents",
   "title_sidebar": "Contents",
   "toc_cell": false,
   "toc_position": {
    "height": "calc(100% - 180px)",
    "left": "10px",
    "top": "150px",
    "width": "349.091px"
   },
   "toc_section_display": true,
   "toc_window_display": true
  }
 },
 "nbformat": 4,
 "nbformat_minor": 2
}
