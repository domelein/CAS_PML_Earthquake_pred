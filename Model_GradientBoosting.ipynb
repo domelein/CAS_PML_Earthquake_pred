{
 "cells": [
  {
   "cell_type": "code",
   "execution_count": 1,
   "metadata": {
    "ExecuteTime": {
     "end_time": "2019-03-22T18:30:30.426945Z",
     "start_time": "2019-03-22T18:30:29.177558Z"
    }
   },
   "outputs": [],
   "source": [
    "import pandas as pd\n",
    "import numpy as np\n",
    "#data visualization\n",
    "import matplotlib.pyplot as plt\n",
    "import librosa\n",
    "\n",
    "from scipy.stats import kurtosis\n",
    "from scipy.stats import skew\n",
    "\n",
    "pd.options.display.precision = 10"
   ]
  },
  {
   "cell_type": "markdown",
   "metadata": {},
   "source": [
    "## Umgebungsvariablen"
   ]
  },
  {
   "cell_type": "code",
   "execution_count": 8,
   "metadata": {
    "ExecuteTime": {
     "end_time": "2019-03-22T18:33:10.212610Z",
     "start_time": "2019-03-22T18:33:10.208578Z"
    }
   },
   "outputs": [],
   "source": [
    "feature_data_path = '''C:/studium/studium/CAS_PML/Projekt_Arbeit/earthquake/Daten/all/earthquakeFeatures_ext.csv'''"
   ]
  },
  {
   "cell_type": "markdown",
   "metadata": {},
   "source": [
    "# Feature laden"
   ]
  },
  {
   "cell_type": "code",
   "execution_count": 9,
   "metadata": {
    "ExecuteTime": {
     "end_time": "2019-03-22T18:33:12.983759Z",
     "start_time": "2019-03-22T18:33:12.264687Z"
    }
   },
   "outputs": [],
   "source": [
    "train_data = pd.read_csv(feature_data_path, dtype={'acoustic_data': np.int16, 'time_to_failure': np.float64})"
   ]
  },
  {
   "cell_type": "code",
   "execution_count": 13,
   "metadata": {
    "ExecuteTime": {
     "end_time": "2019-03-22T18:33:35.990282Z",
     "start_time": "2019-03-22T18:33:35.953381Z"
    }
   },
   "outputs": [
    {
     "data": {
      "text/html": [
       "<div>\n",
       "<style scoped>\n",
       "    .dataframe tbody tr th:only-of-type {\n",
       "        vertical-align: middle;\n",
       "    }\n",
       "\n",
       "    .dataframe tbody tr th {\n",
       "        vertical-align: top;\n",
       "    }\n",
       "\n",
       "    .dataframe thead th {\n",
       "        text-align: right;\n",
       "    }\n",
       "</style>\n",
       "<table border=\"1\" class=\"dataframe\">\n",
       "  <thead>\n",
       "    <tr style=\"text-align: right;\">\n",
       "      <th></th>\n",
       "      <th>mean</th>\n",
       "      <th>std</th>\n",
       "      <th>kurt</th>\n",
       "      <th>skew</th>\n",
       "      <th>min</th>\n",
       "      <th>max</th>\n",
       "      <th>1%q</th>\n",
       "      <th>5%q</th>\n",
       "      <th>25%q</th>\n",
       "      <th>75%q</th>\n",
       "      <th>...</th>\n",
       "      <th>mfcc_kurt</th>\n",
       "      <th>mfcc_skew</th>\n",
       "      <th>mfcc_min</th>\n",
       "      <th>mfcc_max</th>\n",
       "      <th>mfcc_1%q</th>\n",
       "      <th>mfcc_cent_5%q</th>\n",
       "      <th>mfcc_25%q</th>\n",
       "      <th>mfcc_75%q</th>\n",
       "      <th>mfcc_95%q</th>\n",
       "      <th>mfcc_99%q</th>\n",
       "    </tr>\n",
       "  </thead>\n",
       "  <tbody>\n",
       "    <tr>\n",
       "      <th>0</th>\n",
       "      <td>4.8841133333</td>\n",
       "      <td>5.1011061306</td>\n",
       "      <td>33.6624812935</td>\n",
       "      <td>-0.0240611666</td>\n",
       "      <td>-98.0</td>\n",
       "      <td>104.0</td>\n",
       "      <td>-8.0</td>\n",
       "      <td>-2.0</td>\n",
       "      <td>3.0</td>\n",
       "      <td>7.0</td>\n",
       "      <td>...</td>\n",
       "      <td>1.7926250934</td>\n",
       "      <td>1.1048759751</td>\n",
       "      <td>-92.1321830370</td>\n",
       "      <td>-26.1769160053</td>\n",
       "      <td>-90.0217627353</td>\n",
       "      <td>-86.1592492713</td>\n",
       "      <td>-79.7193050066</td>\n",
       "      <td>-65.7660047365</td>\n",
       "      <td>-50.0668287365</td>\n",
       "      <td>-32.7776445855</td>\n",
       "    </tr>\n",
       "    <tr>\n",
       "      <th>1</th>\n",
       "      <td>4.8460000000</td>\n",
       "      <td>5.3572687695</td>\n",
       "      <td>107.6590450983</td>\n",
       "      <td>0.3925487681</td>\n",
       "      <td>-154.0</td>\n",
       "      <td>181.0</td>\n",
       "      <td>-8.0</td>\n",
       "      <td>-2.0</td>\n",
       "      <td>3.0</td>\n",
       "      <td>7.0</td>\n",
       "      <td>...</td>\n",
       "      <td>8.0171198003</td>\n",
       "      <td>2.1118007117</td>\n",
       "      <td>-94.6178824145</td>\n",
       "      <td>8.7770193809</td>\n",
       "      <td>-91.3045186191</td>\n",
       "      <td>-86.4059601901</td>\n",
       "      <td>-80.3792653428</td>\n",
       "      <td>-66.6538662214</td>\n",
       "      <td>-49.0992852678</td>\n",
       "      <td>-22.1753170523</td>\n",
       "    </tr>\n",
       "    <tr>\n",
       "      <th>2</th>\n",
       "      <td>4.8111600000</td>\n",
       "      <td>5.3222446671</td>\n",
       "      <td>110.4614763269</td>\n",
       "      <td>0.4131461554</td>\n",
       "      <td>-154.0</td>\n",
       "      <td>181.0</td>\n",
       "      <td>-8.0</td>\n",
       "      <td>-2.0</td>\n",
       "      <td>2.0</td>\n",
       "      <td>7.0</td>\n",
       "      <td>...</td>\n",
       "      <td>8.4097814588</td>\n",
       "      <td>2.1560211118</td>\n",
       "      <td>-93.5586801788</td>\n",
       "      <td>8.4034865258</td>\n",
       "      <td>-90.8004274661</td>\n",
       "      <td>-87.0472882567</td>\n",
       "      <td>-80.2364598913</td>\n",
       "      <td>-66.9781009956</td>\n",
       "      <td>-49.1871208009</td>\n",
       "      <td>-21.8952768726</td>\n",
       "    </tr>\n",
       "    <tr>\n",
       "      <th>3</th>\n",
       "      <td>4.7970666667</td>\n",
       "      <td>5.4298018331</td>\n",
       "      <td>102.2839738481</td>\n",
       "      <td>0.3948502125</td>\n",
       "      <td>-154.0</td>\n",
       "      <td>181.0</td>\n",
       "      <td>-8.0</td>\n",
       "      <td>-2.0</td>\n",
       "      <td>2.0</td>\n",
       "      <td>7.0</td>\n",
       "      <td>...</td>\n",
       "      <td>7.6028397846</td>\n",
       "      <td>2.0502703394</td>\n",
       "      <td>-91.5577131484</td>\n",
       "      <td>5.1744835678</td>\n",
       "      <td>-89.8584868555</td>\n",
       "      <td>-86.7583032378</td>\n",
       "      <td>-79.7758637117</td>\n",
       "      <td>-65.7594193299</td>\n",
       "      <td>-46.1734484492</td>\n",
       "      <td>-25.5316359156</td>\n",
       "    </tr>\n",
       "    <tr>\n",
       "      <th>4</th>\n",
       "      <td>4.7963466667</td>\n",
       "      <td>6.2361343193</td>\n",
       "      <td>112.5711765807</td>\n",
       "      <td>0.4967878159</td>\n",
       "      <td>-154.0</td>\n",
       "      <td>181.0</td>\n",
       "      <td>-9.0</td>\n",
       "      <td>-2.0</td>\n",
       "      <td>2.0</td>\n",
       "      <td>7.0</td>\n",
       "      <td>...</td>\n",
       "      <td>8.7301748746</td>\n",
       "      <td>2.3213224679</td>\n",
       "      <td>-97.9336550547</td>\n",
       "      <td>14.4407606366</td>\n",
       "      <td>-93.0912226709</td>\n",
       "      <td>-85.1069205537</td>\n",
       "      <td>-79.4264194550</td>\n",
       "      <td>-65.0716703608</td>\n",
       "      <td>-44.3139940022</td>\n",
       "      <td>-8.9330467796</td>\n",
       "    </tr>\n",
       "  </tbody>\n",
       "</table>\n",
       "<p>5 rows × 92 columns</p>\n",
       "</div>"
      ],
      "text/plain": [
       "           mean           std            kurt          skew    min    max  \\\n",
       "0  4.8841133333  5.1011061306   33.6624812935 -0.0240611666  -98.0  104.0   \n",
       "1  4.8460000000  5.3572687695  107.6590450983  0.3925487681 -154.0  181.0   \n",
       "2  4.8111600000  5.3222446671  110.4614763269  0.4131461554 -154.0  181.0   \n",
       "3  4.7970666667  5.4298018331  102.2839738481  0.3948502125 -154.0  181.0   \n",
       "4  4.7963466667  6.2361343193  112.5711765807  0.4967878159 -154.0  181.0   \n",
       "\n",
       "   1%q  5%q  25%q  75%q  ...     mfcc_kurt     mfcc_skew       mfcc_min  \\\n",
       "0 -8.0 -2.0   3.0   7.0  ...  1.7926250934  1.1048759751 -92.1321830370   \n",
       "1 -8.0 -2.0   3.0   7.0  ...  8.0171198003  2.1118007117 -94.6178824145   \n",
       "2 -8.0 -2.0   2.0   7.0  ...  8.4097814588  2.1560211118 -93.5586801788   \n",
       "3 -8.0 -2.0   2.0   7.0  ...  7.6028397846  2.0502703394 -91.5577131484   \n",
       "4 -9.0 -2.0   2.0   7.0  ...  8.7301748746  2.3213224679 -97.9336550547   \n",
       "\n",
       "        mfcc_max       mfcc_1%q  mfcc_cent_5%q      mfcc_25%q      mfcc_75%q  \\\n",
       "0 -26.1769160053 -90.0217627353 -86.1592492713 -79.7193050066 -65.7660047365   \n",
       "1   8.7770193809 -91.3045186191 -86.4059601901 -80.3792653428 -66.6538662214   \n",
       "2   8.4034865258 -90.8004274661 -87.0472882567 -80.2364598913 -66.9781009956   \n",
       "3   5.1744835678 -89.8584868555 -86.7583032378 -79.7758637117 -65.7594193299   \n",
       "4  14.4407606366 -93.0912226709 -85.1069205537 -79.4264194550 -65.0716703608   \n",
       "\n",
       "       mfcc_95%q      mfcc_99%q  \n",
       "0 -50.0668287365 -32.7776445855  \n",
       "1 -49.0992852678 -22.1753170523  \n",
       "2 -49.1871208009 -21.8952768726  \n",
       "3 -46.1734484492 -25.5316359156  \n",
       "4 -44.3139940022  -8.9330467796  \n",
       "\n",
       "[5 rows x 92 columns]"
      ]
     },
     "execution_count": 13,
     "metadata": {},
     "output_type": "execute_result"
    }
   ],
   "source": [
    "train_data.iloc[:,1:93].head()"
   ]
  },
  {
   "cell_type": "markdown",
   "metadata": {},
   "source": [
    "## Testdaten vorbereiten"
   ]
  },
  {
   "cell_type": "code",
   "execution_count": null,
   "metadata": {},
   "outputs": [],
   "source": [
    "X_train, X_test, y_train, y_test = train_test_split(\n",
    "    features.iloc[:,1:93], features.iloc[:,-1], random_state=0, test_size=0.25)"
   ]
  },
  {
   "cell_type": "markdown",
   "metadata": {},
   "source": [
    "# Create Model Workbench"
   ]
  },
  {
   "cell_type": "markdown",
   "metadata": {},
   "source": [
    "## Imports"
   ]
  },
  {
   "cell_type": "code",
   "execution_count": 8,
   "metadata": {
    "ExecuteTime": {
     "end_time": "2019-03-22T16:13:06.413639Z",
     "start_time": "2019-03-22T16:13:06.409381Z"
    }
   },
   "outputs": [],
   "source": [
    "# Scaler\n",
    "from sklearn.preprocessing import StandardScaler\n",
    "from sklearn.preprocessing import RobustScaler\n",
    "\n",
    "# Model selection\n",
    "from sklearn.pipeline import Pipeline\n",
    "from sklearn.model_selection import GridSearchCV\n",
    "from sklearn.metrics import mean_absolute_error\n",
    "from sklearn.model_selection import train_test_split\n",
    "from sklearn.preprocessing import PolynomialFeatures\n",
    "\n",
    "# Modell\n",
    "from sklearn.ensemble import GradientBoostingRegressor\n",
    "from catboost import CatBoostRegressor, Pool\n",
    "from sklearn.ensemble import RandomForestRegressor\n",
    "from sklearn.svm import SVR"
   ]
  },
  {
   "cell_type": "markdown",
   "metadata": {},
   "source": [
    "# GradientBoost"
   ]
  },
  {
   "cell_type": "markdown",
   "metadata": {},
   "source": [
    "Pipe with preprocessing and one regressor"
   ]
  },
  {
   "cell_type": "code",
   "execution_count": 27,
   "metadata": {
    "ExecuteTime": {
     "end_time": "2019-03-20T22:05:35.473957Z",
     "start_time": "2019-03-20T22:05:35.468972Z"
    }
   },
   "outputs": [],
   "source": [
    "pipe = Pipeline([('preprocessing',PolynomialFeatures()), ('regressor', GradientBoostingRegressor())])"
   ]
  },
  {
   "cell_type": "code",
   "execution_count": 32,
   "metadata": {
    "ExecuteTime": {
     "end_time": "2019-03-20T22:10:20.018570Z",
     "start_time": "2019-03-20T22:10:20.013554Z"
    }
   },
   "outputs": [],
   "source": [
    "param_grid = [\n",
    "    {'regressor': [GradientBoostingRegressor(n_estimators=1000, learning_rate=0.1, max_depth=1,loss='lad',random_state=0)],\n",
    "     'regressor__loss':['lad','ls'],\n",
    "     'regressor__max_depth':[1,np.abs2,3],\n",
    "     'preprocessing': [None]}]"
   ]
  },
  {
   "cell_type": "markdown",
   "metadata": {},
   "source": [
    "Find best parameter with grid search"
   ]
  },
  {
   "cell_type": "code",
   "execution_count": 34,
   "metadata": {
    "ExecuteTime": {
     "end_time": "2019-03-20T22:16:32.455106Z",
     "start_time": "2019-03-20T22:10:24.222178Z"
    }
   },
   "outputs": [
    {
     "data": {
      "text/plain": [
       "GridSearchCV(cv=5, error_score='raise-deprecating',\n",
       "       estimator=Pipeline(memory=None,\n",
       "     steps=[('preprocessing', PolynomialFeatures(degree=2, include_bias=True, interaction_only=False)), ('regressor', GradientBoostingRegressor(alpha=0.9, criterion='friedman_mse', init=None,\n",
       "             learning_rate=0.1, loss='ls', max_depth=3, max_features=None,\n",
       "             max_leaf_nodes=None, min_...one, subsample=1.0, tol=0.0001,\n",
       "             validation_fraction=0.1, verbose=0, warm_start=False))]),\n",
       "       fit_params=None, iid='warn', n_jobs=-1,\n",
       "       param_grid=[{'regressor': [GradientBoostingRegressor(alpha=0.9, criterion='friedman_mse', init=None,\n",
       "             learning_rate=0.1, loss='ls', max_depth=3, max_features=None,\n",
       "             max_leaf_nodes=None, min_impurity_decrease=0.0,\n",
       "             min_impurity_split=None, min_samples_leaf=1,\n",
       "     ...se)], 'regressor__loss': ['lad', 'ls'], 'regressor__max_depth': [1, 2, 3], 'preprocessing': [None]}],\n",
       "       pre_dispatch='2*n_jobs', refit=True, return_train_score='warn',\n",
       "       scoring='neg_mean_absolute_error', verbose=0)"
      ]
     },
     "execution_count": 34,
     "metadata": {},
     "output_type": "execute_result"
    }
   ],
   "source": [
    "grid = GridSearchCV(pipe, param_grid, scoring='neg_mean_absolute_error', cv=5, n_jobs=-1)\n",
    "grid.fit(X_train, y_train)"
   ]
  },
  {
   "cell_type": "markdown",
   "metadata": {},
   "source": [
    "Print Result"
   ]
  },
  {
   "cell_type": "code",
   "execution_count": 35,
   "metadata": {
    "ExecuteTime": {
     "end_time": "2019-03-20T22:17:13.484746Z",
     "start_time": "2019-03-20T22:17:13.278275Z"
    }
   },
   "outputs": [
    {
     "name": "stdout",
     "output_type": "stream",
     "text": [
      "Best params:\n",
      "{'preprocessing': None, 'regressor': GradientBoostingRegressor(alpha=0.9, criterion='friedman_mse', init=None,\n",
      "             learning_rate=0.1, loss='ls', max_depth=3, max_features=None,\n",
      "             max_leaf_nodes=None, min_impurity_decrease=0.0,\n",
      "             min_impurity_split=None, min_samples_leaf=1,\n",
      "             min_samples_split=2, min_weight_fraction_leaf=0.0,\n",
      "             n_estimators=1000, n_iter_no_change=None, presort='auto',\n",
      "             random_state=0, subsample=1.0, tol=0.0001,\n",
      "             validation_fraction=0.1, verbose=0, warm_start=False), 'regressor__loss': 'ls', 'regressor__max_depth': 3}\n",
      "\n",
      "Best cross-validation score: -1.85\n",
      "Test-set score: -1.82\n",
      "Test-set: mean absolute error : 1.82\n"
     ]
    }
   ],
   "source": [
    "print(\"Best params:\\n{}\\n\".format(grid.best_params_))\n",
    "print(\"Best cross-validation score: {:.2f}\".format(grid.best_score_))\n",
    "print(\"Test-set score: {:.2f}\".format(grid.score(X_test, y_test)))\n",
    "print(\"Test-set: mean absolute error : {:.2f}\".format(mean_absolute_error(y_test, grid.predict(X_test))))"
   ]
  },
  {
   "cell_type": "markdown",
   "metadata": {},
   "source": [
    "## Feature Importence"
   ]
  },
  {
   "cell_type": "code",
   "execution_count": null,
   "metadata": {},
   "outputs": [],
   "source": [
    "(pd.Series(grid.best_estimator_.named_steps['regressor'].feature_importances_, index=X_train.columns)\n",
    "   .nlargest(26)\n",
    "   .plot(kind='barh',figsize=(15, 8))) \n",
    "#quelle: https://stackoverflow.com/questions/44511636/matplotlib-plot-feature-importance-with-feature-names"
   ]
  },
  {
   "cell_type": "code",
   "execution_count": null,
   "metadata": {},
   "outputs": [],
   "source": []
  },
  {
   "cell_type": "code",
   "execution_count": null,
   "metadata": {},
   "outputs": [],
   "source": []
  },
  {
   "cell_type": "markdown",
   "metadata": {},
   "source": [
    "## Model selection\n",
    " - Random forrest\n",
    " - Other GradientBoost (AdaBoost)\n",
    "\n",
    " - Feed Forward NN (with Karas)\n",
    " - Reccurent Neuronal Net: LSTM (with Karas)\n",
    " - Convolutional NN https://www.kaggle.com/michael422/spectrogram-convolution https://www.kaggle.com/michael422/spectrogram-convolution\n",
    " \n",
    " \n",
    " - CatBoost vs. Light GBM vs. XGBoost https://www.kdnuggets.com/2018/03/catboost-vs-light-gbm-vs-xgboost.html\n",
    " - CatBoost-GridSearch https://setscholars.net/2019/02/19/how-to-find-optimal-parameters-for-catboost-using-gridsearchcv-for-regression-in-python/"
   ]
  },
  {
   "cell_type": "code",
   "execution_count": null,
   "metadata": {},
   "outputs": [],
   "source": []
  }
 ],
 "metadata": {
  "kernelspec": {
   "display_name": "Python 3",
   "language": "python",
   "name": "python3"
  },
  "language_info": {
   "codemirror_mode": {
    "name": "ipython",
    "version": 3
   },
   "file_extension": ".py",
   "mimetype": "text/x-python",
   "name": "python",
   "nbconvert_exporter": "python",
   "pygments_lexer": "ipython3",
   "version": "3.6.8"
  },
  "toc": {
   "base_numbering": 1,
   "nav_menu": {},
   "number_sections": true,
   "sideBar": true,
   "skip_h1_title": false,
   "title_cell": "Table of Contents",
   "title_sidebar": "Contents",
   "toc_cell": false,
   "toc_position": {
    "height": "calc(100% - 180px)",
    "left": "10px",
    "top": "150px",
    "width": "349.091px"
   },
   "toc_section_display": true,
   "toc_window_display": true
  }
 },
 "nbformat": 4,
 "nbformat_minor": 2
}
