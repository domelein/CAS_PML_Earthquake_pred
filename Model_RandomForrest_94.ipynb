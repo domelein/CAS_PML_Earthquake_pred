{
 "cells": [
  {
   "cell_type": "markdown",
   "metadata": {},
   "source": [
    "# Random Forrest Model"
   ]
  },
  {
   "cell_type": "markdown",
   "metadata": {},
   "source": [
    "## Einleitung\n",
    "\n"
   ]
  },
  {
   "cell_type": "code",
   "execution_count": 1,
   "metadata": {
    "ExecuteTime": {
     "end_time": "2019-03-30T10:11:06.587257Z",
     "start_time": "2019-03-30T10:11:05.328646Z"
    }
   },
   "outputs": [],
   "source": [
    "import pandas as pd\n",
    "import numpy as np\n",
    "#data visualization\n",
    "import matplotlib.pyplot as plt\n",
    "import librosa\n",
    "from sklearn.model_selection import train_test_split\n",
    "from sklearn.utils import shuffle\n",
    "from scipy.stats import kurtosis\n",
    "from scipy.stats import skew\n",
    "\n",
    "pd.options.display.precision = 10"
   ]
  },
  {
   "cell_type": "markdown",
   "metadata": {},
   "source": [
    "## Umgebungsvariablen"
   ]
  },
  {
   "cell_type": "code",
   "execution_count": 2,
   "metadata": {
    "ExecuteTime": {
     "end_time": "2019-03-30T10:11:07.810171Z",
     "start_time": "2019-03-30T10:11:07.806853Z"
    }
   },
   "outputs": [],
   "source": [
    "#feature generated 24.03.2019\n",
    "earthquake_daten = '''C:/studium/studium/CAS_PML/Projekt_Arbeit/earthquake/Daten/earthquake_data/'''\n",
    "feature_62900_94 = 'Features_62900-94.csv'\n",
    "feature_41934_94 = 'Features_41934_94.csv'\n",
    "Features_4194_94 = 'Features_4194_94.csv'"
   ]
  },
  {
   "cell_type": "markdown",
   "metadata": {},
   "source": [
    "# Feature laden"
   ]
  },
  {
   "cell_type": "code",
   "execution_count": 3,
   "metadata": {
    "ExecuteTime": {
     "end_time": "2019-03-30T10:11:10.610277Z",
     "start_time": "2019-03-30T10:11:09.847319Z"
    }
   },
   "outputs": [],
   "source": [
    "train_data = pd.read_csv(earthquake_daten+feature_41934_94)\n",
    "train_data = shuffle(train_data, random_state=10)"
   ]
  },
  {
   "cell_type": "code",
   "execution_count": 4,
   "metadata": {
    "ExecuteTime": {
     "end_time": "2019-03-30T10:11:13.064486Z",
     "start_time": "2019-03-30T10:11:13.047363Z"
    }
   },
   "outputs": [],
   "source": [
    "feature_data = train_data.iloc[:,1:95]\n",
    "time_to_failure = np.array(train_data.iloc[:,-1])"
   ]
  },
  {
   "cell_type": "markdown",
   "metadata": {},
   "source": [
    "## Feature Filtern"
   ]
  },
  {
   "cell_type": "code",
   "execution_count": 5,
   "metadata": {
    "ExecuteTime": {
     "end_time": "2019-03-27T14:03:30.123240Z",
     "start_time": "2019-03-27T14:03:30.120247Z"
    }
   },
   "outputs": [],
   "source": [
    "items_to_filter = ['']"
   ]
  },
  {
   "cell_type": "code",
   "execution_count": 6,
   "metadata": {
    "ExecuteTime": {
     "end_time": "2019-03-27T14:03:30.892690Z",
     "start_time": "2019-03-27T14:03:30.879725Z"
    }
   },
   "outputs": [],
   "source": [
    "filtered_feature_data = feature_data.filter(items=items_to_filter)"
   ]
  },
  {
   "cell_type": "code",
   "execution_count": 24,
   "metadata": {},
   "outputs": [],
   "source": [
    "feature_data = filtered_feature_data"
   ]
  },
  {
   "cell_type": "markdown",
   "metadata": {},
   "source": [
    "## Training / Testdaten vorbereiten"
   ]
  },
  {
   "cell_type": "code",
   "execution_count": 41,
   "metadata": {},
   "outputs": [],
   "source": [
    "X_train, X_test, y_train, y_test = train_test_split(\n",
    "    feature_data,\n",
    "    time_to_failure,\n",
    "    random_state=0,\n",
    "    test_size=0.25)"
   ]
  },
  {
   "cell_type": "markdown",
   "metadata": {},
   "source": [
    "# Model Workbench"
   ]
  },
  {
   "cell_type": "markdown",
   "metadata": {},
   "source": [
    "## Imports"
   ]
  },
  {
   "cell_type": "code",
   "execution_count": 5,
   "metadata": {
    "ExecuteTime": {
     "end_time": "2019-03-30T10:11:21.890974Z",
     "start_time": "2019-03-30T10:11:21.879000Z"
    }
   },
   "outputs": [],
   "source": [
    "# Scaler\n",
    "\n",
    "# Model selection\n",
    "from sklearn.pipeline import Pipeline\n",
    "from sklearn.model_selection import GridSearchCV\n",
    "from sklearn.model_selection import cross_val_score\n",
    "from sklearn.metrics import mean_absolute_error\n",
    "from sklearn.model_selection import train_test_split\n",
    "from sklearn.preprocessing import PolynomialFeatures\n",
    "\n",
    "# Modell\n",
    "from sklearn.ensemble import RandomForestRegressor\n"
   ]
  },
  {
   "cell_type": "markdown",
   "metadata": {},
   "source": [
    "Quelle: https://www.analyticsvidhya.com/blog/2016/02/complete-guide-parameter-tuning-gradient-boosting-gbm-python/"
   ]
  },
  {
   "cell_type": "code",
   "execution_count": 6,
   "metadata": {
    "ExecuteTime": {
     "end_time": "2019-03-30T10:11:25.700042Z",
     "start_time": "2019-03-30T10:11:25.695056Z"
    }
   },
   "outputs": [],
   "source": [
    "def getMostImportendFeatuers(feat_imp, topAmount):\n",
    "    '''Gibt die wichtigsten Features zurück. Wird benötigt, um die Trainingsdaten und Testdaten \n",
    "    anhand Featuers zu filtern.'''\n",
    "    i = 0\n",
    "    featureFilter = list()\n",
    "    for feature in feat_imp:\n",
    "        featureFilter.append(feature)\n",
    "        i +=1\n",
    "        if i >= topAmount:\n",
    "            break\n",
    "    return featureFilter"
   ]
  },
  {
   "cell_type": "code",
   "execution_count": 7,
   "metadata": {
    "ExecuteTime": {
     "end_time": "2019-03-30T10:11:26.357778Z",
     "start_time": "2019-03-30T10:11:26.350793Z"
    }
   },
   "outputs": [],
   "source": [
    "def modelfit(alg, dtrain, time_to_failure, performCV=True, printFeatureImportance=True, cv_folds=5):\n",
    "    #Fit the algorithm on the data\n",
    "    alg.fit(dtrain, time_to_failure)\n",
    "      \n",
    "    #Predict training set:\n",
    "    dtrain_predictions = alg.predict(dtrain)\n",
    "\n",
    "    #Perform cross-validation:\n",
    "    if performCV:\n",
    "        cv_score = cross_val_score(alg, dtrain, time_to_failure, cv=cv_folds, scoring='neg_mean_absolute_error',n_jobs=-1)\n",
    "    \n",
    "    #Print model report:\n",
    "    print(\"\\nModel Report\")\n",
    "    print(\"MAE train data: %.4g\" % mean_absolute_error(time_to_failure, dtrain_predictions)) \n",
    "    \n",
    "    if performCV:\n",
    "        print(\"CV Score MAE: \\nMean %.7g \\nStd %.7g \\nMin %.7g \\nMax %.7g\" % (np.mean(cv_score),np.std(cv_score),np.min(cv_score),np.max(cv_score)))\n",
    "    \n",
    "    #Print Feature Importance:\n",
    "    if printFeatureImportance:\n",
    "        feat_imp = pd.Series(alg.feature_importances_, dtrain.columns).sort_values(ascending=False)\n",
    "        feat_imp.plot(kind='bar', title='Feature Importances',figsize=(15,10))\n",
    "        plt.ylabel('Feature Importance Score')\n",
    "        plt.show()\n",
    "        print('Top 20 Feature')\n",
    "        print(getMostImportendFeatuers(feat_imp.index,20))"
   ]
  },
  {
   "cell_type": "markdown",
   "metadata": {},
   "source": [
    "# Baseline"
   ]
  },
  {
   "cell_type": "code",
   "execution_count": 3,
   "metadata": {
    "ExecuteTime": {
     "end_time": "2019-03-28T21:31:56.396392Z",
     "start_time": "2019-03-28T21:31:56.388413Z"
    }
   },
   "outputs": [
    {
     "ename": "NameError",
     "evalue": "name 'RandomForestRegressor' is not defined",
     "output_type": "error",
     "traceback": [
      "\u001b[1;31m---------------------------------------------------------------------------\u001b[0m",
      "\u001b[1;31mNameError\u001b[0m                                 Traceback (most recent call last)",
      "\u001b[1;32m<ipython-input-3-e02272b8ca27>\u001b[0m in \u001b[0;36m<module>\u001b[1;34m\u001b[0m\n\u001b[1;32m----> 1\u001b[1;33m \u001b[0mgbm0\u001b[0m \u001b[1;33m=\u001b[0m \u001b[0mRandomForestRegressor\u001b[0m\u001b[1;33m(\u001b[0m\u001b[0mrandom_state\u001b[0m\u001b[1;33m=\u001b[0m\u001b[1;36m10\u001b[0m\u001b[1;33m,\u001b[0m\u001b[0mcriterion\u001b[0m \u001b[1;33m=\u001b[0m\u001b[1;34m'mae'\u001b[0m\u001b[1;33m)\u001b[0m\u001b[1;33m\u001b[0m\u001b[1;33m\u001b[0m\u001b[0m\n\u001b[0m\u001b[0;32m      2\u001b[0m \u001b[0mmodelfit\u001b[0m\u001b[1;33m(\u001b[0m\u001b[0mgbm0\u001b[0m\u001b[1;33m,\u001b[0m \u001b[0mfeature_data\u001b[0m\u001b[1;33m,\u001b[0m \u001b[0mtime_to_failure\u001b[0m\u001b[1;33m)\u001b[0m\u001b[1;33m\u001b[0m\u001b[1;33m\u001b[0m\u001b[0m\n",
      "\u001b[1;31mNameError\u001b[0m: name 'RandomForestRegressor' is not defined"
     ]
    }
   ],
   "source": [
    "gbm0 = RandomForestRegressor(random_state=10)\n",
    "modelfit(gbm0, feature_data, time_to_failure)"
   ]
  },
  {
   "cell_type": "code",
   "execution_count": null,
   "metadata": {},
   "outputs": [],
   "source": []
  },
  {
   "cell_type": "markdown",
   "metadata": {},
   "source": [
    "# Parameter Tuning"
   ]
  },
  {
   "cell_type": "code",
   "execution_count": 9,
   "metadata": {
    "ExecuteTime": {
     "end_time": "2019-03-30T10:12:26.707469Z",
     "start_time": "2019-03-30T10:12:26.703486Z"
    }
   },
   "outputs": [],
   "source": [
    "param_grid = {\n",
    "    'bootstrap': [True],\n",
    "    'max_depth': [2, 5, 8, 10 ,15],\n",
    "    'max_features': [15, 18,20],\n",
    "    'min_samples_leaf': [3, 4, 5],\n",
    "    'min_samples_split': [8, 10, 12],\n",
    "    'n_estimators': [80, 200, 500, 1000]\n",
    "}"
   ]
  },
  {
   "cell_type": "code",
   "execution_count": 10,
   "metadata": {
    "ExecuteTime": {
     "end_time": "2019-03-30T10:12:28.114827Z",
     "start_time": "2019-03-30T10:12:28.111614Z"
    }
   },
   "outputs": [],
   "source": [
    "n_estimators=100"
   ]
  },
  {
   "cell_type": "markdown",
   "metadata": {},
   "source": [
    "### Tune max_depth and num_samples_split"
   ]
  },
  {
   "cell_type": "code",
   "execution_count": 11,
   "metadata": {
    "ExecuteTime": {
     "end_time": "2019-03-30T10:19:54.460514Z",
     "start_time": "2019-03-30T10:12:29.815210Z"
    }
   },
   "outputs": [
    {
     "name": "stdout",
     "output_type": "stream",
     "text": [
      "Best params {'max_depth': 18, 'min_samples_split': 5}\n",
      "Best MAE score: -1.73609982278943\n"
     ]
    }
   ],
   "source": [
    "param_test1 = {'max_depth':range(12,20,2), 'min_samples_split':range(5,20,2)}\n",
    "\n",
    "gsearch1 = GridSearchCV(\n",
    "    estimator = RandomForestRegressor(\n",
    "        n_estimators=n_estimators, \n",
    "        max_features='sqrt', \n",
    "        random_state=10), \n",
    "    param_grid = param_test1, \n",
    "    scoring='neg_mean_absolute_error',\n",
    "    iid=False,\n",
    "    n_jobs=-1,\n",
    "    cv=5)\n",
    "gsearch1.fit(feature_data,time_to_failure)\n",
    "\n",
    "print('Best params {}'.format(gsearch1.best_params_))\n",
    "print('Best MAE score: {}'.format(gsearch1.best_score_))"
   ]
  },
  {
   "cell_type": "code",
   "execution_count": 12,
   "metadata": {
    "ExecuteTime": {
     "end_time": "2019-03-30T10:21:26.778611Z",
     "start_time": "2019-03-30T10:21:26.774622Z"
    }
   },
   "outputs": [],
   "source": [
    "max_depth=14\n",
    "min_samples_split=5"
   ]
  },
  {
   "cell_type": "markdown",
   "metadata": {},
   "source": [
    "Tune min_samples_leaf"
   ]
  },
  {
   "cell_type": "code",
   "execution_count": 13,
   "metadata": {
    "ExecuteTime": {
     "end_time": "2019-03-30T10:23:14.145608Z",
     "start_time": "2019-03-30T10:21:39.022736Z"
    }
   },
   "outputs": [
    {
     "name": "stdout",
     "output_type": "stream",
     "text": [
      "Best params {'min_samples_leaf': 2}\n",
      "Best MAE score: -1.812543532940524\n"
     ]
    }
   ],
   "source": [
    "param_test2 = {'min_samples_leaf':range(2,13,2)}\n",
    "gsearch2 = GridSearchCV(estimator = \n",
    "                        RandomForestRegressor(\n",
    "                            n_estimators=n_estimators,\n",
    "                            max_depth=max_depth,\n",
    "                            min_samples_split=min_samples_split,\n",
    "                            max_features='sqrt', \n",
    "                            random_state=10), \n",
    "                            param_grid = \n",
    "                            param_test2,\n",
    "                            scoring='neg_mean_absolute_error',\n",
    "                            iid=False,\n",
    "                            n_jobs=-1,\n",
    "                            cv=5)\n",
    "gsearch2.fit(feature_data,time_to_failure)\n",
    "print('Best params {}'.format(gsearch2.best_params_))\n",
    "print('Best MAE score: {}'.format(gsearch2.best_score_))"
   ]
  },
  {
   "cell_type": "code",
   "execution_count": 14,
   "metadata": {
    "ExecuteTime": {
     "end_time": "2019-03-30T10:23:46.882149Z",
     "start_time": "2019-03-30T10:23:46.879453Z"
    }
   },
   "outputs": [],
   "source": [
    "min_samples_leaf=2"
   ]
  },
  {
   "cell_type": "code",
   "execution_count": 15,
   "metadata": {
    "ExecuteTime": {
     "end_time": "2019-03-30T10:24:31.109346Z",
     "start_time": "2019-03-30T10:23:51.190437Z"
    }
   },
   "outputs": [
    {
     "name": "stdout",
     "output_type": "stream",
     "text": [
      "\n",
      "Model Report\n",
      "MAE train data: 1.403\n",
      "CV Score MAE: \n",
      "Mean -1.812544 \n",
      "Std 0.006321447 \n",
      "Min -1.824597 \n",
      "Max -1.806282\n"
     ]
    },
    {
     "data": {
      "image/png": "[encoded data removed]",
      "text/plain": [
       "<Figure size 1080x720 with 1 Axes>"
      ]
     },
     "metadata": {
      "needs_background": "light"
     },
     "output_type": "display_data"
    },
    {
     "name": "stdout",
     "output_type": "stream",
     "text": [
      "Top 20 Feature\n",
      "['spec_cent_absMean', 'spec_cent_75%q', 'spec_cent_25%q', 'spec_cent_mean', 'rolloff_75%q', 'spec_bw_25%q', '95%q', 'rolloff_mean', 'rolloff_25%q', 'rolloff_95%q', 'spec_bw_75%q', 'spec_bw_mean', 'spec_cent_95%q', 'spec_cent_skew', '5%q', 'rolloff_5%q', 'rms_min', 'spec_cent_kurt', '1%q', 'absMean']\n"
     ]
    }
   ],
   "source": [
    "modelfit(gsearch2.best_estimator_,  feature_data, time_to_failure)"
   ]
  },
  {
   "cell_type": "code",
   "execution_count": 16,
   "metadata": {
    "ExecuteTime": {
     "end_time": "2019-03-30T10:28:41.424279Z",
     "start_time": "2019-03-30T10:25:51.464039Z"
    }
   },
   "outputs": [
    {
     "name": "stdout",
     "output_type": "stream",
     "text": [
      "Best params {'max_features': 19}\n",
      "Best MAE score: -1.7875532351512375\n"
     ]
    }
   ],
   "source": [
    "param_test3 = {'max_features':range(7,20,2)}\n",
    "gsearch3 = GridSearchCV(estimator = \n",
    "                        RandomForestRegressor(\n",
    "                            n_estimators=n_estimators,\n",
    "                            max_depth=max_depth, \n",
    "                            min_samples_split=min_samples_split,\n",
    "                            min_samples_leaf=min_samples_leaf,\n",
    "                            random_state=10),\n",
    "                            param_grid = param_test3, \n",
    "                            scoring='neg_mean_absolute_error',\n",
    "                            iid=False,\n",
    "                            n_jobs=-1,\n",
    "                            cv=5)\n",
    "gsearch3.fit(feature_data,time_to_failure)\n",
    "print('Best params {}'.format(gsearch3.best_params_))\n",
    "print('Best MAE score: {}'.format(gsearch3.best_score_))"
   ]
  },
  {
   "cell_type": "code",
   "execution_count": 17,
   "metadata": {
    "ExecuteTime": {
     "end_time": "2019-03-30T10:32:12.873350Z",
     "start_time": "2019-03-30T10:32:12.870301Z"
    }
   },
   "outputs": [],
   "source": [
    "max_features = 19"
   ]
  },
  {
   "cell_type": "code",
   "execution_count": 18,
   "metadata": {
    "ExecuteTime": {
     "end_time": "2019-03-30T11:04:33.764337Z",
     "start_time": "2019-03-30T10:32:42.054243Z"
    }
   },
   "outputs": [
    {
     "name": "stdout",
     "output_type": "stream",
     "text": [
      "Best params {'n_estimators': 1500}\n",
      "Best MAE score: -1.7832347305660747\n"
     ]
    }
   ],
   "source": [
    "param_test4 = {'n_estimators' :[200,500,1000,1500]}\n",
    "gsearch4 = GridSearchCV(estimator = \n",
    "                        RandomForestRegressor(\n",
    "                            n_estimators=n_estimators,\n",
    "                            max_depth=max_depth,\n",
    "                            min_samples_split=min_samples_split,\n",
    "                            min_samples_leaf=min_samples_leaf,\n",
    "                            max_features=max_features,\n",
    "                            random_state=10),\n",
    "                        param_grid = param_test4,\n",
    "                        scoring='neg_mean_absolute_error',\n",
    "                        iid=False,\n",
    "                        n_jobs=-1,\n",
    "                        cv=5)\n",
    "\n",
    "gsearch4.fit(feature_data,time_to_failure)\n",
    "print('Best params {}'.format(gsearch4.best_params_))\n",
    "print('Best MAE score: {}'.format(gsearch4.best_score_))"
   ]
  },
  {
   "cell_type": "code",
   "execution_count": null,
   "metadata": {},
   "outputs": [],
   "source": [
    "modelfit(gsearch4.best_estimator_,  feature_data, time_to_failure)"
   ]
  },
  {
   "cell_type": "code",
   "execution_count": null,
   "metadata": {},
   "outputs": [],
   "source": [
    "param_test5 = {'criterion' :['mae','mse']}\n",
    "gsearch5 = GridSearchCV(estimator = \n",
    "                        RandomForestRegressor(\n",
    "                            n_estimators=n_estimators,\n",
    "                            max_depth=max_depth,\n",
    "                            min_samples_split=min_samples_split,\n",
    "                            min_samples_leaf=min_samples_leaf,\n",
    "                            max_features=max_features,\n",
    "                            random_state=10),\n",
    "                        param_grid = param_test5,\n",
    "                        scoring='neg_mean_absolute_error',\n",
    "                        iid=False,\n",
    "                        n_jobs=-1,\n",
    "                        cv=5)\n",
    "\n",
    "gsearch6.fit(feature_data,time_to_failure)\n",
    "print('Best params {}'.format(gsearch5.best_params_))\n",
    "print('Best MAE score: {}'.format(gsearch5.best_score_))"
   ]
  },
  {
   "cell_type": "code",
   "execution_count": null,
   "metadata": {},
   "outputs": [],
   "source": [
    "modelfit(gsearch5.best_estimator_,  feature_data, time_to_failure)"
   ]
  }
 ],
 "metadata": {
  "kernelspec": {
   "display_name": "Python 3",
   "language": "python",
   "name": "python3"
  },
  "language_info": {
   "codemirror_mode": {
    "name": "ipython",
    "version": 3
   },
   "file_extension": ".py",
   "mimetype": "text/x-python",
   "name": "python",
   "nbconvert_exporter": "python",
   "pygments_lexer": "ipython3",
   "version": "3.6.8"
  },
  "toc": {
   "base_numbering": 1,
   "nav_menu": {},
   "number_sections": true,
   "sideBar": true,
   "skip_h1_title": false,
   "title_cell": "Table of Contents",
   "title_sidebar": "Contents",
   "toc_cell": false,
   "toc_position": {
    "height": "calc(100% - 180px)",
    "left": "10px",
    "top": "150px",
    "width": "349.091px"
   },
   "toc_section_display": true,
   "toc_window_display": true
  }
 },
 "nbformat": 4,
 "nbformat_minor": 2
}
