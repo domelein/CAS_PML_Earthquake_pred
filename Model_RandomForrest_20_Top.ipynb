{
 "cells": [
  {
   "cell_type": "markdown",
   "metadata": {},
   "source": [
    "# Random Forrest Model"
   ]
  },
  {
   "cell_type": "markdown",
   "metadata": {},
   "source": [
    "## Einleitung\n",
    "\n"
   ]
  },
  {
   "cell_type": "code",
   "execution_count": 1,
   "metadata": {
    "ExecuteTime": {
     "end_time": "2019-03-30T14:48:54.969620Z",
     "start_time": "2019-03-30T14:48:53.711952Z"
    }
   },
   "outputs": [],
   "source": [
    "import pandas as pd\n",
    "import numpy as np\n",
    "#data visualization\n",
    "import matplotlib.pyplot as plt\n",
    "import librosa\n",
    "from sklearn.model_selection import train_test_split\n",
    "from sklearn.utils import shuffle\n",
    "from scipy.stats import kurtosis\n",
    "from scipy.stats import skew\n",
    "\n",
    "pd.options.display.precision = 10"
   ]
  },
  {
   "cell_type": "markdown",
   "metadata": {},
   "source": [
    "## Umgebungsvariablen"
   ]
  },
  {
   "cell_type": "code",
   "execution_count": 2,
   "metadata": {
    "ExecuteTime": {
     "end_time": "2019-03-30T14:48:55.859243Z",
     "start_time": "2019-03-30T14:48:55.855221Z"
    }
   },
   "outputs": [],
   "source": [
    "#feature generated 24.03.2019\n",
    "earthquake_daten = '''C:/studium/studium/CAS_PML/Projekt_Arbeit/earthquake/Daten/earthquake_data/'''\n",
    "feature_62900_94 = 'Features_62900-94.csv'\n",
    "feature_41934_94 = 'Features_41934_94.csv'\n",
    "Features_4194_94 = 'Features_4194_94.csv'"
   ]
  },
  {
   "cell_type": "markdown",
   "metadata": {},
   "source": [
    "# Feature laden"
   ]
  },
  {
   "cell_type": "code",
   "execution_count": 3,
   "metadata": {
    "ExecuteTime": {
     "end_time": "2019-03-30T14:49:12.437905Z",
     "start_time": "2019-03-30T14:49:12.343128Z"
    }
   },
   "outputs": [],
   "source": [
    "train_data = pd.read_csv(earthquake_daten+Features_4194_94)\n",
    "train_data = shuffle(train_data, random_state=10)"
   ]
  },
  {
   "cell_type": "code",
   "execution_count": 4,
   "metadata": {
    "ExecuteTime": {
     "end_time": "2019-03-30T14:49:13.029293Z",
     "start_time": "2019-03-30T14:49:13.023343Z"
    }
   },
   "outputs": [],
   "source": [
    "feature_data = train_data.iloc[:,1:95]\n",
    "time_to_failure = np.array(train_data.iloc[:,-1])"
   ]
  },
  {
   "cell_type": "markdown",
   "metadata": {},
   "source": [
    "## Feature Filtern"
   ]
  },
  {
   "cell_type": "code",
   "execution_count": 5,
   "metadata": {
    "ExecuteTime": {
     "end_time": "2019-03-30T14:49:14.003687Z",
     "start_time": "2019-03-30T14:49:13.999707Z"
    }
   },
   "outputs": [],
   "source": [
    "items_to_filter = ['spec_cent_absMean', 'spec_cent_75%q', 'spec_cent_25%q', 'spec_cent_mean', 'rolloff_75%q', 'spec_bw_25%q', '95%q', 'rolloff_mean', 'rolloff_25%q', 'rolloff_95%q', 'spec_bw_75%q', 'spec_bw_mean', 'spec_cent_95%q', 'spec_cent_skew', '5%q', 'rolloff_5%q', 'rms_min', 'spec_cent_kurt', '1%q', 'absMean']"
   ]
  },
  {
   "cell_type": "code",
   "execution_count": 6,
   "metadata": {
    "ExecuteTime": {
     "end_time": "2019-03-30T14:49:14.501356Z",
     "start_time": "2019-03-30T14:49:14.496369Z"
    }
   },
   "outputs": [],
   "source": [
    "filtered_feature_data = feature_data.filter(items=items_to_filter)"
   ]
  },
  {
   "cell_type": "code",
   "execution_count": 7,
   "metadata": {
    "ExecuteTime": {
     "end_time": "2019-03-30T14:49:14.996034Z",
     "start_time": "2019-03-30T14:49:14.992043Z"
    }
   },
   "outputs": [],
   "source": [
    "feature_data = filtered_feature_data"
   ]
  },
  {
   "cell_type": "markdown",
   "metadata": {},
   "source": [
    "## Training / Testdaten vorbereiten"
   ]
  },
  {
   "cell_type": "code",
   "execution_count": 41,
   "metadata": {},
   "outputs": [],
   "source": [
    "X_train, X_test, y_train, y_test = train_test_split(\n",
    "    feature_data,\n",
    "    time_to_failure,\n",
    "    random_state=0,\n",
    "    test_size=0.25)"
   ]
  },
  {
   "cell_type": "markdown",
   "metadata": {},
   "source": [
    "# Model Workbench"
   ]
  },
  {
   "cell_type": "markdown",
   "metadata": {},
   "source": [
    "## Imports"
   ]
  },
  {
   "cell_type": "code",
   "execution_count": 8,
   "metadata": {
    "ExecuteTime": {
     "end_time": "2019-03-30T14:49:18.323135Z",
     "start_time": "2019-03-30T14:49:18.304186Z"
    }
   },
   "outputs": [],
   "source": [
    "# Scaler\n",
    "\n",
    "# Model selection\n",
    "from sklearn.pipeline import Pipeline\n",
    "from sklearn.model_selection import GridSearchCV\n",
    "from sklearn.model_selection import cross_val_score\n",
    "from sklearn.metrics import mean_absolute_error\n",
    "from sklearn.model_selection import train_test_split\n",
    "from sklearn.preprocessing import PolynomialFeatures\n",
    "\n",
    "# Modell\n",
    "from sklearn.ensemble import RandomForestRegressor\n"
   ]
  },
  {
   "cell_type": "markdown",
   "metadata": {},
   "source": [
    "Quelle: https://www.analyticsvidhya.com/blog/2016/02/complete-guide-parameter-tuning-gradient-boosting-gbm-python/"
   ]
  },
  {
   "cell_type": "code",
   "execution_count": 9,
   "metadata": {
    "ExecuteTime": {
     "end_time": "2019-03-30T14:49:20.517306Z",
     "start_time": "2019-03-30T14:49:20.511284Z"
    }
   },
   "outputs": [],
   "source": [
    "def getMostImportendFeatuers(feat_imp, topAmount):\n",
    "    '''Gibt die wichtigsten Features zurück. Wird benötigt, um die Trainingsdaten und Testdaten \n",
    "    anhand Featuers zu filtern.'''\n",
    "    i = 0\n",
    "    featureFilter = list()\n",
    "    for feature in feat_imp:\n",
    "        featureFilter.append(feature)\n",
    "        i +=1\n",
    "        if i >= topAmount:\n",
    "            break\n",
    "    return featureFilter"
   ]
  },
  {
   "cell_type": "code",
   "execution_count": 12,
   "metadata": {
    "ExecuteTime": {
     "end_time": "2019-03-30T14:49:43.178665Z",
     "start_time": "2019-03-30T14:49:43.169689Z"
    }
   },
   "outputs": [],
   "source": [
    "def modelfit(alg, dtrain, time_to_failure, performCV=True, printFeatureImportance=True, cv_folds=5):\n",
    "    #Fit the algorithm on the data\n",
    "    alg.fit(dtrain, time_to_failure)\n",
    "      \n",
    "    #Predict training set:\n",
    "    dtrain_predictions = alg.predict(dtrain)\n",
    "\n",
    "    #Perform cross-validation:\n",
    "    if performCV:\n",
    "        cv_score = cross_val_score(alg, dtrain, time_to_failure, cv=cv_folds, scoring='neg_mean_absolute_error',n_jobs=-1)\n",
    "    \n",
    "    #Print model report:\n",
    "    print(\"\\nModel Report\")\n",
    "    print(\"MAE train data: %.4g\" % mean_absolute_error(time_to_failure, dtrain_predictions)) \n",
    "    \n",
    "    if performCV:\n",
    "        print(\"CV Score MAE: \\nMean %.7g \\nStd %.7g \\nMin %.7g \\nMax %.7g\" % (np.mean(cv_score),np.std(cv_score),np.min(cv_score),np.max(cv_score)))\n",
    "    \n",
    "    #Print Feature Importance:\n",
    "    if printFeatureImportance:\n",
    "        feat_imp = pd.Series(alg.feature_importances_, dtrain.columns).sort_values(ascending=False)\n",
    "        feat_imp.plot(kind='bar', title='Feature Importances',figsize=(15,10))\n",
    "        plt.ylabel('Feature Importance Score')\n",
    "        plt.show()\n",
    "        print('Top 20 Feature')\n",
    "        print(getMostImportendFeatuers(feat_imp.index,20))"
   ]
  },
  {
   "cell_type": "markdown",
   "metadata": {},
   "source": [
    "# Baseline"
   ]
  },
  {
   "cell_type": "code",
   "execution_count": 13,
   "metadata": {
    "ExecuteTime": {
     "end_time": "2019-03-30T14:49:54.076834Z",
     "start_time": "2019-03-30T14:49:52.223692Z"
    }
   },
   "outputs": [
    {
     "name": "stderr",
     "output_type": "stream",
     "text": [
      "C:\\Users\\chianti\\.conda\\envs\\TensorFlow-GPU-Keras\\lib\\site-packages\\sklearn\\ensemble\\forest.py:246: FutureWarning: The default value of n_estimators will change from 10 in version 0.20 to 100 in 0.22.\n",
      "  \"10 in version 0.20 to 100 in 0.22.\", FutureWarning)\n"
     ]
    },
    {
     "name": "stdout",
     "output_type": "stream",
     "text": [
      "\n",
      "Model Report\n",
      "MAE train data: 0.8582\n",
      "CV Score MAE: \n",
      "Mean -2.211422 \n",
      "Std 0.05668235 \n",
      "Min -2.301221 \n",
      "Max -2.154778\n"
     ]
    },
    {
     "data": {
      "image/png": "[encoded data removed]",
      "text/plain": [
       "<Figure size 1080x720 with 1 Axes>"
      ]
     },
     "metadata": {
      "needs_background": "light"
     },
     "output_type": "display_data"
    },
    {
     "name": "stdout",
     "output_type": "stream",
     "text": [
      "Top 20 Feature\n",
      "['spec_cent_75%q', 'rolloff_75%q', 'spec_bw_75%q', 'absMean', 'rms_min', 'spec_cent_95%q', 'spec_bw_25%q', 'spec_cent_kurt', 'spec_cent_skew', 'rolloff_5%q', 'spec_cent_25%q', 'spec_bw_mean', 'rolloff_95%q', 'rolloff_mean', 'rolloff_25%q', 'spec_cent_mean', 'spec_cent_absMean', '1%q', '5%q', '95%q']\n"
     ]
    }
   ],
   "source": [
    "gbm0 = RandomForestRegressor(random_state=10)\n",
    "modelfit(gbm0, feature_data, time_to_failure)"
   ]
  },
  {
   "cell_type": "code",
   "execution_count": null,
   "metadata": {},
   "outputs": [],
   "source": []
  },
  {
   "cell_type": "markdown",
   "metadata": {},
   "source": [
    "# Parameter Tuning"
   ]
  },
  {
   "cell_type": "code",
   "execution_count": null,
   "metadata": {},
   "outputs": [],
   "source": [
    "param_grid = {\n",
    "    'bootstrap': [True],\n",
    "    'max_depth': [2, 5, 8, 10 ,15],\n",
    "    'max_features': [15, 18,20],\n",
    "    'min_samples_leaf': [3, 4, 5],\n",
    "    'min_samples_split': [8, 10, 12],\n",
    "    'n_estimators': [80, 200, 500, 1000]\n",
    "}"
   ]
  },
  {
   "cell_type": "code",
   "execution_count": 11,
   "metadata": {
    "ExecuteTime": {
     "end_time": "2019-03-28T21:35:42.017854Z",
     "start_time": "2019-03-28T21:35:42.013829Z"
    }
   },
   "outputs": [],
   "source": [
    "n_estimators=100"
   ]
  },
  {
   "cell_type": "markdown",
   "metadata": {},
   "source": [
    "### Tune max_depth and num_samples_split"
   ]
  },
  {
   "cell_type": "code",
   "execution_count": 15,
   "metadata": {
    "ExecuteTime": {
     "end_time": "2019-03-28T21:46:59.894092Z",
     "start_time": "2019-03-28T21:36:15.172727Z"
    }
   },
   "outputs": [
    {
     "name": "stdout",
     "output_type": "stream",
     "text": [
      "Best params {'max_depth': 14, 'min_samples_split': 10}\n",
      "Best MAE score: -1.8257132875848001\n"
     ]
    }
   ],
   "source": [
    "param_test1 = {'max_depth':range(14,20,2), 'min_samples_split':range(5,20,2)}\n",
    "\n",
    "gsearch1 = GridSearchCV(\n",
    "    estimator = RandomForestRegressor(\n",
    "        n_estimators=n_estimators, \n",
    "        max_features='sqrt', \n",
    "        random_state=10), \n",
    "    param_grid = param_test1, \n",
    "    scoring='neg_mean_absolute_error',\n",
    "    iid=False,\n",
    "    n_jobs=-1,\n",
    "    cv=5)\n",
    "gsearch1.fit(feature_data,time_to_failure)\n",
    "\n",
    "print('Best params {}'.format(gsearch1.best_params_))\n",
    "print('Best MAE score: {}'.format(gsearch1.best_score_))"
   ]
  },
  {
   "cell_type": "code",
   "execution_count": 16,
   "metadata": {
    "ExecuteTime": {
     "end_time": "2019-03-28T21:53:05.591056Z",
     "start_time": "2019-03-28T21:53:05.587066Z"
    }
   },
   "outputs": [],
   "source": [
    "max_depth=14\n",
    "min_samples_split=10"
   ]
  },
  {
   "cell_type": "markdown",
   "metadata": {},
   "source": [
    "Tune min_samples_leaf"
   ]
  },
  {
   "cell_type": "code",
   "execution_count": 21,
   "metadata": {
    "ExecuteTime": {
     "end_time": "2019-03-28T22:06:30.564697Z",
     "start_time": "2019-03-28T22:03:52.075458Z"
    }
   },
   "outputs": [
    {
     "name": "stdout",
     "output_type": "stream",
     "text": [
      "Best params {'min_samples_leaf': 2}\n",
      "Best MAE score: -1.8229695760527869\n"
     ]
    }
   ],
   "source": [
    "param_test2 = {'min_samples_leaf':range(2,13,2)}\n",
    "gsearch2 = GridSearchCV(estimator = \n",
    "                        RandomForestRegressor(\n",
    "                            n_estimators=n_estimators,\n",
    "                            max_depth=max_depth,\n",
    "                            min_samples_split=min_samples_split,\n",
    "                            max_features='sqrt', \n",
    "                            random_state=10), \n",
    "                            param_grid = \n",
    "                            param_test2,\n",
    "                            scoring='neg_mean_absolute_error',\n",
    "                            iid=False,\n",
    "                            n_jobs=-1,\n",
    "                            cv=5)\n",
    "gsearch2.fit(feature_data,time_to_failure)\n",
    "print('Best params {}'.format(gsearch2.best_params_))\n",
    "print('Best MAE score: {}'.format(gsearch2.best_score_))"
   ]
  },
  {
   "cell_type": "code",
   "execution_count": null,
   "metadata": {},
   "outputs": [],
   "source": [
    "min_samples_leaf=80"
   ]
  },
  {
   "cell_type": "code",
   "execution_count": 22,
   "metadata": {
    "ExecuteTime": {
     "end_time": "2019-03-28T22:07:28.214007Z",
     "start_time": "2019-03-28T22:06:49.473403Z"
    }
   },
   "outputs": [
    {
     "name": "stdout",
     "output_type": "stream",
     "text": [
      "\n",
      "Model Report\n",
      "MAE train data: 1.445\n",
      "CV Score MAE: \n",
      "Mean -1.82297 \n",
      "Std 0.007425356 \n",
      "Min -1.83746 \n",
      "Max -1.816967\n"
     ]
    },
    {
     "data": {
      "image/png": "[encoded data removed]",
      "text/plain": [
       "<Figure size 1080x720 with 1 Axes>"
      ]
     },
     "metadata": {
      "needs_background": "light"
     },
     "output_type": "display_data"
    },
    {
     "name": "stdout",
     "output_type": "stream",
     "text": [
      "Top 30 Feature\n",
      "['spec_cent_75%q', 'spec_cent_absMean', 'spec_cent_25%q', 'spec_cent_mean', 'rolloff_75%q', 'spec_bw_25%q', '95%q', 'rolloff_mean', 'rolloff_25%q', 'spec_bw_75%q', 'rolloff_95%q', 'spec_bw_mean', '5%q', 'spec_cent_95%q', 'spec_cent_skew', 'rolloff_5%q', 'rms_min', 'spec_cent_kurt', '1%q', 'absMean', 'spec_bw_95%q', 'zero_crossings', 'rms_25%q', '99%q', 'rolloff_99%q', 'mean', 'spec_cent_99%q', 'spec_bw_5%q', 'rms_absMean', 'psd_99%q']\n"
     ]
    }
   ],
   "source": [
    "modelfit(gsearch2.best_estimator_,  feature_data, time_to_failure)"
   ]
  },
  {
   "cell_type": "code",
   "execution_count": null,
   "metadata": {},
   "outputs": [],
   "source": [
    "param_test3 = {'max_features':range(7,20,2)}\n",
    "gsearch3 = GridSearchCV(estimator = \n",
    "                        RandomForestRegressor(\n",
    "                            n_estimators=n_estimators,\n",
    "                            max_depth=max_depth, \n",
    "                            min_samples_split=min_samples_split,\n",
    "                            min_samples_leaf=min_samples_leaf,\n",
    "                            random_state=10),\n",
    "                            param_grid = param_test3, \n",
    "                            scoring='neg_mean_absolute_error',\n",
    "                            iid=False,\n",
    "                            n_jobs=-1,\n",
    "                            cv=5)\n",
    "gsearch3.fit(feature_data,time_to_failure)\n",
    "print('Best params {}'.format(gsearch3.best_params_))\n",
    "print('Best MAE score: {}'.format(gsearch3.best_score_))"
   ]
  },
  {
   "cell_type": "code",
   "execution_count": null,
   "metadata": {},
   "outputs": [],
   "source": [
    "max_features = 17"
   ]
  },
  {
   "cell_type": "code",
   "execution_count": null,
   "metadata": {},
   "outputs": [],
   "source": [
    "param_test4 = {'n_estimators' :[200,500,1000,1500]}\n",
    "gsearch4 = GridSearchCV(estimator = \n",
    "                        RandomForestRegressor(\n",
    "                            n_estimators=n_estimators,\n",
    "                            max_depth=max_depth,\n",
    "                            min_samples_split=min_samples_split,\n",
    "                            min_samples_leaf=min_samples_leaf,\n",
    "                            max_features=max_features,\n",
    "                            random_state=10),\n",
    "                        param_grid = param_test4,\n",
    "                        scoring='neg_mean_absolute_error',\n",
    "                        iid=False,\n",
    "                        n_jobs=-1,\n",
    "                        cv=5)\n",
    "\n",
    "gsearch4.fit(feature_data,time_to_failure)\n",
    "print('Best params {}'.format(gsearch4.best_params_))\n",
    "print('Best MAE score: {}'.format(gsearch4.best_score_))"
   ]
  },
  {
   "cell_type": "code",
   "execution_count": null,
   "metadata": {},
   "outputs": [],
   "source": [
    "modelfit(gsearch4.best_estimator_,  feature_data, time_to_failure)"
   ]
  },
  {
   "cell_type": "code",
   "execution_count": null,
   "metadata": {},
   "outputs": [],
   "source": [
    "param_test5 = {'criterion' :['mae','mse']}\n",
    "gsearch5 = GridSearchCV(estimator = \n",
    "                        RandomForestRegressor(\n",
    "                            n_estimators=n_estimators,\n",
    "                            max_depth=max_depth,\n",
    "                            min_samples_split=min_samples_split,\n",
    "                            min_samples_leaf=min_samples_leaf,\n",
    "                            max_features=max_features,\n",
    "                            random_state=10),\n",
    "                        param_grid = param_test5,\n",
    "                        scoring='neg_mean_absolute_error',\n",
    "                        iid=False,\n",
    "                        n_jobs=-1,\n",
    "                        cv=5)\n",
    "\n",
    "gsearch6.fit(feature_data,time_to_failure)\n",
    "print('Best params {}'.format(gsearch5.best_params_))\n",
    "print('Best MAE score: {}'.format(gsearch5.best_score_))"
   ]
  },
  {
   "cell_type": "code",
   "execution_count": null,
   "metadata": {},
   "outputs": [],
   "source": [
    "modelfit(gsearch5.best_estimator_,  feature_data, time_to_failure)"
   ]
  }
 ],
 "metadata": {
  "kernelspec": {
   "display_name": "Python 3",
   "language": "python",
   "name": "python3"
  },
  "language_info": {
   "codemirror_mode": {
    "name": "ipython",
    "version": 3
   },
   "file_extension": ".py",
   "mimetype": "text/x-python",
   "name": "python",
   "nbconvert_exporter": "python",
   "pygments_lexer": "ipython3",
   "version": "3.6.8"
  },
  "toc": {
   "base_numbering": 1,
   "nav_menu": {},
   "number_sections": true,
   "sideBar": true,
   "skip_h1_title": false,
   "title_cell": "Table of Contents",
   "title_sidebar": "Contents",
   "toc_cell": false,
   "toc_position": {
    "height": "calc(100% - 180px)",
    "left": "10px",
    "top": "150px",
    "width": "349.091px"
   },
   "toc_section_display": true,
   "toc_window_display": true
  }
 },
 "nbformat": 4,
 "nbformat_minor": 2
}
