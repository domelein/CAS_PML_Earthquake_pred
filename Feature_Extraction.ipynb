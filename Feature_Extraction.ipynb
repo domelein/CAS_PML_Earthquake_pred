{
 "cells": [
  {
   "cell_type": "markdown",
   "metadata": {},
   "source": [
    "# Umgebungsvariablen"
   ]
  },
  {
   "cell_type": "code",
   "execution_count": 16,
   "metadata": {
    "ExecuteTime": {
     "end_time": "2019-03-22T18:00:46.404376Z",
     "start_time": "2019-03-22T18:00:46.401395Z"
    }
   },
   "outputs": [],
   "source": [
    "train_data_path = '''C:/studium/studium/CAS_PML/Projekt_Arbeit/earthquake/Daten/all/train.csv'''\n",
    "feature_data_path = '''C:/studium/studium/CAS_PML/Projekt_Arbeit/earthquake/Daten/all/'''"
   ]
  },
  {
   "cell_type": "markdown",
   "metadata": {},
   "source": [
    "# Import"
   ]
  },
  {
   "cell_type": "code",
   "execution_count": 32,
   "metadata": {
    "ExecuteTime": {
     "end_time": "2019-03-22T17:57:55.501776Z",
     "start_time": "2019-03-22T17:57:55.497800Z"
    }
   },
   "outputs": [],
   "source": [
    "import time\n",
    "\n",
    "import pandas as pd\n",
    "import numpy as np\n",
    "#data visualization\n",
    "import matplotlib.pyplot as plt\n",
    "import librosa\n",
    "\n",
    "from scipy.stats import kurtosis\n",
    "from scipy.stats import skew\n",
    "\n",
    "from scipy import signal\n",
    "\n",
    "import warnings\n",
    "warnings.filterwarnings('ignore')\n",
    "\n",
    "pd.options.display.precision = 10"
   ]
  },
  {
   "cell_type": "markdown",
   "metadata": {},
   "source": [
    "# Trainingsdaten laden"
   ]
  },
  {
   "cell_type": "code",
   "execution_count": 33,
   "metadata": {},
   "outputs": [],
   "source": [
    "train_data = pd.read_csv(train_data_path, dtype={'acoustic_data': np.int16, 'time_to_failure': np.float64})"
   ]
  },
  {
   "cell_type": "code",
   "execution_count": 34,
   "metadata": {},
   "outputs": [
    {
     "data": {
      "text/html": [
       "<div>\n",
       "<style scoped>\n",
       "    .dataframe tbody tr th:only-of-type {\n",
       "        vertical-align: middle;\n",
       "    }\n",
       "\n",
       "    .dataframe tbody tr th {\n",
       "        vertical-align: top;\n",
       "    }\n",
       "\n",
       "    .dataframe thead th {\n",
       "        text-align: right;\n",
       "    }\n",
       "</style>\n",
       "<table border=\"1\" class=\"dataframe\">\n",
       "  <thead>\n",
       "    <tr style=\"text-align: right;\">\n",
       "      <th></th>\n",
       "      <th>acoustic_data</th>\n",
       "      <th>time_to_failure</th>\n",
       "    </tr>\n",
       "  </thead>\n",
       "  <tbody>\n",
       "    <tr>\n",
       "      <th>0</th>\n",
       "      <td>12</td>\n",
       "      <td>1.4690999832</td>\n",
       "    </tr>\n",
       "    <tr>\n",
       "      <th>1</th>\n",
       "      <td>6</td>\n",
       "      <td>1.4690999821</td>\n",
       "    </tr>\n",
       "    <tr>\n",
       "      <th>2</th>\n",
       "      <td>8</td>\n",
       "      <td>1.4690999810</td>\n",
       "    </tr>\n",
       "    <tr>\n",
       "      <th>3</th>\n",
       "      <td>5</td>\n",
       "      <td>1.4690999799</td>\n",
       "    </tr>\n",
       "    <tr>\n",
       "      <th>4</th>\n",
       "      <td>8</td>\n",
       "      <td>1.4690999788</td>\n",
       "    </tr>\n",
       "  </tbody>\n",
       "</table>\n",
       "</div>"
      ],
      "text/plain": [
       "   acoustic_data  time_to_failure\n",
       "0             12     1.4690999832\n",
       "1              6     1.4690999821\n",
       "2              8     1.4690999810\n",
       "3              5     1.4690999799\n",
       "4              8     1.4690999788"
      ]
     },
     "execution_count": 34,
     "metadata": {},
     "output_type": "execute_result"
    }
   ],
   "source": [
    "train_data.head()"
   ]
  },
  {
   "cell_type": "raw",
   "metadata": {},
   "source": []
  },
  {
   "cell_type": "markdown",
   "metadata": {},
   "source": [
    "## Low-pass (noise-reducing) filter"
   ]
  },
  {
   "cell_type": "code",
   "execution_count": 9,
   "metadata": {},
   "outputs": [],
   "source": [
    "def downsample(data, downsample_rate):\n",
    "    trunc = int((data.shape[0] // downsample_rate) * downsample_rate)\n",
    "    data = data[:trunc, :]\n",
    "    x = signal.decimate(data[:, 0].ravel(), downsample_rate)\n",
    "    time_to_failure = data[:,1]\n",
    "    y = time_to_failure[::downsample_rate]\n",
    "    return x, y"
   ]
  },
  {
   "cell_type": "code",
   "execution_count": 10,
   "metadata": {},
   "outputs": [],
   "source": [
    "acoustic_data, time_to_failure = downsample(train_data.values,4)"
   ]
  },
  {
   "cell_type": "code",
   "execution_count": 12,
   "metadata": {},
   "outputs": [
    {
     "data": {
      "text/plain": [
       "array([11.79776741,  6.73985325,  3.41629639, ...,  3.04679724,\n",
       "        4.67833652,  7.5151847 ])"
      ]
     },
     "execution_count": 12,
     "metadata": {},
     "output_type": "execute_result"
    }
   ],
   "source": [
    "acoustic_data"
   ]
  },
  {
   "cell_type": "code",
   "execution_count": 11,
   "metadata": {},
   "outputs": [],
   "source": [
    "train_data_lowpassfilter = pd.DataFrame()\n",
    "train_data_lowpassfilter['acoustic_data'] = acoustic_data\n",
    "train_data_lowpassfilter['time_to_failure'] = time_to_failure"
   ]
  },
  {
   "cell_type": "code",
   "execution_count": 14,
   "metadata": {},
   "outputs": [
    {
     "data": {
      "text/plain": [
       "(157286370, 2)"
      ]
     },
     "execution_count": 14,
     "metadata": {},
     "output_type": "execute_result"
    }
   ],
   "source": [
    "train_data_lowpassfilter.shape"
   ]
  },
  {
   "cell_type": "code",
   "execution_count": 26,
   "metadata": {},
   "outputs": [],
   "source": [
    "#The scipy.signal.decimate function applies a low-pass (noise-reducing) filter, and samples the data every n-th value based on the downsample rate\n",
    "downsample_rate = 4\n",
    "train_data_lowpassfilter = pd.DataFrame()\n",
    "train_data_lowpassfilter['acoustic_data'] = signal.decimate(train_data.acoustic_data, downsample_rate)\n"
   ]
  },
  {
   "cell_type": "code",
   "execution_count": 15,
   "metadata": {},
   "outputs": [
    {
     "data": {
      "text/html": [
       "<div>\n",
       "<style scoped>\n",
       "    .dataframe tbody tr th:only-of-type {\n",
       "        vertical-align: middle;\n",
       "    }\n",
       "\n",
       "    .dataframe tbody tr th {\n",
       "        vertical-align: top;\n",
       "    }\n",
       "\n",
       "    .dataframe thead th {\n",
       "        text-align: right;\n",
       "    }\n",
       "</style>\n",
       "<table border=\"1\" class=\"dataframe\">\n",
       "  <thead>\n",
       "    <tr style=\"text-align: right;\">\n",
       "      <th></th>\n",
       "      <th>acoustic_data</th>\n",
       "      <th>time_to_failure</th>\n",
       "    </tr>\n",
       "  </thead>\n",
       "  <tbody>\n",
       "    <tr>\n",
       "      <th>0</th>\n",
       "      <td>11.7977674126</td>\n",
       "      <td>1.4690999832</td>\n",
       "    </tr>\n",
       "    <tr>\n",
       "      <th>1</th>\n",
       "      <td>6.7398532547</td>\n",
       "      <td>1.4690999788</td>\n",
       "    </tr>\n",
       "    <tr>\n",
       "      <th>2</th>\n",
       "      <td>3.4162963895</td>\n",
       "      <td>1.4690999744</td>\n",
       "    </tr>\n",
       "    <tr>\n",
       "      <th>3</th>\n",
       "      <td>1.8012117582</td>\n",
       "      <td>1.4690999700</td>\n",
       "    </tr>\n",
       "    <tr>\n",
       "      <th>4</th>\n",
       "      <td>3.8759960754</td>\n",
       "      <td>1.4690999656</td>\n",
       "    </tr>\n",
       "    <tr>\n",
       "      <th>5</th>\n",
       "      <td>3.7745836336</td>\n",
       "      <td>1.4690999612</td>\n",
       "    </tr>\n",
       "    <tr>\n",
       "      <th>6</th>\n",
       "      <td>7.9035696978</td>\n",
       "      <td>1.4690999568</td>\n",
       "    </tr>\n",
       "    <tr>\n",
       "      <th>7</th>\n",
       "      <td>7.4314413331</td>\n",
       "      <td>1.4690999524</td>\n",
       "    </tr>\n",
       "    <tr>\n",
       "      <th>8</th>\n",
       "      <td>4.1553698370</td>\n",
       "      <td>1.4690999480</td>\n",
       "    </tr>\n",
       "    <tr>\n",
       "      <th>9</th>\n",
       "      <td>7.5336372538</td>\n",
       "      <td>1.4690999436</td>\n",
       "    </tr>\n",
       "    <tr>\n",
       "      <th>10</th>\n",
       "      <td>3.1450809938</td>\n",
       "      <td>1.4690999392</td>\n",
       "    </tr>\n",
       "    <tr>\n",
       "      <th>11</th>\n",
       "      <td>2.9516402077</td>\n",
       "      <td>1.4690999348</td>\n",
       "    </tr>\n",
       "    <tr>\n",
       "      <th>12</th>\n",
       "      <td>8.3162059202</td>\n",
       "      <td>1.4690999304</td>\n",
       "    </tr>\n",
       "    <tr>\n",
       "      <th>13</th>\n",
       "      <td>8.0096990944</td>\n",
       "      <td>1.4690999260</td>\n",
       "    </tr>\n",
       "    <tr>\n",
       "      <th>14</th>\n",
       "      <td>6.8193386039</td>\n",
       "      <td>1.4690999216</td>\n",
       "    </tr>\n",
       "    <tr>\n",
       "      <th>15</th>\n",
       "      <td>1.8017731206</td>\n",
       "      <td>1.4690999172</td>\n",
       "    </tr>\n",
       "    <tr>\n",
       "      <th>16</th>\n",
       "      <td>2.6930864292</td>\n",
       "      <td>1.4690999128</td>\n",
       "    </tr>\n",
       "    <tr>\n",
       "      <th>17</th>\n",
       "      <td>6.0664703961</td>\n",
       "      <td>1.4690999084</td>\n",
       "    </tr>\n",
       "    <tr>\n",
       "      <th>18</th>\n",
       "      <td>4.2533300596</td>\n",
       "      <td>1.4690999040</td>\n",
       "    </tr>\n",
       "    <tr>\n",
       "      <th>19</th>\n",
       "      <td>4.3574648213</td>\n",
       "      <td>1.4690998996</td>\n",
       "    </tr>\n",
       "    <tr>\n",
       "      <th>20</th>\n",
       "      <td>6.2614320596</td>\n",
       "      <td>1.4690998952</td>\n",
       "    </tr>\n",
       "    <tr>\n",
       "      <th>21</th>\n",
       "      <td>9.7341174429</td>\n",
       "      <td>1.4690998908</td>\n",
       "    </tr>\n",
       "    <tr>\n",
       "      <th>22</th>\n",
       "      <td>3.7643190345</td>\n",
       "      <td>1.4690998864</td>\n",
       "    </tr>\n",
       "    <tr>\n",
       "      <th>23</th>\n",
       "      <td>3.0954856775</td>\n",
       "      <td>1.4690998820</td>\n",
       "    </tr>\n",
       "    <tr>\n",
       "      <th>24</th>\n",
       "      <td>11.0529968954</td>\n",
       "      <td>1.4690998776</td>\n",
       "    </tr>\n",
       "    <tr>\n",
       "      <th>25</th>\n",
       "      <td>3.9227344109</td>\n",
       "      <td>1.4690998732</td>\n",
       "    </tr>\n",
       "    <tr>\n",
       "      <th>26</th>\n",
       "      <td>0.7189162538</td>\n",
       "      <td>1.4690998688</td>\n",
       "    </tr>\n",
       "    <tr>\n",
       "      <th>27</th>\n",
       "      <td>4.7844618958</td>\n",
       "      <td>1.4690998644</td>\n",
       "    </tr>\n",
       "    <tr>\n",
       "      <th>28</th>\n",
       "      <td>5.5678327794</td>\n",
       "      <td>1.4690998600</td>\n",
       "    </tr>\n",
       "    <tr>\n",
       "      <th>29</th>\n",
       "      <td>7.6570905196</td>\n",
       "      <td>1.4690998556</td>\n",
       "    </tr>\n",
       "    <tr>\n",
       "      <th>...</th>\n",
       "      <td>...</td>\n",
       "      <td>...</td>\n",
       "    </tr>\n",
       "    <tr>\n",
       "      <th>157286340</th>\n",
       "      <td>2.7083028253</td>\n",
       "      <td>9.7597956457</td>\n",
       "    </tr>\n",
       "    <tr>\n",
       "      <th>157286341</th>\n",
       "      <td>1.8831423458</td>\n",
       "      <td>9.7597956413</td>\n",
       "    </tr>\n",
       "    <tr>\n",
       "      <th>157286342</th>\n",
       "      <td>8.4385543504</td>\n",
       "      <td>9.7597956369</td>\n",
       "    </tr>\n",
       "    <tr>\n",
       "      <th>157286343</th>\n",
       "      <td>5.4000567579</td>\n",
       "      <td>9.7597956325</td>\n",
       "    </tr>\n",
       "    <tr>\n",
       "      <th>157286344</th>\n",
       "      <td>-0.5254528779</td>\n",
       "      <td>9.7597956281</td>\n",
       "    </tr>\n",
       "    <tr>\n",
       "      <th>157286345</th>\n",
       "      <td>2.4667548468</td>\n",
       "      <td>9.7597956237</td>\n",
       "    </tr>\n",
       "    <tr>\n",
       "      <th>157286346</th>\n",
       "      <td>4.8587102519</td>\n",
       "      <td>9.7597956193</td>\n",
       "    </tr>\n",
       "    <tr>\n",
       "      <th>157286347</th>\n",
       "      <td>5.9064117214</td>\n",
       "      <td>9.7597956149</td>\n",
       "    </tr>\n",
       "    <tr>\n",
       "      <th>157286348</th>\n",
       "      <td>6.2775454581</td>\n",
       "      <td>9.7597956105</td>\n",
       "    </tr>\n",
       "    <tr>\n",
       "      <th>157286349</th>\n",
       "      <td>5.8598532976</td>\n",
       "      <td>9.7597956061</td>\n",
       "    </tr>\n",
       "    <tr>\n",
       "      <th>157286350</th>\n",
       "      <td>3.9410955707</td>\n",
       "      <td>9.7597956017</td>\n",
       "    </tr>\n",
       "    <tr>\n",
       "      <th>157286351</th>\n",
       "      <td>4.1094374912</td>\n",
       "      <td>9.7597955973</td>\n",
       "    </tr>\n",
       "    <tr>\n",
       "      <th>157286352</th>\n",
       "      <td>6.7025532398</td>\n",
       "      <td>9.7597955929</td>\n",
       "    </tr>\n",
       "    <tr>\n",
       "      <th>157286353</th>\n",
       "      <td>3.5110511708</td>\n",
       "      <td>9.7597955885</td>\n",
       "    </tr>\n",
       "    <tr>\n",
       "      <th>157286354</th>\n",
       "      <td>4.2636445156</td>\n",
       "      <td>9.7597955841</td>\n",
       "    </tr>\n",
       "    <tr>\n",
       "      <th>157286355</th>\n",
       "      <td>6.2519153522</td>\n",
       "      <td>9.7597955797</td>\n",
       "    </tr>\n",
       "    <tr>\n",
       "      <th>157286356</th>\n",
       "      <td>2.6899457113</td>\n",
       "      <td>9.7597955753</td>\n",
       "    </tr>\n",
       "    <tr>\n",
       "      <th>157286357</th>\n",
       "      <td>3.9915398010</td>\n",
       "      <td>9.7597955709</td>\n",
       "    </tr>\n",
       "    <tr>\n",
       "      <th>157286358</th>\n",
       "      <td>6.4442404350</td>\n",
       "      <td>9.7597955665</td>\n",
       "    </tr>\n",
       "    <tr>\n",
       "      <th>157286359</th>\n",
       "      <td>5.5015131269</td>\n",
       "      <td>9.7597955621</td>\n",
       "    </tr>\n",
       "    <tr>\n",
       "      <th>157286360</th>\n",
       "      <td>4.0526075130</td>\n",
       "      <td>9.7597955577</td>\n",
       "    </tr>\n",
       "    <tr>\n",
       "      <th>157286361</th>\n",
       "      <td>5.6547492737</td>\n",
       "      <td>9.7597955533</td>\n",
       "    </tr>\n",
       "    <tr>\n",
       "      <th>157286362</th>\n",
       "      <td>4.8911463112</td>\n",
       "      <td>9.7597955489</td>\n",
       "    </tr>\n",
       "    <tr>\n",
       "      <th>157286363</th>\n",
       "      <td>1.8566396211</td>\n",
       "      <td>9.7597955445</td>\n",
       "    </tr>\n",
       "    <tr>\n",
       "      <th>157286364</th>\n",
       "      <td>5.6161155693</td>\n",
       "      <td>9.7597955401</td>\n",
       "    </tr>\n",
       "    <tr>\n",
       "      <th>157286365</th>\n",
       "      <td>6.6863593357</td>\n",
       "      <td>9.7597955357</td>\n",
       "    </tr>\n",
       "    <tr>\n",
       "      <th>157286366</th>\n",
       "      <td>4.0291803683</td>\n",
       "      <td>9.7597955313</td>\n",
       "    </tr>\n",
       "    <tr>\n",
       "      <th>157286367</th>\n",
       "      <td>3.0467972356</td>\n",
       "      <td>9.7597955269</td>\n",
       "    </tr>\n",
       "    <tr>\n",
       "      <th>157286368</th>\n",
       "      <td>4.6783365230</td>\n",
       "      <td>9.7597955225</td>\n",
       "    </tr>\n",
       "    <tr>\n",
       "      <th>157286369</th>\n",
       "      <td>7.5151847016</td>\n",
       "      <td>9.7597955181</td>\n",
       "    </tr>\n",
       "  </tbody>\n",
       "</table>\n",
       "<p>157286370 rows × 2 columns</p>\n",
       "</div>"
      ],
      "text/plain": [
       "           acoustic_data  time_to_failure\n",
       "0          11.7977674126     1.4690999832\n",
       "1           6.7398532547     1.4690999788\n",
       "2           3.4162963895     1.4690999744\n",
       "3           1.8012117582     1.4690999700\n",
       "4           3.8759960754     1.4690999656\n",
       "5           3.7745836336     1.4690999612\n",
       "6           7.9035696978     1.4690999568\n",
       "7           7.4314413331     1.4690999524\n",
       "8           4.1553698370     1.4690999480\n",
       "9           7.5336372538     1.4690999436\n",
       "10          3.1450809938     1.4690999392\n",
       "11          2.9516402077     1.4690999348\n",
       "12          8.3162059202     1.4690999304\n",
       "13          8.0096990944     1.4690999260\n",
       "14          6.8193386039     1.4690999216\n",
       "15          1.8017731206     1.4690999172\n",
       "16          2.6930864292     1.4690999128\n",
       "17          6.0664703961     1.4690999084\n",
       "18          4.2533300596     1.4690999040\n",
       "19          4.3574648213     1.4690998996\n",
       "20          6.2614320596     1.4690998952\n",
       "21          9.7341174429     1.4690998908\n",
       "22          3.7643190345     1.4690998864\n",
       "23          3.0954856775     1.4690998820\n",
       "24         11.0529968954     1.4690998776\n",
       "25          3.9227344109     1.4690998732\n",
       "26          0.7189162538     1.4690998688\n",
       "27          4.7844618958     1.4690998644\n",
       "28          5.5678327794     1.4690998600\n",
       "29          7.6570905196     1.4690998556\n",
       "...                  ...              ...\n",
       "157286340   2.7083028253     9.7597956457\n",
       "157286341   1.8831423458     9.7597956413\n",
       "157286342   8.4385543504     9.7597956369\n",
       "157286343   5.4000567579     9.7597956325\n",
       "157286344  -0.5254528779     9.7597956281\n",
       "157286345   2.4667548468     9.7597956237\n",
       "157286346   4.8587102519     9.7597956193\n",
       "157286347   5.9064117214     9.7597956149\n",
       "157286348   6.2775454581     9.7597956105\n",
       "157286349   5.8598532976     9.7597956061\n",
       "157286350   3.9410955707     9.7597956017\n",
       "157286351   4.1094374912     9.7597955973\n",
       "157286352   6.7025532398     9.7597955929\n",
       "157286353   3.5110511708     9.7597955885\n",
       "157286354   4.2636445156     9.7597955841\n",
       "157286355   6.2519153522     9.7597955797\n",
       "157286356   2.6899457113     9.7597955753\n",
       "157286357   3.9915398010     9.7597955709\n",
       "157286358   6.4442404350     9.7597955665\n",
       "157286359   5.5015131269     9.7597955621\n",
       "157286360   4.0526075130     9.7597955577\n",
       "157286361   5.6547492737     9.7597955533\n",
       "157286362   4.8911463112     9.7597955489\n",
       "157286363   1.8566396211     9.7597955445\n",
       "157286364   5.6161155693     9.7597955401\n",
       "157286365   6.6863593357     9.7597955357\n",
       "157286366   4.0291803683     9.7597955313\n",
       "157286367   3.0467972356     9.7597955269\n",
       "157286368   4.6783365230     9.7597955225\n",
       "157286369   7.5151847016     9.7597955181\n",
       "\n",
       "[157286370 rows x 2 columns]"
      ]
     },
     "execution_count": 15,
     "metadata": {},
     "output_type": "execute_result"
    }
   ],
   "source": [
    "train_data_lowpassfilter"
   ]
  },
  {
   "cell_type": "markdown",
   "metadata": {},
   "source": [
    "# Feature Extraction"
   ]
  },
  {
   "cell_type": "markdown",
   "metadata": {},
   "source": [
    "Die Testsegmente bestehen jeweils aus 150.000 Messpunkte. Aus diesem Grund setzten wir die Fenstergrösse auf 150000 Messpunkte."
   ]
  },
  {
   "cell_type": "markdown",
   "metadata": {},
   "source": [
    "## Feature Extraction Function\n",
    "\n",
    "Extracting features\n",
    "We will extract\n",
    "\n",
    " - statistical moments\n",
    " - root-mean-square\n",
    " - Zero Crossing Rate\n",
    " - Spectral Centroid\n",
    " - Chroma Frequencies\n",
    " - Spectral Rolloff\n",
    " - Mel-Frequency Cepstral Coefficients"
   ]
  },
  {
   "cell_type": "code",
   "execution_count": 35,
   "metadata": {},
   "outputs": [],
   "source": [
    "def generate_featureRow(acoustic_data, time_to_failure, sample_rate):\n",
    "    \n",
    "    strain_feature = pd.DataFrame()\n",
    "    strain_feature['mean'] = [acoustic_data.mean()]\n",
    "    strain_feature['std'] = [acoustic_data.std()]\n",
    "    strain_feature['kurt'] = [acoustic_data.kurtosis()]\n",
    "    strain_feature['skew'] = [acoustic_data.skew()]\n",
    "    strain_feature['min'] = [acoustic_data.min()]\n",
    "    strain_feature['max'] = [acoustic_data.max()]\n",
    "    strain_feature['1%q'] = [acoustic_data.quantile(0.01, interpolation='midpoint')]\n",
    "    strain_feature['5%q'] = [acoustic_data.quantile(0.05,interpolation='midpoint')]\n",
    "    strain_feature['25%q'] = [acoustic_data.quantile(0.25,interpolation='midpoint')]\n",
    "    strain_feature['75%q'] = [acoustic_data.quantile(0.75,interpolation='midpoint')]\n",
    "    strain_feature['95%q'] = [acoustic_data.quantile(0.95,interpolation='midpoint')]\n",
    "    strain_feature['99%q'] = [acoustic_data.quantile(0.99,interpolation='midpoint')]\n",
    "    strain_feature['absMax'] = [acoustic_data.abs().max()]\n",
    "    strain_feature['absMean'] = [acoustic_data.abs().mean()]\n",
    "    strain_feature['absStd'] = [acoustic_data.abs().std()]\n",
    "    \n",
    "    \n",
    "    #Compute root-mean-square (RMS) value for each frame\n",
    "    rms = librosa.feature.rms(y=np.array(acoustic_data,dtype=np.float64),frame_length=len(acoustic_data))\n",
    "    rms = pd.Series(rms[0,:])\n",
    "    strain_feature['rms_mean'] = [rms.mean()]\n",
    "    strain_feature['rms_std'] = [rms.std()]\n",
    "    strain_feature['rms_kurt'] = [rms.kurtosis()]\n",
    "    strain_feature['rms_skew'] = [rms.skew()]\n",
    "    strain_feature['rms_min'] = [rms.min()]\n",
    "    strain_feature['rms_max'] = [rms.max()]\n",
    "    strain_feature['rms_1%q'] = [rms.quantile(0.01, interpolation='midpoint')]\n",
    "    strain_feature['rms_5%q'] = [rms.quantile(0.05,interpolation='midpoint')]\n",
    "    strain_feature['rms_25%q'] = [rms.quantile(0.25,interpolation='midpoint')]\n",
    "    strain_feature['rms_75%q'] = [rms.quantile(0.75,interpolation='midpoint')]\n",
    "    strain_feature['rms_95%q'] = [rms.quantile(0.95,interpolation='midpoint')]\n",
    "    strain_feature['rms_99%q'] = [rms.quantile(0.99,interpolation='midpoint')]\n",
    "    strain_feature['rms_absMax'] = [rms.abs().max()]\n",
    "    strain_feature['rms_absMean'] = [rms.abs().mean()]\n",
    "    strain_feature['rms_absStd'] = [rms.abs().std()]\n",
    "    \n",
    "    #Zero Crossing Rate\n",
    "    '''The zero crossing rate is the rate of sign-changes along a signal, i.e., \n",
    "    the rate at which the signal changes from positive to negative or back.'''\n",
    "    zero_crossings = librosa.zero_crossings(np.array(acoustic_data,dtype=np.float64), pad=False)\n",
    "    strain_feature['zero_crossings'] = [sum(zero_crossings)]\n",
    "    \n",
    "    #Spectral Centroid\n",
    "    '''Each frame of a magnitude spectrogram is normalized and treated as a distribution\n",
    "    over frequency bins, from which the mean (centroid) is extracted per frame.So spectral centroid for blues \n",
    "    song will lie somewhere near the middle of its spectrum while that for a metal song would be towards its end.'''\n",
    "    spectral_centroids = librosa.feature.spectral_centroid(np.array(acoustic_data,dtype=np.float64), sr=sample_rate)[0]\n",
    "    spectral_centroids = pd.Series(spectral_centroids)\n",
    "    strain_feature['spec_cent_mean'] = [spectral_centroids.mean()]\n",
    "    strain_feature['spec_cent_std'] = [spectral_centroids.std()]\n",
    "    strain_feature['spec_cent_kurt'] = [spectral_centroids.kurtosis()]\n",
    "    strain_feature['spec_cent_skew'] = [spectral_centroids.skew()]\n",
    "    strain_feature['spec_cent_min'] = [spectral_centroids.min()]\n",
    "    strain_feature['spec_cent_max'] = [spectral_centroids.max()]\n",
    "    strain_feature['spec_cent_1%q'] = [spectral_centroids.quantile(0.01, interpolation='midpoint')]\n",
    "    strain_feature['spec_cent_5%q'] = [spectral_centroids.quantile(0.05,interpolation='midpoint')]\n",
    "    strain_feature['spec_cent_25%q'] = [spectral_centroids.quantile(0.25,interpolation='midpoint')]\n",
    "    strain_feature['spec_cent_75%q'] = [spectral_centroids.quantile(0.75,interpolation='midpoint')]\n",
    "    strain_feature['spec_cent_95%q'] = [spectral_centroids.quantile(0.95,interpolation='midpoint')]\n",
    "    strain_feature['spec_cent_99%q'] = [spectral_centroids.quantile(0.99,interpolation='midpoint')]\n",
    "    strain_feature['spec_cent_absMax'] = [spectral_centroids.abs().max()]\n",
    "    strain_feature['spec_cent_absMean'] = [spectral_centroids.abs().mean()]\n",
    "    strain_feature['spec_cent_absStd'] = [spectral_centroids.abs().std()]\n",
    "    \n",
    "    \n",
    "    \n",
    "    #power spectral density\n",
    "    f, Pxx_den = signal.welch(acoustic_data, sample_rate)\n",
    "    strain_feature['psd_mean'] = [np.mean(Pxx_den)]\n",
    "    strain_feature['psd_std'] = [np.std(Pxx_den)]\n",
    "    strain_feature['psd_kurt'] = [kurtosis(Pxx_den)]\n",
    "    strain_feature['psd_skew'] = [skew(Pxx_den)]\n",
    "    strain_feature['psd_min'] = [np.min(Pxx_den)]\n",
    "    strain_feature['psd_max'] = [np.max(Pxx_den)]\n",
    "    strain_feature['psd_1%q'] = [np.quantile(Pxx_den,0.01, interpolation='midpoint')]\n",
    "    strain_feature['psd_5%q'] = [np.quantile(Pxx_den,0.05,interpolation='midpoint')]\n",
    "    strain_feature['psd_25%q'] = [np.quantile(Pxx_den,0.25,interpolation='midpoint')]\n",
    "    strain_feature['psd_75%q'] = [np.quantile(Pxx_den,0.75,interpolation='midpoint')]\n",
    "    strain_feature['psd_95%q'] = [np.quantile(Pxx_den,0.95,interpolation='midpoint')]\n",
    "    strain_feature['psd_99%q'] = [np.quantile(Pxx_den,0.99,interpolation='midpoint')]\n",
    "   \n",
    "    #Chroma Frequencies\n",
    "    '''Chroma features are an interesting and powerful representation for music audio in which the entire \n",
    "    spectrum is projected onto 12 bins representing the 12 distinct semitones (or chroma) of the musical octave.'''\n",
    "    chroma_stft = librosa.feature.chroma_stft(y=np.array(acoustic_data,dtype=np.float64), sr=sample_rate)\n",
    "    strain_feature['chroma_stft_mean'] = [np.mean(chroma_stft)]\n",
    "    strain_feature['chroma_stft_std'] = [np.std(chroma_stft)]\n",
    "    strain_feature['chroma_stft_kurt'] = [kurtosis(chroma_stft[0])]\n",
    "    strain_feature['chroma_stft_skew'] = [skew(chroma_stft[0])]\n",
    "    strain_feature['chroma_stft_min'] = [np.min(chroma_stft)]\n",
    "    strain_feature['chroma_stft_max'] = [np.max(chroma_stft)]\n",
    "    strain_feature['chroma_stft_1%q'] = [np.quantile(chroma_stft,0.01, interpolation='midpoint')]\n",
    "    strain_feature['chroma_stft_5%q'] = [np.quantile(chroma_stft,0.05,interpolation='midpoint')]\n",
    "    strain_feature['chroma_stft_25%q'] = [np.quantile(chroma_stft,0.25,interpolation='midpoint')]\n",
    "    strain_feature['chroma_stft_75%q'] = [np.quantile(chroma_stft,0.75,interpolation='midpoint')]\n",
    "    strain_feature['chroma_stft_95%q'] = [np.quantile(chroma_stft,0.95,interpolation='midpoint')]\n",
    "    strain_feature['chroma_stft_99%q'] = [np.quantile(chroma_stft,0.99,interpolation='midpoint')]\n",
    "    \n",
    "    #Spectral Rolloff\n",
    "    '''It is a measure of the shape of the signal. \n",
    "    It represents the frequency below which a specified percentage of the total spectral energy, e.g. 85%, lies.'''\n",
    "    rolloff = librosa.feature.spectral_rolloff(y=np.array(acoustic_data,dtype=np.float64), sr=sample_rate)[0]\n",
    "    strain_feature['rolloff_mean'] = [np.mean(rolloff)]\n",
    "    strain_feature['rolloff_std'] = [np.std(rolloff)]\n",
    "    strain_feature['rolloff_kurt'] = [kurtosis(rolloff)]\n",
    "    strain_feature['rolloff_skew'] = [skew(rolloff)]\n",
    "    strain_feature['rolloff_min'] = [np.min(rolloff)]\n",
    "    strain_feature['rolloff_max'] = [np.max(rolloff)]\n",
    "    strain_feature['rolloff_1%q'] = [np.quantile(rolloff,0.01, interpolation='midpoint')]\n",
    "    strain_feature['rolloff_5%q'] = [np.quantile(rolloff,0.05,interpolation='midpoint')]\n",
    "    strain_feature['rolloff_25%q'] = [np.quantile(rolloff,0.25,interpolation='midpoint')]\n",
    "    strain_feature['rolloff_75%q'] = [np.quantile(rolloff,0.75,interpolation='midpoint')]\n",
    "    strain_feature['rolloff_95%q'] = [np.quantile(rolloff,0.95,interpolation='midpoint')]\n",
    "    strain_feature['rolloff_99%q'] = [np.quantile(rolloff,0.99,interpolation='midpoint')]\n",
    "    \n",
    "    #spectral_bandwidth\n",
    "    spec_bw = librosa.feature.spectral_bandwidth(y=np.array(acoustic_data,dtype=np.float64), sr=sample_rate)\n",
    "    spec_bw = spec_bw[0,:]\n",
    "    strain_feature['spec_bw_mean'] = [np.mean(spec_bw)]\n",
    "    strain_feature['spec_bw_std'] = [np.std(spec_bw)]\n",
    "    strain_feature['spec_bw_kurt'] = [kurtosis(spec_bw)]\n",
    "    strain_feature['spec_bw_skew'] = [skew(spec_bw)]\n",
    "    strain_feature['spec_bw_min'] = [np.min(spec_bw)]\n",
    "    strain_feature['spec_bw_max'] = [np.max(spec_bw)]\n",
    "    strain_feature['spec_bw_1%q'] = [np.quantile(spec_bw,0.01, interpolation='midpoint')]\n",
    "    strain_feature['spec_bw_5%q'] = [np.quantile(spec_bw,0.05,interpolation='midpoint')]\n",
    "    strain_feature['spec_bw_25%q'] = [np.quantile(spec_bw,0.25,interpolation='midpoint')]\n",
    "    strain_feature['spec_bw_75%q'] = [np.quantile(spec_bw,0.75,interpolation='midpoint')]\n",
    "    strain_feature['spec_bw_95%q'] = [np.quantile(spec_bw,0.95,interpolation='midpoint')]\n",
    "    strain_feature['spec_bw_99%q'] = [np.quantile(spec_bw,0.99,interpolation='midpoint')]\n",
    "    \n",
    "                          \n",
    "                \n",
    "    #Time to failure\n",
    "    strain_feature['time_to_failure'] = time_to_failure.values[-1]\n",
    "  \n",
    "    return strain_feature"
   ]
  },
  {
   "cell_type": "markdown",
   "metadata": {},
   "source": [
    "Reduced according feature selection"
   ]
  },
  {
   "cell_type": "code",
   "execution_count": 4,
   "metadata": {},
   "outputs": [],
   "source": [
    "def generate_featureRow_(acoustic_data, time_to_failure, sample_rate):\n",
    "    \n",
    "    strain_feature = pd.DataFrame()\n",
    "    strain_feature['mean'] = [acoustic_data.mean()]\n",
    "    strain_feature['kurt'] = [acoustic_data.kurtosis()]\n",
    "    strain_feature['skew'] = [acoustic_data.skew()]\n",
    "    strain_feature['min'] = [acoustic_data.min()]\n",
    "    strain_feature['max'] = [acoustic_data.max()]\n",
    "   \n",
    "    strain_feature['absMax'] = [acoustic_data.abs().max()]\n",
    "    \n",
    "    #Compute root-mean-square (RMS) value for each frame\n",
    "    rms = librosa.feature.rms(y=np.array(acoustic_data,dtype=np.float64),frame_length=len(acoustic_data))\n",
    "    rms = pd.Series(rms[0,:])\n",
    "    strain_feature['rms_kurt'] = [rms.kurtosis()]\n",
    "  \n",
    "    #Zero Crossing Rate\n",
    "    '''The zero crossing rate is the rate of sign-changes along a signal, i.e., \n",
    "    the rate at which the signal changes from positive to negative or back.'''\n",
    "    zero_crossings = librosa.zero_crossings(np.array(acoustic_data,dtype=np.float64), pad=False)\n",
    "    strain_feature['zero_crossings'] = [sum(zero_crossings)]\n",
    "    \n",
    "    #Spectral Centroid\n",
    "    '''Each frame of a magnitude spectrogram is normalized and treated as a distribution\n",
    "    over frequency bins, from which the mean (centroid) is extracted per frame.So spectral centroid for blues \n",
    "    song will lie somewhere near the middle of its spectrum while that for a metal song would be towards its end.'''\n",
    "    spectral_centroids = librosa.feature.spectral_centroid(np.array(acoustic_data,dtype=np.float64), sr=sample_rate)[0]\n",
    "    spectral_centroids = pd.Series(spectral_centroids)\n",
    "    strain_feature['spec_cent_max'] = [spectral_centroids.max()]\n",
    "    strain_feature['spec_cent_75%q'] = [spectral_centroids.quantile(0.75,interpolation='midpoint')]\n",
    "\n",
    "    #power spectral density\n",
    "    f, Pxx_den = signal.welch(acoustic_data, sample_rate)\n",
    "    strain_feature['psd_kurt'] = [kurtosis(Pxx_den)]\n",
    "    strain_feature['psd_skew'] = [skew(Pxx_den)]\n",
    "    strain_feature['psd_min'] = [np.min(Pxx_den)]\n",
    "    strain_feature['psd_5%q'] = [np.quantile(Pxx_den,0.05,interpolation='midpoint')]\n",
    "    strain_feature['psd_25%q'] = [np.quantile(Pxx_den,0.25,interpolation='midpoint')]\n",
    "    strain_feature['psd_75%q'] = [np.quantile(Pxx_den,0.75,interpolation='midpoint')]\n",
    "   \n",
    "    #Chroma Frequencies\n",
    "    '''Chroma features are an interesting and powerful representation for music audio in which the entire \n",
    "    spectrum is projected onto 12 bins representing the 12 distinct semitones (or chroma) of the musical octave.'''\n",
    "    chroma_stft = librosa.feature.chroma_stft(y=np.array(acoustic_data,dtype=np.float64), sr=sample_rate)\n",
    "   \n",
    "    strain_feature['chroma_stft_skew'] = [skew(chroma_stft[0])]\n",
    "    strain_feature['chroma_stft_75%q'] = [np.quantile(chroma_stft,0.75,interpolation='midpoint')]\n",
    "    \n",
    "    #spectral_bandwidth\n",
    "    spec_bw = librosa.feature.spectral_bandwidth(y=np.array(acoustic_data,dtype=np.float64), sr=sample_rate)\n",
    "    spec_bw = spec_bw[0,:]\n",
    "    strain_feature['spec_bw_max'] = [np.max(spec_bw)]\n",
    "    strain_feature['spec_bw_99%q'] = [np.quantile(spec_bw,0.99,interpolation='midpoint')]\n",
    "  \n",
    "    #Time to failure\n",
    "    strain_feature['time_to_failure'] = time_to_failure.values[-1]\n",
    "\n",
    "    return strain_feature"
   ]
  },
  {
   "cell_type": "markdown",
   "metadata": {},
   "source": [
    "Window wird durch das Trainingssignal geschoben mit einer Überlappung von step"
   ]
  },
  {
   "cell_type": "code",
   "execution_count": 36,
   "metadata": {
    "ExecuteTime": {
     "end_time": "2019-03-22T17:48:45.470117Z",
     "start_time": "2019-03-22T17:48:45.464132Z"
    }
   },
   "outputs": [],
   "source": [
    "def generate_Features(train,step,sample_rate):\n",
    "    \n",
    "    window_size=150000\n",
    "    \n",
    "    init_idx = 0\n",
    "    features = pd.DataFrame()\n",
    "\n",
    "    while (init_idx + window_size < len(train)):\n",
    "        window = train.iloc[init_idx:init_idx + window_size]\n",
    "        features = features.append(generate_featureRow(window.acoustic_data,window.time_to_failure,sample_rate), ignore_index=True)\n",
    "        init_idx += step\n",
    "   \n",
    "    return features"
   ]
  },
  {
   "cell_type": "code",
   "execution_count": 37,
   "metadata": {
    "ExecuteTime": {
     "end_time": "2019-03-22T17:54:03.299349Z",
     "start_time": "2019-03-22T17:54:03.297244Z"
    }
   },
   "outputs": [],
   "source": [
    "# https://www.kaggle.com/flaport/linear-regression-on-180-features/notebook"
   ]
  },
  {
   "cell_type": "markdown",
   "metadata": {},
   "source": [
    "## Feature extrahieren"
   ]
  },
  {
   "cell_type": "markdown",
   "metadata": {},
   "source": [
    "### Testhalber eine Reihe extrahieren"
   ]
  },
  {
   "cell_type": "code",
   "execution_count": 19,
   "metadata": {},
   "outputs": [],
   "source": [
    "step = 150000\n",
    "train_data_test = train_data.iloc[0:151000,:] "
   ]
  },
  {
   "cell_type": "code",
   "execution_count": 8,
   "metadata": {},
   "outputs": [],
   "source": [
    "sample_rate = 4000000\n",
    "features = generate_Features(train_data_test,step,sample_rate)"
   ]
  },
  {
   "cell_type": "markdown",
   "metadata": {},
   "source": [
    "### Überlappung definieren"
   ]
  },
  {
   "cell_type": "code",
   "execution_count": 42,
   "metadata": {},
   "outputs": [],
   "source": [
    "sample_rate = 4000000\n",
    "step = 150000"
   ]
  },
  {
   "cell_type": "markdown",
   "metadata": {},
   "source": [
    "## Feature extrahieren"
   ]
  },
  {
   "cell_type": "code",
   "execution_count": 43,
   "metadata": {},
   "outputs": [],
   "source": [
    "features = generate_Features(train_data,step,sample_rate)"
   ]
  },
  {
   "cell_type": "code",
   "execution_count": 44,
   "metadata": {},
   "outputs": [
    {
     "data": {
      "text/plain": [
       "(4194, 95)"
      ]
     },
     "execution_count": 44,
     "metadata": {},
     "output_type": "execute_result"
    }
   ],
   "source": [
    "features.shape"
   ]
  },
  {
   "cell_type": "markdown",
   "metadata": {},
   "source": [
    "### Generierte Feature sichern"
   ]
  },
  {
   "cell_type": "code",
   "execution_count": 45,
   "metadata": {
    "ExecuteTime": {
     "end_time": "2019-03-22T18:07:36.799024Z",
     "start_time": "2019-03-22T18:07:36.794010Z"
    }
   },
   "outputs": [],
   "source": [
    "# saving the dataframe\n",
    "timestamp = time.time()\n",
    "features.to_csv(feature_data_path+'earthquakeFeatures_4194'+str(timestamp)+'_.csv', header=True, index=True)"
   ]
  },
  {
   "cell_type": "markdown",
   "metadata": {},
   "source": [
    "# Feature laden"
   ]
  },
  {
   "cell_type": "code",
   "execution_count": null,
   "metadata": {},
   "outputs": [],
   "source": [
    "feature_data_path = ''"
   ]
  },
  {
   "cell_type": "code",
   "execution_count": null,
   "metadata": {},
   "outputs": [],
   "source": [
    "features = pd.read_csv(feature_data_path,dtype={'acoustic_data': np.int16, 'time_to_failure': np.float64})"
   ]
  },
  {
   "cell_type": "code",
   "execution_count": null,
   "metadata": {},
   "outputs": [],
   "source": []
  },
  {
   "cell_type": "markdown",
   "metadata": {},
   "source": [
    "## New Feature\n",
    "\n",
    " - Sehr interessant für neue Feature: https://towardsdatascience.com/music-genre-classification-with-python-c714d032f0d8 \n",
    " - spectral_features https://musicinformationretrieval.com/spectral_features.html\n",
    " \n",
    " \n",
    "\n",
    "- Signal: phase, frequency, angular frequency, wavelength and a period. --> new features for mean / std / skew / kurt / percentile https://pythontic.com/visualization/signals/magnitude%20spectrum\n",
    "\n",
    " - RMS: root mean square of a signal (Effektivwert): https://de.wikipedia.org/wiki/Effektivwert\n",
    " - https://librosa.github.io/librosa/feature.html (RMS/etc..) ()"
   ]
  },
  {
   "cell_type": "code",
   "execution_count": null,
   "metadata": {},
   "outputs": [],
   "source": []
  }
 ],
 "metadata": {
  "kernelspec": {
   "display_name": "Python 3",
   "language": "python",
   "name": "python3"
  },
  "language_info": {
   "codemirror_mode": {
    "name": "ipython",
    "version": 3
   },
   "file_extension": ".py",
   "mimetype": "text/x-python",
   "name": "python",
   "nbconvert_exporter": "python",
   "pygments_lexer": "ipython3",
   "version": "3.6.8"
  },
  "toc": {
   "base_numbering": 1,
   "nav_menu": {},
   "number_sections": true,
   "sideBar": true,
   "skip_h1_title": false,
   "title_cell": "Table of Contents",
   "title_sidebar": "Contents",
   "toc_cell": false,
   "toc_position": {},
   "toc_section_display": true,
   "toc_window_display": true
  }
 },
 "nbformat": 4,
 "nbformat_minor": 2
}
