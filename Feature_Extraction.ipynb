{
 "cells": [
  {
   "cell_type": "markdown",
   "metadata": {},
   "source": [
    "# Umgebungsvariablen"
   ]
  },
  {
   "cell_type": "code",
   "execution_count": 11,
   "metadata": {
    "ExecuteTime": {
     "end_time": "2019-03-22T18:00:46.404376Z",
     "start_time": "2019-03-22T18:00:46.401395Z"
    }
   },
   "outputs": [],
   "source": [
    "#Bereitgestellte Trainingsdaten\n",
    "train_data_path = '''C:/studium/studium/CAS_PML/Projekt_Arbeit/earthquake/Daten/all/train.csv'''\n",
    "failure_datapath = '''D:/jupyter-notebooks/LANL_Earthquake_Prediction/failure/'''\n",
    "feature_data_path = '''C:/studium/studium/CAS_PML/Projekt_Arbeit/earthquake/Daten/all/'''\n",
    "\n",
    "cat_boost_path = '''C:/studium/studium/CAS_PML/Projekt_Arbeit/earthquake/Daten/all/catboost.dump'''"
   ]
  },
  {
   "cell_type": "markdown",
   "metadata": {},
   "source": [
    "# Import"
   ]
  },
  {
   "cell_type": "code",
   "execution_count": 6,
   "metadata": {
    "ExecuteTime": {
     "end_time": "2019-03-22T17:57:55.501776Z",
     "start_time": "2019-03-22T17:57:55.497800Z"
    }
   },
   "outputs": [],
   "source": [
    "import time\n",
    "\n",
    "import pandas as pd\n",
    "import numpy as np\n",
    "#data visualization\n",
    "import matplotlib.pyplot as plt\n",
    "import librosa\n",
    "\n",
    "from scipy.stats import kurtosis\n",
    "from scipy.stats import skew\n",
    "\n",
    "pd.options.display.precision = 10"
   ]
  },
  {
   "cell_type": "markdown",
   "metadata": {},
   "source": [
    "# Trainingsdaten laden"
   ]
  },
  {
   "cell_type": "code",
   "execution_count": null,
   "metadata": {},
   "outputs": [],
   "source": [
    "train_data = pd.read_csv(train_data_path, dtype={'acoustic_data': np.int16, 'time_to_failure': np.float64})"
   ]
  },
  {
   "cell_type": "markdown",
   "metadata": {},
   "source": [
    "# Feature Extraction"
   ]
  },
  {
   "cell_type": "markdown",
   "metadata": {},
   "source": [
    "Die Testsegmente bestehen jeweils aus 150.000 Messpunkte. Aus diesem Grund setzten wir die Fenstergrösse auf 150000 Messpunkte."
   ]
  },
  {
   "cell_type": "markdown",
   "metadata": {},
   "source": [
    "## Feature Extraction Function"
   ]
  },
  {
   "cell_type": "code",
   "execution_count": 3,
   "metadata": {
    "ExecuteTime": {
     "end_time": "2019-03-22T17:47:16.890431Z",
     "start_time": "2019-03-22T17:47:16.863472Z"
    }
   },
   "outputs": [],
   "source": [
    "def generate_featureRow(acoustic_data, time_to_failure):\n",
    "    \n",
    "    \n",
    "    strain_feature = []\n",
    "    strain_feature.append(acoustic_data.mean())\n",
    "    strain_feature.append(acoustic_data.std())\n",
    "    strain_feature.append(acoustic_data.kurtosis())\n",
    "    strain_feature.append(acoustic_data.skew())\n",
    "    strain_feature.append(acoustic_data.min())\n",
    "    strain_feature.append(acoustic_data.max())\n",
    "    strain_feature.append(acoustic_data.quantile(0.01, interpolation='midpoint'))\n",
    "    strain_feature.append(acoustic_data.quantile(0.05,interpolation='midpoint'))\n",
    "    strain_feature.append(acoustic_data.quantile(0.25,interpolation='midpoint'))\n",
    "    strain_feature.append(acoustic_data.quantile(0.75,interpolation='midpoint'))\n",
    "    strain_feature.append(acoustic_data.quantile(0.95,interpolation='midpoint'))\n",
    "    strain_feature.append(acoustic_data.quantile(0.99,interpolation='midpoint'))\n",
    "    strain_feature.append(acoustic_data.abs().max())\n",
    "    strain_feature.append(acoustic_data.abs().mean())\n",
    "    strain_feature.append(acoustic_data.abs().std())\n",
    "\n",
    "    \n",
    "    #spectral features\n",
    "    \n",
    "    #Compute root-mean-square (RMS) value for each frame\n",
    "    rms = librosa.feature.rms(y=np.array(acoustic_data,dtype=np.float64),frame_length=len(acoustic_data))\n",
    "    rms = pd.Series(rms[0,:])\n",
    "    strain_feature.append(rms.mean())\n",
    "    strain_feature.append(rms.std())\n",
    "    strain_feature.append(rms.kurtosis())\n",
    "    strain_feature.append(rms.skew())\n",
    "    strain_feature.append(rms.min())\n",
    "    strain_feature.append(rms.max())\n",
    "    strain_feature.append(rms.quantile(0.01, interpolation='midpoint'))\n",
    "    strain_feature.append(rms.quantile(0.05,interpolation='midpoint'))\n",
    "    strain_feature.append(rms.quantile(0.25,interpolation='midpoint'))\n",
    "    strain_feature.append(rms.quantile(0.75,interpolation='midpoint'))\n",
    "    strain_feature.append(rms.quantile(0.95,interpolation='midpoint'))\n",
    "    strain_feature.append(rms.quantile(0.99,interpolation='midpoint'))\n",
    "    strain_feature.append(rms.abs().max())\n",
    "    strain_feature.append(rms.abs().mean())\n",
    "    strain_feature.append(rms.abs().std())\n",
    "    \n",
    "    #Zero Crossing Rate\n",
    "    '''The zero crossing rate is the rate of sign-changes along a signal, i.e., \n",
    "    the rate at which the signal changes from positive to negative or back.'''\n",
    "    zero_crossings = librosa.zero_crossings(np.array(acoustic_data,dtype=np.float64), pad=False)\n",
    "    strain_feature.append(sum(zero_crossings))\n",
    "    \n",
    "    #Spectral Centroid\n",
    "    '''Each frame of a magnitude spectrogram is normalized and treated as a distribution\n",
    "    over frequency bins, from which the mean (centroid) is extracted per frame.So spectral centroid for blues \n",
    "    song will lie somewhere near the middle of its spectrum while that for a metal song would be towards its end.'''\n",
    "    spectral_centroids = librosa.feature.spectral_centroid(np.array(acoustic_data,dtype=np.float64), sr=4000000)[0]\n",
    "    spectral_centroids = pd.Series(spectral_centroids)\n",
    "    strain_feature.append(spectral_centroids.mean())\n",
    "    strain_feature.append(spectral_centroids.std())\n",
    "    strain_feature.append(spectral_centroids.kurtosis())\n",
    "    strain_feature.append(spectral_centroids.skew())\n",
    "    strain_feature.append(spectral_centroids.min())\n",
    "    strain_feature.append(spectral_centroids.max())\n",
    "    strain_feature.append(spectral_centroids.quantile(0.01, interpolation='midpoint'))\n",
    "    strain_feature.append(spectral_centroids.quantile(0.05,interpolation='midpoint'))\n",
    "    strain_feature.append(spectral_centroids.quantile(0.25,interpolation='midpoint'))\n",
    "    strain_feature.append(spectral_centroids.quantile(0.75,interpolation='midpoint'))\n",
    "    strain_feature.append(spectral_centroids.quantile(0.95,interpolation='midpoint'))\n",
    "    strain_feature.append(spectral_centroids.quantile(0.99,interpolation='midpoint'))\n",
    "    strain_feature.append(spectral_centroids.abs().max())\n",
    "    strain_feature.append(spectral_centroids.abs().mean())\n",
    "    strain_feature.append(spectral_centroids.abs().std())\n",
    "    \n",
    "    \n",
    "    chroma_stft = librosa.feature.chroma_stft(y=np.array(acoustic_data,dtype=np.float64), sr=4000000)\n",
    "    strain_feature.append(np.mean(chroma_stft))\n",
    "    strain_feature.append(np.std(chroma_stft))\n",
    "    strain_feature.append(kurtosis(chroma_stft))\n",
    "    strain_feature.append(skew(chroma_stft))\n",
    "    strain_feature.append(np.min(chroma_stft))\n",
    "    strain_feature.append(np.max(chroma_stft))\n",
    "    strain_feature.append(np.quantile(chroma_stft,0.01, interpolation='midpoint'))\n",
    "    strain_feature.append(np.quantile(chroma_stft,0.05,interpolation='midpoint'))\n",
    "    strain_feature.append(np.quantile(chroma_stft,0.25,interpolation='midpoint'))\n",
    "    strain_feature.append(np.quantile(chroma_stft,0.75,interpolation='midpoint'))\n",
    "    strain_feature.append(np.quantile(chroma_stft,0.95,interpolation='midpoint'))\n",
    "    strain_feature.append(np.quantile(chroma_stft,0.99,interpolation='midpoint'))\n",
    "    \n",
    "    rolloff = librosa.feature.spectral_rolloff(y=np.array(acoustic_data,dtype=np.float64), sr=4000000)\n",
    "    strain_feature.append(np.mean(rolloff))\n",
    "    strain_feature.append(np.std(rolloff))\n",
    "    strain_feature.append(kurtosis(rolloff))\n",
    "    strain_feature.append(skew(rolloff))\n",
    "    strain_feature.append(np.min(rolloff))\n",
    "    strain_feature.append(np.max(rolloff))\n",
    "    strain_feature.append(np.quantile(rolloff,0.01, interpolation='midpoint'))\n",
    "    strain_feature.append(np.quantile(rolloff,0.05,interpolation='midpoint'))\n",
    "    strain_feature.append(np.quantile(rolloff,0.25,interpolation='midpoint'))\n",
    "    strain_feature.append(np.quantile(rolloff,0.75,interpolation='midpoint'))\n",
    "    strain_feature.append(np.quantile(rolloff,0.95,interpolation='midpoint'))\n",
    "    strain_feature.append(np.quantile(rolloff,0.99,interpolation='midpoint'))\n",
    "    \n",
    "    \n",
    "    spec_bw = librosa.feature.spectral_bandwidth(y=np.array(acoustic_data,dtype=np.float64), sr=4000000)\n",
    "    strain_feature.append(np.mean(spec_bw))\n",
    "    strain_feature.append(np.std(spec_bw))\n",
    "    #strain_feature.append(kurtosis(spec_bw))\n",
    "    #strain_feature.append(skew(spec_bw))\n",
    "    strain_feature.append(np.min(spec_bw))\n",
    "    strain_feature.append(np.max(spec_bw))\n",
    "    strain_feature.append(np.quantile(spec_bw,0.01, interpolation='midpoint'))\n",
    "    strain_feature.append(np.quantile(spec_bw,0.05,interpolation='midpoint'))\n",
    "    strain_feature.append(np.quantile(spec_bw,0.25,interpolation='midpoint'))\n",
    "    strain_feature.append(np.quantile(spec_bw,0.75,interpolation='midpoint'))\n",
    "    strain_feature.append(np.quantile(spec_bw,0.95,interpolation='midpoint'))\n",
    "    strain_feature.append(np.quantile(spec_bw,0.99,interpolation='midpoint'))\n",
    "    \n",
    "    mfcc = librosa.feature.mfcc(y=np.array(acoustic_data,dtype=np.float64), sr=4000000)\n",
    "    strain_feature.append(np.mean(mfcc,axis=1))\n",
    "    strain_feature.append(np.std(mfcc,axis=1))\n",
    "    strain_feature.append(kurtosis(mfcc,axis=1))\n",
    "    strain_feature.append(skew(mfcc,axis=1))\n",
    "    strain_feature.append(np.min(mfcc,axis=1))\n",
    "    strain_feature.append(np.max(mfcc,axis=1))\n",
    "    strain_feature.append(np.quantile(mfcc,0.01,axis=1,interpolation='midpoint'))\n",
    "    strain_feature.append(np.quantile(mfcc,0.05,axis=1,interpolation='midpoint'))\n",
    "    strain_feature.append(np.quantile(mfcc,0.25,axis=1,interpolation='midpoint'))\n",
    "    strain_feature.append(np.quantile(mfcc,0.75,axis=1,interpolation='midpoint'))\n",
    "    strain_feature.append(np.quantile(mfcc,0.95,axis=1,interpolation='midpoint'))\n",
    "    strain_feature.append(np.quantile(mfcc,0.99,axis=1,interpolation='midpoint'))\n",
    "    \n",
    "    \n",
    "    #Time to failure\n",
    "    strain_feature.append(time_to_failure.values[-1])\n",
    "    \n",
    "    return strain_feature"
   ]
  },
  {
   "cell_type": "markdown",
   "metadata": {},
   "source": [
    "Window wird durch das Trainingssignal geschoben mit einer Überlappung von step"
   ]
  },
  {
   "cell_type": "code",
   "execution_count": 4,
   "metadata": {
    "ExecuteTime": {
     "end_time": "2019-03-22T17:48:45.470117Z",
     "start_time": "2019-03-22T17:48:45.464132Z"
    }
   },
   "outputs": [],
   "source": [
    "def generate_Features(train,step, window_size=150000):\n",
    "    init_idx = 0\n",
    "    features = []\n",
    "\n",
    "    while (init_idx + window_size < len(train)):\n",
    "        window = train.iloc[init_idx:init_idx + window_size]\n",
    "        features.append(generate_featureRow(window.acoustic_data,window.time_to_failure))\n",
    "        init_idx += step\n",
    "\n",
    "    return pd.DataFrame(features,dtype=np.float64,columns = ['mean','std','kurt','skew','min','max','1%q','5%q','25%q','75%q','95%q','99%q','absMax','absMean','absStd',\n",
    "                                                            'rms_mean','rms_std','rms_kurt','rms_skew','rms_min','rms_max','rms_1%q','rms_5%q','rms_25%q','rms_75%q','rms_95%q','rms_99%q','rms_absMax','rms_absMean','rms_absStd','zero_crossings',\n",
    "                                                             'spec_cent_mean','spec_cent_std','spec_cent_kurt','spec_cent_skew','spec_cent_min','spec_cent_max','spec_cent_1%q','spec_cent_5%q','spec_cent_25%q','spec_cent_75%q','spec_cent_95%q','spec_cent_99%q','spec_cent_absMax','spec_cent_absMean','spec_cent_absStd',\n",
    "                                                             'chroma_stft_mean','chroma_stft_std','chroma_stft_kurt','chroma_stft_skew','chroma_stft_min','chroma_stft_max','chroma_stft_1%q','chroma_stft_cent_5%q','chroma_stft_25%q','chroma_stft_75%q','chroma_stft_95%q','chroma_stft_99%q',\n",
    "                                                             'rolloff_mean','rolloff_std','rolloff_kurt','rolloff_skew','rolloff_min','rolloff_max','rolloff_1%q','rolloff_cent_5%q','rolloff_25%q','rolloff_75%q','rolloff_95%q','rolloff_99%q',\n",
    "                                                             'spec_bw_mean','spec_bw_std','spec_bw_min','spec_bw_max','spec_bw_1%q','spec_bw_cent_5%q','spec_bw_25%q','spec_bw_75%q','spec_bw_95%q','spec_bw_99%q',\n",
    "                                                             'mfcc_mean','mfcc_std','mfcc_kurt','mfcc_skew','mfcc_min','mfcc_max','mfcc_1%q','mfcc_cent_5%q','mfcc_25%q','mfcc_75%q','mfcc_95%q','mfcc_99%q','time_to_failure'])"
   ]
  },
  {
   "cell_type": "code",
   "execution_count": 5,
   "metadata": {
    "ExecuteTime": {
     "end_time": "2019-03-22T17:54:03.299349Z",
     "start_time": "2019-03-22T17:54:03.297244Z"
    }
   },
   "outputs": [],
   "source": [
    "# https://www.kaggle.com/flaport/linear-regression-on-180-features/notebook"
   ]
  },
  {
   "cell_type": "markdown",
   "metadata": {},
   "source": [
    "## Feature extrahieren"
   ]
  },
  {
   "cell_type": "markdown",
   "metadata": {},
   "source": [
    "### Überlappung definieren"
   ]
  },
  {
   "cell_type": "code",
   "execution_count": null,
   "metadata": {},
   "outputs": [],
   "source": [
    "step = 15000"
   ]
  },
  {
   "cell_type": "markdown",
   "metadata": {},
   "source": [
    "### Feature extrahieren"
   ]
  },
  {
   "cell_type": "code",
   "execution_count": null,
   "metadata": {},
   "outputs": [],
   "source": [
    "features = generate_Features(train_data,step)"
   ]
  },
  {
   "cell_type": "markdown",
   "metadata": {},
   "source": [
    "### Generierte Feature sichern"
   ]
  },
  {
   "cell_type": "code",
   "execution_count": 12,
   "metadata": {
    "ExecuteTime": {
     "end_time": "2019-03-22T18:00:53.404819Z",
     "start_time": "2019-03-22T18:00:53.400799Z"
    }
   },
   "outputs": [],
   "source": [
    "features = pd.DataFrame()"
   ]
  },
  {
   "cell_type": "code",
   "execution_count": 23,
   "metadata": {
    "ExecuteTime": {
     "end_time": "2019-03-22T18:07:36.799024Z",
     "start_time": "2019-03-22T18:07:36.794010Z"
    }
   },
   "outputs": [],
   "source": [
    "# saving the dataframe\n",
    "timestamp = time.time()\n",
    "features.to_csv(feature_data_path+'earthquakeFeatures_'+str(timestamp)+'_.csv', header=True, index=True)"
   ]
  },
  {
   "cell_type": "markdown",
   "metadata": {},
   "source": [
    "# Feature laden"
   ]
  },
  {
   "cell_type": "code",
   "execution_count": null,
   "metadata": {},
   "outputs": [],
   "source": [
    "feature_data_path = ''"
   ]
  },
  {
   "cell_type": "code",
   "execution_count": null,
   "metadata": {},
   "outputs": [],
   "source": [
    "features = pd.read_csv(feature_data_path,dtype={'acoustic_data': np.int16, 'time_to_failure': np.float64})"
   ]
  },
  {
   "cell_type": "code",
   "execution_count": null,
   "metadata": {},
   "outputs": [],
   "source": []
  },
  {
   "cell_type": "markdown",
   "metadata": {},
   "source": [
    "## New Feature\n",
    "\n",
    " - Sehr interessant für neue Feature: https://towardsdatascience.com/music-genre-classification-with-python-c714d032f0d8 \n",
    " - spectral_features https://musicinformationretrieval.com/spectral_features.html\n",
    " \n",
    " \n",
    "\n",
    "- Signal: phase, frequency, angular frequency, wavelength and a period. --> new features for mean / std / skew / kurt / percentile https://pythontic.com/visualization/signals/magnitude%20spectrum\n",
    "\n",
    " - RMS: root mean square of a signal (Effektivwert): https://de.wikipedia.org/wiki/Effektivwert\n",
    " - https://librosa.github.io/librosa/feature.html (RMS/etc..) ()"
   ]
  },
  {
   "cell_type": "code",
   "execution_count": null,
   "metadata": {},
   "outputs": [],
   "source": []
  }
 ],
 "metadata": {
  "kernelspec": {
   "display_name": "Python 3",
   "language": "python",
   "name": "python3"
  },
  "language_info": {
   "codemirror_mode": {
    "name": "ipython",
    "version": 3
   },
   "file_extension": ".py",
   "mimetype": "text/x-python",
   "name": "python",
   "nbconvert_exporter": "python",
   "pygments_lexer": "ipython3",
   "version": "3.6.8"
  },
  "toc": {
   "base_numbering": 1,
   "nav_menu": {},
   "number_sections": true,
   "sideBar": true,
   "skip_h1_title": false,
   "title_cell": "Table of Contents",
   "title_sidebar": "Contents",
   "toc_cell": false,
   "toc_position": {},
   "toc_section_display": true,
   "toc_window_display": true
  }
 },
 "nbformat": 4,
 "nbformat_minor": 2
}
