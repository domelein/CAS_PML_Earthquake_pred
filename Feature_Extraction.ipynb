{
 "cells": [
  {
   "cell_type": "markdown",
   "metadata": {},
   "source": [
    "# Umgebungsvariablen"
   ]
  },
  {
   "cell_type": "code",
   "execution_count": 1,
   "metadata": {
    "ExecuteTime": {
     "end_time": "2019-03-22T18:00:46.404376Z",
     "start_time": "2019-03-22T18:00:46.401395Z"
    }
   },
   "outputs": [],
   "source": [
    "train_data_path = '''C:/studium/studium/CAS_PML/Projekt_Arbeit/earthquake/Daten/all/train.csv'''\n",
    "feature_data_path = '''C:/studium/studium/CAS_PML/Projekt_Arbeit/earthquake/Daten/all/'''"
   ]
  },
  {
   "cell_type": "markdown",
   "metadata": {},
   "source": [
    "# Import"
   ]
  },
  {
   "cell_type": "code",
   "execution_count": 2,
   "metadata": {
    "ExecuteTime": {
     "end_time": "2019-03-22T17:57:55.501776Z",
     "start_time": "2019-03-22T17:57:55.497800Z"
    }
   },
   "outputs": [],
   "source": [
    "import time\n",
    "\n",
    "import pandas as pd\n",
    "import numpy as np\n",
    "#data visualization\n",
    "import matplotlib.pyplot as plt\n",
    "import librosa\n",
    "\n",
    "from scipy.stats import kurtosis\n",
    "from scipy.stats import skew\n",
    "\n",
    "from scipy import signal\n",
    "\n",
    "import warnings\n",
    "warnings.filterwarnings('ignore')\n",
    "\n",
    "pd.options.display.precision = 10"
   ]
  },
  {
   "cell_type": "markdown",
   "metadata": {},
   "source": [
    "# Trainingsdaten laden"
   ]
  },
  {
   "cell_type": "code",
   "execution_count": 3,
   "metadata": {},
   "outputs": [],
   "source": [
    "train_data = pd.read_csv(train_data_path, dtype={'acoustic_data': np.int16, 'time_to_failure': np.float64})"
   ]
  },
  {
   "cell_type": "markdown",
   "metadata": {},
   "source": [
    "## Low-pass (noise-reducing) filter"
   ]
  },
  {
   "cell_type": "code",
   "execution_count": 329,
   "metadata": {},
   "outputs": [],
   "source": [
    "def downsample(data, downsample_rate):\n",
    "    trunc = int((data.shape[0] // downsample_rate) * downsample_rate)\n",
    "    data = data[:trunc, :]\n",
    "    x = signal.decimate(data[:, 0].ravel(), downsample_rate)\n",
    "    y_ = data[:, 1].reshape((-1, downsample_rate)).T\n",
    "    y = y_.mean(axis=0)\n",
    "    return x, y"
   ]
  },
  {
   "cell_type": "code",
   "execution_count": 94,
   "metadata": {},
   "outputs": [
    {
     "ename": "IndexError",
     "evalue": "only integers, slices (`:`), ellipsis (`...`), numpy.newaxis (`None`) and integer or boolean arrays are valid indices",
     "output_type": "error",
     "traceback": [
      "\u001b[1;31m---------------------------------------------------------------------------\u001b[0m",
      "\u001b[1;31mIndexError\u001b[0m                                Traceback (most recent call last)",
      "\u001b[1;32m<ipython-input-94-8af30a27f2ba>\u001b[0m in \u001b[0;36m<module>\u001b[1;34m\u001b[0m\n\u001b[0;32m      2\u001b[0m \u001b[0mdsamprate\u001b[0m \u001b[1;33m=\u001b[0m \u001b[1;36m4\u001b[0m\u001b[1;33m\u001b[0m\u001b[1;33m\u001b[0m\u001b[0m\n\u001b[0;32m      3\u001b[0m \u001b[0mtrain_data_lowpassfilter\u001b[0m \u001b[1;33m=\u001b[0m \u001b[0msignal\u001b[0m\u001b[1;33m.\u001b[0m\u001b[0mdecimate\u001b[0m\u001b[1;33m(\u001b[0m\u001b[0mtrain_data\u001b[0m\u001b[1;33m.\u001b[0m\u001b[0macoustic_data\u001b[0m\u001b[1;33m,\u001b[0m \u001b[0mdsamprate\u001b[0m\u001b[1;33m)\u001b[0m\u001b[1;33m\u001b[0m\u001b[1;33m\u001b[0m\u001b[0m\n\u001b[1;32m----> 4\u001b[1;33m \u001b[0mtrain_data_lowpassfilter\u001b[0m\u001b[1;33m[\u001b[0m\u001b[1;34m'time_to_failure'\u001b[0m\u001b[1;33m]\u001b[0m \u001b[1;33m=\u001b[0m \u001b[0mtrain_data\u001b[0m\u001b[1;33m.\u001b[0m\u001b[0mtime_to_failure\u001b[0m\u001b[1;33m[\u001b[0m\u001b[1;33m:\u001b[0m\u001b[1;33m:\u001b[0m\u001b[0mdsamprate\u001b[0m\u001b[1;33m]\u001b[0m\u001b[1;33m\u001b[0m\u001b[1;33m\u001b[0m\u001b[0m\n\u001b[0m",
      "\u001b[1;31mIndexError\u001b[0m: only integers, slices (`:`), ellipsis (`...`), numpy.newaxis (`None`) and integer or boolean arrays are valid indices"
     ]
    }
   ],
   "source": [
    "#The scipy.signal.decimate function applies a low-pass (noise-reducing) filter, and samples the data every n-th value based on the downsample rate\n",
    "dsamprate = 4\n",
    "train_data_lowpassfilter = signal.decimate(train_data.acoustic_data, dsamprate)\n",
    "train_data_lowpassfilter['time_to_failure'] = train_data.time_to_failure[::dsamprate]"
   ]
  },
  {
   "cell_type": "code",
   "execution_count": 319,
   "metadata": {},
   "outputs": [],
   "source": [
    "time_to_failure_list = list(train_data.time_to_failure)[::dsamprate]"
   ]
  },
  {
   "cell_type": "markdown",
   "metadata": {},
   "source": [
    "# Feature Extraction"
   ]
  },
  {
   "cell_type": "markdown",
   "metadata": {},
   "source": [
    "Die Testsegmente bestehen jeweils aus 150.000 Messpunkte. Aus diesem Grund setzten wir die Fenstergrösse auf 150000 Messpunkte."
   ]
  },
  {
   "cell_type": "markdown",
   "metadata": {},
   "source": [
    "## Feature Extraction Function\n",
    "\n",
    "Extracting features\n",
    "We will extract\n",
    "\n",
    " - statistical moments\n",
    " - root-mean-square\n",
    " - Zero Crossing Rate\n",
    " - Spectral Centroid\n",
    " - Chroma Frequencies\n",
    " - Spectral Rolloff\n",
    " - Mel-Frequency Cepstral Coefficients"
   ]
  },
  {
   "cell_type": "code",
   "execution_count": 4,
   "metadata": {},
   "outputs": [],
   "source": [
    "def generate_featureRow_old(acoustic_data, time_to_failure, sample_rate):\n",
    "    \n",
    "    strain_feature = pd.DataFrame()\n",
    "    strain_feature['mean'] = [acoustic_data.mean()]\n",
    "    strain_feature['std'] = [acoustic_data.std()]\n",
    "    strain_feature['kurt'] = [acoustic_data.kurtosis()]\n",
    "    strain_feature['skew'] = [acoustic_data.skew()]\n",
    "    strain_feature['min'] = [acoustic_data.min()]\n",
    "    strain_feature['max'] = [acoustic_data.max()]\n",
    "    strain_feature['1%q'] = [acoustic_data.quantile(0.01, interpolation='midpoint')]\n",
    "    strain_feature['5%q'] = [acoustic_data.quantile(0.05,interpolation='midpoint')]\n",
    "    strain_feature['25%q'] = [acoustic_data.quantile(0.25,interpolation='midpoint')]\n",
    "    strain_feature['75%q'] = [acoustic_data.quantile(0.75,interpolation='midpoint')]\n",
    "    strain_feature['95%q'] = [acoustic_data.quantile(0.95,interpolation='midpoint')]\n",
    "    strain_feature['99%q'] = [acoustic_data.quantile(0.99,interpolation='midpoint')]\n",
    "    strain_feature['absMax'] = [acoustic_data.abs().max()]\n",
    "    strain_feature['absMean'] = [acoustic_data.abs().mean()]\n",
    "    strain_feature['absStd'] = [acoustic_data.abs().std()]\n",
    "    \n",
    "    \n",
    "    #Compute root-mean-square (RMS) value for each frame\n",
    "    rms = librosa.feature.rms(y=np.array(acoustic_data,dtype=np.float64),frame_length=len(acoustic_data))\n",
    "    rms = pd.Series(rms[0,:])\n",
    "    strain_feature['rms_mean'] = [rms.mean()]\n",
    "    strain_feature['rms_std'] = [rms.std()]\n",
    "    strain_feature['rms_kurt'] = [rms.kurtosis()]\n",
    "    strain_feature['rms_skew'] = [rms.skew()]\n",
    "    strain_feature['rms_min'] = [rms.min()]\n",
    "    strain_feature['rms_max'] = [rms.max()]\n",
    "    strain_feature['rms_1%q'] = [rms.quantile(0.01, interpolation='midpoint')]\n",
    "    strain_feature['rms_5%q'] = [rms.quantile(0.05,interpolation='midpoint')]\n",
    "    strain_feature['rms_25%q'] = [rms.quantile(0.25,interpolation='midpoint')]\n",
    "    strain_feature['rms_75%q'] = [rms.quantile(0.75,interpolation='midpoint')]\n",
    "    strain_feature['rms_95%q'] = [rms.quantile(0.95,interpolation='midpoint')]\n",
    "    strain_feature['rms_99%q'] = [rms.quantile(0.99,interpolation='midpoint')]\n",
    "    strain_feature['rms_absMax'] = [rms.abs().max()]\n",
    "    strain_feature['rms_absMean'] = [rms.abs().mean()]\n",
    "    strain_feature['rms_absStd'] = [rms.abs().std()]\n",
    "    \n",
    "    #Zero Crossing Rate\n",
    "    '''The zero crossing rate is the rate of sign-changes along a signal, i.e., \n",
    "    the rate at which the signal changes from positive to negative or back.'''\n",
    "    zero_crossings = librosa.zero_crossings(np.array(acoustic_data,dtype=np.float64), pad=False)\n",
    "    strain_feature['zero_crossings'] = [sum(zero_crossings)]\n",
    "    \n",
    "    #Spectral Centroid\n",
    "    '''Each frame of a magnitude spectrogram is normalized and treated as a distribution\n",
    "    over frequency bins, from which the mean (centroid) is extracted per frame.So spectral centroid for blues \n",
    "    song will lie somewhere near the middle of its spectrum while that for a metal song would be towards its end.'''\n",
    "    spectral_centroids = librosa.feature.spectral_centroid(np.array(acoustic_data,dtype=np.float64), sr=sample_rate)[0]\n",
    "    spectral_centroids = pd.Series(spectral_centroids)\n",
    "    strain_feature['spec_cent_mean'] = [spectral_centroids.mean()]\n",
    "    strain_feature['spec_cent_std'] = [spectral_centroids.std()]\n",
    "    strain_feature['spec_cent_kurt'] = [spectral_centroids.kurtosis()]\n",
    "    strain_feature['spec_cent_skew'] = [spectral_centroids.skew()]\n",
    "    strain_feature['spec_cent_min'] = [spectral_centroids.min()]\n",
    "    strain_feature['spec_cent_max'] = [spectral_centroids.max()]\n",
    "    strain_feature['spec_cent_1%q'] = [spectral_centroids.quantile(0.01, interpolation='midpoint')]\n",
    "    strain_feature['spec_cent_5%q'] = [spectral_centroids.quantile(0.05,interpolation='midpoint')]\n",
    "    strain_feature['spec_cent_25%q'] = [spectral_centroids.quantile(0.25,interpolation='midpoint')]\n",
    "    strain_feature['spec_cent_75%q'] = [spectral_centroids.quantile(0.75,interpolation='midpoint')]\n",
    "    strain_feature['spec_cent_95%q'] = [spectral_centroids.quantile(0.95,interpolation='midpoint')]\n",
    "    strain_feature['spec_cent_99%q'] = [spectral_centroids.quantile(0.99,interpolation='midpoint')]\n",
    "    strain_feature['spec_cent_absMax'] = [spectral_centroids.abs().max()]\n",
    "    strain_feature['spec_cent_absMean'] = [spectral_centroids.abs().mean()]\n",
    "    strain_feature['spec_cent_absStd'] = [spectral_centroids.abs().std()]\n",
    "    \n",
    "    \n",
    "    \n",
    "    #power spectral density\n",
    "    f, Pxx_den = signal.welch(acoustic_data, sample_rate)\n",
    "    strain_feature['psd_mean'] = [np.mean(Pxx_den)]\n",
    "    strain_feature['psd_std'] = [np.std(Pxx_den)]\n",
    "    strain_feature['psd_kurt'] = [kurtosis(Pxx_den)]\n",
    "    strain_feature['psd_skew'] = [skew(Pxx_den)]\n",
    "    strain_feature['psd_min'] = [np.min(Pxx_den)]\n",
    "    strain_feature['psd_max'] = [np.max(Pxx_den)]\n",
    "    strain_feature['psd_1%q'] = [np.quantile(Pxx_den,0.01, interpolation='midpoint')]\n",
    "    strain_feature['psd_5%q'] = [np.quantile(Pxx_den,0.05,interpolation='midpoint')]\n",
    "    strain_feature['psd_25%q'] = [np.quantile(Pxx_den,0.25,interpolation='midpoint')]\n",
    "    strain_feature['psd_75%q'] = [np.quantile(Pxx_den,0.75,interpolation='midpoint')]\n",
    "    strain_feature['psd_95%q'] = [np.quantile(Pxx_den,0.95,interpolation='midpoint')]\n",
    "    strain_feature['psd_99%q'] = [np.quantile(Pxx_den,0.99,interpolation='midpoint')]\n",
    "   \n",
    "    #Chroma Frequencies\n",
    "    '''Chroma features are an interesting and powerful representation for music audio in which the entire \n",
    "    spectrum is projected onto 12 bins representing the 12 distinct semitones (or chroma) of the musical octave.'''\n",
    "    chroma_stft = librosa.feature.chroma_stft(y=np.array(acoustic_data,dtype=np.float64), sr=sample_rate)\n",
    "    strain_feature['chroma_stft_mean'] = [np.mean(chroma_stft)]\n",
    "    strain_feature['chroma_stft_std'] = [np.std(chroma_stft)]\n",
    "    strain_feature['chroma_stft_kurt'] = [kurtosis(chroma_stft[0])]\n",
    "    strain_feature['chroma_stft_skew'] = [skew(chroma_stft[0])]\n",
    "    strain_feature['chroma_stft_min'] = [np.min(chroma_stft)]\n",
    "    strain_feature['chroma_stft_max'] = [np.max(chroma_stft)]\n",
    "    strain_feature['chroma_stft_1%q'] = [np.quantile(chroma_stft,0.01, interpolation='midpoint')]\n",
    "    strain_feature['chroma_stft_5%q'] = [np.quantile(chroma_stft,0.05,interpolation='midpoint')]\n",
    "    strain_feature['chroma_stft_25%q'] = [np.quantile(chroma_stft,0.25,interpolation='midpoint')]\n",
    "    strain_feature['chroma_stft_75%q'] = [np.quantile(chroma_stft,0.75,interpolation='midpoint')]\n",
    "    strain_feature['chroma_stft_95%q'] = [np.quantile(chroma_stft,0.95,interpolation='midpoint')]\n",
    "    strain_feature['chroma_stft_99%q'] = [np.quantile(chroma_stft,0.99,interpolation='midpoint')]\n",
    "    \n",
    "    #Spectral Rolloff\n",
    "    '''It is a measure of the shape of the signal. \n",
    "    It represents the frequency below which a specified percentage of the total spectral energy, e.g. 85%, lies.'''\n",
    "    rolloff = librosa.feature.spectral_rolloff(y=np.array(acoustic_data,dtype=np.float64), sr=sample_rate)[0]\n",
    "    strain_feature['rolloff_mean'] = [np.mean(rolloff)]\n",
    "    strain_feature['rolloff_std'] = [np.std(rolloff)]\n",
    "    strain_feature['rolloff_kurt'] = [kurtosis(rolloff)]\n",
    "    strain_feature['rolloff_skew'] = [skew(rolloff)]\n",
    "    strain_feature['rolloff_min'] = [np.min(rolloff)]\n",
    "    strain_feature['rolloff_max'] = [np.max(rolloff)]\n",
    "    strain_feature['rolloff_1%q'] = [np.quantile(rolloff,0.01, interpolation='midpoint')]\n",
    "    strain_feature['rolloff_5%q'] = [np.quantile(rolloff,0.05,interpolation='midpoint')]\n",
    "    strain_feature['rolloff_25%q'] = [np.quantile(rolloff,0.25,interpolation='midpoint')]\n",
    "    strain_feature['rolloff_75%q'] = [np.quantile(rolloff,0.75,interpolation='midpoint')]\n",
    "    strain_feature['rolloff_95%q'] = [np.quantile(rolloff,0.95,interpolation='midpoint')]\n",
    "    strain_feature['rolloff_99%q'] = [np.quantile(rolloff,0.99,interpolation='midpoint')]\n",
    "    \n",
    "    #spectral_bandwidth\n",
    "    spec_bw = librosa.feature.spectral_bandwidth(y=np.array(acoustic_data,dtype=np.float64), sr=sample_rate)\n",
    "    spec_bw = spec_bw[0,:]\n",
    "    strain_feature['spec_bw_mean'] = [np.mean(spec_bw)]\n",
    "    strain_feature['spec_bw_std'] = [np.std(spec_bw)]\n",
    "    strain_feature['spec_bw_kurt'] = [kurtosis(spec_bw)]\n",
    "    strain_feature['spec_bw_skew'] = [skew(spec_bw)]\n",
    "    strain_feature['spec_bw_min'] = [np.min(spec_bw)]\n",
    "    strain_feature['spec_bw_max'] = [np.max(spec_bw)]\n",
    "    strain_feature['spec_bw_1%q'] = [np.quantile(spec_bw,0.01, interpolation='midpoint')]\n",
    "    strain_feature['spec_bw_5%q'] = [np.quantile(spec_bw,0.05,interpolation='midpoint')]\n",
    "    strain_feature['spec_bw_25%q'] = [np.quantile(spec_bw,0.25,interpolation='midpoint')]\n",
    "    strain_feature['spec_bw_75%q'] = [np.quantile(spec_bw,0.75,interpolation='midpoint')]\n",
    "    strain_feature['spec_bw_95%q'] = [np.quantile(spec_bw,0.95,interpolation='midpoint')]\n",
    "    strain_feature['spec_bw_99%q'] = [np.quantile(spec_bw,0.99,interpolation='midpoint')]\n",
    "    \n",
    "                          \n",
    "                \n",
    "    #Time to failure\n",
    "    strain_feature['time_to_failure'] = time_to_failure.values[-1]\n",
    "  \n",
    "    return strain_feature"
   ]
  },
  {
   "cell_type": "markdown",
   "metadata": {},
   "source": [
    "Reduced according feature selection"
   ]
  },
  {
   "cell_type": "code",
   "execution_count": 4,
   "metadata": {},
   "outputs": [],
   "source": [
    "def generate_featureRow(acoustic_data, time_to_failure, sample_rate):\n",
    "    \n",
    "    strain_feature = pd.DataFrame()\n",
    "    strain_feature['mean'] = [acoustic_data.mean()]\n",
    "    strain_feature['kurt'] = [acoustic_data.kurtosis()]\n",
    "    strain_feature['skew'] = [acoustic_data.skew()]\n",
    "    strain_feature['min'] = [acoustic_data.min()]\n",
    "    strain_feature['max'] = [acoustic_data.max()]\n",
    "   \n",
    "    strain_feature['absMax'] = [acoustic_data.abs().max()]\n",
    "    \n",
    "    #Compute root-mean-square (RMS) value for each frame\n",
    "    rms = librosa.feature.rms(y=np.array(acoustic_data,dtype=np.float64),frame_length=len(acoustic_data))\n",
    "    rms = pd.Series(rms[0,:])\n",
    "    strain_feature['rms_kurt'] = [rms.kurtosis()]\n",
    "  \n",
    "    #Zero Crossing Rate\n",
    "    '''The zero crossing rate is the rate of sign-changes along a signal, i.e., \n",
    "    the rate at which the signal changes from positive to negative or back.'''\n",
    "    zero_crossings = librosa.zero_crossings(np.array(acoustic_data,dtype=np.float64), pad=False)\n",
    "    strain_feature['zero_crossings'] = [sum(zero_crossings)]\n",
    "    \n",
    "    #Spectral Centroid\n",
    "    '''Each frame of a magnitude spectrogram is normalized and treated as a distribution\n",
    "    over frequency bins, from which the mean (centroid) is extracted per frame.So spectral centroid for blues \n",
    "    song will lie somewhere near the middle of its spectrum while that for a metal song would be towards its end.'''\n",
    "    spectral_centroids = librosa.feature.spectral_centroid(np.array(acoustic_data,dtype=np.float64), sr=sample_rate)[0]\n",
    "    spectral_centroids = pd.Series(spectral_centroids)\n",
    "    strain_feature['spec_cent_max'] = [spectral_centroids.max()]\n",
    "    strain_feature['spec_cent_75%q'] = [spectral_centroids.quantile(0.75,interpolation='midpoint')]\n",
    "\n",
    "    #power spectral density\n",
    "    f, Pxx_den = signal.welch(acoustic_data, sample_rate)\n",
    "    strain_feature['psd_kurt'] = [kurtosis(Pxx_den)]\n",
    "    strain_feature['psd_skew'] = [skew(Pxx_den)]\n",
    "    strain_feature['psd_min'] = [np.min(Pxx_den)]\n",
    "    strain_feature['psd_5%q'] = [np.quantile(Pxx_den,0.05,interpolation='midpoint')]\n",
    "    strain_feature['psd_25%q'] = [np.quantile(Pxx_den,0.25,interpolation='midpoint')]\n",
    "    strain_feature['psd_75%q'] = [np.quantile(Pxx_den,0.75,interpolation='midpoint')]\n",
    "   \n",
    "    #Chroma Frequencies\n",
    "    '''Chroma features are an interesting and powerful representation for music audio in which the entire \n",
    "    spectrum is projected onto 12 bins representing the 12 distinct semitones (or chroma) of the musical octave.'''\n",
    "    chroma_stft = librosa.feature.chroma_stft(y=np.array(acoustic_data,dtype=np.float64), sr=sample_rate)\n",
    "   \n",
    "    strain_feature['chroma_stft_skew'] = [skew(chroma_stft[0])]\n",
    "    strain_feature['chroma_stft_75%q'] = [np.quantile(chroma_stft,0.75,interpolation='midpoint')]\n",
    "    \n",
    "    #spectral_bandwidth\n",
    "    spec_bw = librosa.feature.spectral_bandwidth(y=np.array(acoustic_data,dtype=np.float64), sr=sample_rate)\n",
    "    spec_bw = spec_bw[0,:]\n",
    "    strain_feature['spec_bw_max'] = [np.max(spec_bw)]\n",
    "    strain_feature['spec_bw_99%q'] = [np.quantile(spec_bw,0.99,interpolation='midpoint')]\n",
    "  \n",
    "    #Time to failure\n",
    "    strain_feature['time_to_failure'] = time_to_failure.values[-1]\n",
    "\n",
    "    return strain_feature"
   ]
  },
  {
   "cell_type": "markdown",
   "metadata": {},
   "source": [
    "Window wird durch das Trainingssignal geschoben mit einer Überlappung von step"
   ]
  },
  {
   "cell_type": "code",
   "execution_count": 5,
   "metadata": {
    "ExecuteTime": {
     "end_time": "2019-03-22T17:48:45.470117Z",
     "start_time": "2019-03-22T17:48:45.464132Z"
    }
   },
   "outputs": [],
   "source": [
    "def generate_Features(train,step,sample_rate):\n",
    "    \n",
    "    window_size=150000\n",
    "    \n",
    "    init_idx = 0\n",
    "    features = pd.DataFrame()\n",
    "\n",
    "    while (init_idx + window_size < len(train)):\n",
    "        window = train.iloc[init_idx:init_idx + window_size]\n",
    "        features = features.append(generate_featureRow(window.acoustic_data,window.time_to_failure,sample_rate), ignore_index=True)\n",
    "        init_idx += step\n",
    "   \n",
    "    return features"
   ]
  },
  {
   "cell_type": "code",
   "execution_count": 6,
   "metadata": {
    "ExecuteTime": {
     "end_time": "2019-03-22T17:54:03.299349Z",
     "start_time": "2019-03-22T17:54:03.297244Z"
    }
   },
   "outputs": [],
   "source": [
    "# https://www.kaggle.com/flaport/linear-regression-on-180-features/notebook"
   ]
  },
  {
   "cell_type": "markdown",
   "metadata": {},
   "source": [
    "## Feature extrahieren"
   ]
  },
  {
   "cell_type": "markdown",
   "metadata": {},
   "source": [
    "### Testhalber eine Reihe extrahieren"
   ]
  },
  {
   "cell_type": "code",
   "execution_count": 7,
   "metadata": {},
   "outputs": [],
   "source": [
    "step = 150000\n",
    "train_data_test = train_data.iloc[0:151000,:] "
   ]
  },
  {
   "cell_type": "code",
   "execution_count": 8,
   "metadata": {},
   "outputs": [],
   "source": [
    "sample_rate = 4000000\n",
    "features = generate_Features(train_data_test,step,sample_rate)"
   ]
  },
  {
   "cell_type": "code",
   "execution_count": 10,
   "metadata": {},
   "outputs": [
    {
     "data": {
      "text/html": [
       "<div>\n",
       "<style scoped>\n",
       "    .dataframe tbody tr th:only-of-type {\n",
       "        vertical-align: middle;\n",
       "    }\n",
       "\n",
       "    .dataframe tbody tr th {\n",
       "        vertical-align: top;\n",
       "    }\n",
       "\n",
       "    .dataframe thead th {\n",
       "        text-align: right;\n",
       "    }\n",
       "</style>\n",
       "<table border=\"1\" class=\"dataframe\">\n",
       "  <thead>\n",
       "    <tr style=\"text-align: right;\">\n",
       "      <th></th>\n",
       "      <th>mean</th>\n",
       "      <th>kurt</th>\n",
       "      <th>skew</th>\n",
       "      <th>min</th>\n",
       "      <th>max</th>\n",
       "      <th>absMax</th>\n",
       "      <th>rms_kurt</th>\n",
       "      <th>zero_crossings</th>\n",
       "      <th>spec_cent_max</th>\n",
       "      <th>spec_cent_75%q</th>\n",
       "      <th>...</th>\n",
       "      <th>psd_skew</th>\n",
       "      <th>psd_min</th>\n",
       "      <th>psd_5%q</th>\n",
       "      <th>psd_25%q</th>\n",
       "      <th>psd_75%q</th>\n",
       "      <th>chroma_stft_skew</th>\n",
       "      <th>chroma_stft_75%q</th>\n",
       "      <th>spec_bw_max</th>\n",
       "      <th>spec_bw_99%q</th>\n",
       "      <th>time_to_failure</th>\n",
       "    </tr>\n",
       "  </thead>\n",
       "  <tbody>\n",
       "    <tr>\n",
       "      <th>0</th>\n",
       "      <td>4.8841133333</td>\n",
       "      <td>33.6624812935</td>\n",
       "      <td>-0.0240611666</td>\n",
       "      <td>-98</td>\n",
       "      <td>104</td>\n",
       "      <td>104</td>\n",
       "      <td>-1.9144601086</td>\n",
       "      <td>11112</td>\n",
       "      <td>779718.3984031264</td>\n",
       "      <td>733159.4642193337</td>\n",
       "      <td>...</td>\n",
       "      <td>4.6738462448</td>\n",
       "      <td>0.0000005522</td>\n",
       "      <td>0.0000011604</td>\n",
       "      <td>0.0000018106</td>\n",
       "      <td>0.0000051602</td>\n",
       "      <td>0.3649612855</td>\n",
       "      <td>0.9961892727</td>\n",
       "      <td>593848.0949585186</td>\n",
       "      <td>589247.3423812583</td>\n",
       "      <td>1.4307971859</td>\n",
       "    </tr>\n",
       "  </tbody>\n",
       "</table>\n",
       "<p>1 rows × 21 columns</p>\n",
       "</div>"
      ],
      "text/plain": [
       "           mean           kurt          skew  min  max  absMax      rms_kurt  \\\n",
       "0  4.8841133333  33.6624812935 -0.0240611666  -98  104     104 -1.9144601086   \n",
       "\n",
       "   zero_crossings      spec_cent_max     spec_cent_75%q  ...      psd_skew  \\\n",
       "0           11112  779718.3984031264  733159.4642193337  ...  4.6738462448   \n",
       "\n",
       "        psd_min       psd_5%q      psd_25%q      psd_75%q  chroma_stft_skew  \\\n",
       "0  0.0000005522  0.0000011604  0.0000018106  0.0000051602      0.3649612855   \n",
       "\n",
       "   chroma_stft_75%q        spec_bw_max       spec_bw_99%q  time_to_failure  \n",
       "0      0.9961892727  593848.0949585186  589247.3423812583     1.4307971859  \n",
       "\n",
       "[1 rows x 21 columns]"
      ]
     },
     "execution_count": 10,
     "metadata": {},
     "output_type": "execute_result"
    }
   ],
   "source": [
    "features"
   ]
  },
  {
   "cell_type": "markdown",
   "metadata": {},
   "source": [
    "### Überlappung definieren"
   ]
  },
  {
   "cell_type": "code",
   "execution_count": 6,
   "metadata": {},
   "outputs": [],
   "source": [
    "sample_rate = 4000000\n",
    "step = 15000"
   ]
  },
  {
   "cell_type": "markdown",
   "metadata": {},
   "source": [
    "## Feature extrahieren"
   ]
  },
  {
   "cell_type": "code",
   "execution_count": 7,
   "metadata": {},
   "outputs": [],
   "source": [
    "features = generate_Features(train_data,step,sample_rate)"
   ]
  },
  {
   "cell_type": "code",
   "execution_count": 8,
   "metadata": {},
   "outputs": [
    {
     "data": {
      "text/plain": [
       "(41934, 95)"
      ]
     },
     "execution_count": 8,
     "metadata": {},
     "output_type": "execute_result"
    }
   ],
   "source": [
    "features.shape"
   ]
  },
  {
   "cell_type": "code",
   "execution_count": null,
   "metadata": {},
   "outputs": [],
   "source": []
  },
  {
   "cell_type": "markdown",
   "metadata": {},
   "source": [
    "### Generierte Feature sichern"
   ]
  },
  {
   "cell_type": "code",
   "execution_count": 9,
   "metadata": {
    "ExecuteTime": {
     "end_time": "2019-03-22T18:07:36.799024Z",
     "start_time": "2019-03-22T18:07:36.794010Z"
    }
   },
   "outputs": [],
   "source": [
    "# saving the dataframe\n",
    "timestamp = time.time()\n",
    "features.to_csv(feature_data_path+'earthquakeFeatures_'+str(timestamp)+'_.csv', header=True, index=True)"
   ]
  },
  {
   "cell_type": "markdown",
   "metadata": {},
   "source": [
    "# Feature laden"
   ]
  },
  {
   "cell_type": "code",
   "execution_count": null,
   "metadata": {},
   "outputs": [],
   "source": [
    "feature_data_path = ''"
   ]
  },
  {
   "cell_type": "code",
   "execution_count": null,
   "metadata": {},
   "outputs": [],
   "source": [
    "features = pd.read_csv(feature_data_path,dtype={'acoustic_data': np.int16, 'time_to_failure': np.float64})"
   ]
  },
  {
   "cell_type": "code",
   "execution_count": null,
   "metadata": {},
   "outputs": [],
   "source": []
  },
  {
   "cell_type": "markdown",
   "metadata": {},
   "source": [
    "## New Feature\n",
    "\n",
    " - Sehr interessant für neue Feature: https://towardsdatascience.com/music-genre-classification-with-python-c714d032f0d8 \n",
    " - spectral_features https://musicinformationretrieval.com/spectral_features.html\n",
    " \n",
    " \n",
    "\n",
    "- Signal: phase, frequency, angular frequency, wavelength and a period. --> new features for mean / std / skew / kurt / percentile https://pythontic.com/visualization/signals/magnitude%20spectrum\n",
    "\n",
    " - RMS: root mean square of a signal (Effektivwert): https://de.wikipedia.org/wiki/Effektivwert\n",
    " - https://librosa.github.io/librosa/feature.html (RMS/etc..) ()"
   ]
  },
  {
   "cell_type": "code",
   "execution_count": null,
   "metadata": {},
   "outputs": [],
   "source": []
  }
 ],
 "metadata": {
  "kernelspec": {
   "display_name": "Python 3",
   "language": "python",
   "name": "python3"
  },
  "language_info": {
   "codemirror_mode": {
    "name": "ipython",
    "version": 3
   },
   "file_extension": ".py",
   "mimetype": "text/x-python",
   "name": "python",
   "nbconvert_exporter": "python",
   "pygments_lexer": "ipython3",
   "version": "3.6.8"
  },
  "toc": {
   "base_numbering": 1,
   "nav_menu": {},
   "number_sections": true,
   "sideBar": true,
   "skip_h1_title": false,
   "title_cell": "Table of Contents",
   "title_sidebar": "Contents",
   "toc_cell": false,
   "toc_position": {},
   "toc_section_display": true,
   "toc_window_display": true
  }
 },
 "nbformat": 4,
 "nbformat_minor": 2
}
