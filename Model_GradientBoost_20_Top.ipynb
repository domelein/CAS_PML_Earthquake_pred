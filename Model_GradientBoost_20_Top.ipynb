{
 "cells": [
  {
   "cell_type": "markdown",
   "metadata": {},
   "source": [
    "# Gradient Boost Machine"
   ]
  },
  {
   "cell_type": "markdown",
   "metadata": {},
   "source": [
    "\n",
    "## Einleitung\n",
    "\n",
    "boosting controls both the aspects (bias & variance). It combines a set of weak learners and delivers improved prediction accuracy.\n",
    "\n",
    "The overall parameters can be divided into 3 categories:\n",
    "\n",
    "  -  Tree-Specific Parameters: These affect each individual tree in the model.\n",
    "  -  Boosting Parameters: These affect the boosting operation in the model.\n",
    "  -  Miscellaneous Parameters: Other parameters for overall functioning.\n",
    "  \n",
    "  \n",
    "  Quelle:\n",
    "https://www.analyticsvidhya.com/blog/2016/02/complete-guide-parameter-tuning-gradient-boosting-gbm-python/https://www.analyticsvidhya.com/blog/2016/02/complete-guide-parameter-tuning-gradient-boosting-gbm-python/"
   ]
  },
  {
   "cell_type": "code",
   "execution_count": 2,
   "metadata": {
    "ExecuteTime": {
     "end_time": "2019-03-30T15:13:53.992597Z",
     "start_time": "2019-03-30T15:13:51.993940Z"
    }
   },
   "outputs": [],
   "source": [
    "import pandas as pd\n",
    "import numpy as np\n",
    "#data visualization\n",
    "import matplotlib.pyplot as plt\n",
    "import librosa\n",
    "from sklearn.model_selection import train_test_split\n",
    "\n",
    "from scipy.stats import kurtosis\n",
    "from scipy.stats import skew\n",
    "\n",
    "from sklearn.utils import shuffle\n",
    "\n",
    "pd.options.display.precision = 10"
   ]
  },
  {
   "cell_type": "markdown",
   "metadata": {},
   "source": [
    "## Umgebungsvariablen"
   ]
  },
  {
   "cell_type": "code",
   "execution_count": 3,
   "metadata": {
    "ExecuteTime": {
     "end_time": "2019-03-30T15:13:54.001610Z",
     "start_time": "2019-03-30T15:13:53.995614Z"
    }
   },
   "outputs": [],
   "source": [
    "#feature generated 24.03.2019\n",
    "earthquake_daten = '''C:/studium/studium/CAS_PML/Projekt_Arbeit/earthquake/Daten/earthquake_data/'''\n",
    "feature_62900_94 = 'Features_62900-94.csv'\n",
    "feature_41934_94 = 'Features_41934_94.csv'\n",
    "Features_4194_94 = 'Features_4194_94.csv'"
   ]
  },
  {
   "cell_type": "markdown",
   "metadata": {},
   "source": [
    "# Feature laden"
   ]
  },
  {
   "cell_type": "code",
   "execution_count": 4,
   "metadata": {
    "ExecuteTime": {
     "end_time": "2019-03-30T15:13:55.895470Z",
     "start_time": "2019-03-30T15:13:55.720938Z"
    }
   },
   "outputs": [],
   "source": [
    "train_data = pd.read_csv(earthquake_daten+Features_4194_94)\n",
    "train_data = shuffle(train_data, random_state=10)"
   ]
  },
  {
   "cell_type": "code",
   "execution_count": 48,
   "metadata": {
    "ExecuteTime": {
     "end_time": "2019-03-30T14:36:23.484708Z",
     "start_time": "2019-03-30T14:36:23.480326Z"
    }
   },
   "outputs": [],
   "source": [
    "feature_data = train_data.iloc[:,1:95]\n",
    "time_to_failure = np.array(train_data.iloc[:,-1])"
   ]
  },
  {
   "cell_type": "markdown",
   "metadata": {},
   "source": [
    "## Feature Filtern"
   ]
  },
  {
   "cell_type": "markdown",
   "metadata": {},
   "source": [
    "Top 20 features aus den 94 Features erhalten aus dem optimierten Modell 94"
   ]
  },
  {
   "cell_type": "code",
   "execution_count": 49,
   "metadata": {
    "ExecuteTime": {
     "end_time": "2019-03-30T14:36:27.899690Z",
     "start_time": "2019-03-30T14:36:27.895710Z"
    }
   },
   "outputs": [],
   "source": [
    "items_to_filter = ['spec_cent_75%q', 'rolloff_75%q', 'spec_cent_mean', 'spec_cent_95%q', 'spec_bw_25%q', '5%q', 'zero_crossings', 'absMax', 'max', 'min', 'spec_cent_absMean', 'skew', 'mean', 'spec_cent_skew', 'spec_cent_min', 'spec_bw_75%q', 'spec_bw_min', 'chroma_stft_std', 'kurt', 'spec_cent_99%q']"
   ]
  },
  {
   "cell_type": "code",
   "execution_count": 50,
   "metadata": {
    "ExecuteTime": {
     "end_time": "2019-03-30T14:36:28.275208Z",
     "start_time": "2019-03-30T14:36:28.272218Z"
    }
   },
   "outputs": [],
   "source": [
    "filtered_feature_data = feature_data.filter(items=items_to_filter)"
   ]
  },
  {
   "cell_type": "code",
   "execution_count": 51,
   "metadata": {
    "ExecuteTime": {
     "end_time": "2019-03-30T14:36:28.731506Z",
     "start_time": "2019-03-30T14:36:28.727548Z"
    }
   },
   "outputs": [],
   "source": [
    "feature_data = filtered_feature_data"
   ]
  },
  {
   "cell_type": "markdown",
   "metadata": {},
   "source": [
    "## Training / Testdaten vorbereiten"
   ]
  },
  {
   "cell_type": "code",
   "execution_count": 52,
   "metadata": {
    "ExecuteTime": {
     "end_time": "2019-03-30T14:36:31.853404Z",
     "start_time": "2019-03-30T14:36:31.848294Z"
    }
   },
   "outputs": [],
   "source": [
    "X_train, X_test, y_train, y_test = train_test_split(\n",
    "    feature_data,\n",
    "    time_to_failure,\n",
    "    random_state=0,\n",
    "    test_size=0.25)"
   ]
  },
  {
   "cell_type": "markdown",
   "metadata": {},
   "source": [
    "# Model Workbench"
   ]
  },
  {
   "cell_type": "markdown",
   "metadata": {},
   "source": [
    "## Imports"
   ]
  },
  {
   "cell_type": "code",
   "execution_count": 5,
   "metadata": {
    "ExecuteTime": {
     "end_time": "2019-03-30T15:14:05.184222Z",
     "start_time": "2019-03-30T15:14:04.119010Z"
    }
   },
   "outputs": [],
   "source": [
    "# Scaler\n",
    "\n",
    "\n",
    "# Model selection\n",
    "from sklearn.pipeline import Pipeline\n",
    "from sklearn.model_selection import GridSearchCV\n",
    "from sklearn.model_selection import cross_val_score\n",
    "from sklearn.metrics import mean_absolute_error\n",
    "from sklearn.model_selection import train_test_split\n",
    "from sklearn.preprocessing import PolynomialFeatures\n",
    "\n",
    "# Modell\n",
    "from sklearn.ensemble import GradientBoostingRegressor\n",
    "from catboost import CatBoostRegressor, Pool\n",
    "from sklearn.ensemble import RandomForestRegressor\n",
    "from sklearn.svm import SVR"
   ]
  },
  {
   "cell_type": "markdown",
   "metadata": {},
   "source": [
    "Quelle: https://www.analyticsvidhya.com/blog/2016/02/complete-guide-parameter-tuning-gradient-boosting-gbm-python/"
   ]
  },
  {
   "cell_type": "code",
   "execution_count": 54,
   "metadata": {
    "ExecuteTime": {
     "end_time": "2019-03-30T14:36:38.853066Z",
     "start_time": "2019-03-30T14:36:38.848079Z"
    }
   },
   "outputs": [],
   "source": [
    "def getMostImportendFeatuers(feat_imp, topAmount):\n",
    "    '''Gibt die wichtigsten Features zurück. Wird benötigt, um die Trainingsdaten und Testdaten \n",
    "    anhand Featuers zu filtern.'''\n",
    "    i = 0\n",
    "    featureFilter = list()\n",
    "    for feature in feat_imp:\n",
    "        featureFilter.append(feature)\n",
    "        i +=1\n",
    "        if i >= topAmount:\n",
    "            break\n",
    "    return featureFilter"
   ]
  },
  {
   "cell_type": "code",
   "execution_count": 55,
   "metadata": {
    "ExecuteTime": {
     "end_time": "2019-03-30T14:36:39.309960Z",
     "start_time": "2019-03-30T14:36:39.303969Z"
    }
   },
   "outputs": [],
   "source": [
    "def modelfit(alg, dtrain, time_to_failure, performCV=True, printFeatureImportance=True, cv_folds=5):\n",
    "    #Fit the algorithm on the data\n",
    "    alg.fit(dtrain, time_to_failure)\n",
    "      \n",
    "    #Predict training set:\n",
    "    dtrain_predictions = alg.predict(dtrain)\n",
    "\n",
    "    #Perform cross-validation:\n",
    "    if performCV:\n",
    "        cv_score = cross_val_score(alg, dtrain, time_to_failure, cv=cv_folds, scoring='neg_mean_absolute_error',n_jobs=-1)\n",
    "    \n",
    "    #Print model report:\n",
    "    print(\"\\nModel Report 20 F\")\n",
    "    print(\"MAE train data: %.4g\" % mean_absolute_error(time_to_failure, dtrain_predictions)) \n",
    "    \n",
    "    if performCV:\n",
    "        print(\"CV Score MAE: \\nMean %.7g \\nStd %.7g \\nMin %.7g \\nMax %.7g\" % (np.mean(cv_score),np.std(cv_score),np.min(cv_score),np.max(cv_score)))\n",
    "    \n",
    "    #Print Feature Importance:\n",
    "    if printFeatureImportance:\n",
    "        feat_imp = pd.Series(alg.feature_importances_, dtrain.columns).sort_values(ascending=False)\n",
    "        feat_imp.plot(kind='bar', title='Feature Importances',figsize=(15,10))\n",
    "        plt.ylabel('Feature Importance Score')\n",
    "        plt.show()\n",
    "        print('Top 20 Feature')\n",
    "        print(getMostImportendFeatuers(feat_imp.index,20))"
   ]
  },
  {
   "cell_type": "markdown",
   "metadata": {},
   "source": [
    "# Baseline"
   ]
  },
  {
   "cell_type": "code",
   "execution_count": 22,
   "metadata": {
    "ExecuteTime": {
     "end_time": "2019-03-30T12:24:19.346851Z",
     "start_time": "2019-03-30T12:24:18.380432Z"
    }
   },
   "outputs": [
    {
     "name": "stdout",
     "output_type": "stream",
     "text": [
      "\n",
      "Model Report 20 F\n",
      "MAE train data: 1.878\n",
      "CV Score MAE: \n",
      "Mean -2.068691 \n",
      "Std 0.06864595 \n",
      "Min -2.164078 \n",
      "Max -1.981494\n"
     ]
    },
    {
     "data": {
      "image/png": "[encoded data removed]",
      "text/plain": [
       "<Figure size 1080x720 with 1 Axes>"
      ]
     },
     "metadata": {
      "needs_background": "light"
     },
     "output_type": "display_data"
    },
    {
     "name": "stdout",
     "output_type": "stream",
     "text": [
      "Top 20 Feature\n",
      "['spec_cent_75%q', 'rolloff_75%q', 'spec_bw_25%q', 'spec_bw_75%q', 'spec_cent_95%q', 'zero_crossings', 'mean', 'spec_cent_skew', 'spec_bw_min', 'chroma_stft_std', 'skew', 'spec_cent_99%q', 'spec_cent_min', 'kurt', 'max', 'min', 'spec_cent_mean', 'spec_cent_absMean', 'absMax', '5%q']\n"
     ]
    }
   ],
   "source": [
    "gbm0 = GradientBoostingRegressor(random_state=10)\n",
    "modelfit(gbm0, feature_data, time_to_failure)"
   ]
  },
  {
   "cell_type": "markdown",
   "metadata": {},
   "source": [
    "# Parameter Tuning"
   ]
  },
  {
   "cell_type": "markdown",
   "metadata": {},
   "source": [
    " Tune tree based and boosting parameters"
   ]
  },
  {
   "cell_type": "markdown",
   "metadata": {},
   "source": [
    "## Tree based parameter"
   ]
  },
  {
   "cell_type": "markdown",
   "metadata": {},
   "source": [
    "Fix learning rate and number of estimators for tuning tree-based parameters"
   ]
  },
  {
   "cell_type": "markdown",
   "metadata": {},
   "source": [
    "### Determine the optimum number of trees and learning rate arround to tune tree based parameter"
   ]
  },
  {
   "cell_type": "markdown",
   "metadata": {},
   "source": [
    "Fix learning rate and number of estimators for tuning tree-based parameters\n",
    "In order to decide on boosting parameters, we need to set some initial values of other parameters. Lets take the following values:\n",
    "\n",
    "min_samples_split = 500 : This should be ~0.5-1% of total values. Since this is imbalanced class problem, we’ll take a small value from the range.\n",
    "min_samples_leaf = 50 : Can be selected based on intuition. This is just used for preventing overfitting and again a small value because of imbalanced classes.\n",
    "max_depth = 8 : Should be chosen (5-8) based on the number of observations and predictors. This has 87K rows and 49 columns so lets take 8 here.\n",
    "max_features = ‘sqrt’ : Its a general thumb-rule to start with square root.\n",
    "subsample = 0.8 : This is a commonly used used start value"
   ]
  },
  {
   "cell_type": "code",
   "execution_count": 8,
   "metadata": {
    "ExecuteTime": {
     "end_time": "2019-03-30T15:14:35.292848Z",
     "start_time": "2019-03-30T15:14:35.288807Z"
    }
   },
   "outputs": [],
   "source": [
    "param_test1 = {'n_estimators':range(40,121,10)}"
   ]
  },
  {
   "cell_type": "code",
   "execution_count": 9,
   "metadata": {
    "ExecuteTime": {
     "end_time": "2019-03-30T15:15:05.833449Z",
     "start_time": "2019-03-30T15:14:36.834000Z"
    }
   },
   "outputs": [
    {
     "name": "stdout",
     "output_type": "stream",
     "text": [
      "Best params {'n_estimators': 120}\n",
      "Best MAE score: -1.7874741956512779\n"
     ]
    }
   ],
   "source": [
    "min_samples_split = int(feature_data.shape[0]*0.008)\n",
    "\n",
    "estimator = GradientBoostingRegressor(\n",
    "            learning_rate=0.2, \n",
    "            min_samples_split=500,\n",
    "            min_samples_leaf=50,\n",
    "            max_depth=8,\n",
    "            max_features='sqrt',\n",
    "            subsample=0.8,\n",
    "            random_state=10)\n",
    "\n",
    "gsearch1 = GridSearchCV(\n",
    "    estimator = estimator,\n",
    "    param_grid = param_test1, \n",
    "    scoring='neg_mean_absolute_error',\n",
    "    iid=False,\n",
    "    n_jobs=-1,\n",
    "    cv=5)\n",
    "                        \n",
    "gsearch1.fit(feature_data,time_to_failure)\n",
    "\n",
    "print('Best params {}'.format(gsearch1.best_params_))\n",
    "print('Best MAE score: {}'.format(gsearch1.best_score_))"
   ]
  },
  {
   "cell_type": "markdown",
   "metadata": {},
   "source": [
    "learning-rate verringern, damit die Anzahl Bäume steigt"
   ]
  },
  {
   "cell_type": "markdown",
   "metadata": {},
   "source": [
    "### Tuning tree-specific parameters"
   ]
  },
  {
   "cell_type": "code",
   "execution_count": 57,
   "metadata": {
    "ExecuteTime": {
     "end_time": "2019-03-30T14:38:50.723342Z",
     "start_time": "2019-03-30T14:38:50.720282Z"
    }
   },
   "outputs": [],
   "source": [
    "n_estimators = 40\n",
    "learning_rate = 0.2"
   ]
  },
  {
   "cell_type": "markdown",
   "metadata": {},
   "source": [
    "### Tune max_depth and num_samples_split"
   ]
  },
  {
   "cell_type": "code",
   "execution_count": 58,
   "metadata": {
    "ExecuteTime": {
     "end_time": "2019-03-30T14:39:01.992450Z",
     "start_time": "2019-03-30T14:38:56.912010Z"
    },
    "scrolled": true
   },
   "outputs": [
    {
     "data": {
      "text/plain": [
       "GridSearchCV(cv=5, error_score='raise-deprecating',\n",
       "       estimator=GradientBoostingRegressor(alpha=0.9, criterion='friedman_mse', init=None,\n",
       "             learning_rate=0.2, loss='ls', max_depth=3,\n",
       "             max_features='sqrt', max_leaf_nodes=None,\n",
       "             min_impurity_decrease=0.0, min_impurity_split=None,\n",
       "             min_samples_leaf=1, min_sam...       subsample=0.8, tol=0.0001, validation_fraction=0.1, verbose=0,\n",
       "             warm_start=False),\n",
       "       fit_params=None, iid=False, n_jobs=-1,\n",
       "       param_grid={'max_depth': range(2, 16, 2), 'min_samples_split': range(10, 1001, 100)},\n",
       "       pre_dispatch='2*n_jobs', refit=True, return_train_score='warn',\n",
       "       scoring='neg_mean_absolute_error', verbose=0)"
      ]
     },
     "execution_count": 58,
     "metadata": {},
     "output_type": "execute_result"
    }
   ],
   "source": [
    "param_test2 = {'max_depth':range(2,16,2), 'min_samples_split':range(10,1001,100)}\n",
    "\n",
    "gsearch2 = GridSearchCV(\n",
    "    estimator = GradientBoostingRegressor(\n",
    "        learning_rate=learning_rate, \n",
    "        n_estimators=n_estimators, \n",
    "        max_features='sqrt', \n",
    "        subsample=0.8, \n",
    "        random_state=10), \n",
    "    param_grid = param_test2, \n",
    "    scoring='neg_mean_absolute_error',\n",
    "    iid=False,\n",
    "    n_jobs=-1,\n",
    "    cv=5)\n",
    "gsearch2.fit(feature_data,time_to_failure)"
   ]
  },
  {
   "cell_type": "code",
   "execution_count": 59,
   "metadata": {
    "ExecuteTime": {
     "end_time": "2019-03-30T14:39:01.998409Z",
     "start_time": "2019-03-30T14:39:01.994420Z"
    }
   },
   "outputs": [
    {
     "name": "stdout",
     "output_type": "stream",
     "text": [
      "Best params {'max_depth': 4, 'min_samples_split': 510}\n",
      "Best MAE score: -2.0610777536827696\n"
     ]
    }
   ],
   "source": [
    "print('Best params {}'.format(gsearch2.best_params_))\n",
    "print('Best MAE score: {}'.format(gsearch2.best_score_))"
   ]
  },
  {
   "cell_type": "code",
   "execution_count": 60,
   "metadata": {
    "ExecuteTime": {
     "end_time": "2019-03-30T14:39:20.378420Z",
     "start_time": "2019-03-30T14:39:20.375426Z"
    }
   },
   "outputs": [],
   "source": [
    "max_depth = 4\n",
    "min_samples_split = 510"
   ]
  },
  {
   "cell_type": "markdown",
   "metadata": {},
   "source": [
    "Tune min_samples_leaf"
   ]
  },
  {
   "cell_type": "code",
   "execution_count": 61,
   "metadata": {
    "ExecuteTime": {
     "end_time": "2019-03-30T14:39:26.994833Z",
     "start_time": "2019-03-30T14:39:26.432238Z"
    }
   },
   "outputs": [
    {
     "name": "stdout",
     "output_type": "stream",
     "text": [
      "Best params {'min_samples_leaf': 1}\n",
      "Best MAE score: -2.0610777536827696\n"
     ]
    }
   ],
   "source": [
    "param_test3 = {'min_samples_leaf':range(1,10,1)}\n",
    "gsearch3 = GridSearchCV(estimator = \n",
    "                        GradientBoostingRegressor(\n",
    "                            learning_rate=learning_rate, \n",
    "                            n_estimators=n_estimators,\n",
    "                            max_depth=max_depth,\n",
    "                            min_samples_split=min_samples_split,\n",
    "                            max_features='sqrt', \n",
    "                            subsample=0.8, \n",
    "                            random_state=10), \n",
    "                            param_grid = \n",
    "                            param_test3,\n",
    "                            scoring='neg_mean_absolute_error',\n",
    "                            iid=False,\n",
    "                            n_jobs=-1,\n",
    "                            cv=5)\n",
    "gsearch3.fit(feature_data,time_to_failure)\n",
    "print('Best params {}'.format(gsearch3.best_params_))\n",
    "print('Best MAE score: {}'.format(gsearch3.best_score_))"
   ]
  },
  {
   "cell_type": "code",
   "execution_count": 62,
   "metadata": {
    "ExecuteTime": {
     "end_time": "2019-03-30T14:40:30.300030Z",
     "start_time": "2019-03-30T14:40:30.297038Z"
    }
   },
   "outputs": [],
   "source": [
    "min_samples_leaf=1"
   ]
  },
  {
   "cell_type": "markdown",
   "metadata": {},
   "source": [
    "Jetzt werden mehrere Varibeln für die Entscheidung berücksichtigt!"
   ]
  },
  {
   "cell_type": "markdown",
   "metadata": {},
   "source": [
    "Tune max_features"
   ]
  },
  {
   "cell_type": "code",
   "execution_count": 66,
   "metadata": {
    "ExecuteTime": {
     "end_time": "2019-03-30T14:41:50.045202Z",
     "start_time": "2019-03-30T14:41:49.096211Z"
    }
   },
   "outputs": [
    {
     "name": "stdout",
     "output_type": "stream",
     "text": [
      "Best params {'max_features': 19}\n",
      "Best MAE score: -2.068051878557787\n"
     ]
    }
   ],
   "source": [
    "param_test4 = {'max_features':range(7,20,2)}\n",
    "gsearch4 = GridSearchCV(estimator = \n",
    "                        GradientBoostingRegressor(\n",
    "                            learning_rate=learning_rate, \n",
    "                            n_estimators=n_estimators,\n",
    "                            max_depth=max_depth, \n",
    "                            min_samples_split=min_samples_split,\n",
    "                            min_samples_leaf=min_samples_leaf,\n",
    "                            subsample=0.8,\n",
    "                            random_state=10),\n",
    "                            param_grid = param_test4, \n",
    "                            scoring='neg_mean_absolute_error',\n",
    "                            iid=False,\n",
    "                            n_jobs=-1,\n",
    "                            cv=5)\n",
    "gsearch4.fit(feature_data,time_to_failure)\n",
    "print('Best params {}'.format(gsearch4.best_params_))\n",
    "print('Best MAE score: {}'.format(gsearch4.best_score_))"
   ]
  },
  {
   "cell_type": "code",
   "execution_count": 67,
   "metadata": {
    "ExecuteTime": {
     "end_time": "2019-03-30T14:41:57.027841Z",
     "start_time": "2019-03-30T14:41:57.024397Z"
    }
   },
   "outputs": [],
   "source": [
    "max_features = 19"
   ]
  },
  {
   "cell_type": "markdown",
   "metadata": {},
   "source": [
    " Take the variables with a higher impact on outcome first\n",
    "  - Tune max_depth and num_samples_split\n",
    "  - Tune min_samples_leaf\n",
    "  - Tune max_features"
   ]
  },
  {
   "cell_type": "markdown",
   "metadata": {},
   "source": [
    "### Tuning subsample"
   ]
  },
  {
   "cell_type": "code",
   "execution_count": 68,
   "metadata": {
    "ExecuteTime": {
     "end_time": "2019-03-30T14:42:00.916261Z",
     "start_time": "2019-03-30T14:41:59.927860Z"
    }
   },
   "outputs": [
    {
     "name": "stdout",
     "output_type": "stream",
     "text": [
      "Best params {'subsample': 0.8}\n",
      "Best MAE score: -2.068051878557787\n"
     ]
    }
   ],
   "source": [
    "param_test5 = {'subsample':[0.65,0.7,0.75,0.8,0.85,0.9]}\n",
    "gsearch5 = GridSearchCV(estimator = \n",
    "                        GradientBoostingRegressor(\n",
    "                            learning_rate=learning_rate,\n",
    "                            n_estimators=n_estimators,\n",
    "                            max_depth=max_depth,\n",
    "                            min_samples_split=min_samples_split,\n",
    "                            min_samples_leaf=min_samples_leaf,\n",
    "                            random_state=10,\n",
    "                            max_features=max_features),\n",
    "                            param_grid = param_test5,\n",
    "                            scoring='neg_mean_absolute_error',\n",
    "                            iid=False,\n",
    "                            n_jobs=-1,\n",
    "                            cv=5)\n",
    "gsearch5.fit(feature_data,time_to_failure)\n",
    "print('Best params {}'.format(gsearch5.best_params_))\n",
    "print('Best MAE score: {}'.format(gsearch5.best_score_))"
   ]
  },
  {
   "cell_type": "code",
   "execution_count": 69,
   "metadata": {
    "ExecuteTime": {
     "end_time": "2019-03-30T14:42:07.138235Z",
     "start_time": "2019-03-30T14:42:07.135968Z"
    }
   },
   "outputs": [],
   "source": [
    "subsample = 0.8"
   ]
  },
  {
   "cell_type": "markdown",
   "metadata": {},
   "source": [
    "### Tune learning_rate and n_estimators"
   ]
  },
  {
   "cell_type": "code",
   "execution_count": 73,
   "metadata": {
    "ExecuteTime": {
     "end_time": "2019-03-30T14:48:12.827374Z",
     "start_time": "2019-03-30T14:47:01.223317Z"
    }
   },
   "outputs": [
    {
     "name": "stdout",
     "output_type": "stream",
     "text": [
      "Best params {'learning_rate': 0.0001, 'n_estimators': 8000}\n",
      "Best MAE score: -2.314509586797556\n"
     ]
    }
   ],
   "source": [
    "param_test6 = {'learning_rate':[0.0001],'n_estimators' :[8000]}\n",
    "gsearch6 = GridSearchCV(estimator = \n",
    "                        GradientBoostingRegressor(\n",
    "                            learning_rate=learning_rate,\n",
    "                            n_estimators=n_estimators,\n",
    "                            max_depth=max_depth,\n",
    "                            min_samples_split=min_samples_split,\n",
    "                            min_samples_leaf=min_samples_leaf,\n",
    "                            max_features=max_features,\n",
    "                            subsample=subsample,\n",
    "                            random_state=10),\n",
    "                        param_grid = param_test6,\n",
    "                        scoring='neg_mean_absolute_error',\n",
    "                        iid=False,\n",
    "                        n_jobs=-1,\n",
    "                        cv=5)\n",
    "\n",
    "gsearch6.fit(feature_data,time_to_failure)\n",
    "print('Best params {}'.format(gsearch6.best_params_))\n",
    "print('Best MAE score: {}'.format(gsearch6.best_score_))"
   ]
  },
  {
   "cell_type": "code",
   "execution_count": 74,
   "metadata": {
    "ExecuteTime": {
     "end_time": "2019-03-30T14:49:49.031058Z",
     "start_time": "2019-03-30T14:48:33.632673Z"
    }
   },
   "outputs": [
    {
     "name": "stdout",
     "output_type": "stream",
     "text": [
      "\n",
      "Model Report 20 F\n",
      "MAE train data: 2.285\n",
      "CV Score MAE: \n",
      "Mean -2.31451 \n",
      "Std 0.05422062 \n",
      "Min -2.386697 \n",
      "Max -2.248225\n"
     ]
    },
    {
     "data": {
      "image/png": "[encoded data removed]",
      "text/plain": [
       "<Figure size 1080x720 with 1 Axes>"
      ]
     },
     "metadata": {
      "needs_background": "light"
     },
     "output_type": "display_data"
    },
    {
     "name": "stdout",
     "output_type": "stream",
     "text": [
      "Top 20 Feature\n",
      "['spec_cent_75%q', 'rolloff_75%q', 'spec_bw_25%q', 'zero_crossings', 'spec_cent_absMean', 'spec_cent_mean', 'spec_cent_skew', 'spec_cent_95%q', 'spec_bw_75%q', 'mean', 'chroma_stft_std', 'spec_bw_min', 'spec_cent_99%q', 'skew', 'spec_cent_min', 'max', 'absMax', 'kurt', 'min', '5%q']\n"
     ]
    }
   ],
   "source": [
    "modelfit(gsearch6.best_estimator_,  feature_data, time_to_failure)"
   ]
  },
  {
   "cell_type": "markdown",
   "metadata": {},
   "source": [
    "# Model Test 4194 20 Feature"
   ]
  },
  {
   "cell_type": "code",
   "execution_count": 6,
   "metadata": {
    "ExecuteTime": {
     "end_time": "2019-03-30T15:14:13.222796Z",
     "start_time": "2019-03-30T15:14:12.439747Z"
    }
   },
   "outputs": [],
   "source": [
    "train_data = pd.read_csv(earthquake_daten+feature_41934_94)\n",
    "train_data = shuffle(train_data, random_state=10)\n",
    "feature_data = train_data.iloc[:,1:95]\n",
    "time_to_failure = np.array(train_data.iloc[:,-1])\n",
    "\n",
    "items_to_filter = ['spec_cent_75%q', 'rolloff_75%q', 'spec_cent_mean', 'spec_cent_95%q', 'spec_bw_25%q', '5%q', 'zero_crossings', 'absMax', 'max', 'min', 'spec_cent_absMean', 'skew', 'mean', 'spec_cent_skew', 'spec_cent_min', 'spec_bw_75%q', 'spec_bw_min', 'chroma_stft_std', 'kurt', 'spec_cent_99%q']\n",
    "filtered_feature_data = feature_data.filter(items=items_to_filter)\n",
    "feature_data = filtered_feature_data"
   ]
  },
  {
   "cell_type": "code",
   "execution_count": 7,
   "metadata": {
    "ExecuteTime": {
     "end_time": "2019-03-30T15:14:15.700241Z",
     "start_time": "2019-03-30T15:14:15.695257Z"
    }
   },
   "outputs": [
    {
     "data": {
      "text/plain": [
       "(41934, 20)"
      ]
     },
     "execution_count": 7,
     "metadata": {},
     "output_type": "execute_result"
    }
   ],
   "source": [
    "feature_data.shape"
   ]
  },
  {
   "cell_type": "code",
   "execution_count": null,
   "metadata": {
    "ExecuteTime": {
     "start_time": "2019-03-30T14:55:26.869Z"
    }
   },
   "outputs": [],
   "source": [
    "modelfit(gsearch6.best_estimator_,  feature_data, time_to_failure)"
   ]
  },
  {
   "cell_type": "code",
   "execution_count": null,
   "metadata": {
    "ExecuteTime": {
     "start_time": "2019-03-30T15:01:56.574Z"
    }
   },
   "outputs": [],
   "source": []
  },
  {
   "cell_type": "code",
   "execution_count": null,
   "metadata": {},
   "outputs": [],
   "source": []
  }
 ],
 "metadata": {
  "kernelspec": {
   "display_name": "Python 3",
   "language": "python",
   "name": "python3"
  },
  "language_info": {
   "codemirror_mode": {
    "name": "ipython",
    "version": 3
   },
   "file_extension": ".py",
   "mimetype": "text/x-python",
   "name": "python",
   "nbconvert_exporter": "python",
   "pygments_lexer": "ipython3",
   "version": "3.6.8"
  },
  "toc": {
   "base_numbering": 1,
   "nav_menu": {},
   "number_sections": true,
   "sideBar": true,
   "skip_h1_title": false,
   "title_cell": "Table of Contents",
   "title_sidebar": "Contents",
   "toc_cell": false,
   "toc_position": {
    "height": "calc(100% - 180px)",
    "left": "10px",
    "top": "150px",
    "width": "349.091px"
   },
   "toc_section_display": true,
   "toc_window_display": true
  }
 },
 "nbformat": 4,
 "nbformat_minor": 2
}
