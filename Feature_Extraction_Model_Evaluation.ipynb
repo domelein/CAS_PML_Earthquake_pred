{
 "cells": [
  {
   "cell_type": "markdown",
   "metadata": {},
   "source": [
    "# Vorarbeiten"
   ]
  },
  {
   "cell_type": "code",
   "execution_count": 15,
   "metadata": {
    "ExecuteTime": {
     "end_time": "2019-03-11T21:29:58.563123Z",
     "start_time": "2019-03-11T21:29:55.622789Z"
    }
   },
   "outputs": [],
   "source": [
    "import pandas as pd\n",
    "import numpy as np\n",
    "#data visualization\n",
    "import matplotlib.pyplot as plt\n",
    "from librosa.feature import rms\n",
    "\n",
    "pd.options.display.precision = 15"
   ]
  },
  {
   "cell_type": "markdown",
   "metadata": {},
   "source": [
    "## Umgebungsvariablen"
   ]
  },
  {
   "cell_type": "code",
   "execution_count": 83,
   "metadata": {
    "ExecuteTime": {
     "end_time": "2019-03-11T21:30:00.105989Z",
     "start_time": "2019-03-11T21:30:00.101968Z"
    }
   },
   "outputs": [],
   "source": [
    "failure_datapath = '''D:/jupyter-notebooks/LANL_Earthquake_Prediction/failure/'''\n",
    "train_data_path = '''C:/studium/studium/CAS_PML/Projekt_Arbeit/earthquake/Daten/all/train.csv'''\n",
    "feature_data_path = '''C:/studium/studium/CAS_PML/Projekt_Arbeit/earthquake/Daten/all/earthquakeFeatures.csv'''"
   ]
  },
  {
   "cell_type": "markdown",
   "metadata": {},
   "source": [
    "## Trainingsdaten laden"
   ]
  },
  {
   "cell_type": "code",
   "execution_count": 4,
   "metadata": {
    "ExecuteTime": {
     "end_time": "2019-03-11T21:31:42.109278Z",
     "start_time": "2019-03-11T21:30:01.653955Z"
    }
   },
   "outputs": [],
   "source": [
    "train_data = pd.read_csv(train_data_path, dtype={'acoustic_data': np.int16, 'time_to_failure': np.float64})"
   ]
  },
  {
   "cell_type": "markdown",
   "metadata": {},
   "source": [
    "# Feature Extraction"
   ]
  },
  {
   "cell_type": "markdown",
   "metadata": {},
   "source": [
    "Die Testsegmente bestehen jeweils aus 150.000 Messpunkte. Aus diesem Grund setzten wir die Fenstergrösse auch auf 150000 Messpunkte."
   ]
  },
  {
   "cell_type": "code",
   "execution_count": 79,
   "metadata": {
    "ExecuteTime": {
     "end_time": "2019-03-11T21:56:18.028927Z",
     "start_time": "2019-03-11T21:56:18.022862Z"
    }
   },
   "outputs": [],
   "source": [
    "def generate_featureRow(acoustic_data, time_to_failure):\n",
    "    \n",
    "    strain_feature = []\n",
    "    strain_feature.append(acoustic_data.mean())\n",
    "    strain_feature.append(acoustic_data.std())\n",
    "    strain_feature.append(acoustic_data.kurtosis())\n",
    "    strain_feature.append(acoustic_data.skew())\n",
    "    strain_feature.append(acoustic_data.min())\n",
    "    strain_feature.append(acoustic_data.max())\n",
    "    strain_feature.append(acoustic_data.quantile(0.01, interpolation='midpoint'))\n",
    "    strain_feature.append(acoustic_data.quantile(0.05,interpolation='midpoint'))\n",
    "    strain_feature.append(acoustic_data.quantile(0.95,interpolation='midpoint'))\n",
    "    strain_feature.append(acoustic_data.quantile(0.99,interpolation='midpoint'))\n",
    "    strain_feature.append(acoustic_data.abs().max())\n",
    "    strain_feature.append(acoustic_data.abs().mean())\n",
    "    strain_feature.append(acoustic_data.abs().std())\n",
    "\n",
    "    \n",
    "    #spectral features\n",
    "    #Compute root-mean-square (RMS) value for each frame\n",
    "    rms = librosa.feature.rms(y=np.array(acoustic_data,dtype=np.float64),frame_length=len(acoustic_data))\n",
    "    rms = pd.Series(rms[0,:])\n",
    "    strain_feature.append(rms.mean())\n",
    "    strain_feature.append(rms.std())\n",
    "    strain_feature.append(rms.kurtosis())\n",
    "    strain_feature.append(rms.skew())\n",
    "    strain_feature.append(rms.min())\n",
    "    strain_feature.append(rms.max())\n",
    "    strain_feature.append(rms.quantile(0.01, interpolation='midpoint'))\n",
    "    strain_feature.append(rms.quantile(0.05,interpolation='midpoint'))\n",
    "    strain_feature.append(rms.quantile(0.95,interpolation='midpoint'))\n",
    "    strain_feature.append(rms.quantile(0.99,interpolation='midpoint'))\n",
    "    strain_feature.append(rms.abs().max())\n",
    "    strain_feature.append(rms.abs().mean())\n",
    "    strain_feature.append(rms.abs().std())\n",
    "    \n",
    "    #Time to failure\n",
    "    strain_feature.append(time_to_failure.values[-1])\n",
    "    \n",
    "    return strain_feature"
   ]
  },
  {
   "cell_type": "markdown",
   "metadata": {},
   "source": [
    "Das Fenster, mit der grösse 150000), wird durch das Trainingssignal geschoben mit einer geplanten Überlappung von 80%"
   ]
  },
  {
   "cell_type": "code",
   "execution_count": 80,
   "metadata": {
    "ExecuteTime": {
     "end_time": "2019-03-11T22:09:43.815940Z",
     "start_time": "2019-03-11T22:08:15.855334Z"
    }
   },
   "outputs": [],
   "source": [
    "def generate_Features(train,step, window_size=150000, ):\n",
    "    init_idx = 0\n",
    "    features = []\n",
    "\n",
    "    while (init_idx + window_size < len(train)):\n",
    "        window = train.iloc[init_idx:init_idx + window_size]\n",
    "        features.append(generate_featureRow(window.acoustic_data,window.time_to_failure))\n",
    "        init_idx += step\n",
    "\n",
    "    return pd.DataFrame(features,dtype=np.float64,columns = ['mean','std','kurt','skew','min','max','1%q','5%q','95%q','99%q','absMax','absMean','absStd',\n",
    "                                                            'rms_mean','rms_std','rms_kurt','rms_skew','rms_min','rms_max','rms_1%q','rms_5%q','rms_95%q','rms_99%q','rms_absMax','rms_absMean','rms_absStd','time_to_failure'])"
   ]
  },
  {
   "cell_type": "code",
   "execution_count": 81,
   "metadata": {
    "ExecuteTime": {
     "end_time": "2019-03-11T22:13:54.874949Z",
     "start_time": "2019-03-11T22:13:54.870889Z"
    }
   },
   "outputs": [],
   "source": [
    "step = 150000\n",
    "features = generate_Features(train_data,step)"
   ]
  },
  {
   "cell_type": "code",
   "execution_count": 84,
   "metadata": {},
   "outputs": [
    {
     "data": {
      "text/plain": [
       "(4194, 27)"
      ]
     },
     "execution_count": 84,
     "metadata": {},
     "output_type": "execute_result"
    }
   ],
   "source": [
    "features.shape"
   ]
  },
  {
   "cell_type": "code",
   "execution_count": 85,
   "metadata": {},
   "outputs": [
    {
     "data": {
      "text/html": [
       "<div>\n",
       "<style scoped>\n",
       "    .dataframe tbody tr th:only-of-type {\n",
       "        vertical-align: middle;\n",
       "    }\n",
       "\n",
       "    .dataframe tbody tr th {\n",
       "        vertical-align: top;\n",
       "    }\n",
       "\n",
       "    .dataframe thead th {\n",
       "        text-align: right;\n",
       "    }\n",
       "</style>\n",
       "<table border=\"1\" class=\"dataframe\">\n",
       "  <thead>\n",
       "    <tr style=\"text-align: right;\">\n",
       "      <th></th>\n",
       "      <th>mean</th>\n",
       "      <th>std</th>\n",
       "      <th>kurt</th>\n",
       "      <th>skew</th>\n",
       "      <th>min</th>\n",
       "      <th>max</th>\n",
       "      <th>1%q</th>\n",
       "      <th>5%q</th>\n",
       "      <th>95%q</th>\n",
       "      <th>99%q</th>\n",
       "      <th>...</th>\n",
       "      <th>rms_min</th>\n",
       "      <th>rms_max</th>\n",
       "      <th>rms_1%q</th>\n",
       "      <th>rms_5%q</th>\n",
       "      <th>rms_95%q</th>\n",
       "      <th>rms_99%q</th>\n",
       "      <th>rms_absMax</th>\n",
       "      <th>rms_absMean</th>\n",
       "      <th>rms_absStd</th>\n",
       "      <th>time_to_failure</th>\n",
       "    </tr>\n",
       "  </thead>\n",
       "  <tbody>\n",
       "    <tr>\n",
       "      <th>0</th>\n",
       "      <td>4.884113333333334</td>\n",
       "      <td>5.101106130606765</td>\n",
       "      <td>33.662481293451094</td>\n",
       "      <td>-0.024061166628209</td>\n",
       "      <td>-98.0</td>\n",
       "      <td>104.0</td>\n",
       "      <td>-8.0</td>\n",
       "      <td>-2.0</td>\n",
       "      <td>11.0</td>\n",
       "      <td>18.0</td>\n",
       "      <td>...</td>\n",
       "      <td>6.236513983522098</td>\n",
       "      <td>7.801246481599377</td>\n",
       "      <td>6.242921858038251</td>\n",
       "      <td>6.260625629609941</td>\n",
       "      <td>7.782031439245348</td>\n",
       "      <td>7.795940396556080</td>\n",
       "      <td>7.801246481599377</td>\n",
       "      <td>7.033841406302483</td>\n",
       "      <td>0.661947285934201</td>\n",
       "      <td>1.4307971859</td>\n",
       "    </tr>\n",
       "    <tr>\n",
       "      <th>1</th>\n",
       "      <td>4.725766666666667</td>\n",
       "      <td>6.588823781946801</td>\n",
       "      <td>98.758517178736923</td>\n",
       "      <td>0.390560504371834</td>\n",
       "      <td>-154.0</td>\n",
       "      <td>181.0</td>\n",
       "      <td>-11.0</td>\n",
       "      <td>-2.0</td>\n",
       "      <td>12.0</td>\n",
       "      <td>21.0</td>\n",
       "      <td>...</td>\n",
       "      <td>7.004398142119944</td>\n",
       "      <td>9.079036659616849</td>\n",
       "      <td>7.014265438963758</td>\n",
       "      <td>7.024626680466874</td>\n",
       "      <td>9.063676036606200</td>\n",
       "      <td>9.071514257577082</td>\n",
       "      <td>9.079036659616849</td>\n",
       "      <td>8.086653725536413</td>\n",
       "      <td>0.639429691095566</td>\n",
       "      <td>1.3914988931</td>\n",
       "    </tr>\n",
       "    <tr>\n",
       "      <th>2</th>\n",
       "      <td>4.906393333333333</td>\n",
       "      <td>6.967397033524431</td>\n",
       "      <td>33.555211406928983</td>\n",
       "      <td>0.217390561445685</td>\n",
       "      <td>-106.0</td>\n",
       "      <td>140.0</td>\n",
       "      <td>-15.0</td>\n",
       "      <td>-3.0</td>\n",
       "      <td>13.0</td>\n",
       "      <td>26.0</td>\n",
       "      <td>...</td>\n",
       "      <td>7.578935721238614</td>\n",
       "      <td>9.370016720013542</td>\n",
       "      <td>7.588273103020724</td>\n",
       "      <td>7.627231676923506</td>\n",
       "      <td>9.330524805239303</td>\n",
       "      <td>9.362567287676764</td>\n",
       "      <td>9.370016720013542</td>\n",
       "      <td>8.493601768870175</td>\n",
       "      <td>0.663333703763104</td>\n",
       "      <td>1.3531960947</td>\n",
       "    </tr>\n",
       "    <tr>\n",
       "      <th>3</th>\n",
       "      <td>4.902240000000000</td>\n",
       "      <td>6.922305187180113</td>\n",
       "      <td>116.548171687628383</td>\n",
       "      <td>0.757277536411098</td>\n",
       "      <td>-199.0</td>\n",
       "      <td>197.0</td>\n",
       "      <td>-12.0</td>\n",
       "      <td>-2.0</td>\n",
       "      <td>12.0</td>\n",
       "      <td>22.0</td>\n",
       "      <td>...</td>\n",
       "      <td>7.120894606719018</td>\n",
       "      <td>9.654117601659236</td>\n",
       "      <td>7.126610377044509</td>\n",
       "      <td>7.881334361046838</td>\n",
       "      <td>9.499792088197578</td>\n",
       "      <td>9.651086941354926</td>\n",
       "      <td>9.654117601659236</td>\n",
       "      <td>8.476572086251213</td>\n",
       "      <td>0.413222082718004</td>\n",
       "      <td>1.3137978019</td>\n",
       "    </tr>\n",
       "    <tr>\n",
       "      <th>4</th>\n",
       "      <td>4.908720000000000</td>\n",
       "      <td>7.301110189758817</td>\n",
       "      <td>52.977904834406473</td>\n",
       "      <td>0.064531069271374</td>\n",
       "      <td>-126.0</td>\n",
       "      <td>145.0</td>\n",
       "      <td>-15.0</td>\n",
       "      <td>-2.0</td>\n",
       "      <td>12.0</td>\n",
       "      <td>26.0</td>\n",
       "      <td>...</td>\n",
       "      <td>7.208606892689692</td>\n",
       "      <td>10.135908115868718</td>\n",
       "      <td>7.218630986860290</td>\n",
       "      <td>8.196270899960600</td>\n",
       "      <td>9.360327619968464</td>\n",
       "      <td>10.133577025480525</td>\n",
       "      <td>10.135908115868718</td>\n",
       "      <td>8.776799988407690</td>\n",
       "      <td>0.534309380031890</td>\n",
       "      <td>1.2743995091</td>\n",
       "    </tr>\n",
       "  </tbody>\n",
       "</table>\n",
       "<p>5 rows × 27 columns</p>\n",
       "</div>"
      ],
      "text/plain": [
       "                mean                std                 kurt  \\\n",
       "0  4.884113333333334  5.101106130606765   33.662481293451094   \n",
       "1  4.725766666666667  6.588823781946801   98.758517178736923   \n",
       "2  4.906393333333333  6.967397033524431   33.555211406928983   \n",
       "3  4.902240000000000  6.922305187180113  116.548171687628383   \n",
       "4  4.908720000000000  7.301110189758817   52.977904834406473   \n",
       "\n",
       "                skew    min    max   1%q  5%q  95%q  99%q  ...  \\\n",
       "0 -0.024061166628209  -98.0  104.0  -8.0 -2.0  11.0  18.0  ...   \n",
       "1  0.390560504371834 -154.0  181.0 -11.0 -2.0  12.0  21.0  ...   \n",
       "2  0.217390561445685 -106.0  140.0 -15.0 -3.0  13.0  26.0  ...   \n",
       "3  0.757277536411098 -199.0  197.0 -12.0 -2.0  12.0  22.0  ...   \n",
       "4  0.064531069271374 -126.0  145.0 -15.0 -2.0  12.0  26.0  ...   \n",
       "\n",
       "             rms_min             rms_max            rms_1%q  \\\n",
       "0  6.236513983522098   7.801246481599377  6.242921858038251   \n",
       "1  7.004398142119944   9.079036659616849  7.014265438963758   \n",
       "2  7.578935721238614   9.370016720013542  7.588273103020724   \n",
       "3  7.120894606719018   9.654117601659236  7.126610377044509   \n",
       "4  7.208606892689692  10.135908115868718  7.218630986860290   \n",
       "\n",
       "             rms_5%q           rms_95%q            rms_99%q  \\\n",
       "0  6.260625629609941  7.782031439245348   7.795940396556080   \n",
       "1  7.024626680466874  9.063676036606200   9.071514257577082   \n",
       "2  7.627231676923506  9.330524805239303   9.362567287676764   \n",
       "3  7.881334361046838  9.499792088197578   9.651086941354926   \n",
       "4  8.196270899960600  9.360327619968464  10.133577025480525   \n",
       "\n",
       "           rms_absMax        rms_absMean         rms_absStd  time_to_failure  \n",
       "0   7.801246481599377  7.033841406302483  0.661947285934201     1.4307971859  \n",
       "1   9.079036659616849  8.086653725536413  0.639429691095566     1.3914988931  \n",
       "2   9.370016720013542  8.493601768870175  0.663333703763104     1.3531960947  \n",
       "3   9.654117601659236  8.476572086251213  0.413222082718004     1.3137978019  \n",
       "4  10.135908115868718  8.776799988407690  0.534309380031890     1.2743995091  \n",
       "\n",
       "[5 rows x 27 columns]"
      ]
     },
     "execution_count": 85,
     "metadata": {},
     "output_type": "execute_result"
    }
   ],
   "source": [
    "features.head()"
   ]
  },
  {
   "cell_type": "code",
   "execution_count": 88,
   "metadata": {},
   "outputs": [],
   "source": [
    "# saving the dataframe \n",
    "features.to_csv(feature_data_path, header=False, index=False) "
   ]
  },
  {
   "cell_type": "markdown",
   "metadata": {},
   "source": [
    "# Create Model Workbench"
   ]
  },
  {
   "cell_type": "markdown",
   "metadata": {},
   "source": [
    "## Imports"
   ]
  },
  {
   "cell_type": "code",
   "execution_count": 90,
   "metadata": {},
   "outputs": [],
   "source": [
    "# Scaler\n",
    "from sklearn.preprocessing import StandardScaler\n",
    "from sklearn.preprocessing import RobustScaler\n",
    "\n",
    "# Model selection\n",
    "from sklearn.pipeline import Pipeline\n",
    "from sklearn.model_selection import GridSearchCV\n",
    "from sklearn.metrics import mean_absolute_error\n",
    "from sklearn.model_selection import train_test_split\n",
    "from sklearn.preprocessing import PolynomialFeatures\n",
    "\n",
    "# Modell\n",
    "from sklearn.ensemble import GradientBoostingRegressor\n",
    "from sklearn.ensemble import RandomForestRegressor\n",
    "from sklearn.svm import SVR"
   ]
  },
  {
   "cell_type": "markdown",
   "metadata": {},
   "source": [
    "# Modellauswahl"
   ]
  },
  {
   "cell_type": "markdown",
   "metadata": {},
   "source": [
    "Als erste Orientierung bezüglich der ersten Modellauswahl, haben wir uns an machine_learning_map gehalten.\n",
    "Quelle: https://scikit-learn.org/stable/tutorial/machine_learning_map/index.html"
   ]
  },
  {
   "cell_type": "markdown",
   "metadata": {},
   "source": [
    "## Support Vector Regression (SVR) using linear and non-linear kernels"
   ]
  },
  {
   "cell_type": "code",
   "execution_count": 14,
   "metadata": {},
   "outputs": [],
   "source": [
    "pipe = Pipeline([('preprocessing', StandardScaler()), ('regressor', SVR())])"
   ]
  },
  {
   "cell_type": "code",
   "execution_count": 25,
   "metadata": {},
   "outputs": [],
   "source": [
    "param_grid = [\n",
    "    {'regressor': [SVR(kernel='rbf',epsilon=.1)], \n",
    "     'preprocessing': [StandardScaler(), RobustScaler()],\n",
    "     'regressor__gamma': [0.001, 0.01, 0.1, 1, 10, 100],\n",
    "     'regressor__C': [0.001, 0.01, 0.1, 1, 10, 100]}]"
   ]
  },
  {
   "cell_type": "code",
   "execution_count": 29,
   "metadata": {},
   "outputs": [],
   "source": [
    "param_grid = [\n",
    "    {'regressor': [SVR(kernel='linear')],\n",
    "     'preprocessing': [StandardScaler(), RobustScaler()],\n",
    "     'regressor__gamma': [0.001, 0.01, 0.1, 1, 10, 100],\n",
    "     'regressor__C': [0.001, 0.01, 0.1, 1, 10, 100]}]"
   ]
  },
  {
   "cell_type": "code",
   "execution_count": 15,
   "metadata": {},
   "outputs": [],
   "source": [
    "param_grid = [\n",
    "    {'regressor': [SVR(kernel='poly',epsilon=.1)],\n",
    "     'preprocessing': [StandardScaler()],\n",
    "     'regressor__gamma': [0.001, 0.01, 0.1, 1, 10, 100],\n",
    "     'regressor__degree': [1,2],\n",
    "     'regressor__C': [0.001, 0.01, 0.1, 1, 10, 100]}]"
   ]
  },
  {
   "cell_type": "code",
   "execution_count": 38,
   "metadata": {},
   "outputs": [],
   "source": [
    "param_grid = [\n",
    "    {'regressor': [SVR(kernel='rbf',epsilon=.1)], \n",
    "     'preprocessing': [StandardScaler()],\n",
    "     'regressor__gamma': [0.001, 0.01, 0.1, 1, 10, 100],\n",
    "     'regressor__C': [0.001, 0.01, 0.1, 1, 10, 100]},\n",
    "    {'regressor': [SVR(kernel='linear')],\n",
    "     'preprocessing': [StandardScaler(), RobustScaler()],\n",
    "     'regressor__gamma': [0.001, 0.01, 0.1, 1, 10, 100],\n",
    "     'regressor__C': [0.001, 0.01, 0.1, 1, 10, 100]},\n",
    "    {'regressor': [SVR(kernel='poly',epsilon=.1)],\n",
    "     'preprocessing': [StandardScaler(), RobustScaler()],\n",
    "     'regressor__gamma': [0.001, 0.01, 0.1, 1, 10, 100],\n",
    "     'regressor__degree': [1,2,3],\n",
    "     'regressor__C': [0.001, 0.01, 0.1, 1, 10, 100]}]"
   ]
  },
  {
   "cell_type": "code",
   "execution_count": 16,
   "metadata": {},
   "outputs": [],
   "source": [
    "X_train, X_test, y_train, y_test = train_test_split(\n",
    "    features.iloc[:,0:13], features.iloc[:,-1], random_state=0, test_size=0.25)"
   ]
  },
  {
   "cell_type": "code",
   "execution_count": null,
   "metadata": {},
   "outputs": [],
   "source": [
    "grid = GridSearchCV(pipe, param_grid, scoring='neg_mean_absolute_error', cv=5, n_jobs=-1)\n",
    "grid.fit(X_train, y_train)"
   ]
  },
  {
   "cell_type": "code",
   "execution_count": 28,
   "metadata": {},
   "outputs": [
    {
     "name": "stdout",
     "output_type": "stream",
     "text": [
      "SVR(kernel=rbf\n",
      "Best params:\n",
      "{'preprocessing': StandardScaler(copy=True, with_mean=True, with_std=True), 'regressor': SVR(C=100, cache_size=200, coef0=0.0, degree=3, epsilon=0.1, gamma=0.01,\n",
      "  kernel='rbf', max_iter=-1, shrinking=True, tol=0.001, verbose=False), 'regressor__C': 100, 'regressor__gamma': 0.01}\n",
      "\n",
      "Best cross-validation score: -2.11\n",
      "Test-set score: -2.12\n",
      "Test-set: mean absolute error : 2.12\n"
     ]
    }
   ],
   "source": [
    "print('SVR(kernel=rbf')\n",
    "print(\"Best params:\\n{}\\n\".format(grid.best_params_))\n",
    "print(\"Best cross-validation score: {:.2f}\".format(grid.best_score_))\n",
    "print(\"Test-set score: {:.2f}\".format(grid.score(X_test, y_test)))\n",
    "print(\"Test-set: mean absolute error : {:.2f}\".format(mean_absolute_error(y_test, grid.predict(X_test))))"
   ]
  },
  {
   "cell_type": "code",
   "execution_count": 33,
   "metadata": {},
   "outputs": [
    {
     "name": "stdout",
     "output_type": "stream",
     "text": [
      "SVR(kernel=linear\n",
      "Best params:\n",
      "{'preprocessing': RobustScaler(copy=True, quantile_range=(25.0, 75.0), with_centering=True,\n",
      "       with_scaling=True), 'regressor': SVR(C=100, cache_size=200, coef0=0.0, degree=3, epsilon=0.1, gamma=0.001,\n",
      "  kernel='linear', max_iter=-1, shrinking=True, tol=0.001, verbose=False), 'regressor__C': 100, 'regressor__gamma': 0.001}\n",
      "\n",
      "Best cross-validation score: -2.19\n",
      "Test-set score: -2.21\n",
      "Test-set: mean absolute error : 2.21\n"
     ]
    }
   ],
   "source": [
    "print('SVR(kernel=linear')\n",
    "print(\"Best params:\\n{}\\n\".format(grid.best_params_))\n",
    "print(\"Best cross-validation score: {:.2f}\".format(grid.best_score_))\n",
    "print(\"Test-set score: {:.2f}\".format(grid.score(X_test, y_test)))\n",
    "print(\"Test-set: mean absolute error : {:.2f}\".format(mean_absolute_error(y_test, grid.predict(X_test))))"
   ]
  },
  {
   "cell_type": "code",
   "execution_count": null,
   "metadata": {},
   "outputs": [],
   "source": [
    "print('SVR(kernel=poly')\n",
    "print(\"Best params:\\n{}\\n\".format(grid.best_params_))\n",
    "print(\"Best cross-validation score: {:.2f}\".format(grid.best_score_))\n",
    "print(\"Test-set score: {:.2f}\".format(grid.score(X_test, y_test)))\n",
    "print(\"Test-set: mean absolute error : {:.2f}\".format(mean_absolute_error(y_test, grid.predict(X_test))))"
   ]
  },
  {
   "cell_type": "code",
   "execution_count": null,
   "metadata": {},
   "outputs": [],
   "source": []
  },
  {
   "cell_type": "code",
   "execution_count": null,
   "metadata": {},
   "outputs": [],
   "source": []
  },
  {
   "cell_type": "markdown",
   "metadata": {},
   "source": [
    "## GradientBoosting"
   ]
  },
  {
   "cell_type": "markdown",
   "metadata": {},
   "source": [
    "Pipe with preprocessing and one regressor"
   ]
  },
  {
   "cell_type": "code",
   "execution_count": 106,
   "metadata": {},
   "outputs": [],
   "source": [
    "pipe = Pipeline([('preprocessing',PolynomialFeatures()), ('regressor', GradientBoostingRegressor())])"
   ]
  },
  {
   "cell_type": "code",
   "execution_count": 108,
   "metadata": {},
   "outputs": [],
   "source": [
    "param_grid = [\n",
    "    {'regressor': [GradientBoostingRegressor(learning_rate=0.1, max_depth=1,loss='lad',random_state=0)],\n",
    "     'regressor__n_estimators':[100,1000,10000],\n",
    "     'preprocessing': [None]}]"
   ]
  },
  {
   "cell_type": "markdown",
   "metadata": {},
   "source": [
    "Split data into train and test data"
   ]
  },
  {
   "cell_type": "code",
   "execution_count": 109,
   "metadata": {},
   "outputs": [],
   "source": [
    "X_train, X_test, y_train, y_test = train_test_split(\n",
    "    features.iloc[:,0:26], features.iloc[:,-1], random_state=0, test_size=0.25)"
   ]
  },
  {
   "cell_type": "markdown",
   "metadata": {},
   "source": [
    "Find best parameter with grid search"
   ]
  },
  {
   "cell_type": "code",
   "execution_count": 110,
   "metadata": {},
   "outputs": [
    {
     "data": {
      "text/plain": [
       "GridSearchCV(cv=5, error_score='raise-deprecating',\n",
       "       estimator=Pipeline(memory=None,\n",
       "     steps=[('preprocessing', PolynomialFeatures(degree=2, include_bias=True, interaction_only=False)), ('regressor', GradientBoostingRegressor(alpha=0.9, criterion='friedman_mse', init=None,\n",
       "             learning_rate=0.1, loss='ls', max_depth=3, max_features=None,\n",
       "             max_leaf_nodes=None, min_...one, subsample=1.0, tol=0.0001,\n",
       "             validation_fraction=0.1, verbose=0, warm_start=False))]),\n",
       "       fit_params=None, iid='warn', n_jobs=-1,\n",
       "       param_grid=[{'regressor': [GradientBoostingRegressor(alpha=0.9, criterion='friedman_mse', init=None,\n",
       "             learning_rate=0.1, loss='lad', max_depth=1, max_features=None,\n",
       "             max_leaf_nodes=None, min_impurity_decrease=0.0,\n",
       "             min_impurity_split=None, min_samples_leaf=1,\n",
       "    ...bose=0, warm_start=False)], 'regressor__n_estimators': [100, 1000, 10000], 'preprocessing': [None]}],\n",
       "       pre_dispatch='2*n_jobs', refit=True, return_train_score='warn',\n",
       "       scoring='neg_mean_absolute_error', verbose=0)"
      ]
     },
     "execution_count": 110,
     "metadata": {},
     "output_type": "execute_result"
    }
   ],
   "source": [
    "grid = GridSearchCV(pipe, param_grid, scoring='neg_mean_absolute_error', cv=5, n_jobs=-1)\n",
    "grid.fit(X_train, y_train)"
   ]
  },
  {
   "cell_type": "markdown",
   "metadata": {},
   "source": [
    "Print Result"
   ]
  },
  {
   "cell_type": "code",
   "execution_count": 112,
   "metadata": {},
   "outputs": [
    {
     "name": "stdout",
     "output_type": "stream",
     "text": [
      "Best params:\n",
      "{'preprocessing': None, 'regressor': GradientBoostingRegressor(alpha=0.9, criterion='friedman_mse', init=None,\n",
      "             learning_rate=0.1, loss='lad', max_depth=1, max_features=None,\n",
      "             max_leaf_nodes=None, min_impurity_decrease=0.0,\n",
      "             min_impurity_split=None, min_samples_leaf=1,\n",
      "             min_samples_split=2, min_weight_fraction_leaf=0.0,\n",
      "             n_estimators=1000, n_iter_no_change=None, presort='auto',\n",
      "             random_state=0, subsample=1.0, tol=0.0001,\n",
      "             validation_fraction=0.1, verbose=0, warm_start=False), 'regressor__n_estimators': 1000}\n",
      "\n",
      "Best cross-validation score: -2.12\n",
      "Test-set score: -2.13\n",
      "Test-set: mean absolute error : 2.13\n"
     ]
    }
   ],
   "source": [
    "print(\"Best params:\\n{}\\n\".format(grid.best_params_))\n",
    "print(\"Best cross-validation score: {:.2f}\".format(grid.best_score_))\n",
    "print(\"Test-set score: {:.2f}\".format(grid.score(X_test, y_test)))\n",
    "print(\"Test-set: mean absolute error : {:.2f}\".format(mean_absolute_error(y_test, grid.predict(X_test))))"
   ]
  },
  {
   "cell_type": "markdown",
   "metadata": {},
   "source": [
    "## Plot Feature Importance"
   ]
  },
  {
   "cell_type": "code",
   "execution_count": 113,
   "metadata": {},
   "outputs": [
    {
     "data": {
      "text/plain": [
       "<matplotlib.axes._subplots.AxesSubplot at 0x21300198780>"
      ]
     },
     "execution_count": 113,
     "metadata": {},
     "output_type": "execute_result"
    },
    {
     "data": {
      "image/png": "[encoded data removed]",
      "text/plain": [
       "<Figure size 1080x576 with 1 Axes>"
      ]
     },
     "metadata": {
      "needs_background": "light"
     },
     "output_type": "display_data"
    }
   ],
   "source": [
    "(pd.Series(grid.best_estimator_.named_steps['regressor'].feature_importances_, index=X_train.columns)\n",
    "   .nlargest(26)\n",
    "   .plot(kind='barh',figsize=(15, 8))) \n",
    "#quelle: https://stackoverflow.com/questions/44511636/matplotlib-plot-feature-importance-with-feature-names"
   ]
  },
  {
   "cell_type": "markdown",
   "metadata": {},
   "source": [
    "https://scikit-learn.org/stable/auto_examples/ensemble/plot_gradient_boosting_regression.html#sphx-glr-auto-examples-ensemble-plot-gradient-boosting-regression-py"
   ]
  },
  {
   "cell_type": "markdown",
   "metadata": {},
   "source": [
    "# Open Points"
   ]
  },
  {
   "cell_type": "markdown",
   "metadata": {},
   "source": [
    "gridsearch mit mae?"
   ]
  },
  {
   "cell_type": "markdown",
   "metadata": {},
   "source": [
    "# To Do"
   ]
  },
  {
   "cell_type": "markdown",
   "metadata": {},
   "source": [
    "## New Feature\n",
    "\n",
    " - Signal: phase, frequency, angular frequency, wavelength and a period. --> new features for mean / std / skew / kurt / percentile https://pythontic.com/visualization/signals/magnitude%20spectrum\n",
    "\n",
    " - RMS: root mean square of a signal (Effektivwert): https://de.wikipedia.org/wiki/Effektivwert\n",
    " - https://librosa.github.io/librosa/feature.html (RMS/etc..) ()\n",
    "\n",
    "\n",
    "## Model selection\n",
    " - Random forrest\n",
    " - Other GradientBoost (AdaBoost)\n",
    "\n",
    " - Feed Forward NN (with Karas)\n",
    " - Reccurent Neuronal Net: LSTM (with Karas)\n",
    " - Convolutional NN"
   ]
  },
  {
   "cell_type": "markdown",
   "metadata": {},
   "source": [
    "## Glossar\n",
    "\n",
    " - __[Mel]__ https://de.wikipedia.org/wiki/Mel\n",
    " - __[Mel Frequency Cepstral Coefficients] (https://de.wikipedia.org/wiki/Mel_Frequency_Cepstral_Coefficients)__\n",
    " - __[Python library librosa]__ A python package for music and audio analysis. (https://pypi.org/project/librosa/)"
   ]
  },
  {
   "cell_type": "markdown",
   "metadata": {},
   "source": [
    "## Quellen\n",
    "### Spektrogramm\n",
    "A spectrogram explains how the signal strength is distributed in every frequency found in the signal.\n",
    " - Funny overview spectrogram: https://www.summerrankin.com/dogandponyshow/2017/10/16/catdog\n",
    " - Plotting A Spectrogram: https://pythontic.com/visualization/signals/spectrogram (Feature / CNN)                     https://vane.pl/sampling-audio-files-with-python/\n",
    " - How to convert a spectrogram to 3d plot. Python: https://stackoverflow.com/questions/48598829/how-to-convert-a-spectrogram-to-3d-plot-python\n",
    " - Plotting A periodogram: https://www.elenacuoco.com/2016/09/22/power-spectral-density/\n",
    " - Allgemeine Info zu Vibration Analysis: FFT, PSD, and Spectrogram Basics\n",
    "https://blog.mide.com/vibration-analysis-fft-psd-and-spectrogram"
   ]
  }
 ],
 "metadata": {
  "kernelspec": {
   "display_name": "Python 3",
   "language": "python",
   "name": "python3"
  },
  "language_info": {
   "codemirror_mode": {
    "name": "ipython",
    "version": 3
   },
   "file_extension": ".py",
   "mimetype": "text/x-python",
   "name": "python",
   "nbconvert_exporter": "python",
   "pygments_lexer": "ipython3",
   "version": "3.6.8"
  },
  "toc": {
   "base_numbering": 1,
   "nav_menu": {},
   "number_sections": true,
   "sideBar": true,
   "skip_h1_title": false,
   "title_cell": "Table of Contents",
   "title_sidebar": "Contents",
   "toc_cell": false,
   "toc_position": {},
   "toc_section_display": true,
   "toc_window_display": false
  }
 },
 "nbformat": 4,
 "nbformat_minor": 2
}
