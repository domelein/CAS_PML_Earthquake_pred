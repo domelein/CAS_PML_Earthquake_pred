{
 "cells": [
  {
   "cell_type": "markdown",
   "metadata": {},
   "source": [
    "# Vorarbeiten"
   ]
  },
  {
   "cell_type": "code",
   "execution_count": 23,
   "metadata": {
    "ExecuteTime": {
     "end_time": "2019-03-11T21:29:58.563123Z",
     "start_time": "2019-03-11T21:29:55.622789Z"
    }
   },
   "outputs": [],
   "source": [
    "import pandas as pd\n",
    "import numpy as np\n",
    "#data visualization\n",
    "import matplotlib.pyplot as plt"
   ]
  },
  {
   "cell_type": "markdown",
   "metadata": {},
   "source": [
    "## Umgebungsvariablen"
   ]
  },
  {
   "cell_type": "code",
   "execution_count": 2,
   "metadata": {
    "ExecuteTime": {
     "end_time": "2019-03-11T21:30:00.105989Z",
     "start_time": "2019-03-11T21:30:00.101968Z"
    }
   },
   "outputs": [],
   "source": [
    "failure_datapath = '''D:/jupyter-notebooks/LANL_Earthquake_Prediction/failure/'''\n",
    "train_data_path = '''C:/studium/studium/CAS_PML/Projekt_Arbeit/earthquake/Daten/all/train.csv'''\n",
    "feature_data_path = '''C:/studium/studium/CAS_PML/Projekt_Arbeit/earthquake/Daten/all/earthquakeFeatures.csv'''"
   ]
  },
  {
   "cell_type": "markdown",
   "metadata": {},
   "source": [
    "## Trainingsdaten laden"
   ]
  },
  {
   "cell_type": "code",
   "execution_count": 3,
   "metadata": {
    "ExecuteTime": {
     "end_time": "2019-03-11T21:31:42.109278Z",
     "start_time": "2019-03-11T21:30:01.653955Z"
    }
   },
   "outputs": [],
   "source": [
    "train_data = pd.read_csv(train_data_path, dtype={'acoustic_data': np.int16, 'time_to_failure': np.float64})"
   ]
  },
  {
   "cell_type": "markdown",
   "metadata": {},
   "source": [
    "# Feature Extraction"
   ]
  },
  {
   "cell_type": "markdown",
   "metadata": {},
   "source": [
    "Die Testsegmente bestehen jeweils aus 150.000 Messpunkte. Aus diesem Grund setzten wir die Fenstergrösse auch auf 150000 Messpunkte."
   ]
  },
  {
   "cell_type": "code",
   "execution_count": 4,
   "metadata": {
    "ExecuteTime": {
     "end_time": "2019-03-11T21:56:18.028927Z",
     "start_time": "2019-03-11T21:56:18.022862Z"
    }
   },
   "outputs": [],
   "source": [
    "def generate_featureRow(acoustic_data, time_to_failure):\n",
    "    \n",
    "    strain_feature = []\n",
    "    strain_feature.append(acoustic_data.mean())\n",
    "    strain_feature.append(acoustic_data.std())\n",
    "    strain_feature.append(acoustic_data.kurtosis())\n",
    "    strain_feature.append(acoustic_data.skew())\n",
    "    strain_feature.append(acoustic_data.min())\n",
    "    strain_feature.append(acoustic_data.max())\n",
    "    strain_feature.append(acoustic_data.quantile(0.01, interpolation='midpoint'))\n",
    "    strain_feature.append(acoustic_data.quantile(0.05,interpolation='midpoint'))\n",
    "    strain_feature.append(acoustic_data.quantile(0.95,interpolation='midpoint'))\n",
    "    strain_feature.append(acoustic_data.quantile(0.99,interpolation='midpoint'))\n",
    "    strain_feature.append(acoustic_data.abs().max())\n",
    "    strain_feature.append(acoustic_data.abs().mean())\n",
    "    strain_feature.append(acoustic_data.abs().std())\n",
    "    \n",
    "    strain_feature.append(time_to_failure.values[-1])\n",
    "    \n",
    "    return strain_feature"
   ]
  },
  {
   "cell_type": "markdown",
   "metadata": {},
   "source": [
    "Das Fenster, mit der grösse 150000), wird durch das Trainingssignal geschoben mit einer geplanten Überlappung von 80%"
   ]
  },
  {
   "cell_type": "code",
   "execution_count": 5,
   "metadata": {
    "ExecuteTime": {
     "end_time": "2019-03-11T22:09:43.815940Z",
     "start_time": "2019-03-11T22:08:15.855334Z"
    }
   },
   "outputs": [],
   "source": [
    "def generate_Features(train,step, window_size=150000, ):\n",
    "    init_idx = 0\n",
    "    features = []\n",
    "\n",
    "    while (init_idx + window_size < len(train)):\n",
    "        window = train.iloc[init_idx:init_idx + window_size]\n",
    "        features.append(generate_featureRow(window.acoustic_data,window.time_to_failure))\n",
    "        init_idx += step\n",
    "\n",
    "    return pd.DataFrame(features,dtype=np.float64)"
   ]
  },
  {
   "cell_type": "code",
   "execution_count": 35,
   "metadata": {
    "ExecuteTime": {
     "end_time": "2019-03-11T22:13:54.874949Z",
     "start_time": "2019-03-11T22:13:54.870889Z"
    }
   },
   "outputs": [],
   "source": [
    "step = 50000\n",
    "features = generate_Features(train_data,step)"
   ]
  },
  {
   "cell_type": "code",
   "execution_count": 33,
   "metadata": {},
   "outputs": [
    {
     "data": {
      "text/plain": [
       "(6290, 14)"
      ]
     },
     "execution_count": 33,
     "metadata": {},
     "output_type": "execute_result"
    }
   ],
   "source": [
    "features.shape"
   ]
  },
  {
   "cell_type": "code",
   "execution_count": null,
   "metadata": {},
   "outputs": [],
   "source": [
    "# saving the dataframe \n",
    "df.to_csv(feature_data_path, header=False, index=False) "
   ]
  },
  {
   "cell_type": "markdown",
   "metadata": {},
   "source": [
    "# Create Model Workbench"
   ]
  },
  {
   "cell_type": "markdown",
   "metadata": {},
   "source": [
    "## Imports"
   ]
  },
  {
   "cell_type": "code",
   "execution_count": 10,
   "metadata": {},
   "outputs": [],
   "source": [
    "# Scaler\n",
    "from sklearn.preprocessing import StandardScaler\n",
    "from sklearn.preprocessing import RobustScaler\n",
    "\n",
    "# Model selection\n",
    "from sklearn.pipeline import Pipeline\n",
    "from sklearn.model_selection import GridSearchCV\n",
    "from sklearn.metrics import mean_absolute_error\n",
    "from sklearn.model_selection import train_test_split\n",
    "\n",
    "# Modell\n",
    "from sklearn.ensemble import GradientBoostingRegressor\n",
    "from sklearn.ensemble import RandomForestRegressor"
   ]
  },
  {
   "cell_type": "markdown",
   "metadata": {},
   "source": [
    "## GradientBoosting"
   ]
  },
  {
   "cell_type": "code",
   "execution_count": 11,
   "metadata": {},
   "outputs": [],
   "source": [
    "pipe = Pipeline([('preprocessing', StandardScaler()), ('classifier', GradientBoostingRegressor())])"
   ]
  },
  {
   "cell_type": "code",
   "execution_count": 31,
   "metadata": {},
   "outputs": [],
   "source": [
    "param_grid = [\n",
    "    {'classifier': [GradientBoostingRegressor(n_estimators=1000, learning_rate=0.1, max_depth=1,random_state=0, loss='ls')],\n",
    "     'classifier__learning_rate':[0.1,0.2,0.3,0.4,0.5], 'preprocessing': [None]}]"
   ]
  },
  {
   "cell_type": "code",
   "execution_count": 29,
   "metadata": {},
   "outputs": [
    {
     "data": {
      "text/plain": [
       "\"param_grid = [\\n    {'classifier': [SVC()], 'preprocessing': [StandardScaler(), None],\\n     'classifier__gamma': [0.001, 0.01, 0.1, 1, 10, 100],\\n     'classifier__C': [0.001, 0.01, 0.1, 1, 10, 100]},\\n    {'classifier': [RandomForestClassifier(n_estimators=100)],\\n     'preprocessing': [None], 'classifier__max_features': [1, 2, 3]}]\""
      ]
     },
     "execution_count": 29,
     "metadata": {},
     "output_type": "execute_result"
    }
   ],
   "source": [
    "'''param_grid = [\n",
    "    {'classifier': [SVC()], 'preprocessing': [StandardScaler(), None],\n",
    "     'classifier__gamma': [0.001, 0.01, 0.1, 1, 10, 100],\n",
    "     'classifier__C': [0.001, 0.01, 0.1, 1, 10, 100]},\n",
    "    {'classifier': [RandomForestClassifier(n_estimators=100)],\n",
    "     'preprocessing': [None], 'classifier__max_features': [1, 2, 3]}]'''"
   ]
  },
  {
   "cell_type": "code",
   "execution_count": 34,
   "metadata": {},
   "outputs": [
    {
     "name": "stdout",
     "output_type": "stream",
     "text": [
      "Best params:\n",
      "{'classifier': GradientBoostingRegressor(alpha=0.9, criterion='friedman_mse', init=None,\n",
      "             learning_rate=0.1, loss='ls', max_depth=1, max_features=None,\n",
      "             max_leaf_nodes=None, min_impurity_decrease=0.0,\n",
      "             min_impurity_split=None, min_samples_leaf=1,\n",
      "             min_samples_split=2, min_weight_fraction_leaf=0.0,\n",
      "             n_estimators=1000, n_iter_no_change=None, presort='auto',\n",
      "             random_state=0, subsample=1.0, tol=0.0001,\n",
      "             validation_fraction=0.1, verbose=0, warm_start=False), 'classifier__learning_rate': 0.1, 'preprocessing': None}\n",
      "\n",
      "Best cross-validation score: -2.16\n",
      "Test-set score: -2.07\n",
      "Test-set: mean absolute error : 2.07\n"
     ]
    }
   ],
   "source": [
    "X_train, X_test, y_train, y_test = train_test_split(\n",
    "    features.iloc[:,0:13], features.iloc[:,-1], random_state=0)\n",
    "\n",
    "grid = GridSearchCV(pipe, param_grid, scoring='neg_mean_absolute_error', cv=5)\n",
    "grid.fit(X_train, y_train)\n",
    "\n",
    "print(\"Best params:\\n{}\\n\".format(grid.best_params_))\n",
    "print(\"Best cross-validation score: {:.2f}\".format(grid.best_score_))\n",
    "print(\"Test-set score: {:.2f}\".format(grid.score(X_test, y_test)))\n",
    "print(\"Test-set: mean absolute error : {:.2f}\".format(mean_absolute_error(y_test, grid.predict(X_test))))\n"
   ]
  },
  {
   "cell_type": "code",
   "execution_count": null,
   "metadata": {},
   "outputs": [],
   "source": [
    "https://scikit-learn.org/stable/auto_examples/ensemble/plot_gradient_boosting_regression.html#sphx-glr-auto-examples-ensemble-plot-gradient-boosting-regression-py"
   ]
  },
  {
   "cell_type": "markdown",
   "metadata": {},
   "source": [
    "# Open Points"
   ]
  },
  {
   "cell_type": "markdown",
   "metadata": {},
   "source": [
    "gridsearch mit mae?"
   ]
  },
  {
   "cell_type": "markdown",
   "metadata": {},
   "source": [
    "# Future Ideas"
   ]
  },
  {
   "cell_type": "markdown",
   "metadata": {},
   "source": [
    "Reccurent Neuronal Net: LSTM"
   ]
  },
  {
   "cell_type": "code",
   "execution_count": null,
   "metadata": {},
   "outputs": [],
   "source": []
  }
 ],
 "metadata": {
  "kernelspec": {
   "display_name": "Python 3",
   "language": "python",
   "name": "python3"
  },
  "language_info": {
   "codemirror_mode": {
    "name": "ipython",
    "version": 3
   },
   "file_extension": ".py",
   "mimetype": "text/x-python",
   "name": "python",
   "nbconvert_exporter": "python",
   "pygments_lexer": "ipython3",
   "version": "3.6.8"
  },
  "toc": {
   "base_numbering": 1,
   "nav_menu": {},
   "number_sections": true,
   "sideBar": true,
   "skip_h1_title": false,
   "title_cell": "Table of Contents",
   "title_sidebar": "Contents",
   "toc_cell": false,
   "toc_position": {},
   "toc_section_display": true,
   "toc_window_display": false
  }
 },
 "nbformat": 4,
 "nbformat_minor": 2
}
