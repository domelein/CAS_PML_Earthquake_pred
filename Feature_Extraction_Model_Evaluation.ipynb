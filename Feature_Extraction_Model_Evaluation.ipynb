{
 "cells": [
  {
   "cell_type": "markdown",
   "metadata": {},
   "source": [
    "# Vorarbeiten"
   ]
  },
  {
   "cell_type": "code",
   "execution_count": 1,
   "metadata": {
    "ExecuteTime": {
     "end_time": "2019-03-11T21:29:58.563123Z",
     "start_time": "2019-03-11T21:29:55.622789Z"
    }
   },
   "outputs": [],
   "source": [
    "import pandas as pd\n",
    "import numpy as np"
   ]
  },
  {
   "cell_type": "markdown",
   "metadata": {},
   "source": [
    "## Umgebungsvariablen"
   ]
  },
  {
   "cell_type": "code",
   "execution_count": 2,
   "metadata": {
    "ExecuteTime": {
     "end_time": "2019-03-11T21:30:00.105989Z",
     "start_time": "2019-03-11T21:30:00.101968Z"
    }
   },
   "outputs": [],
   "source": [
    "failure_datapath = '''D:/jupyter-notebooks/LANL_Earthquake_Prediction/failure/'''\n",
    "train_data_path = '''C:/studium/studium/CAS_PML/Projekt_Arbeit/earthquake/Daten/all/train.csv'''"
   ]
  },
  {
   "cell_type": "markdown",
   "metadata": {},
   "source": [
    "## Trainingsdaten laden"
   ]
  },
  {
   "cell_type": "code",
   "execution_count": 3,
   "metadata": {
    "ExecuteTime": {
     "end_time": "2019-03-11T21:31:42.109278Z",
     "start_time": "2019-03-11T21:30:01.653955Z"
    }
   },
   "outputs": [],
   "source": [
    "train_data = pd.read_csv(train_data_path, dtype={'acoustic_data': np.int16, 'time_to_failure': np.float64})"
   ]
  },
  {
   "cell_type": "markdown",
   "metadata": {},
   "source": [
    "# Feature Extraction"
   ]
  },
  {
   "cell_type": "markdown",
   "metadata": {},
   "source": [
    "Die Testsegmente bestehen jeweils aus 150.000 Messpunkte. Aus diesem Grund setzten wir die Fenstergrösse auch auf 150000 Messpunkte."
   ]
  },
  {
   "cell_type": "code",
   "execution_count": 36,
   "metadata": {
    "ExecuteTime": {
     "end_time": "2019-03-11T21:56:18.028927Z",
     "start_time": "2019-03-11T21:56:18.022862Z"
    }
   },
   "outputs": [],
   "source": [
    "def generate_features(acoustic_data, time_to_failure):\n",
    "    \n",
    "    strain = []\n",
    "    strain.append(acoustic_data.mean())\n",
    "    strain.append(acoustic_data.std())\n",
    "    strain.append(acoustic_data.kurtosis())\n",
    "    strain.append(acoustic_data.skew())\n",
    "    strain.append(acoustic_data.min())\n",
    "    strain.append(acoustic_data.max())\n",
    "    strain.append(acoustic_data.quantile(0.01, interpolation='midpoint'))\n",
    "    strain.append(acoustic_data.quantile(0.05,interpolation='midpoint'))\n",
    "    strain.append(acoustic_data.quantile(0.95,interpolation='midpoint'))\n",
    "    strain.append(acoustic_data.quantile(0.99,interpolation='midpoint'))\n",
    "    strain.append(acoustic_data.abs().max())\n",
    "    strain.append(acoustic_data.abs().mean())\n",
    "    strain.append(acoustic_data.abs().std())\n",
    "    \n",
    "    return pd.Series(strain),  pd.Series(time_to_failure.values[-1])"
   ]
  },
  {
   "cell_type": "code",
   "execution_count": 45,
   "metadata": {
    "ExecuteTime": {
     "end_time": "2019-03-11T22:09:43.815940Z",
     "start_time": "2019-03-11T22:08:15.855334Z"
    }
   },
   "outputs": [],
   "source": [
    "train = train_data\n",
    "window_size = 150000\n",
    "step = int(0.9 * window) # 0.9 bedeuted eine 10% Überdeckung\n",
    "\n",
    "################################\n",
    "init_idx = 0\n",
    "x_train = pd.DataFrame()\n",
    "y_train = pd.Series()\n",
    "\n",
    "while (init_idx + window_size < len(train)):\n",
    "    data_within_window = train.iloc[init_idx:init_idx + window_size]\n",
    "    accoustic_traindata, y = generate_features(data_within_window.acoustic_data,data_within_window.time_to_failure)\n",
    "    x_train.append(accoustic_traindata, ignore_index=True)\n",
    "    y_train.append(y, ignore_index=True)\n",
    "    init_idx += step"
   ]
  },
  {
   "cell_type": "code",
   "execution_count": 50,
   "metadata": {
    "ExecuteTime": {
     "end_time": "2019-03-11T22:13:54.874949Z",
     "start_time": "2019-03-11T22:13:54.870889Z"
    }
   },
   "outputs": [
    {
     "name": "stdout",
     "output_type": "stream",
     "text": [
      "Series([], dtype: float64)\n"
     ]
    }
   ],
   "source": [
    "print(y_train)"
   ]
  },
  {
   "cell_type": "code",
   "execution_count": null,
   "metadata": {},
   "outputs": [],
   "source": []
  },
  {
   "cell_type": "code",
   "execution_count": null,
   "metadata": {},
   "outputs": [],
   "source": []
  }
 ],
 "metadata": {
  "kernelspec": {
   "display_name": "Python 3",
   "language": "python",
   "name": "python3"
  },
  "language_info": {
   "codemirror_mode": {
    "name": "ipython",
    "version": 3
   },
   "file_extension": ".py",
   "mimetype": "text/x-python",
   "name": "python",
   "nbconvert_exporter": "python",
   "pygments_lexer": "ipython3",
   "version": "3.6.8"
  },
  "toc": {
   "base_numbering": 1,
   "nav_menu": {},
   "number_sections": true,
   "sideBar": true,
   "skip_h1_title": false,
   "title_cell": "Table of Contents",
   "title_sidebar": "Contents",
   "toc_cell": false,
   "toc_position": {},
   "toc_section_display": true,
   "toc_window_display": false
  }
 },
 "nbformat": 4,
 "nbformat_minor": 2
}
