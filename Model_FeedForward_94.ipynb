{
 "cells": [
  {
   "cell_type": "markdown",
   "metadata": {},
   "source": [
    "# Imports"
   ]
  },
  {
   "cell_type": "code",
   "execution_count": 1,
   "metadata": {
    "ExecuteTime": {
     "end_time": "2019-03-31T09:49:24.507719Z",
     "start_time": "2019-03-31T09:49:13.787915Z"
    }
   },
   "outputs": [
    {
     "name": "stderr",
     "output_type": "stream",
     "text": [
      "Using TensorFlow backend.\n"
     ]
    }
   ],
   "source": [
    "import pandas as pd\n",
    "import numpy as np\n",
    "#data visualization\n",
    "import matplotlib.pyplot as plt\n",
    "from sklearn.model_selection import train_test_split\n",
    "from sklearn.model_selection import GridSearchCV\n",
    "from sklearn.preprocessing import StandardScaler\n",
    "from sklearn.metrics import mean_absolute_error\n",
    "from sklearn.pipeline import Pipeline\n",
    "\n",
    "from keras.models import Sequential\n",
    "from keras.layers import Dense, Activation, Dropout\n",
    "from keras.wrappers.scikit_learn import KerasRegressor\n",
    "from keras.optimizers import Adam\n",
    "from keras.constraints import maxnorm\n",
    "\n",
    "pd.options.display.precision = 10"
   ]
  },
  {
   "cell_type": "markdown",
   "metadata": {},
   "source": [
    "# Umgebungsvariablen"
   ]
  },
  {
   "cell_type": "code",
   "execution_count": 2,
   "metadata": {
    "ExecuteTime": {
     "end_time": "2019-03-31T09:49:26.278704Z",
     "start_time": "2019-03-31T09:49:26.273692Z"
    }
   },
   "outputs": [],
   "source": [
    "#feature generated 24.03.2019\n",
    "# path data Domenico\n",
    "earthquake_daten = '''C:/Users/taacodo4/GITRepos/CAS_PML_Earthquake_pred/data/'''\n",
    "# path data Stefan\n",
    "#earthquake_daten = '''C:/studium/studium/CAS_PML/Projekt_Arbeit/earthquake/Daten/earthquake_data/'''\n",
    "feature_62900_94 = 'Features_62900-94.csv'\n",
    "feature_41934_94 = 'Features_41934_94.csv'\n",
    "Features_4194_94 = 'Features_4194_94.csv'"
   ]
  },
  {
   "cell_type": "markdown",
   "metadata": {},
   "source": [
    "# Feature laden"
   ]
  },
  {
   "cell_type": "code",
   "execution_count": 3,
   "metadata": {
    "ExecuteTime": {
     "end_time": "2019-03-31T09:49:31.197863Z",
     "start_time": "2019-03-31T09:49:30.939122Z"
    }
   },
   "outputs": [],
   "source": [
    "#train_data = pd.read_csv(earthquake_daten+feature_41934_94)\n",
    "train_data = pd.read_csv(earthquake_daten+Features_4194_94)"
   ]
  },
  {
   "cell_type": "code",
   "execution_count": 4,
   "metadata": {
    "ExecuteTime": {
     "end_time": "2019-03-31T09:49:34.197554Z",
     "start_time": "2019-03-31T09:49:34.184488Z"
    }
   },
   "outputs": [],
   "source": [
    "feature_data = train_data.iloc[:,1:len(train_data.columns)-1] # first column is an index column\n",
    "time_to_failure = np.array(train_data.iloc[:,-1])"
   ]
  },
  {
   "cell_type": "code",
   "execution_count": 25,
   "metadata": {
    "ExecuteTime": {
     "end_time": "2019-03-31T11:14:05.443986Z",
     "start_time": "2019-03-31T11:14:05.440477Z"
    }
   },
   "outputs": [],
   "source": [
    "input_variables=feature_data\n",
    "output_variable=time_to_failure"
   ]
  },
  {
   "cell_type": "code",
   "execution_count": 6,
   "metadata": {
    "ExecuteTime": {
     "end_time": "2019-03-31T09:49:36.858893Z",
     "start_time": "2019-03-31T09:49:36.800636Z"
    }
   },
   "outputs": [
    {
     "data": {
      "text/html": [
       "<div>\n",
       "<style scoped>\n",
       "    .dataframe tbody tr th:only-of-type {\n",
       "        vertical-align: middle;\n",
       "    }\n",
       "\n",
       "    .dataframe tbody tr th {\n",
       "        vertical-align: top;\n",
       "    }\n",
       "\n",
       "    .dataframe thead th {\n",
       "        text-align: right;\n",
       "    }\n",
       "</style>\n",
       "<table border=\"1\" class=\"dataframe\">\n",
       "  <thead>\n",
       "    <tr style=\"text-align: right;\">\n",
       "      <th></th>\n",
       "      <th>mean</th>\n",
       "      <th>std</th>\n",
       "      <th>kurt</th>\n",
       "      <th>skew</th>\n",
       "      <th>min</th>\n",
       "      <th>max</th>\n",
       "      <th>1%q</th>\n",
       "      <th>5%q</th>\n",
       "      <th>25%q</th>\n",
       "      <th>75%q</th>\n",
       "      <th>...</th>\n",
       "      <th>spec_bw_kurt</th>\n",
       "      <th>spec_bw_skew</th>\n",
       "      <th>spec_bw_min</th>\n",
       "      <th>spec_bw_max</th>\n",
       "      <th>spec_bw_1%q</th>\n",
       "      <th>spec_bw_5%q</th>\n",
       "      <th>spec_bw_25%q</th>\n",
       "      <th>spec_bw_75%q</th>\n",
       "      <th>spec_bw_95%q</th>\n",
       "      <th>spec_bw_99%q</th>\n",
       "    </tr>\n",
       "  </thead>\n",
       "  <tbody>\n",
       "    <tr>\n",
       "      <th>0</th>\n",
       "      <td>4.8841133333</td>\n",
       "      <td>5.1011061306</td>\n",
       "      <td>33.6624812935</td>\n",
       "      <td>-0.0240611666</td>\n",
       "      <td>-98</td>\n",
       "      <td>104</td>\n",
       "      <td>-8.0</td>\n",
       "      <td>-2.0</td>\n",
       "      <td>3.0</td>\n",
       "      <td>7.0</td>\n",
       "      <td>...</td>\n",
       "      <td>12.7760446198</td>\n",
       "      <td>-2.9176274163</td>\n",
       "      <td>381349.1865900679</td>\n",
       "      <td>593848.0949585186</td>\n",
       "      <td>464802.9437660335</td>\n",
       "      <td>513229.8197951605</td>\n",
       "      <td>557429.6937546992</td>\n",
       "      <td>578910.9580815419</td>\n",
       "      <td>586597.8954874629</td>\n",
       "      <td>589247.3423812583</td>\n",
       "    </tr>\n",
       "    <tr>\n",
       "      <th>1</th>\n",
       "      <td>4.7257666667</td>\n",
       "      <td>6.5888237819</td>\n",
       "      <td>98.7585171787</td>\n",
       "      <td>0.3905605044</td>\n",
       "      <td>-154</td>\n",
       "      <td>181</td>\n",
       "      <td>-11.0</td>\n",
       "      <td>-2.0</td>\n",
       "      <td>2.0</td>\n",
       "      <td>7.0</td>\n",
       "      <td>...</td>\n",
       "      <td>12.4473098885</td>\n",
       "      <td>-3.1420260522</td>\n",
       "      <td>339068.4229139190</td>\n",
       "      <td>593047.2583837381</td>\n",
       "      <td>373488.0462558223</td>\n",
       "      <td>487974.0669297441</td>\n",
       "      <td>553402.7519102279</td>\n",
       "      <td>578052.3179053498</td>\n",
       "      <td>586268.5112265539</td>\n",
       "      <td>589480.9659446193</td>\n",
       "    </tr>\n",
       "    <tr>\n",
       "      <th>2</th>\n",
       "      <td>4.9063933333</td>\n",
       "      <td>6.9673970335</td>\n",
       "      <td>33.5552114069</td>\n",
       "      <td>0.2173905614</td>\n",
       "      <td>-106</td>\n",
       "      <td>140</td>\n",
       "      <td>-15.0</td>\n",
       "      <td>-3.0</td>\n",
       "      <td>2.0</td>\n",
       "      <td>7.0</td>\n",
       "      <td>...</td>\n",
       "      <td>4.9488288962</td>\n",
       "      <td>-2.1608426205</td>\n",
       "      <td>344167.5096713643</td>\n",
       "      <td>592738.7943923724</td>\n",
       "      <td>397152.4604941708</td>\n",
       "      <td>465235.6930021432</td>\n",
       "      <td>545439.4027226671</td>\n",
       "      <td>577177.5071075818</td>\n",
       "      <td>584977.6504044535</td>\n",
       "      <td>588695.0354595457</td>\n",
       "    </tr>\n",
       "    <tr>\n",
       "      <th>3</th>\n",
       "      <td>4.9022400000</td>\n",
       "      <td>6.9223051872</td>\n",
       "      <td>116.5481716876</td>\n",
       "      <td>0.7572775364</td>\n",
       "      <td>-199</td>\n",
       "      <td>197</td>\n",
       "      <td>-12.0</td>\n",
       "      <td>-2.0</td>\n",
       "      <td>2.0</td>\n",
       "      <td>7.0</td>\n",
       "      <td>...</td>\n",
       "      <td>11.6064831292</td>\n",
       "      <td>-3.0859627131</td>\n",
       "      <td>317909.0883782429</td>\n",
       "      <td>594108.2442517320</td>\n",
       "      <td>395493.9927363199</td>\n",
       "      <td>481201.4155927489</td>\n",
       "      <td>554046.7131943784</td>\n",
       "      <td>578726.4379399519</td>\n",
       "      <td>586329.5304609182</td>\n",
       "      <td>592069.8251146671</td>\n",
       "    </tr>\n",
       "    <tr>\n",
       "      <th>4</th>\n",
       "      <td>4.9087200000</td>\n",
       "      <td>7.3011101898</td>\n",
       "      <td>52.9779048344</td>\n",
       "      <td>0.0645310693</td>\n",
       "      <td>-126</td>\n",
       "      <td>145</td>\n",
       "      <td>-15.0</td>\n",
       "      <td>-2.0</td>\n",
       "      <td>2.0</td>\n",
       "      <td>7.0</td>\n",
       "      <td>...</td>\n",
       "      <td>9.9730546565</td>\n",
       "      <td>-2.9666542555</td>\n",
       "      <td>327985.3002366525</td>\n",
       "      <td>592276.8748307980</td>\n",
       "      <td>363126.2614921932</td>\n",
       "      <td>469766.1652834315</td>\n",
       "      <td>554713.0297514369</td>\n",
       "      <td>579583.0722189071</td>\n",
       "      <td>585261.5016828560</td>\n",
       "      <td>590190.4467753589</td>\n",
       "    </tr>\n",
       "  </tbody>\n",
       "</table>\n",
       "<p>5 rows × 94 columns</p>\n",
       "</div>"
      ],
      "text/plain": [
       "           mean           std            kurt          skew  min  max   1%q  \\\n",
       "0  4.8841133333  5.1011061306   33.6624812935 -0.0240611666  -98  104  -8.0   \n",
       "1  4.7257666667  6.5888237819   98.7585171787  0.3905605044 -154  181 -11.0   \n",
       "2  4.9063933333  6.9673970335   33.5552114069  0.2173905614 -106  140 -15.0   \n",
       "3  4.9022400000  6.9223051872  116.5481716876  0.7572775364 -199  197 -12.0   \n",
       "4  4.9087200000  7.3011101898   52.9779048344  0.0645310693 -126  145 -15.0   \n",
       "\n",
       "   5%q  25%q  75%q  ...   spec_bw_kurt  spec_bw_skew        spec_bw_min  \\\n",
       "0 -2.0   3.0   7.0  ...  12.7760446198 -2.9176274163  381349.1865900679   \n",
       "1 -2.0   2.0   7.0  ...  12.4473098885 -3.1420260522  339068.4229139190   \n",
       "2 -3.0   2.0   7.0  ...   4.9488288962 -2.1608426205  344167.5096713643   \n",
       "3 -2.0   2.0   7.0  ...  11.6064831292 -3.0859627131  317909.0883782429   \n",
       "4 -2.0   2.0   7.0  ...   9.9730546565 -2.9666542555  327985.3002366525   \n",
       "\n",
       "         spec_bw_max        spec_bw_1%q        spec_bw_5%q       spec_bw_25%q  \\\n",
       "0  593848.0949585186  464802.9437660335  513229.8197951605  557429.6937546992   \n",
       "1  593047.2583837381  373488.0462558223  487974.0669297441  553402.7519102279   \n",
       "2  592738.7943923724  397152.4604941708  465235.6930021432  545439.4027226671   \n",
       "3  594108.2442517320  395493.9927363199  481201.4155927489  554046.7131943784   \n",
       "4  592276.8748307980  363126.2614921932  469766.1652834315  554713.0297514369   \n",
       "\n",
       "        spec_bw_75%q       spec_bw_95%q       spec_bw_99%q  \n",
       "0  578910.9580815419  586597.8954874629  589247.3423812583  \n",
       "1  578052.3179053498  586268.5112265539  589480.9659446193  \n",
       "2  577177.5071075818  584977.6504044535  588695.0354595457  \n",
       "3  578726.4379399519  586329.5304609182  592069.8251146671  \n",
       "4  579583.0722189071  585261.5016828560  590190.4467753589  \n",
       "\n",
       "[5 rows x 94 columns]"
      ]
     },
     "execution_count": 6,
     "metadata": {},
     "output_type": "execute_result"
    }
   ],
   "source": [
    "feature_data.head()"
   ]
  },
  {
   "cell_type": "markdown",
   "metadata": {},
   "source": [
    "# Base model"
   ]
  },
  {
   "cell_type": "markdown",
   "metadata": {},
   "source": [
    "## Training / Testdaten vorbereiten"
   ]
  },
  {
   "cell_type": "code",
   "execution_count": 7,
   "metadata": {
    "ExecuteTime": {
     "end_time": "2019-03-31T09:50:16.021239Z",
     "start_time": "2019-03-31T09:50:16.001183Z"
    }
   },
   "outputs": [],
   "source": [
    "X_train, X_test, y_train, y_test = train_test_split(\n",
    "    feature_data,\n",
    "    time_to_failure,\n",
    "    random_state=0,\n",
    "    test_size=0.25)"
   ]
  },
  {
   "cell_type": "code",
   "execution_count": 8,
   "metadata": {
    "ExecuteTime": {
     "end_time": "2019-03-31T09:50:19.246373Z",
     "start_time": "2019-03-31T09:50:19.207301Z"
    }
   },
   "outputs": [
    {
     "name": "stderr",
     "output_type": "stream",
     "text": [
      "C:\\Users\\taacodo4\\AppData\\Local\\Continuum\\anaconda3\\envs\\deeplearning\\lib\\site-packages\\sklearn\\preprocessing\\data.py:645: DataConversionWarning: Data with input dtype int64, float64 were all converted to float64 by StandardScaler.\n",
      "  return self.partial_fit(X, y)\n",
      "C:\\Users\\taacodo4\\AppData\\Local\\Continuum\\anaconda3\\envs\\deeplearning\\lib\\site-packages\\ipykernel_launcher.py:2: DataConversionWarning: Data with input dtype int64, float64 were all converted to float64 by StandardScaler.\n",
      "  \n"
     ]
    }
   ],
   "source": [
    "scaler = StandardScaler().fit(X_train)\n",
    "X_train_scaled=scaler.transform(X_train)"
   ]
  },
  {
   "cell_type": "markdown",
   "metadata": {},
   "source": [
    "## model compilation"
   ]
  },
  {
   "cell_type": "code",
   "execution_count": 18,
   "metadata": {
    "ExecuteTime": {
     "end_time": "2019-03-31T11:01:11.290854Z",
     "start_time": "2019-03-31T11:00:19.453965Z"
    },
    "scrolled": true
   },
   "outputs": [
    {
     "name": "stdout",
     "output_type": "stream",
     "text": [
      "Epoch 1/100\n",
      "3145/3145 [==============================] - 1s 262us/step - loss: 2.5682 - mean_absolute_error: 2.5682 - acc: 0.0000e+00\n",
      "Epoch 2/100\n",
      "3145/3145 [==============================] - 1s 162us/step - loss: 2.1027 - mean_absolute_error: 2.1027 - acc: 0.0000e+00\n",
      "Epoch 3/100\n",
      "3145/3145 [==============================] - 1s 161us/step - loss: 2.0701 - mean_absolute_error: 2.0701 - acc: 0.0000e+00\n",
      "Epoch 4/100\n",
      "3145/3145 [==============================] - 0s 154us/step - loss: 2.0405 - mean_absolute_error: 2.0405 - acc: 0.0000e+00\n",
      "Epoch 5/100\n",
      "3145/3145 [==============================] - 1s 169us/step - loss: 2.0351 - mean_absolute_error: 2.0351 - acc: 0.0000e+00\n",
      "Epoch 6/100\n",
      "3145/3145 [==============================] - 1s 172us/step - loss: 2.0171 - mean_absolute_error: 2.0171 - acc: 0.0000e+00\n",
      "Epoch 7/100\n",
      "3145/3145 [==============================] - 1s 174us/step - loss: 2.0110 - mean_absolute_error: 2.0110 - acc: 0.0000e+00\n",
      "Epoch 8/100\n",
      "3145/3145 [==============================] - 1s 176us/step - loss: 2.0029 - mean_absolute_error: 2.0029 - acc: 0.0000e+00\n",
      "Epoch 9/100\n",
      "3145/3145 [==============================] - 1s 177us/step - loss: 2.0010 - mean_absolute_error: 2.0010 - acc: 0.0000e+00\n",
      "Epoch 10/100\n",
      "3145/3145 [==============================] - 0s 158us/step - loss: 1.9846 - mean_absolute_error: 1.9846 - acc: 0.0000e+00\n",
      "Epoch 11/100\n",
      "3145/3145 [==============================] - 0s 156us/step - loss: 1.9831 - mean_absolute_error: 1.9831 - acc: 0.0000e+00\n",
      "Epoch 12/100\n",
      "3145/3145 [==============================] - 1s 164us/step - loss: 1.9790 - mean_absolute_error: 1.9790 - acc: 0.0000e+00\n",
      "Epoch 13/100\n",
      "3145/3145 [==============================] - 0s 159us/step - loss: 1.9593 - mean_absolute_error: 1.9593 - acc: 0.0000e+00\n",
      "Epoch 14/100\n",
      "3145/3145 [==============================] - 1s 163us/step - loss: 1.9615 - mean_absolute_error: 1.9615 - acc: 0.0000e+00\n",
      "Epoch 15/100\n",
      "3145/3145 [==============================] - 0s 159us/step - loss: 1.9493 - mean_absolute_error: 1.9493 - acc: 0.0000e+00\n",
      "Epoch 16/100\n",
      "3145/3145 [==============================] - 1s 160us/step - loss: 1.9429 - mean_absolute_error: 1.9429 - acc: 0.0000e+00\n",
      "Epoch 17/100\n",
      "3145/3145 [==============================] - 1s 162us/step - loss: 1.9401 - mean_absolute_error: 1.9401 - acc: 0.0000e+00\n",
      "Epoch 18/100\n",
      "3145/3145 [==============================] - 0s 158us/step - loss: 1.9346 - mean_absolute_error: 1.9346 - acc: 0.0000e+00\n",
      "Epoch 19/100\n",
      "3145/3145 [==============================] - 0s 158us/step - loss: 1.9272 - mean_absolute_error: 1.9272 - acc: 0.0000e+00\n",
      "Epoch 20/100\n",
      "3145/3145 [==============================] - 1s 162us/step - loss: 1.9202 - mean_absolute_error: 1.9202 - acc: 0.0000e+00\n",
      "Epoch 21/100\n",
      "3145/3145 [==============================] - 0s 158us/step - loss: 1.9225 - mean_absolute_error: 1.9225 - acc: 0.0000e+00\n",
      "Epoch 22/100\n",
      "3145/3145 [==============================] - 1s 164us/step - loss: 1.8995 - mean_absolute_error: 1.8995 - acc: 0.0000e+00\n",
      "Epoch 23/100\n",
      "3145/3145 [==============================] - 0s 157us/step - loss: 1.9025 - mean_absolute_error: 1.9025 - acc: 0.0000e+00\n",
      "Epoch 24/100\n",
      "3145/3145 [==============================] - 0s 158us/step - loss: 1.9008 - mean_absolute_error: 1.9008 - acc: 0.0000e+00\n",
      "Epoch 25/100\n",
      "3145/3145 [==============================] - 0s 156us/step - loss: 1.8825 - mean_absolute_error: 1.8825 - acc: 0.0000e+00\n",
      "Epoch 26/100\n",
      "3145/3145 [==============================] - 0s 156us/step - loss: 1.8931 - mean_absolute_error: 1.8931 - acc: 0.0000e+00\n",
      "Epoch 27/100\n",
      "3145/3145 [==============================] - 0s 155us/step - loss: 1.8668 - mean_absolute_error: 1.8668 - acc: 0.0000e+00\n",
      "Epoch 28/100\n",
      "3145/3145 [==============================] - 0s 156us/step - loss: 1.8709 - mean_absolute_error: 1.8709 - acc: 0.0000e+00\n",
      "Epoch 29/100\n",
      "3145/3145 [==============================] - 1s 159us/step - loss: 1.8706 - mean_absolute_error: 1.8706 - acc: 0.0000e+00\n",
      "Epoch 30/100\n",
      "3145/3145 [==============================] - 0s 158us/step - loss: 1.8682 - mean_absolute_error: 1.8682 - acc: 0.0000e+00\n",
      "Epoch 31/100\n",
      "3145/3145 [==============================] - 1s 168us/step - loss: 1.8469 - mean_absolute_error: 1.8469 - acc: 0.0000e+00\n",
      "Epoch 32/100\n",
      "3145/3145 [==============================] - 1s 170us/step - loss: 1.8515 - mean_absolute_error: 1.8515 - acc: 0.0000e+00\n",
      "Epoch 33/100\n",
      "3145/3145 [==============================] - 1s 160us/step - loss: 1.8448 - mean_absolute_error: 1.8448 - acc: 0.0000e+00\n",
      "Epoch 34/100\n",
      "3145/3145 [==============================] - 1s 160us/step - loss: 1.8375 - mean_absolute_error: 1.8375 - acc: 0.0000e+00\n",
      "Epoch 35/100\n",
      "3145/3145 [==============================] - 0s 155us/step - loss: 1.8149 - mean_absolute_error: 1.8149 - acc: 0.0000e+00\n",
      "Epoch 36/100\n",
      "3145/3145 [==============================] - 0s 157us/step - loss: 1.8192 - mean_absolute_error: 1.8192 - acc: 0.0000e+00\n",
      "Epoch 37/100\n",
      "3145/3145 [==============================] - 1s 173us/step - loss: 1.8125 - mean_absolute_error: 1.8125 - acc: 0.0000e+00\n",
      "Epoch 38/100\n",
      "3145/3145 [==============================] - 1s 168us/step - loss: 1.8100 - mean_absolute_error: 1.8100 - acc: 0.0000e+00\n",
      "Epoch 39/100\n",
      "3145/3145 [==============================] - 1s 167us/step - loss: 1.8082 - mean_absolute_error: 1.8082 - acc: 0.0000e+00\n",
      "Epoch 40/100\n",
      "3145/3145 [==============================] - 1s 171us/step - loss: 1.8088 - mean_absolute_error: 1.8088 - acc: 0.0000e+00\n",
      "Epoch 41/100\n",
      "3145/3145 [==============================] - 0s 153us/step - loss: 1.7947 - mean_absolute_error: 1.7947 - acc: 0.0000e+00\n",
      "Epoch 42/100\n",
      "3145/3145 [==============================] - 1s 161us/step - loss: 1.7914 - mean_absolute_error: 1.7914 - acc: 0.0000e+00\n",
      "Epoch 43/100\n",
      "3145/3145 [==============================] - 1s 162us/step - loss: 1.7787 - mean_absolute_error: 1.7787 - acc: 0.0000e+00\n",
      "Epoch 44/100\n",
      "3145/3145 [==============================] - 1s 174us/step - loss: 1.7808 - mean_absolute_error: 1.7808 - acc: 0.0000e+00\n",
      "Epoch 45/100\n",
      "3145/3145 [==============================] - 1s 166us/step - loss: 1.7706 - mean_absolute_error: 1.7706 - acc: 0.0000e+00\n",
      "Epoch 46/100\n",
      "3145/3145 [==============================] - 0s 158us/step - loss: 1.7621 - mean_absolute_error: 1.7621 - acc: 0.0000e+00\n",
      "Epoch 47/100\n",
      "3145/3145 [==============================] - 1s 169us/step - loss: 1.7538 - mean_absolute_error: 1.7538 - acc: 0.0000e+00\n",
      "Epoch 48/100\n",
      "3145/3145 [==============================] - 1s 162us/step - loss: 1.7493 - mean_absolute_error: 1.7493 - acc: 0.0000e+00\n",
      "Epoch 49/100\n",
      "3145/3145 [==============================] - 1s 174us/step - loss: 1.7357 - mean_absolute_error: 1.7357 - acc: 0.0000e+00\n",
      "Epoch 50/100\n",
      "3145/3145 [==============================] - 1s 161us/step - loss: 1.7288 - mean_absolute_error: 1.7288 - acc: 0.0000e+00\n",
      "Epoch 51/100\n",
      "3145/3145 [==============================] - 1s 164us/step - loss: 1.7294 - mean_absolute_error: 1.7294 - acc: 0.0000e+00\n",
      "Epoch 52/100\n",
      "3145/3145 [==============================] - 0s 154us/step - loss: 1.7261 - mean_absolute_error: 1.7261 - acc: 0.0000e+00\n",
      "Epoch 53/100\n",
      "3145/3145 [==============================] - 1s 160us/step - loss: 1.7274 - mean_absolute_error: 1.7274 - acc: 0.0000e+00\n",
      "Epoch 54/100\n",
      "3145/3145 [==============================] - 0s 159us/step - loss: 1.7107 - mean_absolute_error: 1.7107 - acc: 0.0000e+00\n",
      "Epoch 55/100\n",
      "3145/3145 [==============================] - 1s 160us/step - loss: 1.6957 - mean_absolute_error: 1.6957 - acc: 0.0000e+00\n",
      "Epoch 56/100\n",
      "3145/3145 [==============================] - 1s 159us/step - loss: 1.7060 - mean_absolute_error: 1.7060 - acc: 0.0000e+00\n",
      "Epoch 57/100\n",
      "3145/3145 [==============================] - 0s 156us/step - loss: 1.6847 - mean_absolute_error: 1.6847 - acc: 0.0000e+00\n",
      "Epoch 58/100\n",
      "3145/3145 [==============================] - 1s 165us/step - loss: 1.6997 - mean_absolute_error: 1.6997 - acc: 0.0000e+00\n",
      "Epoch 59/100\n",
      "3145/3145 [==============================] - 1s 175us/step - loss: 1.6738 - mean_absolute_error: 1.6738 - acc: 0.0000e+00\n",
      "Epoch 60/100\n",
      "3145/3145 [==============================] - 1s 162us/step - loss: 1.6720 - mean_absolute_error: 1.6720 - acc: 0.0000e+00\n",
      "Epoch 61/100\n"
     ]
    },
    {
     "name": "stdout",
     "output_type": "stream",
     "text": [
      "3145/3145 [==============================] - 0s 158us/step - loss: 1.6773 - mean_absolute_error: 1.6773 - acc: 0.0000e+00\n",
      "Epoch 62/100\n",
      "3145/3145 [==============================] - 0s 149us/step - loss: 1.6558 - mean_absolute_error: 1.6558 - acc: 0.0000e+00\n",
      "Epoch 63/100\n",
      "3145/3145 [==============================] - 0s 147us/step - loss: 1.6551 - mean_absolute_error: 1.6551 - acc: 0.0000e+00\n",
      "Epoch 64/100\n",
      "3145/3145 [==============================] - 0s 147us/step - loss: 1.6477 - mean_absolute_error: 1.6477 - acc: 0.0000e+00\n",
      "Epoch 65/100\n",
      "3145/3145 [==============================] - 0s 149us/step - loss: 1.6412 - mean_absolute_error: 1.6412 - acc: 0.0000e+00\n",
      "Epoch 66/100\n",
      "3145/3145 [==============================] - 0s 149us/step - loss: 1.6386 - mean_absolute_error: 1.6386 - acc: 0.0000e+00\n",
      "Epoch 67/100\n",
      "3145/3145 [==============================] - 0s 148us/step - loss: 1.6298 - mean_absolute_error: 1.6298 - acc: 0.0000e+00\n",
      "Epoch 68/100\n",
      "3145/3145 [==============================] - 0s 158us/step - loss: 1.6320 - mean_absolute_error: 1.6320 - acc: 0.0000e+00\n",
      "Epoch 69/100\n",
      "3145/3145 [==============================] - 1s 167us/step - loss: 1.6208 - mean_absolute_error: 1.6208 - acc: 0.0000e+00\n",
      "Epoch 70/100\n",
      "3145/3145 [==============================] - 1s 174us/step - loss: 1.6092 - mean_absolute_error: 1.6092 - acc: 0.0000e+00\n",
      "Epoch 71/100\n",
      "3145/3145 [==============================] - 1s 168us/step - loss: 1.6125 - mean_absolute_error: 1.6125 - acc: 0.0000e+00\n",
      "Epoch 72/100\n",
      "3145/3145 [==============================] - 1s 168us/step - loss: 1.6111 - mean_absolute_error: 1.6111 - acc: 0.0000e+00\n",
      "Epoch 73/100\n",
      "3145/3145 [==============================] - 0s 156us/step - loss: 1.6099 - mean_absolute_error: 1.6099 - acc: 0.0000e+00\n",
      "Epoch 74/100\n",
      "3145/3145 [==============================] - 0s 150us/step - loss: 1.5971 - mean_absolute_error: 1.5971 - acc: 0.0000e+00\n",
      "Epoch 75/100\n",
      "3145/3145 [==============================] - 0s 159us/step - loss: 1.5938 - mean_absolute_error: 1.5938 - acc: 0.0000e+00\n",
      "Epoch 76/100\n",
      "3145/3145 [==============================] - 0s 158us/step - loss: 1.5783 - mean_absolute_error: 1.5783 - acc: 0.0000e+00\n",
      "Epoch 77/100\n",
      "3145/3145 [==============================] - 0s 149us/step - loss: 1.5858 - mean_absolute_error: 1.5858 - acc: 0.0000e+00\n",
      "Epoch 78/100\n",
      "3145/3145 [==============================] - 0s 150us/step - loss: 1.5819 - mean_absolute_error: 1.5819 - acc: 0.0000e+00\n",
      "Epoch 79/100\n",
      "3145/3145 [==============================] - 1s 168us/step - loss: 1.5914 - mean_absolute_error: 1.5914 - acc: 0.0000e+00\n",
      "Epoch 80/100\n",
      "3145/3145 [==============================] - 1s 160us/step - loss: 1.5672 - mean_absolute_error: 1.5672 - acc: 0.0000e+00\n",
      "Epoch 81/100\n",
      "3145/3145 [==============================] - 1s 165us/step - loss: 1.5714 - mean_absolute_error: 1.5714 - acc: 0.0000e+00\n",
      "Epoch 82/100\n",
      "3145/3145 [==============================] - 1s 170us/step - loss: 1.5553 - mean_absolute_error: 1.5553 - acc: 0.0000e+00\n",
      "Epoch 83/100\n",
      "3145/3145 [==============================] - 1s 163us/step - loss: 1.5546 - mean_absolute_error: 1.5546 - acc: 0.0000e+00\n",
      "Epoch 84/100\n",
      "3145/3145 [==============================] - 1s 171us/step - loss: 1.5509 - mean_absolute_error: 1.5509 - acc: 0.0000e+00\n",
      "Epoch 85/100\n",
      "3145/3145 [==============================] - 0s 159us/step - loss: 1.5373 - mean_absolute_error: 1.5373 - acc: 0.0000e+00\n",
      "Epoch 86/100\n",
      "3145/3145 [==============================] - 0s 149us/step - loss: 1.5281 - mean_absolute_error: 1.5281 - acc: 0.0000e+00\n",
      "Epoch 87/100\n",
      "3145/3145 [==============================] - 0s 153us/step - loss: 1.5231 - mean_absolute_error: 1.5231 - acc: 0.0000e+00\n",
      "Epoch 88/100\n",
      "3145/3145 [==============================] - 1s 176us/step - loss: 1.5234 - mean_absolute_error: 1.5234 - acc: 0.0000e+00\n",
      "Epoch 89/100\n",
      "3145/3145 [==============================] - 0s 157us/step - loss: 1.5316 - mean_absolute_error: 1.5316 - acc: 0.0000e+00\n",
      "Epoch 90/100\n",
      "3145/3145 [==============================] - 1s 172us/step - loss: 1.5111 - mean_absolute_error: 1.5111 - acc: 0.0000e+00\n",
      "Epoch 91/100\n",
      "3145/3145 [==============================] - 1s 174us/step - loss: 1.5158 - mean_absolute_error: 1.5158 - acc: 0.0000e+00\n",
      "Epoch 92/100\n",
      "3145/3145 [==============================] - 1s 182us/step - loss: 1.5044 - mean_absolute_error: 1.5044 - acc: 0.0000e+00\n",
      "Epoch 93/100\n",
      "3145/3145 [==============================] - 1s 168us/step - loss: 1.5038 - mean_absolute_error: 1.5038 - acc: 0.0000e+00\n",
      "Epoch 94/100\n",
      "3145/3145 [==============================] - 1s 171us/step - loss: 1.5027 - mean_absolute_error: 1.5027 - acc: 0.0000e+00\n",
      "Epoch 95/100\n",
      "3145/3145 [==============================] - 0s 157us/step - loss: 1.5037 - mean_absolute_error: 1.5037 - acc: 0.0000e+00\n",
      "Epoch 96/100\n",
      "3145/3145 [==============================] - 1s 161us/step - loss: 1.5033 - mean_absolute_error: 1.5033 - acc: 0.0000e+00\n",
      "Epoch 97/100\n",
      "3145/3145 [==============================] - 1s 160us/step - loss: 1.4955 - mean_absolute_error: 1.4955 - acc: 0.0000e+00\n",
      "Epoch 98/100\n",
      "3145/3145 [==============================] - 1s 169us/step - loss: 1.4683 - mean_absolute_error: 1.4683 - acc: 0.0000e+00\n",
      "Epoch 99/100\n",
      "3145/3145 [==============================] - 1s 172us/step - loss: 1.4684 - mean_absolute_error: 1.4684 - acc: 0.0000e+00\n",
      "Epoch 100/100\n",
      "3145/3145 [==============================] - 1s 177us/step - loss: 1.4917 - mean_absolute_error: 1.4917 - acc: 0.0000e+00\n"
     ]
    },
    {
     "data": {
      "text/plain": [
       "<keras.callbacks.History at 0x1d9e1f8f1d0>"
      ]
     },
     "execution_count": 18,
     "metadata": {},
     "output_type": "execute_result"
    }
   ],
   "source": [
    "model = Sequential()\n",
    "model.add(Dense(30, activation='relu', input_dim=94))\n",
    "model.add(Dense(40, activation='relu'))\n",
    "model.add(Dense(30, activation='relu'))\n",
    "model.add(Dense(1, activation='linear'))\n",
    "model.compile(loss='mae',optimizer='sgd',metrics=['mae', 'acc'],)\n",
    "#model.compile(loss='mae', optimizer='adam')\n",
    "\n",
    "model.fit(X_train_scaled, y_train, epochs=100, batch_size=10)"
   ]
  },
  {
   "cell_type": "code",
   "execution_count": 19,
   "metadata": {
    "ExecuteTime": {
     "end_time": "2019-03-31T11:01:18.859168Z",
     "start_time": "2019-03-31T11:01:18.850175Z"
    }
   },
   "outputs": [
    {
     "name": "stderr",
     "output_type": "stream",
     "text": [
      "C:\\Users\\taacodo4\\AppData\\Local\\Continuum\\anaconda3\\envs\\deeplearning\\lib\\site-packages\\ipykernel_launcher.py:1: DataConversionWarning: Data with input dtype int64, float64 were all converted to float64 by StandardScaler.\n",
      "  \"\"\"Entry point for launching an IPython kernel.\n"
     ]
    }
   ],
   "source": [
    "X_test_scaled=scaler.transform(X_test)"
   ]
  },
  {
   "cell_type": "code",
   "execution_count": 20,
   "metadata": {
    "ExecuteTime": {
     "end_time": "2019-03-31T11:01:21.510154Z",
     "start_time": "2019-03-31T11:01:21.505139Z"
    }
   },
   "outputs": [
    {
     "name": "stdout",
     "output_type": "stream",
     "text": [
      "_________________________________________________________________\n",
      "Layer (type)                 Output Shape              Param #   \n",
      "=================================================================\n",
      "dense_5 (Dense)              (None, 30)                2850      \n",
      "_________________________________________________________________\n",
      "dense_6 (Dense)              (None, 40)                1240      \n",
      "_________________________________________________________________\n",
      "dense_7 (Dense)              (None, 30)                1230      \n",
      "_________________________________________________________________\n",
      "dense_8 (Dense)              (None, 1)                 31        \n",
      "=================================================================\n",
      "Total params: 5,351\n",
      "Trainable params: 5,351\n",
      "Non-trainable params: 0\n",
      "_________________________________________________________________\n"
     ]
    }
   ],
   "source": [
    "model.summary()"
   ]
  },
  {
   "cell_type": "code",
   "execution_count": 21,
   "metadata": {
    "ExecuteTime": {
     "end_time": "2019-03-31T11:01:26.621863Z",
     "start_time": "2019-03-31T11:01:26.521539Z"
    }
   },
   "outputs": [
    {
     "name": "stdout",
     "output_type": "stream",
     "text": [
      "\n",
      "Model Report\n",
      "<bound method Network.summary of <keras.engine.sequential.Sequential object at 0x000001D9E1B5F240>>\n",
      "MAE train data: 2.261\n"
     ]
    }
   ],
   "source": [
    "prediction=model.predict(X_test_scaled)\n",
    "#Print model report:\n",
    "print(\"\\nModel Report\")\n",
    "print(model.summary)\n",
    "print(\"MAE train data: %.4g\" % mean_absolute_error(y_test, prediction))"
   ]
  },
  {
   "cell_type": "code",
   "execution_count": null,
   "metadata": {},
   "outputs": [],
   "source": [
    "prediction=model.predict(X_test_scaled)\n",
    "#Print model report:\n",
    "print(\"\\nModel Report\")\n",
    "print(\"Settings: PCA 20, 30/40/30, 100 epochs, 10 batch size, optimizer sgd, loss function mae\")\n",
    "print(model.summary)\n",
    "print(\"MAE train data: %.4g\" % mean_absolute_error(y_test, prediction))"
   ]
  },
  {
   "cell_type": "markdown",
   "metadata": {},
   "source": [
    "# Tuning hyperparameter\n",
    "\n",
    "Grid search FFN:\n",
    "https://machinelearningmastery.com/grid-search-hyperparameters-deep-learning-models-python-keras/\n",
    "\n",
    "Design of NN:\n",
    "https://playground.tensorflow.org/#activation=tanh&batchSize=10&dataset=circle&regDataset=reg-plane&learningRate=0.03&regularizationRate=0&noise=0&networkShape=4,2&seed=0.19677&showTestData=false&discretize=false&percTrainData=50&x=true&y=true&xTimesY=false&xSquared=false&ySquared=false&cosX=false&sinX=false&cosY=false&sinY=false&collectStats=false&problem=classification&initZero=false&hideText=false\n",
    "\n",
    "Loss function: \n",
    "https://isaacchanghau.github.io/post/loss_functions/"
   ]
  },
  {
   "cell_type": "markdown",
   "metadata": {
    "ExecuteTime": {
     "end_time": "2019-03-30T12:25:49.997256Z",
     "start_time": "2019-03-30T12:25:49.987694Z"
    }
   },
   "source": [
    "## Concept\n",
    "The neuronal network shall be optimized on following hyperparameter:\n",
    "* optimization algorithms\n",
    "* batch size and training epochs\n",
    "* learning rate and momentum\n",
    "* network weight initialization\n",
    "* activation function\n",
    "* dropout regularization\n",
    "* number of neurons in the hidden layer\n",
    "\n",
    "For this purpose the smaller data set of 4k shall be used."
   ]
  },
  {
   "cell_type": "markdown",
   "metadata": {},
   "source": [
    "## Optimization algorithm\n",
    "https://machinelearningmastery.com/loss-and-loss-functions-for-training-deep-learning-neural-networks/\n",
    "\n",
    "Regression Problem<br>\n",
    "A problem where you predict a real-value quantity.\n",
    "\n",
    "Output Layer Configuration: One node with a linear activation unit.<br>\n",
    "Loss Function: Mean Squared Error (MSE)."
   ]
  },
  {
   "cell_type": "code",
   "execution_count": null,
   "metadata": {
    "ExecuteTime": {
     "end_time": "2019-03-30T16:31:21.623472Z",
     "start_time": "2019-03-30T16:30:56.849335Z"
    }
   },
   "outputs": [],
   "source": [
    "model = Sequential()\n",
    "model.add(Dense(30, activation='relu', input_dim=94))\n",
    "model.add(Dense(40, activation='relu'))\n",
    "model.add(Dense(30, activation='relu'))\n",
    "model.add(Dense(1, activation='linear'))\n",
    "model.compile(loss='mae',optimizer='sgd',metrics=['mae', 'acc'],)\n",
    "#model.compile(loss='mae', optimizer='adam')\n",
    "\n",
    "model.fit(input_variables, output_variable, epochs=10, batch_size=1)"
   ]
  },
  {
   "cell_type": "code",
   "execution_count": null,
   "metadata": {},
   "outputs": [],
   "source": [
    "model = Sequential()\n",
    "model.add(Dense(12,activation='relu',input_dim=94))\n",
    "model.add(Dense(8, activation='relu'))\n",
    "model.add(Dense(1, activation='linear'))\n",
    "# Compile model\n",
    "model.compile(loss='mse', optimizer='adam', metrics=['mae'])"
   ]
  },
  {
   "cell_type": "code",
   "execution_count": 58,
   "metadata": {
    "ExecuteTime": {
     "end_time": "2019-03-31T13:55:15.756369Z",
     "start_time": "2019-03-31T13:42:03.369788Z"
    }
   },
   "outputs": [
    {
     "name": "stderr",
     "output_type": "stream",
     "text": [
      "C:\\Users\\taacodo4\\AppData\\Local\\Continuum\\anaconda3\\envs\\deeplearning\\lib\\site-packages\\sklearn\\model_selection\\_search.py:841: DeprecationWarning: The default of the `iid` parameter will change from True to False in version 0.22 and will be removed in 0.24. This will change numeric results when test-set sizes are unequal.\n",
      "  DeprecationWarning)\n",
      "C:\\Users\\taacodo4\\AppData\\Local\\Continuum\\anaconda3\\envs\\deeplearning\\lib\\site-packages\\sklearn\\preprocessing\\data.py:645: DataConversionWarning: Data with input dtype int64, float64 were all converted to float64 by StandardScaler.\n",
      "  return self.partial_fit(X, y)\n",
      "C:\\Users\\taacodo4\\AppData\\Local\\Continuum\\anaconda3\\envs\\deeplearning\\lib\\site-packages\\sklearn\\base.py:467: DataConversionWarning: Data with input dtype int64, float64 were all converted to float64 by StandardScaler.\n",
      "  return self.fit(X, y, **fit_params).transform(X)\n"
     ]
    },
    {
     "name": "stdout",
     "output_type": "stream",
     "text": [
      "Best: -7.674307 using {'Feed_Forward__optimizer': 'Adagrad'}\n",
      "nan (nan) with: {'Feed_Forward__optimizer': 'SGD'}\n",
      "-8.472745 (2.729618) with: {'Feed_Forward__optimizer': 'RMSprop'}\n",
      "-7.674307 (2.351342) with: {'Feed_Forward__optimizer': 'Adagrad'}\n",
      "-8.303627 (2.528505) with: {'Feed_Forward__optimizer': 'Adadelta'}\n",
      "-8.434770 (2.449846) with: {'Feed_Forward__optimizer': 'Adam'}\n",
      "-8.091604 (2.400316) with: {'Feed_Forward__optimizer': 'Adamax'}\n",
      "-8.806850 (2.167276) with: {'Feed_Forward__optimizer': 'Nadam'}\n"
     ]
    }
   ],
   "source": [
    "# Function to create model, required for KerasClassifier\n",
    "def create_model(optimizer='Adam'):\n",
    "    # create model\n",
    "    model = Sequential()\n",
    "    model.add(Dense(12,activation='relu',input_dim=94))\n",
    "    model.add(Dense(8, activation='relu'))\n",
    "    model.add(Dense(1, activation='linear'))\n",
    "    # Compile model\n",
    "    model.compile(loss='mse', optimizer=optimizer, metrics=['mae'])\n",
    "    return model\n",
    "\n",
    "# create model\n",
    "pipe = Pipeline([('preprocessing', StandardScaler()), ('Feed_Forward', KerasRegressor(build_fn=create_model, epochs=100, batch_size=10, verbose=0))])\n",
    "\n",
    "# define the grid search parameters\n",
    "param_grid = [{'Feed_Forward__optimizer': ['SGD', 'RMSprop', 'Adagrad', 'Adadelta', 'Adam', 'Adamax', 'Nadam']}]\n",
    "\n",
    "grid = GridSearchCV(estimator=pipe, param_grid=param_grid, cv=5, n_jobs=-1) # scoring='neg_mean_absolute_error' would be better\n",
    "grid_result = grid.fit(input_variables, output_variable)\n",
    "\n",
    "# summarize results\n",
    "print(\"Best: %f using %s\" % (grid_result.best_score_, grid_result.best_params_))\n",
    "means = grid_result.cv_results_['mean_test_score']\n",
    "stds = grid_result.cv_results_['std_test_score']\n",
    "params = grid_result.cv_results_['params']\n",
    "for mean, stdev, param in zip(means, stds, params):\n",
    "    print(\"%f (%f) with: %r\" % (mean, stdev, param))"
   ]
  },
  {
   "cell_type": "markdown",
   "metadata": {},
   "source": [
    "## Batch size and number of Epoche"
   ]
  },
  {
   "cell_type": "code",
   "execution_count": null,
   "metadata": {
    "ExecuteTime": {
     "end_time": "2019-03-30T13:58:37.880105Z",
     "start_time": "2019-03-30T13:53:52.868696Z"
    }
   },
   "outputs": [],
   "source": [
    "# Function to create model, required for KerasClassifier\n",
    "def create_model():\n",
    "    # create model\n",
    "    model = Sequential()\n",
    "    model.add(Dense(12,activation='relu',input_dim=94))\n",
    "    model.add(Dense(8, activation='relu'))\n",
    "    model.add(Dense(1, activation='linear'))\n",
    "    # Compile model\n",
    "    model.compile(loss='mse', optimizer='adam', metrics=['mae'])\n",
    "    return model\n",
    "\n",
    "# create model\n",
    "model = KerasClassifier(build_fn=create_model, verbose=0)\n",
    "# define the grid search parameters\n",
    "batch_size = [10, 20, 40, 60, 80, 100]\n",
    "epochs = [10, 50, 100]\n",
    "param_grid = dict(batch_size=batch_size, epochs=epochs)\n",
    "grid = GridSearchCV(estimator=model, param_grid=param_grid,cv=5,scoring='neg_mean_absolute_error', n_jobs=-1)\n",
    "grid_result = grid.fit(input_variables, output_variable)\n",
    "# summarize results\n",
    "print(\"Best: %f using %s\" % (grid_result.best_score_, grid_result.best_params_))\n",
    "means = grid_result.cv_results_['mean_test_score']\n",
    "stds = grid_result.cv_results_['std_test_score']\n",
    "params = grid_result.cv_results_['params']\n",
    "for mean, stdev, param in zip(means, stds, params):\n",
    "    print(\"%f (%f) with: %r\" % (mean, stdev, param))"
   ]
  },
  {
   "cell_type": "code",
   "execution_count": 59,
   "metadata": {
    "ExecuteTime": {
     "end_time": "2019-03-31T14:03:52.739371Z",
     "start_time": "2019-03-31T13:55:15.758406Z"
    }
   },
   "outputs": [
    {
     "name": "stderr",
     "output_type": "stream",
     "text": [
      "C:\\Users\\taacodo4\\AppData\\Local\\Continuum\\anaconda3\\envs\\deeplearning\\lib\\site-packages\\sklearn\\preprocessing\\data.py:645: DataConversionWarning: Data with input dtype int64, float64 were all converted to float64 by StandardScaler.\n",
      "  return self.partial_fit(X, y)\n",
      "C:\\Users\\taacodo4\\AppData\\Local\\Continuum\\anaconda3\\envs\\deeplearning\\lib\\site-packages\\sklearn\\base.py:467: DataConversionWarning: Data with input dtype int64, float64 were all converted to float64 by StandardScaler.\n",
      "  return self.fit(X, y, **fit_params).transform(X)\n"
     ]
    },
    {
     "name": "stdout",
     "output_type": "stream",
     "text": [
      "Best: -7.565365 using {'Feed_Forward__batch_size': 10, 'Feed_Forward__epochs': 50}\n",
      "-7.741895 (2.220030) with: {'Feed_Forward__batch_size': 10, 'Feed_Forward__epochs': 10}\n",
      "-7.565365 (2.294752) with: {'Feed_Forward__batch_size': 10, 'Feed_Forward__epochs': 50}\n",
      "-7.611459 (2.341564) with: {'Feed_Forward__batch_size': 10, 'Feed_Forward__epochs': 100}\n",
      "-7.732630 (2.290848) with: {'Feed_Forward__batch_size': 20, 'Feed_Forward__epochs': 10}\n",
      "-7.692340 (2.332141) with: {'Feed_Forward__batch_size': 20, 'Feed_Forward__epochs': 50}\n",
      "-7.594364 (2.285487) with: {'Feed_Forward__batch_size': 20, 'Feed_Forward__epochs': 100}\n",
      "-7.620280 (2.356653) with: {'Feed_Forward__batch_size': 40, 'Feed_Forward__epochs': 10}\n",
      "-7.706096 (2.340107) with: {'Feed_Forward__batch_size': 40, 'Feed_Forward__epochs': 50}\n",
      "-7.613683 (2.348231) with: {'Feed_Forward__batch_size': 40, 'Feed_Forward__epochs': 100}\n",
      "-7.789439 (2.331118) with: {'Feed_Forward__batch_size': 60, 'Feed_Forward__epochs': 10}\n",
      "-7.579851 (2.278577) with: {'Feed_Forward__batch_size': 60, 'Feed_Forward__epochs': 50}\n",
      "-7.632954 (2.303211) with: {'Feed_Forward__batch_size': 60, 'Feed_Forward__epochs': 100}\n",
      "-7.641213 (2.315627) with: {'Feed_Forward__batch_size': 80, 'Feed_Forward__epochs': 10}\n",
      "-7.697045 (2.301734) with: {'Feed_Forward__batch_size': 80, 'Feed_Forward__epochs': 50}\n",
      "-7.574587 (2.353351) with: {'Feed_Forward__batch_size': 80, 'Feed_Forward__epochs': 100}\n",
      "-7.882969 (2.130535) with: {'Feed_Forward__batch_size': 100, 'Feed_Forward__epochs': 10}\n",
      "-7.718167 (2.415250) with: {'Feed_Forward__batch_size': 100, 'Feed_Forward__epochs': 50}\n",
      "-7.632353 (2.306922) with: {'Feed_Forward__batch_size': 100, 'Feed_Forward__epochs': 100}\n"
     ]
    }
   ],
   "source": [
    "# Function to create model, required for KerasClassifier\n",
    "def create_model():\n",
    "    # create model\n",
    "    model = Sequential()\n",
    "    model.add(Dense(12,activation='relu',input_dim=94))\n",
    "    model.add(Dense(8, activation='relu'))\n",
    "    model.add(Dense(1, activation='linear'))\n",
    "    # Compile model\n",
    "    model.compile(loss='mse', optimizer='Adagrad', metrics=['mae'])\n",
    "    return model\n",
    "\n",
    "# create model\n",
    "pipe = Pipeline([('preprocessing', StandardScaler()), ('Feed_Forward', KerasRegressor(build_fn=create_model, epochs=100, batch_size=10, verbose=0))])\n",
    "\n",
    "# define the grid search parameters\n",
    "param_grid = [{'Feed_Forward__batch_size' : [10, 20, 40, 60, 80, 100],\n",
    "               'Feed_Forward__epochs' : [10, 50, 100]}]\n",
    "\n",
    "grid = GridSearchCV(estimator=pipe, param_grid=param_grid, cv=5, n_jobs=-1) # scoring='neg_mean_absolute_error' would be better\n",
    "grid_result = grid.fit(input_variables, output_variable)\n",
    "\n",
    "# summarize results\n",
    "print(\"Best: %f using %s\" % (grid_result.best_score_, grid_result.best_params_))\n",
    "means = grid_result.cv_results_['mean_test_score']\n",
    "stds = grid_result.cv_results_['std_test_score']\n",
    "params = grid_result.cv_results_['params']\n",
    "for mean, stdev, param in zip(means, stds, params):\n",
    "    print(\"%f (%f) with: %r\" % (mean, stdev, param))"
   ]
  },
  {
   "cell_type": "markdown",
   "metadata": {},
   "source": [
    "## Learning Rate and Momentum"
   ]
  },
  {
   "cell_type": "code",
   "execution_count": null,
   "metadata": {
    "ExecuteTime": {
     "end_time": "2019-03-30T14:17:33.897710Z",
     "start_time": "2019-03-30T14:17:33.893703Z"
    }
   },
   "outputs": [],
   "source": [
    "def create_model(learn_rate=0.01):\n",
    "    # create model\n",
    "    model = Sequential()\n",
    "    model.add(Dense(12, input_dim=94, activation='relu'))\n",
    "    model.add(Dense(1, activation='lin'))\n",
    "    # Compile model\n",
    "    optimizer = Adam(lr=learn_rate)\n",
    "    model.compile(loss='mse', optimizer=optimizer, metrics=['mae'])\n",
    "    return model"
   ]
  },
  {
   "cell_type": "code",
   "execution_count": null,
   "metadata": {
    "ExecuteTime": {
     "end_time": "2019-03-30T14:23:33.819929Z",
     "start_time": "2019-03-30T14:17:36.241734Z"
    }
   },
   "outputs": [],
   "source": [
    "# create model\n",
    "model = KerasClassifier(build_fn=create_model, epochs=100, batch_size=10, verbose=0)\n",
    "# define the grid search parameters\n",
    "learn_rate = [0.001, 0.01, 0.1, 0.2, 0.3]\n",
    "param_grid = dict(learn_rate=learn_rate)\n",
    "grid = GridSearchCV(estimator=model, param_grid=param_grid,cv=5, n_jobs=-1)\n",
    "grid_result = grid.fit(input_variables, output_variable)\n",
    "# summarize results\n",
    "print(\"Best: %f using %s\" % (grid_result.best_score_, grid_result.best_params_))\n",
    "means = grid_result.cv_results_['mean_test_score']\n",
    "stds = grid_result.cv_results_['std_test_score']\n",
    "params = grid_result.cv_results_['params']\n",
    "for mean, stdev, param in zip(means, stds, params):\n",
    "    print(\"%f (%f) with: %r\" % (mean, stdev, param))"
   ]
  },
  {
   "cell_type": "code",
   "execution_count": 60,
   "metadata": {
    "ExecuteTime": {
     "end_time": "2019-03-31T14:15:24.958963Z",
     "start_time": "2019-03-31T14:03:52.743378Z"
    }
   },
   "outputs": [
    {
     "name": "stderr",
     "output_type": "stream",
     "text": [
      "C:\\Users\\taacodo4\\AppData\\Local\\Continuum\\anaconda3\\envs\\deeplearning\\lib\\site-packages\\sklearn\\preprocessing\\data.py:645: DataConversionWarning: Data with input dtype int64, float64 were all converted to float64 by StandardScaler.\n",
      "  return self.partial_fit(X, y)\n",
      "C:\\Users\\taacodo4\\AppData\\Local\\Continuum\\anaconda3\\envs\\deeplearning\\lib\\site-packages\\sklearn\\base.py:467: DataConversionWarning: Data with input dtype int64, float64 were all converted to float64 by StandardScaler.\n",
      "  return self.fit(X, y, **fit_params).transform(X)\n"
     ]
    },
    {
     "name": "stdout",
     "output_type": "stream",
     "text": [
      "Best: -8.564661 using {'Feed_Forward__learn_rate': 0.001}\n",
      "-8.564661 (2.534502) with: {'Feed_Forward__learn_rate': 0.001}\n",
      "-9.022493 (2.211143) with: {'Feed_Forward__learn_rate': 0.01}\n",
      "-8.904470 (2.426604) with: {'Feed_Forward__learn_rate': 0.1}\n",
      "-13.860248 (2.221525) with: {'Feed_Forward__learn_rate': 0.2}\n",
      "-13.845510 (2.458712) with: {'Feed_Forward__learn_rate': 0.3}\n"
     ]
    }
   ],
   "source": [
    "# Function to create model, required for KerasClassifier\n",
    "def create_model(learn_rate=0.01):\n",
    "    # create model\n",
    "    model = Sequential()\n",
    "    model.add(Dense(12,activation='relu',input_dim=94))\n",
    "    model.add(Dense(8, activation='relu'))\n",
    "    model.add(Dense(1, activation='linear'))\n",
    "    # Compile model\n",
    "    optimizer = Adam(lr=learn_rate)\n",
    "    model.compile(loss='mse', optimizer=optimizer, metrics=['mae'])\n",
    "    return model\n",
    "\n",
    "# create model\n",
    "pipe = Pipeline([('preprocessing', StandardScaler()), ('Feed_Forward', KerasRegressor(build_fn=create_model, epochs=100, batch_size=10, verbose=0))])\n",
    "\n",
    "# define the grid search parameters\n",
    "param_grid = [{'Feed_Forward__learn_rate': [0.001, 0.01, 0.1, 0.2, 0.3]}]\n",
    "\n",
    "grid = GridSearchCV(estimator=pipe, param_grid=param_grid, cv=5, n_jobs=-1) # scoring='neg_mean_absolute_error' would be better\n",
    "grid_result = grid.fit(input_variables, output_variable)\n",
    "\n",
    "# summarize results\n",
    "print(\"Best: %f using %s\" % (grid_result.best_score_, grid_result.best_params_))\n",
    "means = grid_result.cv_results_['mean_test_score']\n",
    "stds = grid_result.cv_results_['std_test_score']\n",
    "params = grid_result.cv_results_['params']\n",
    "for mean, stdev, param in zip(means, stds, params):\n",
    "    print(\"%f (%f) with: %r\" % (mean, stdev, param))"
   ]
  },
  {
   "cell_type": "markdown",
   "metadata": {},
   "source": [
    "## Network Weight Initialization"
   ]
  },
  {
   "cell_type": "code",
   "execution_count": 45,
   "metadata": {
    "ExecuteTime": {
     "end_time": "2019-03-31T13:05:43.570050Z",
     "start_time": "2019-03-31T13:05:43.547989Z"
    },
    "collapsed": true
   },
   "outputs": [
    {
     "ename": "NameError",
     "evalue": "name 'KerasClassifier' is not defined",
     "output_type": "error",
     "traceback": [
      "\u001b[1;31m---------------------------------------------------------------------------\u001b[0m",
      "\u001b[1;31mNameError\u001b[0m                                 Traceback (most recent call last)",
      "\u001b[1;32m<ipython-input-45-cb33ce5431df>\u001b[0m in \u001b[0;36m<module>\u001b[1;34m\u001b[0m\n\u001b[0;32m      9\u001b[0m \u001b[1;33m\u001b[0m\u001b[0m\n\u001b[0;32m     10\u001b[0m \u001b[1;31m# create model\u001b[0m\u001b[1;33m\u001b[0m\u001b[1;33m\u001b[0m\u001b[1;33m\u001b[0m\u001b[0m\n\u001b[1;32m---> 11\u001b[1;33m \u001b[0mmodel\u001b[0m \u001b[1;33m=\u001b[0m \u001b[0mKerasClassifier\u001b[0m\u001b[1;33m(\u001b[0m\u001b[0mbuild_fn\u001b[0m\u001b[1;33m=\u001b[0m\u001b[0mcreate_model\u001b[0m\u001b[1;33m,\u001b[0m \u001b[0mepochs\u001b[0m\u001b[1;33m=\u001b[0m\u001b[1;36m1\u001b[0m\u001b[1;33m,\u001b[0m \u001b[0mbatch_size\u001b[0m\u001b[1;33m=\u001b[0m\u001b[1;36m10\u001b[0m\u001b[1;33m,\u001b[0m \u001b[0mverbose\u001b[0m\u001b[1;33m=\u001b[0m\u001b[1;36m0\u001b[0m\u001b[1;33m)\u001b[0m\u001b[1;33m\u001b[0m\u001b[1;33m\u001b[0m\u001b[0m\n\u001b[0m\u001b[0;32m     12\u001b[0m \u001b[1;31m# define the grid search parameters\u001b[0m\u001b[1;33m\u001b[0m\u001b[1;33m\u001b[0m\u001b[1;33m\u001b[0m\u001b[0m\n\u001b[0;32m     13\u001b[0m \u001b[0minit_mode\u001b[0m \u001b[1;33m=\u001b[0m \u001b[1;33m[\u001b[0m\u001b[1;34m'uniform'\u001b[0m\u001b[1;33m,\u001b[0m \u001b[1;34m'lecun_uniform'\u001b[0m\u001b[1;33m,\u001b[0m \u001b[1;34m'normal'\u001b[0m\u001b[1;33m,\u001b[0m \u001b[1;34m'zero'\u001b[0m\u001b[1;33m,\u001b[0m \u001b[1;34m'glorot_normal'\u001b[0m\u001b[1;33m,\u001b[0m \u001b[1;34m'glorot_uniform'\u001b[0m\u001b[1;33m,\u001b[0m \u001b[1;34m'he_normal'\u001b[0m\u001b[1;33m,\u001b[0m \u001b[1;34m'he_uniform'\u001b[0m\u001b[1;33m]\u001b[0m\u001b[1;33m\u001b[0m\u001b[1;33m\u001b[0m\u001b[0m\n",
      "\u001b[1;31mNameError\u001b[0m: name 'KerasClassifier' is not defined"
     ]
    }
   ],
   "source": [
    "def create_model(init_mode='uniform'):\n",
    "    # create model\n",
    "    model = Sequential()\n",
    "    model.add(Dense(12, input_dim=94, kernel_initializer=init_mode, activation='relu'))\n",
    "    model.add(Dense(1, kernel_initializer=init_mode, activation='sigmoid'))\n",
    "    # Compile model\n",
    "    model.compile(loss='binary_crossentropy', optimizer='Adagrad', metrics=['accuracy'])\n",
    "    return model\n",
    "\n",
    "# create model\n",
    "model = KerasClassifier(build_fn=create_model, epochs=100, batch_size=10, verbose=0)\n",
    "# define the grid search parameters\n",
    "init_mode = ['uniform', 'lecun_uniform', 'normal', 'zero', 'glorot_normal', 'glorot_uniform', 'he_normal', 'he_uniform']\n",
    "param_grid = dict(init_mode=init_mode)\n",
    "grid = GridSearchCV(estimator=model, param_grid=param_grid,cv=5, n_jobs=-1)\n",
    "grid_result = grid.fit(input_variables, output_variable)\n",
    "# summarize results\n",
    "print(\"Best: %f using %s\" % (grid_result.best_score_, grid_result.best_params_))\n",
    "means = grid_result.cv_results_['mean_test_score']\n",
    "stds = grid_result.cv_results_['std_test_score']\n",
    "params = grid_result.cv_results_['params']\n",
    "for mean, stdev, param in zip(means, stds, params):\n",
    "    print(\"%f (%f) with: %r\" % (mean, stdev, param))"
   ]
  },
  {
   "cell_type": "code",
   "execution_count": 65,
   "metadata": {
    "ExecuteTime": {
     "end_time": "2019-03-31T18:03:46.073853Z",
     "start_time": "2019-03-31T17:56:46.606221Z"
    }
   },
   "outputs": [
    {
     "name": "stderr",
     "output_type": "stream",
     "text": [
      "C:\\Users\\taacodo4\\AppData\\Local\\Continuum\\anaconda3\\envs\\deeplearning\\lib\\site-packages\\sklearn\\preprocessing\\data.py:645: DataConversionWarning: Data with input dtype int64, float64 were all converted to float64 by StandardScaler.\n",
      "  return self.partial_fit(X, y)\n",
      "C:\\Users\\taacodo4\\AppData\\Local\\Continuum\\anaconda3\\envs\\deeplearning\\lib\\site-packages\\sklearn\\base.py:467: DataConversionWarning: Data with input dtype int64, float64 were all converted to float64 by StandardScaler.\n",
      "  return self.fit(X, y, **fit_params).transform(X)\n"
     ]
    },
    {
     "name": "stdout",
     "output_type": "stream",
     "text": [
      "Best: -7.481000 using {'Feed_Forward__init_mode': 'uniform'}\n",
      "-7.481000 (2.295282) with: {'Feed_Forward__init_mode': 'uniform'}\n",
      "-7.523052 (2.315729) with: {'Feed_Forward__init_mode': 'lecun_uniform'}\n",
      "-7.507696 (2.307310) with: {'Feed_Forward__init_mode': 'normal'}\n",
      "-20.254600 (3.506126) with: {'Feed_Forward__init_mode': 'zero'}\n",
      "-7.624740 (2.358409) with: {'Feed_Forward__init_mode': 'glorot_normal'}\n",
      "-7.664920 (2.236390) with: {'Feed_Forward__init_mode': 'glorot_uniform'}\n",
      "-7.565697 (2.361058) with: {'Feed_Forward__init_mode': 'he_normal'}\n",
      "-7.552927 (2.339777) with: {'Feed_Forward__init_mode': 'he_uniform'}\n"
     ]
    }
   ],
   "source": [
    "# Function to create model, required for KerasClassifier\n",
    "def create_model(init_mode='uniform'):\n",
    "    # create model\n",
    "    model = Sequential()\n",
    "    model.add(Dense(12,activation='relu', kernel_initializer=init_mode, input_dim=94))\n",
    "    model.add(Dense(8, activation='relu', kernel_initializer=init_mode))\n",
    "    model.add(Dense(1, activation='linear', kernel_initializer=init_mode))\n",
    "    # Compile model\n",
    "    model.compile(loss='mse', optimizer='Adagrad', metrics=['mae'])\n",
    "    return model\n",
    "\n",
    "# create model\n",
    "pipe = Pipeline([('preprocessing', StandardScaler()), ('Feed_Forward', KerasRegressor(build_fn=create_model, epochs=100, batch_size=10, verbose=0))])\n",
    "\n",
    "# define the grid search parameters\n",
    "param_grid = [{'Feed_Forward__init_mode': ['uniform', 'lecun_uniform', 'normal', 'zero', 'glorot_normal', 'glorot_uniform', 'he_normal', 'he_uniform']}]\n",
    "\n",
    "grid = GridSearchCV(estimator=pipe, param_grid=param_grid, cv=5, n_jobs=-1) # scoring='neg_mean_absolute_error' would be better\n",
    "grid_result = grid.fit(input_variables, output_variable)\n",
    "\n",
    "# summarize results\n",
    "print(\"Best: %f using %s\" % (grid_result.best_score_, grid_result.best_params_))\n",
    "means = grid_result.cv_results_['mean_test_score']\n",
    "stds = grid_result.cv_results_['std_test_score']\n",
    "params = grid_result.cv_results_['params']\n",
    "for mean, stdev, param in zip(means, stds, params):\n",
    "    print(\"%f (%f) with: %r\" % (mean, stdev, param))"
   ]
  },
  {
   "cell_type": "markdown",
   "metadata": {},
   "source": [
    "## Neuron Activation Function"
   ]
  },
  {
   "cell_type": "code",
   "execution_count": null,
   "metadata": {
    "ExecuteTime": {
     "end_time": "2019-03-30T14:49:59.329540Z",
     "start_time": "2019-03-30T14:41:24.674127Z"
    }
   },
   "outputs": [],
   "source": [
    "# Function to create model, required for KerasClassifier\n",
    "def create_model(activation='relu'):\n",
    "    # create model\n",
    "    model = Sequential()\n",
    "    model.add(Dense(12, input_dim=94, kernel_initializer='he_normal', activation=activation))\n",
    "    model.add(Dense(1, kernel_initializer='he_normal', activation='sigmoid'))\n",
    "    # Compile model\n",
    "    model.compile(loss='binary_crossentropy', optimizer='adam', metrics=['accuracy'])\n",
    "    return model\n",
    "\n",
    "# create model\n",
    "model = KerasClassifier(build_fn=create_model, epochs=100, batch_size=10, verbose=0)\n",
    "# define the grid search parameters\n",
    "activation = ['softmax', 'softplus', 'softsign', 'relu', 'tanh', 'sigmoid', 'hard_sigmoid', 'linear']\n",
    "param_grid = dict(activation=activation)\n",
    "grid = GridSearchCV(estimator=model, paraBm_grid=param_grid, cv=5, n_jobs=-1)\n",
    "grid_result = grid.fit(input_variables, output_variable)\n",
    "# summarize results\n",
    "print(\"Best: %f using %s\" % (grid_result.best_score_, grid_result.best_params_))\n",
    "means = grid_result.cv_results_['mean_test_score']\n",
    "stds = grid_result.cv_results_['std_test_score']\n",
    "params = grid_result.cv_results_['params']\n",
    "for mean, stdev, param in zip(means, stds, params):\n",
    "    print(\"%f (%f) with: %r\" % (mean, stdev, param))"
   ]
  },
  {
   "cell_type": "code",
   "execution_count": 66,
   "metadata": {
    "ExecuteTime": {
     "end_time": "2019-03-31T18:11:12.373594Z",
     "start_time": "2019-03-31T18:03:46.075834Z"
    }
   },
   "outputs": [
    {
     "name": "stderr",
     "output_type": "stream",
     "text": [
      "C:\\Users\\taacodo4\\AppData\\Local\\Continuum\\anaconda3\\envs\\deeplearning\\lib\\site-packages\\sklearn\\preprocessing\\data.py:645: DataConversionWarning: Data with input dtype int64, float64 were all converted to float64 by StandardScaler.\n",
      "  return self.partial_fit(X, y)\n",
      "C:\\Users\\taacodo4\\AppData\\Local\\Continuum\\anaconda3\\envs\\deeplearning\\lib\\site-packages\\sklearn\\base.py:467: DataConversionWarning: Data with input dtype int64, float64 were all converted to float64 by StandardScaler.\n",
      "  return self.fit(X, y, **fit_params).transform(X)\n"
     ]
    },
    {
     "name": "stdout",
     "output_type": "stream",
     "text": [
      "Best: -7.515465 using {'Feed_Forward__activation': 'hard_sigmoid'}\n",
      "-9.876161 (2.544330) with: {'Feed_Forward__activation': 'softmax'}\n",
      "-7.539968 (2.333045) with: {'Feed_Forward__activation': 'softplus'}\n",
      "-7.797496 (2.347412) with: {'Feed_Forward__activation': 'softsign'}\n",
      "-7.601176 (2.411958) with: {'Feed_Forward__activation': 'relu'}\n",
      "-7.783594 (2.421979) with: {'Feed_Forward__activation': 'tanh'}\n",
      "-7.786788 (2.430356) with: {'Feed_Forward__activation': 'sigmoid'}\n",
      "-7.515465 (2.347088) with: {'Feed_Forward__activation': 'hard_sigmoid'}\n",
      "-7.799586 (2.419554) with: {'Feed_Forward__activation': 'linear'}\n"
     ]
    }
   ],
   "source": [
    "# Function to create model, required for KerasClassifier\n",
    "def create_model(activation='relu'):\n",
    "    # create model\n",
    "    model = Sequential()\n",
    "    model.add(Dense(12,activation=activation, input_dim=94))\n",
    "    model.add(Dense(8, activation=activation,))\n",
    "    model.add(Dense(1, activation='linear'))\n",
    "    # Compile model\n",
    "    model.compile(loss='mse', optimizer='Adagrad', metrics=['mae'])\n",
    "    return model\n",
    "\n",
    "# create model\n",
    "pipe = Pipeline([('preprocessing', StandardScaler()), ('Feed_Forward', KerasRegressor(build_fn=create_model, epochs=100, batch_size=10, verbose=0))])\n",
    "\n",
    "# define the grid search parameters\n",
    "param_grid = [{'Feed_Forward__activation': ['softmax', 'softplus', 'softsign', 'relu', 'tanh', 'sigmoid', 'hard_sigmoid', 'linear']}]\n",
    "\n",
    "grid = GridSearchCV(estimator=pipe, param_grid=param_grid, cv=5, n_jobs=-1) # scoring='neg_mean_absolute_error' would be better\n",
    "grid_result = grid.fit(input_variables, output_variable)\n",
    "\n",
    "# summarize results\n",
    "print(\"Best: %f using %s\" % (grid_result.best_score_, grid_result.best_params_))\n",
    "means = grid_result.cv_results_['mean_test_score']\n",
    "stds = grid_result.cv_results_['std_test_score']\n",
    "params = grid_result.cv_results_['params']\n",
    "for mean, stdev, param in zip(means, stds, params):\n",
    "    print(\"%f (%f) with: %r\" % (mean, stdev, param))"
   ]
  },
  {
   "cell_type": "markdown",
   "metadata": {},
   "source": [
    "## Dropout Regularization"
   ]
  },
  {
   "cell_type": "code",
   "execution_count": null,
   "metadata": {
    "ExecuteTime": {
     "end_time": "2019-03-30T15:01:12.731953Z",
     "start_time": "2019-03-30T14:52:07.112819Z"
    }
   },
   "outputs": [],
   "source": [
    "# Function to create model, required for KerasClassifier\n",
    "def create_model(dropout_rate=0.0, weight_constraint=0):\n",
    "    # create model\n",
    "    model = Sequential()\n",
    "    model.add(Dense(12, input_dim=94, kernel_initializer='uniform', activation='linear', kernel_constraint=maxnorm(weight_constraint)))\n",
    "    model.add(Dropout(dropout_rate))\n",
    "    model.add(Dense(1, kernel_initializer='uniform', activation='sigmoid'))\n",
    "    # Compile model\n",
    "    model.compile(loss='binary_crossentropy', optimizer='adam', metrics=['accuracy'])\n",
    "    return model\n",
    "\n",
    "# create model\n",
    "model = KerasClassifier(build_fn=create_model, epochs=100, batch_size=10, verbose=0)\n",
    "# define the grid search parameters\n",
    "weight_constraint = [1, 2, 3, 4, 5]\n",
    "dropout_rate = [0.0, 0.1, 0.2, 0.3, 0.4, 0.5, 0.6, 0.7, 0.8, 0.9]\n",
    "param_grid = dict(dropout_rate=dropout_rate, weight_constraint=weight_constraint)\n",
    "grid = GridSearchCV(estimator=model, param_grid=param_grid, n_jobs=-1)\n",
    "grid_result = grid.fit(X, Y)\n",
    "# summarize results\n",
    "print(\"Best: %f using %s\" % (grid_result.best_score_, grid_result.best_params_))\n",
    "means = grid_result.cv_results_['mean_test_score']\n",
    "stds = grid_result.cv_results_['std_test_score']\n",
    "params = grid_result.cv_results_['params']\n",
    "for mean, stdev, param in zip(means, stds, params):\n",
    "    print(\"%f (%f) with: %r\" % (mean, stdev, param))"
   ]
  },
  {
   "cell_type": "code",
   "execution_count": 67,
   "metadata": {
    "ExecuteTime": {
     "end_time": "2019-03-31T19:03:57.695811Z",
     "start_time": "2019-03-31T18:11:12.374601Z"
    }
   },
   "outputs": [
    {
     "name": "stderr",
     "output_type": "stream",
     "text": [
      "C:\\Users\\taacodo4\\AppData\\Local\\Continuum\\anaconda3\\envs\\deeplearning\\lib\\site-packages\\sklearn\\model_selection\\_search.py:841: DeprecationWarning: The default of the `iid` parameter will change from True to False in version 0.22 and will be removed in 0.24. This will change numeric results when test-set sizes are unequal.\n",
      "  DeprecationWarning)\n",
      "C:\\Users\\taacodo4\\AppData\\Local\\Continuum\\anaconda3\\envs\\deeplearning\\lib\\site-packages\\sklearn\\preprocessing\\data.py:645: DataConversionWarning: Data with input dtype int64, float64 were all converted to float64 by StandardScaler.\n",
      "  return self.partial_fit(X, y)\n",
      "C:\\Users\\taacodo4\\AppData\\Local\\Continuum\\anaconda3\\envs\\deeplearning\\lib\\site-packages\\sklearn\\base.py:467: DataConversionWarning: Data with input dtype int64, float64 were all converted to float64 by StandardScaler.\n",
      "  return self.fit(X, y, **fit_params).transform(X)\n"
     ]
    },
    {
     "name": "stdout",
     "output_type": "stream",
     "text": [
      "Best: -7.416583 using {'Feed_Forward__dropout_rate': 0.2, 'Feed_Forward__weight_constraint': 2}\n",
      "-7.487221 (2.342157) with: {'Feed_Forward__dropout_rate': 0.0, 'Feed_Forward__weight_constraint': 1}\n",
      "-7.587893 (2.311302) with: {'Feed_Forward__dropout_rate': 0.0, 'Feed_Forward__weight_constraint': 2}\n",
      "-7.592880 (2.345434) with: {'Feed_Forward__dropout_rate': 0.0, 'Feed_Forward__weight_constraint': 3}\n",
      "-7.603814 (2.294732) with: {'Feed_Forward__dropout_rate': 0.0, 'Feed_Forward__weight_constraint': 4}\n",
      "-7.574242 (2.399075) with: {'Feed_Forward__dropout_rate': 0.0, 'Feed_Forward__weight_constraint': 5}\n",
      "-7.453791 (2.384082) with: {'Feed_Forward__dropout_rate': 0.1, 'Feed_Forward__weight_constraint': 1}\n",
      "-7.471264 (2.394107) with: {'Feed_Forward__dropout_rate': 0.1, 'Feed_Forward__weight_constraint': 2}\n",
      "-7.527266 (2.331043) with: {'Feed_Forward__dropout_rate': 0.1, 'Feed_Forward__weight_constraint': 3}\n",
      "-7.555413 (2.404711) with: {'Feed_Forward__dropout_rate': 0.1, 'Feed_Forward__weight_constraint': 4}\n",
      "-7.523878 (2.389626) with: {'Feed_Forward__dropout_rate': 0.1, 'Feed_Forward__weight_constraint': 5}\n",
      "-7.430558 (2.383273) with: {'Feed_Forward__dropout_rate': 0.2, 'Feed_Forward__weight_constraint': 1}\n",
      "-7.416583 (2.345209) with: {'Feed_Forward__dropout_rate': 0.2, 'Feed_Forward__weight_constraint': 2}\n",
      "-7.476108 (2.396840) with: {'Feed_Forward__dropout_rate': 0.2, 'Feed_Forward__weight_constraint': 3}\n",
      "-7.425988 (2.356704) with: {'Feed_Forward__dropout_rate': 0.2, 'Feed_Forward__weight_constraint': 4}\n",
      "-7.477758 (2.406063) with: {'Feed_Forward__dropout_rate': 0.2, 'Feed_Forward__weight_constraint': 5}\n",
      "-7.434715 (2.399902) with: {'Feed_Forward__dropout_rate': 0.3, 'Feed_Forward__weight_constraint': 1}\n",
      "-7.466378 (2.415899) with: {'Feed_Forward__dropout_rate': 0.3, 'Feed_Forward__weight_constraint': 2}\n",
      "-7.459959 (2.405773) with: {'Feed_Forward__dropout_rate': 0.3, 'Feed_Forward__weight_constraint': 3}\n",
      "-7.517546 (2.400701) with: {'Feed_Forward__dropout_rate': 0.3, 'Feed_Forward__weight_constraint': 4}\n",
      "-7.504013 (2.417212) with: {'Feed_Forward__dropout_rate': 0.3, 'Feed_Forward__weight_constraint': 5}\n",
      "-7.481686 (2.440777) with: {'Feed_Forward__dropout_rate': 0.4, 'Feed_Forward__weight_constraint': 1}\n",
      "-7.523385 (2.420451) with: {'Feed_Forward__dropout_rate': 0.4, 'Feed_Forward__weight_constraint': 2}\n",
      "-7.586940 (2.441934) with: {'Feed_Forward__dropout_rate': 0.4, 'Feed_Forward__weight_constraint': 3}\n",
      "-7.597602 (2.460009) with: {'Feed_Forward__dropout_rate': 0.4, 'Feed_Forward__weight_constraint': 4}\n",
      "-7.443848 (2.431932) with: {'Feed_Forward__dropout_rate': 0.4, 'Feed_Forward__weight_constraint': 5}\n",
      "-7.512253 (2.424376) with: {'Feed_Forward__dropout_rate': 0.5, 'Feed_Forward__weight_constraint': 1}\n",
      "-7.683939 (2.514862) with: {'Feed_Forward__dropout_rate': 0.5, 'Feed_Forward__weight_constraint': 2}\n",
      "-7.665113 (2.481117) with: {'Feed_Forward__dropout_rate': 0.5, 'Feed_Forward__weight_constraint': 3}\n",
      "-7.622414 (2.387470) with: {'Feed_Forward__dropout_rate': 0.5, 'Feed_Forward__weight_constraint': 4}\n",
      "-7.590077 (2.414210) with: {'Feed_Forward__dropout_rate': 0.5, 'Feed_Forward__weight_constraint': 5}\n",
      "-7.875097 (2.482120) with: {'Feed_Forward__dropout_rate': 0.6, 'Feed_Forward__weight_constraint': 1}\n",
      "-7.823662 (2.527763) with: {'Feed_Forward__dropout_rate': 0.6, 'Feed_Forward__weight_constraint': 2}\n",
      "-7.824024 (2.487742) with: {'Feed_Forward__dropout_rate': 0.6, 'Feed_Forward__weight_constraint': 3}\n",
      "-7.834783 (2.502643) with: {'Feed_Forward__dropout_rate': 0.6, 'Feed_Forward__weight_constraint': 4}\n",
      "-8.245631 (1.971658) with: {'Feed_Forward__dropout_rate': 0.6, 'Feed_Forward__weight_constraint': 5}\n",
      "-8.575890 (2.836897) with: {'Feed_Forward__dropout_rate': 0.7, 'Feed_Forward__weight_constraint': 1}\n",
      "-8.396782 (2.488546) with: {'Feed_Forward__dropout_rate': 0.7, 'Feed_Forward__weight_constraint': 2}\n",
      "-8.267496 (2.628339) with: {'Feed_Forward__dropout_rate': 0.7, 'Feed_Forward__weight_constraint': 3}\n",
      "-8.514865 (2.761705) with: {'Feed_Forward__dropout_rate': 0.7, 'Feed_Forward__weight_constraint': 4}\n",
      "-8.244945 (2.731016) with: {'Feed_Forward__dropout_rate': 0.7, 'Feed_Forward__weight_constraint': 5}\n",
      "-9.848361 (3.369804) with: {'Feed_Forward__dropout_rate': 0.8, 'Feed_Forward__weight_constraint': 1}\n",
      "-9.646420 (3.170004) with: {'Feed_Forward__dropout_rate': 0.8, 'Feed_Forward__weight_constraint': 2}\n",
      "-9.135325 (2.546303) with: {'Feed_Forward__dropout_rate': 0.8, 'Feed_Forward__weight_constraint': 3}\n",
      "-10.302344 (4.019184) with: {'Feed_Forward__dropout_rate': 0.8, 'Feed_Forward__weight_constraint': 4}\n",
      "-9.467859 (2.811379) with: {'Feed_Forward__dropout_rate': 0.8, 'Feed_Forward__weight_constraint': 5}\n",
      "-11.464883 (3.465037) with: {'Feed_Forward__dropout_rate': 0.9, 'Feed_Forward__weight_constraint': 1}\n",
      "-11.835567 (2.998899) with: {'Feed_Forward__dropout_rate': 0.9, 'Feed_Forward__weight_constraint': 2}\n",
      "-12.308897 (2.054197) with: {'Feed_Forward__dropout_rate': 0.9, 'Feed_Forward__weight_constraint': 3}\n",
      "-12.455700 (3.604349) with: {'Feed_Forward__dropout_rate': 0.9, 'Feed_Forward__weight_constraint': 4}\n",
      "-12.037450 (3.167441) with: {'Feed_Forward__dropout_rate': 0.9, 'Feed_Forward__weight_constraint': 5}\n"
     ]
    }
   ],
   "source": [
    "# Function to create model, required for KerasClassifier\n",
    "def create_model(dropout_rate=0.0, weight_constraint=0):\n",
    "    # create model\n",
    "    model = Sequential()\n",
    "    model.add(Dense(12, kernel_initializer='glorot_normal', activation='relu', kernel_constraint=maxnorm(weight_constraint), input_dim=94))\n",
    "    model.add(Dropout(dropout_rate))\n",
    "    model.add(Dense(1, activation='linear'))\n",
    "    # Compile model\n",
    "    model.compile(loss='mse', optimizer='Adagrad', metrics=['mae'])\n",
    "    return model\n",
    "\n",
    "# create model\n",
    "pipe = Pipeline([('preprocessing', StandardScaler()), ('Feed_Forward', KerasRegressor(build_fn=create_model, epochs=100, batch_size=10, verbose=0))])\n",
    "\n",
    "# define the grid search parameters\n",
    "param_grid = [{'Feed_Forward__weight_constraint' : [1, 2, 3, 4, 5],\n",
    "               'Feed_Forward__dropout_rate' : [0.0, 0.1, 0.2, 0.3, 0.4, 0.5, 0.6, 0.7, 0.8, 0.9]}]\n",
    "\n",
    "grid = GridSearchCV(estimator=pipe, param_grid=param_grid, cv=5, n_jobs=-1) # scoring='neg_mean_absolute_error' would be better\n",
    "grid_result = grid.fit(input_variables, output_variable)\n",
    "\n",
    "# summarize results\n",
    "print(\"Best: %f using %s\" % (grid_result.best_score_, grid_result.best_params_))\n",
    "means = grid_result.cv_results_['mean_test_score']\n",
    "stds = grid_result.cv_results_['std_test_score']\n",
    "params = grid_result.cv_results_['params']\n",
    "for mean, stdev, param in zip(means, stds, params):\n",
    "    print(\"%f (%f) with: %r\" % (mean, stdev, param))"
   ]
  },
  {
   "cell_type": "markdown",
   "metadata": {},
   "source": [
    "## Number of Neurons in the Hidden Layer"
   ]
  },
  {
   "cell_type": "code",
   "execution_count": null,
   "metadata": {},
   "outputs": [],
   "source": [
    "# Function to create model, required for KerasClassifier\n",
    "def create_model(neurons=1):\n",
    "    # create model\n",
    "    model = Sequential()\n",
    "    model.add(Dense(neurons, input_dim=94, kernel_initializer='he_normal', activation='linear', kernel_constraint=maxnorm(4)))\n",
    "    model.add(Dropout(0.2))\n",
    "    model.add(Dense(1, kernel_initializer='he_normal', activation='linear'))\n",
    "    # Compile model\n",
    "    model.compile(loss='binary_crossentropy', optimizer='adam', metrics=['accuracy'])\n",
    "    return model\n",
    "\n",
    "#create model\n",
    "model = KerasClassifier(build_fn=create_model, epochs=100, batch_size=10, verbose=0)\n",
    "# define the grid search parameters\n",
    "neurons = [1, 5, 10, 15, 20, 25, 30]\n",
    "param_grid = dict(neurons=neurons)\n",
    "grid = GridSearchCV(estimator=model, param_grid=param_grid, n_jobs=-1)\n",
    "grid_result = grid.fit(input_variables, output_variable)\n",
    "# summarize results\n",
    "print(\"Best: %f using %s\" % (grid_result.best_score_, grid_result.best_params_))\n",
    "means = grid_result.cv_results_['mean_test_score']\n",
    "stds = grid_result.cv_results_['std_test_score']\n",
    "params = grid_result.cv_results_['params']\n",
    "for mean, stdev, param in zip(means, stds, params):\n",
    "    print(\"%f (%f) with: %r\" % (mean, stdev, param))"
   ]
  },
  {
   "cell_type": "code",
   "execution_count": 68,
   "metadata": {
    "ExecuteTime": {
     "end_time": "2019-03-31T19:13:16.397729Z",
     "start_time": "2019-03-31T19:03:57.698819Z"
    }
   },
   "outputs": [
    {
     "name": "stderr",
     "output_type": "stream",
     "text": [
      "C:\\Users\\taacodo4\\AppData\\Local\\Continuum\\anaconda3\\envs\\deeplearning\\lib\\site-packages\\sklearn\\preprocessing\\data.py:645: DataConversionWarning: Data with input dtype int64, float64 were all converted to float64 by StandardScaler.\n",
      "  return self.partial_fit(X, y)\n",
      "C:\\Users\\taacodo4\\AppData\\Local\\Continuum\\anaconda3\\envs\\deeplearning\\lib\\site-packages\\sklearn\\base.py:467: DataConversionWarning: Data with input dtype int64, float64 were all converted to float64 by StandardScaler.\n",
      "  return self.fit(X, y, **fit_params).transform(X)\n"
     ]
    },
    {
     "name": "stdout",
     "output_type": "stream",
     "text": [
      "Best: -7.429660 using {'Feed_Forward__neurons': 25}\n",
      "-10.959033 (6.618604) with: {'Feed_Forward__neurons': 1}\n",
      "-7.525906 (2.423593) with: {'Feed_Forward__neurons': 5}\n",
      "-7.529826 (2.416779) with: {'Feed_Forward__neurons': 10}\n",
      "-7.446380 (2.378276) with: {'Feed_Forward__neurons': 15}\n",
      "-7.456543 (2.333559) with: {'Feed_Forward__neurons': 20}\n",
      "-7.429660 (2.384745) with: {'Feed_Forward__neurons': 25}\n",
      "-7.464946 (2.318414) with: {'Feed_Forward__neurons': 30}\n"
     ]
    }
   ],
   "source": [
    "# Function to create model, required for KerasClassifier\n",
    "def create_model(neurons=1):\n",
    "    # create model\n",
    "    model = Sequential()\n",
    "    model.add(Dense(neurons, input_dim=94, kernel_initializer='glorot_normal', activation='relu', kernel_constraint=maxnorm(4)))\n",
    "    model.add(Dropout(0.2))\n",
    "    model.add(Dense(1, kernel_initializer='glorot_normal', activation='linear'))\n",
    "    # Compile model\n",
    "    model.compile(loss='mse', optimizer='Adagrad', metrics=['mae'])\n",
    "    return model\n",
    "\n",
    "# create model\n",
    "pipe = Pipeline([('preprocessing', StandardScaler()), ('Feed_Forward', KerasRegressor(build_fn=create_model, epochs=100, batch_size=10, verbose=0))])\n",
    "\n",
    "# define the grid search parameters\n",
    "param_grid = [{'Feed_Forward__neurons' : [1, 5, 10, 15, 20, 25, 30]}]\n",
    "\n",
    "grid = GridSearchCV(estimator=pipe, param_grid=param_grid, cv=5, n_jobs=-1) # scoring='neg_mean_absolute_error' would be better\n",
    "grid_result = grid.fit(input_variables, output_variable)\n",
    "\n",
    "# summarize results\n",
    "print(\"Best: %f using %s\" % (grid_result.best_score_, grid_result.best_params_))\n",
    "means = grid_result.cv_results_['mean_test_score']\n",
    "stds = grid_result.cv_results_['std_test_score']\n",
    "params = grid_result.cv_results_['params']\n",
    "for mean, stdev, param in zip(means, stds, params):\n",
    "    print(\"%f (%f) with: %r\" % (mean, stdev, param))"
   ]
  }
 ],
 "metadata": {
  "kernelspec": {
   "display_name": "Python 3",
   "language": "python",
   "name": "python3"
  },
  "language_info": {
   "codemirror_mode": {
    "name": "ipython",
    "version": 3
   },
   "file_extension": ".py",
   "mimetype": "text/x-python",
   "name": "python",
   "nbconvert_exporter": "python",
   "pygments_lexer": "ipython3",
   "version": "3.7.2"
  },
  "toc": {
   "base_numbering": 1,
   "nav_menu": {
    "height": "347.003px",
    "width": "275.994px"
   },
   "number_sections": true,
   "sideBar": true,
   "skip_h1_title": false,
   "title_cell": "Table of Contents",
   "title_sidebar": "Contents",
   "toc_cell": false,
   "toc_position": {},
   "toc_section_display": true,
   "toc_window_display": true
  }
 },
 "nbformat": 4,
 "nbformat_minor": 2
}
