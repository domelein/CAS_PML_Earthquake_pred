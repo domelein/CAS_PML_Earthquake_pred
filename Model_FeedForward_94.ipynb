{
 "cells": [
  {
   "cell_type": "markdown",
   "metadata": {},
   "source": [
    "# Imports"
   ]
  },
  {
   "cell_type": "code",
   "execution_count": 1,
   "metadata": {
    "ExecuteTime": {
     "end_time": "2019-03-27T18:45:38.285495Z",
     "start_time": "2019-03-27T18:45:27.481003Z"
    }
   },
   "outputs": [
    {
     "name": "stderr",
     "output_type": "stream",
     "text": [
      "Using TensorFlow backend.\n"
     ]
    }
   ],
   "source": [
    "import pandas as pd\n",
    "import numpy as np\n",
    "#data visualization\n",
    "import matplotlib.pyplot as plt\n",
    "from sklearn.model_selection import train_test_split\n",
    "from sklearn.preprocessing import StandardScaler\n",
    "from sklearn.metrics import mean_absolute_error\n",
    "\n",
    "from keras.models import Sequential\n",
    "from keras.layers import Dense, Activation\n",
    "\n",
    "pd.options.display.precision = 10"
   ]
  },
  {
   "cell_type": "markdown",
   "metadata": {},
   "source": [
    "# Umgebungsvariablen"
   ]
  },
  {
   "cell_type": "code",
   "execution_count": 2,
   "metadata": {
    "ExecuteTime": {
     "end_time": "2019-03-27T18:45:44.507520Z",
     "start_time": "2019-03-27T18:45:44.504061Z"
    }
   },
   "outputs": [],
   "source": [
    "# path data Domenico\n",
    "#feature generated 24.03.2019\n",
    "#earthquake_daten = '''C:/Users/taacodo4/GITRepos/CAS_PML_Earthquake_pred/data/'''\n",
    "earthquake_daten = '''C:/studium/studium/CAS_PML/Projekt_Arbeit/earthquake/Daten/earthquake_data/'''\n",
    "feature_62900_94 = 'Features_62900-94.csv'\n",
    "feature_41934_94 = 'Features_41934_94.csv'\n",
    "Features_4194_94 = 'Features_4194_94.csv'"
   ]
  },
  {
   "cell_type": "markdown",
   "metadata": {},
   "source": [
    "# Feature laden"
   ]
  },
  {
   "cell_type": "code",
   "execution_count": 3,
   "metadata": {
    "ExecuteTime": {
     "end_time": "2019-03-27T18:45:48.220598Z",
     "start_time": "2019-03-27T18:45:47.398866Z"
    }
   },
   "outputs": [],
   "source": [
    "train_data = pd.read_csv(earthquake_daten+feature_41934_94)"
   ]
  },
  {
   "cell_type": "code",
   "execution_count": 4,
   "metadata": {
    "ExecuteTime": {
     "end_time": "2019-03-27T18:45:50.116400Z",
     "start_time": "2019-03-27T18:45:50.096454Z"
    }
   },
   "outputs": [],
   "source": [
    "feature_data = train_data.iloc[:,1:95]\n",
    "time_to_failure = np.array(train_data.iloc[:,-1])"
   ]
  },
  {
   "cell_type": "markdown",
   "metadata": {},
   "source": [
    "# Feature Filtern"
   ]
  },
  {
   "cell_type": "code",
   "execution_count": 48,
   "metadata": {},
   "outputs": [],
   "source": [
    "items_to_filter=['spec_cent_75%q', 'max', 'mean', 'min', 'skew', 'rolloff_75%q', 'zero_crossings', 'spec_cent_95%q', 'spec_bw_25%q', 'absMax', 'spec_bw_75%q', 'psd_skew', 'chroma_stft_std', 'spec_cent_absStd', 'psd_kurt', 'rolloff_min', 'rolloff_25%q', 'spec_cent_std', 'spec_cent_5%q', 'kurt', 'psd_75%q', 'spec_cent_min', 'chroma_stft_mean', 'rolloff_95%q', 'spec_cent_absMean', 'absMean', 'spec_cent_25%q', 'spec_cent_99%q', 'chroma_stft_skew', 'spec_cent_max']\n",
    "filtered_feature_data = feature_data.filter(items=items_to_filter)"
   ]
  },
  {
   "cell_type": "code",
   "execution_count": 49,
   "metadata": {},
   "outputs": [
    {
     "data": {
      "text/html": [
       "<div>\n",
       "<style scoped>\n",
       "    .dataframe tbody tr th:only-of-type {\n",
       "        vertical-align: middle;\n",
       "    }\n",
       "\n",
       "    .dataframe tbody tr th {\n",
       "        vertical-align: top;\n",
       "    }\n",
       "\n",
       "    .dataframe thead th {\n",
       "        text-align: right;\n",
       "    }\n",
       "</style>\n",
       "<table border=\"1\" class=\"dataframe\">\n",
       "  <thead>\n",
       "    <tr style=\"text-align: right;\">\n",
       "      <th></th>\n",
       "      <th>spec_cent_75%q</th>\n",
       "      <th>max</th>\n",
       "      <th>mean</th>\n",
       "      <th>min</th>\n",
       "      <th>skew</th>\n",
       "      <th>rolloff_75%q</th>\n",
       "      <th>zero_crossings</th>\n",
       "      <th>spec_cent_95%q</th>\n",
       "      <th>spec_bw_25%q</th>\n",
       "      <th>absMax</th>\n",
       "      <th>...</th>\n",
       "      <th>psd_75%q</th>\n",
       "      <th>spec_cent_min</th>\n",
       "      <th>chroma_stft_mean</th>\n",
       "      <th>rolloff_95%q</th>\n",
       "      <th>spec_cent_absMean</th>\n",
       "      <th>absMean</th>\n",
       "      <th>spec_cent_25%q</th>\n",
       "      <th>spec_cent_99%q</th>\n",
       "      <th>chroma_stft_skew</th>\n",
       "      <th>spec_cent_max</th>\n",
       "    </tr>\n",
       "  </thead>\n",
       "  <tbody>\n",
       "    <tr>\n",
       "      <th>0</th>\n",
       "      <td>733159.4642193337</td>\n",
       "      <td>104</td>\n",
       "      <td>4.8841133333</td>\n",
       "      <td>-98</td>\n",
       "      <td>-0.0240611666</td>\n",
       "      <td>1460937.500</td>\n",
       "      <td>11112</td>\n",
       "      <td>757406.6983228923</td>\n",
       "      <td>557429.6937546992</td>\n",
       "      <td>104</td>\n",
       "      <td>...</td>\n",
       "      <td>0.0000051602</td>\n",
       "      <td>344137.5866431109</td>\n",
       "      <td>0.9718849487</td>\n",
       "      <td>1498046.875</td>\n",
       "      <td>675299.9943783229</td>\n",
       "      <td>5.5765666667</td>\n",
       "      <td>634216.6864112499</td>\n",
       "      <td>775422.7117589850</td>\n",
       "      <td>0.3649612855</td>\n",
       "      <td>779718.3984031264</td>\n",
       "    </tr>\n",
       "    <tr>\n",
       "      <th>1</th>\n",
       "      <td>736612.5134613134</td>\n",
       "      <td>181</td>\n",
       "      <td>4.8460000000</td>\n",
       "      <td>-154</td>\n",
       "      <td>0.3925487681</td>\n",
       "      <td>1464843.750</td>\n",
       "      <td>10896</td>\n",
       "      <td>758500.7081672971</td>\n",
       "      <td>557835.3492556307</td>\n",
       "      <td>181</td>\n",
       "      <td>...</td>\n",
       "      <td>0.0000052140</td>\n",
       "      <td>267026.7775581809</td>\n",
       "      <td>0.9716164141</td>\n",
       "      <td>1496093.750</td>\n",
       "      <td>679242.6166165252</td>\n",
       "      <td>5.5397733333</td>\n",
       "      <td>639542.6603908021</td>\n",
       "      <td>774492.1946102306</td>\n",
       "      <td>-11.1282768673</td>\n",
       "      <td>779399.3470904609</td>\n",
       "    </tr>\n",
       "    <tr>\n",
       "      <th>2</th>\n",
       "      <td>737973.7808192460</td>\n",
       "      <td>181</td>\n",
       "      <td>4.8111600000</td>\n",
       "      <td>-154</td>\n",
       "      <td>0.4131461554</td>\n",
       "      <td>1462890.625</td>\n",
       "      <td>11002</td>\n",
       "      <td>758961.3555535431</td>\n",
       "      <td>558113.8118867078</td>\n",
       "      <td>181</td>\n",
       "      <td>...</td>\n",
       "      <td>0.0000052309</td>\n",
       "      <td>270683.2349891659</td>\n",
       "      <td>0.9716184120</td>\n",
       "      <td>1494140.625</td>\n",
       "      <td>680252.8575712403</td>\n",
       "      <td>5.4927200000</td>\n",
       "      <td>636292.9403923374</td>\n",
       "      <td>774492.2387742114</td>\n",
       "      <td>-10.8530496921</td>\n",
       "      <td>780546.9703317202</td>\n",
       "    </tr>\n",
       "    <tr>\n",
       "      <th>3</th>\n",
       "      <td>737384.8299326156</td>\n",
       "      <td>181</td>\n",
       "      <td>4.7970666667</td>\n",
       "      <td>-154</td>\n",
       "      <td>0.3948502125</td>\n",
       "      <td>1462890.625</td>\n",
       "      <td>11102</td>\n",
       "      <td>758423.8895016053</td>\n",
       "      <td>556857.8166817626</td>\n",
       "      <td>181</td>\n",
       "      <td>...</td>\n",
       "      <td>0.0000052344</td>\n",
       "      <td>275071.6517177345</td>\n",
       "      <td>0.9716175451</td>\n",
       "      <td>1496093.750</td>\n",
       "      <td>676762.4451292974</td>\n",
       "      <td>5.5360666667</td>\n",
       "      <td>634641.2622919537</td>\n",
       "      <td>775489.8181291984</td>\n",
       "      <td>-9.9423065072</td>\n",
       "      <td>780605.6109377267</td>\n",
       "    </tr>\n",
       "    <tr>\n",
       "      <th>4</th>\n",
       "      <td>731781.3140465751</td>\n",
       "      <td>181</td>\n",
       "      <td>4.7963466667</td>\n",
       "      <td>-154</td>\n",
       "      <td>0.4967878159</td>\n",
       "      <td>1457031.250</td>\n",
       "      <td>11492</td>\n",
       "      <td>758944.2582974294</td>\n",
       "      <td>552611.6044073350</td>\n",
       "      <td>181</td>\n",
       "      <td>...</td>\n",
       "      <td>0.0000052794</td>\n",
       "      <td>267450.5228245327</td>\n",
       "      <td>0.9716255541</td>\n",
       "      <td>1496093.750</td>\n",
       "      <td>670948.9908539157</td>\n",
       "      <td>5.6779333333</td>\n",
       "      <td>624543.9763641407</td>\n",
       "      <td>775308.7449658551</td>\n",
       "      <td>-10.3648509485</td>\n",
       "      <td>779109.7670845632</td>\n",
       "    </tr>\n",
       "  </tbody>\n",
       "</table>\n",
       "<p>5 rows × 30 columns</p>\n",
       "</div>"
      ],
      "text/plain": [
       "      spec_cent_75%q  max          mean  min          skew  rolloff_75%q  \\\n",
       "0  733159.4642193337  104  4.8841133333  -98 -0.0240611666   1460937.500   \n",
       "1  736612.5134613134  181  4.8460000000 -154  0.3925487681   1464843.750   \n",
       "2  737973.7808192460  181  4.8111600000 -154  0.4131461554   1462890.625   \n",
       "3  737384.8299326156  181  4.7970666667 -154  0.3948502125   1462890.625   \n",
       "4  731781.3140465751  181  4.7963466667 -154  0.4967878159   1457031.250   \n",
       "\n",
       "   zero_crossings     spec_cent_95%q       spec_bw_25%q  absMax  ...  \\\n",
       "0           11112  757406.6983228923  557429.6937546992     104  ...   \n",
       "1           10896  758500.7081672971  557835.3492556307     181  ...   \n",
       "2           11002  758961.3555535431  558113.8118867078     181  ...   \n",
       "3           11102  758423.8895016053  556857.8166817626     181  ...   \n",
       "4           11492  758944.2582974294  552611.6044073350     181  ...   \n",
       "\n",
       "       psd_75%q      spec_cent_min  chroma_stft_mean  rolloff_95%q  \\\n",
       "0  0.0000051602  344137.5866431109      0.9718849487   1498046.875   \n",
       "1  0.0000052140  267026.7775581809      0.9716164141   1496093.750   \n",
       "2  0.0000052309  270683.2349891659      0.9716184120   1494140.625   \n",
       "3  0.0000052344  275071.6517177345      0.9716175451   1496093.750   \n",
       "4  0.0000052794  267450.5228245327      0.9716255541   1496093.750   \n",
       "\n",
       "   spec_cent_absMean       absMean     spec_cent_25%q     spec_cent_99%q  \\\n",
       "0  675299.9943783229  5.5765666667  634216.6864112499  775422.7117589850   \n",
       "1  679242.6166165252  5.5397733333  639542.6603908021  774492.1946102306   \n",
       "2  680252.8575712403  5.4927200000  636292.9403923374  774492.2387742114   \n",
       "3  676762.4451292974  5.5360666667  634641.2622919537  775489.8181291984   \n",
       "4  670948.9908539157  5.6779333333  624543.9763641407  775308.7449658551   \n",
       "\n",
       "   chroma_stft_skew      spec_cent_max  \n",
       "0      0.3649612855  779718.3984031264  \n",
       "1    -11.1282768673  779399.3470904609  \n",
       "2    -10.8530496921  780546.9703317202  \n",
       "3     -9.9423065072  780605.6109377267  \n",
       "4    -10.3648509485  779109.7670845632  \n",
       "\n",
       "[5 rows x 30 columns]"
      ]
     },
     "execution_count": 49,
     "metadata": {},
     "output_type": "execute_result"
    }
   ],
   "source": [
    "filtered_feature_data.head()"
   ]
  },
  {
   "cell_type": "code",
   "execution_count": 71,
   "metadata": {},
   "outputs": [],
   "source": [
    "#feature_data = filtered_feature_data"
   ]
  },
  {
   "cell_type": "code",
   "execution_count": 5,
   "metadata": {
    "ExecuteTime": {
     "end_time": "2019-03-27T16:37:05.842781Z",
     "start_time": "2019-03-27T16:37:05.806130Z"
    }
   },
   "outputs": [
    {
     "data": {
      "text/html": [
       "<div>\n",
       "<style scoped>\n",
       "    .dataframe tbody tr th:only-of-type {\n",
       "        vertical-align: middle;\n",
       "    }\n",
       "\n",
       "    .dataframe tbody tr th {\n",
       "        vertical-align: top;\n",
       "    }\n",
       "\n",
       "    .dataframe thead th {\n",
       "        text-align: right;\n",
       "    }\n",
       "</style>\n",
       "<table border=\"1\" class=\"dataframe\">\n",
       "  <thead>\n",
       "    <tr style=\"text-align: right;\">\n",
       "      <th></th>\n",
       "      <th>mean</th>\n",
       "      <th>std</th>\n",
       "      <th>kurt</th>\n",
       "      <th>skew</th>\n",
       "      <th>min</th>\n",
       "      <th>max</th>\n",
       "      <th>1%q</th>\n",
       "      <th>5%q</th>\n",
       "      <th>25%q</th>\n",
       "      <th>75%q</th>\n",
       "      <th>...</th>\n",
       "      <th>spec_bw_kurt</th>\n",
       "      <th>spec_bw_skew</th>\n",
       "      <th>spec_bw_min</th>\n",
       "      <th>spec_bw_max</th>\n",
       "      <th>spec_bw_1%q</th>\n",
       "      <th>spec_bw_5%q</th>\n",
       "      <th>spec_bw_25%q</th>\n",
       "      <th>spec_bw_75%q</th>\n",
       "      <th>spec_bw_95%q</th>\n",
       "      <th>spec_bw_99%q</th>\n",
       "    </tr>\n",
       "  </thead>\n",
       "  <tbody>\n",
       "    <tr>\n",
       "      <th>0</th>\n",
       "      <td>4.8841133333</td>\n",
       "      <td>5.1011061306</td>\n",
       "      <td>33.6624812935</td>\n",
       "      <td>-0.0240611666</td>\n",
       "      <td>-98</td>\n",
       "      <td>104</td>\n",
       "      <td>-8.0</td>\n",
       "      <td>-2.0</td>\n",
       "      <td>3.0</td>\n",
       "      <td>7.0</td>\n",
       "      <td>...</td>\n",
       "      <td>12.7760446198</td>\n",
       "      <td>-2.9176274163</td>\n",
       "      <td>381349.1865900679</td>\n",
       "      <td>593848.0949585186</td>\n",
       "      <td>464802.9437660335</td>\n",
       "      <td>513229.8197951605</td>\n",
       "      <td>557429.6937546992</td>\n",
       "      <td>578910.9580815419</td>\n",
       "      <td>586597.8954874629</td>\n",
       "      <td>589247.3423812583</td>\n",
       "    </tr>\n",
       "    <tr>\n",
       "      <th>1</th>\n",
       "      <td>4.8460000000</td>\n",
       "      <td>5.3572687695</td>\n",
       "      <td>107.6590450983</td>\n",
       "      <td>0.3925487681</td>\n",
       "      <td>-154</td>\n",
       "      <td>181</td>\n",
       "      <td>-8.0</td>\n",
       "      <td>-2.0</td>\n",
       "      <td>3.0</td>\n",
       "      <td>7.0</td>\n",
       "      <td>...</td>\n",
       "      <td>22.8557929787</td>\n",
       "      <td>-3.8872902502</td>\n",
       "      <td>329836.4019458159</td>\n",
       "      <td>591835.0083446358</td>\n",
       "      <td>439108.3658902883</td>\n",
       "      <td>516325.3313475318</td>\n",
       "      <td>557835.3492556307</td>\n",
       "      <td>579988.6349873011</td>\n",
       "      <td>586440.8325607502</td>\n",
       "      <td>589359.9034747409</td>\n",
       "    </tr>\n",
       "    <tr>\n",
       "      <th>2</th>\n",
       "      <td>4.8111600000</td>\n",
       "      <td>5.3222446671</td>\n",
       "      <td>110.4614763269</td>\n",
       "      <td>0.4131461554</td>\n",
       "      <td>-154</td>\n",
       "      <td>181</td>\n",
       "      <td>-8.0</td>\n",
       "      <td>-2.0</td>\n",
       "      <td>2.0</td>\n",
       "      <td>7.0</td>\n",
       "      <td>...</td>\n",
       "      <td>23.7946792295</td>\n",
       "      <td>-3.9943724011</td>\n",
       "      <td>332568.2442054225</td>\n",
       "      <td>593958.4716608603</td>\n",
       "      <td>445689.0151435903</td>\n",
       "      <td>516651.7592641455</td>\n",
       "      <td>558113.8118867078</td>\n",
       "      <td>578970.1809539023</td>\n",
       "      <td>585994.1793593073</td>\n",
       "      <td>588331.0470630293</td>\n",
       "    </tr>\n",
       "    <tr>\n",
       "      <th>3</th>\n",
       "      <td>4.7970666667</td>\n",
       "      <td>5.4298018331</td>\n",
       "      <td>102.2839738481</td>\n",
       "      <td>0.3948502125</td>\n",
       "      <td>-154</td>\n",
       "      <td>181</td>\n",
       "      <td>-8.0</td>\n",
       "      <td>-2.0</td>\n",
       "      <td>2.0</td>\n",
       "      <td>7.0</td>\n",
       "      <td>...</td>\n",
       "      <td>20.7818401916</td>\n",
       "      <td>-3.6765386574</td>\n",
       "      <td>343556.3218677743</td>\n",
       "      <td>594248.5566511984</td>\n",
       "      <td>462607.7576279854</td>\n",
       "      <td>515205.1687599596</td>\n",
       "      <td>556857.8166817626</td>\n",
       "      <td>578945.5839074623</td>\n",
       "      <td>586079.6053871689</td>\n",
       "      <td>588848.0485897590</td>\n",
       "    </tr>\n",
       "    <tr>\n",
       "      <th>4</th>\n",
       "      <td>4.7963466667</td>\n",
       "      <td>6.2361343193</td>\n",
       "      <td>112.5711765807</td>\n",
       "      <td>0.4967878159</td>\n",
       "      <td>-154</td>\n",
       "      <td>181</td>\n",
       "      <td>-9.0</td>\n",
       "      <td>-2.0</td>\n",
       "      <td>2.0</td>\n",
       "      <td>7.0</td>\n",
       "      <td>...</td>\n",
       "      <td>16.5391347377</td>\n",
       "      <td>-3.5297803851</td>\n",
       "      <td>331287.5290388099</td>\n",
       "      <td>592701.6014523738</td>\n",
       "      <td>387511.7411545423</td>\n",
       "      <td>507656.1892000461</td>\n",
       "      <td>552611.6044073350</td>\n",
       "      <td>578410.6210616485</td>\n",
       "      <td>585635.5282477409</td>\n",
       "      <td>589839.5361300857</td>\n",
       "    </tr>\n",
       "  </tbody>\n",
       "</table>\n",
       "<p>5 rows × 94 columns</p>\n",
       "</div>"
      ],
      "text/plain": [
       "           mean           std            kurt          skew  min  max  1%q  \\\n",
       "0  4.8841133333  5.1011061306   33.6624812935 -0.0240611666  -98  104 -8.0   \n",
       "1  4.8460000000  5.3572687695  107.6590450983  0.3925487681 -154  181 -8.0   \n",
       "2  4.8111600000  5.3222446671  110.4614763269  0.4131461554 -154  181 -8.0   \n",
       "3  4.7970666667  5.4298018331  102.2839738481  0.3948502125 -154  181 -8.0   \n",
       "4  4.7963466667  6.2361343193  112.5711765807  0.4967878159 -154  181 -9.0   \n",
       "\n",
       "   5%q  25%q  75%q  ...   spec_bw_kurt  spec_bw_skew        spec_bw_min  \\\n",
       "0 -2.0   3.0   7.0  ...  12.7760446198 -2.9176274163  381349.1865900679   \n",
       "1 -2.0   3.0   7.0  ...  22.8557929787 -3.8872902502  329836.4019458159   \n",
       "2 -2.0   2.0   7.0  ...  23.7946792295 -3.9943724011  332568.2442054225   \n",
       "3 -2.0   2.0   7.0  ...  20.7818401916 -3.6765386574  343556.3218677743   \n",
       "4 -2.0   2.0   7.0  ...  16.5391347377 -3.5297803851  331287.5290388099   \n",
       "\n",
       "         spec_bw_max        spec_bw_1%q        spec_bw_5%q       spec_bw_25%q  \\\n",
       "0  593848.0949585186  464802.9437660335  513229.8197951605  557429.6937546992   \n",
       "1  591835.0083446358  439108.3658902883  516325.3313475318  557835.3492556307   \n",
       "2  593958.4716608603  445689.0151435903  516651.7592641455  558113.8118867078   \n",
       "3  594248.5566511984  462607.7576279854  515205.1687599596  556857.8166817626   \n",
       "4  592701.6014523738  387511.7411545423  507656.1892000461  552611.6044073350   \n",
       "\n",
       "        spec_bw_75%q       spec_bw_95%q       spec_bw_99%q  \n",
       "0  578910.9580815419  586597.8954874629  589247.3423812583  \n",
       "1  579988.6349873011  586440.8325607502  589359.9034747409  \n",
       "2  578970.1809539023  585994.1793593073  588331.0470630293  \n",
       "3  578945.5839074623  586079.6053871689  588848.0485897590  \n",
       "4  578410.6210616485  585635.5282477409  589839.5361300857  \n",
       "\n",
       "[5 rows x 94 columns]"
      ]
     },
     "execution_count": 5,
     "metadata": {},
     "output_type": "execute_result"
    }
   ],
   "source": [
    "feature_data.head()"
   ]
  },
  {
   "cell_type": "markdown",
   "metadata": {},
   "source": [
    "# Training / Testdaten vorbereiten"
   ]
  },
  {
   "cell_type": "code",
   "execution_count": 5,
   "metadata": {
    "ExecuteTime": {
     "end_time": "2019-03-27T18:45:55.333096Z",
     "start_time": "2019-03-27T18:45:55.303088Z"
    }
   },
   "outputs": [],
   "source": [
    "X_train, X_test, y_train, y_test = train_test_split(\n",
    "    feature_data,\n",
    "    time_to_failure,\n",
    "    random_state=0,\n",
    "    test_size=0.25)"
   ]
  },
  {
   "cell_type": "code",
   "execution_count": 6,
   "metadata": {
    "ExecuteTime": {
     "end_time": "2019-03-27T18:45:56.993453Z",
     "start_time": "2019-03-27T18:45:56.847842Z"
    }
   },
   "outputs": [
    {
     "name": "stderr",
     "output_type": "stream",
     "text": [
      "C:\\Users\\chianti\\.conda\\envs\\TensorFlow-GPU-Keras\\lib\\site-packages\\sklearn\\preprocessing\\data.py:625: DataConversionWarning: Data with input dtype int64, float64 were all converted to float64 by StandardScaler.\n",
      "  return self.partial_fit(X, y)\n",
      "C:\\Users\\chianti\\.conda\\envs\\TensorFlow-GPU-Keras\\lib\\site-packages\\ipykernel_launcher.py:2: DataConversionWarning: Data with input dtype int64, float64 were all converted to float64 by StandardScaler.\n",
      "  \n"
     ]
    }
   ],
   "source": [
    "scaler = StandardScaler().fit(X_train)\n",
    "X_train_scaled=scaler.transform(X_train)"
   ]
  },
  {
   "cell_type": "markdown",
   "metadata": {},
   "source": [
    "# Create Model"
   ]
  },
  {
   "cell_type": "markdown",
   "metadata": {},
   "source": [
    "# Compilation"
   ]
  },
  {
   "cell_type": "code",
   "execution_count": 7,
   "metadata": {
    "ExecuteTime": {
     "end_time": "2019-03-27T18:46:16.774890Z",
     "start_time": "2019-03-27T18:46:00.967488Z"
    },
    "scrolled": true
   },
   "outputs": [
    {
     "name": "stdout",
     "output_type": "stream",
     "text": [
      "Epoch 1/100\n",
      "31450/31450 [==============================] - 8s 266us/step - loss: 2.1200 - mean_absolute_error: 2.1200 - acc: 0.0000e+00\n",
      "Epoch 2/100\n",
      "31450/31450 [==============================] - 6s 197us/step - loss: 2.0146 - mean_absolute_error: 2.0146 - acc: 0.0000e+00\n",
      "Epoch 3/100\n",
      " 3620/31450 [==>...........................] - ETA: 5s - loss: 2.0298 - mean_absolute_error: 2.0298 - acc: 0.0000e+00"
     ]
    },
    {
     "ename": "KeyboardInterrupt",
     "evalue": "",
     "output_type": "error",
     "traceback": [
      "\u001b[1;31m---------------------------------------------------------------------------\u001b[0m",
      "\u001b[1;31mKeyboardInterrupt\u001b[0m                         Traceback (most recent call last)",
      "\u001b[1;32m<ipython-input-7-c7fdfe320ed2>\u001b[0m in \u001b[0;36m<module>\u001b[1;34m\u001b[0m\n\u001b[0;32m      7\u001b[0m \u001b[1;31m#model.compile(loss='mae', optimizer='adam')\u001b[0m\u001b[1;33m\u001b[0m\u001b[1;33m\u001b[0m\u001b[1;33m\u001b[0m\u001b[0m\n\u001b[0;32m      8\u001b[0m \u001b[1;33m\u001b[0m\u001b[0m\n\u001b[1;32m----> 9\u001b[1;33m \u001b[0mmodel\u001b[0m\u001b[1;33m.\u001b[0m\u001b[0mfit\u001b[0m\u001b[1;33m(\u001b[0m\u001b[0mX_train_scaled\u001b[0m\u001b[1;33m,\u001b[0m \u001b[0my_train\u001b[0m\u001b[1;33m,\u001b[0m \u001b[0mepochs\u001b[0m\u001b[1;33m=\u001b[0m\u001b[1;36m100\u001b[0m\u001b[1;33m,\u001b[0m \u001b[0mbatch_size\u001b[0m\u001b[1;33m=\u001b[0m\u001b[1;36m10\u001b[0m\u001b[1;33m)\u001b[0m\u001b[1;33m\u001b[0m\u001b[1;33m\u001b[0m\u001b[0m\n\u001b[0m",
      "\u001b[1;32m~\\.conda\\envs\\TensorFlow-GPU-Keras\\lib\\site-packages\\keras\\engine\\training.py\u001b[0m in \u001b[0;36mfit\u001b[1;34m(self, x, y, batch_size, epochs, verbose, callbacks, validation_split, validation_data, shuffle, class_weight, sample_weight, initial_epoch, steps_per_epoch, validation_steps, **kwargs)\u001b[0m\n\u001b[0;32m   1037\u001b[0m                                         \u001b[0minitial_epoch\u001b[0m\u001b[1;33m=\u001b[0m\u001b[0minitial_epoch\u001b[0m\u001b[1;33m,\u001b[0m\u001b[1;33m\u001b[0m\u001b[1;33m\u001b[0m\u001b[0m\n\u001b[0;32m   1038\u001b[0m                                         \u001b[0msteps_per_epoch\u001b[0m\u001b[1;33m=\u001b[0m\u001b[0msteps_per_epoch\u001b[0m\u001b[1;33m,\u001b[0m\u001b[1;33m\u001b[0m\u001b[1;33m\u001b[0m\u001b[0m\n\u001b[1;32m-> 1039\u001b[1;33m                                         validation_steps=validation_steps)\n\u001b[0m\u001b[0;32m   1040\u001b[0m \u001b[1;33m\u001b[0m\u001b[0m\n\u001b[0;32m   1041\u001b[0m     def evaluate(self, x=None, y=None,\n",
      "\u001b[1;32m~\\.conda\\envs\\TensorFlow-GPU-Keras\\lib\\site-packages\\keras\\engine\\training_arrays.py\u001b[0m in \u001b[0;36mfit_loop\u001b[1;34m(model, f, ins, out_labels, batch_size, epochs, verbose, callbacks, val_f, val_ins, shuffle, callback_metrics, initial_epoch, steps_per_epoch, validation_steps)\u001b[0m\n\u001b[0;32m    202\u001b[0m                     \u001b[0mbatch_logs\u001b[0m\u001b[1;33m[\u001b[0m\u001b[0ml\u001b[0m\u001b[1;33m]\u001b[0m \u001b[1;33m=\u001b[0m \u001b[0mo\u001b[0m\u001b[1;33m\u001b[0m\u001b[1;33m\u001b[0m\u001b[0m\n\u001b[0;32m    203\u001b[0m \u001b[1;33m\u001b[0m\u001b[0m\n\u001b[1;32m--> 204\u001b[1;33m                 \u001b[0mcallbacks\u001b[0m\u001b[1;33m.\u001b[0m\u001b[0mon_batch_end\u001b[0m\u001b[1;33m(\u001b[0m\u001b[0mbatch_index\u001b[0m\u001b[1;33m,\u001b[0m \u001b[0mbatch_logs\u001b[0m\u001b[1;33m)\u001b[0m\u001b[1;33m\u001b[0m\u001b[1;33m\u001b[0m\u001b[0m\n\u001b[0m\u001b[0;32m    205\u001b[0m                 \u001b[1;32mif\u001b[0m \u001b[0mcallback_model\u001b[0m\u001b[1;33m.\u001b[0m\u001b[0mstop_training\u001b[0m\u001b[1;33m:\u001b[0m\u001b[1;33m\u001b[0m\u001b[1;33m\u001b[0m\u001b[0m\n\u001b[0;32m    206\u001b[0m                     \u001b[1;32mbreak\u001b[0m\u001b[1;33m\u001b[0m\u001b[1;33m\u001b[0m\u001b[0m\n",
      "\u001b[1;32m~\\.conda\\envs\\TensorFlow-GPU-Keras\\lib\\site-packages\\keras\\callbacks.py\u001b[0m in \u001b[0;36mon_batch_end\u001b[1;34m(self, batch, logs)\u001b[0m\n\u001b[0;32m    115\u001b[0m             \u001b[0mcallback\u001b[0m\u001b[1;33m.\u001b[0m\u001b[0mon_batch_end\u001b[0m\u001b[1;33m(\u001b[0m\u001b[0mbatch\u001b[0m\u001b[1;33m,\u001b[0m \u001b[0mlogs\u001b[0m\u001b[1;33m)\u001b[0m\u001b[1;33m\u001b[0m\u001b[1;33m\u001b[0m\u001b[0m\n\u001b[0;32m    116\u001b[0m         \u001b[0mself\u001b[0m\u001b[1;33m.\u001b[0m\u001b[0m_delta_ts_batch_end\u001b[0m\u001b[1;33m.\u001b[0m\u001b[0mappend\u001b[0m\u001b[1;33m(\u001b[0m\u001b[0mtime\u001b[0m\u001b[1;33m.\u001b[0m\u001b[0mtime\u001b[0m\u001b[1;33m(\u001b[0m\u001b[1;33m)\u001b[0m \u001b[1;33m-\u001b[0m \u001b[0mt_before_callbacks\u001b[0m\u001b[1;33m)\u001b[0m\u001b[1;33m\u001b[0m\u001b[1;33m\u001b[0m\u001b[0m\n\u001b[1;32m--> 117\u001b[1;33m         \u001b[0mdelta_t_median\u001b[0m \u001b[1;33m=\u001b[0m \u001b[0mnp\u001b[0m\u001b[1;33m.\u001b[0m\u001b[0mmedian\u001b[0m\u001b[1;33m(\u001b[0m\u001b[0mself\u001b[0m\u001b[1;33m.\u001b[0m\u001b[0m_delta_ts_batch_end\u001b[0m\u001b[1;33m)\u001b[0m\u001b[1;33m\u001b[0m\u001b[1;33m\u001b[0m\u001b[0m\n\u001b[0m\u001b[0;32m    118\u001b[0m         if (self._delta_t_batch > 0. and\n\u001b[0;32m    119\u001b[0m            (delta_t_median > 0.95 * self._delta_t_batch and delta_t_median > 0.1)):\n",
      "\u001b[1;32m~\\.conda\\envs\\TensorFlow-GPU-Keras\\lib\\site-packages\\numpy\\lib\\function_base.py\u001b[0m in \u001b[0;36mmedian\u001b[1;34m(a, axis, out, overwrite_input, keepdims)\u001b[0m\n\u001b[0;32m   3334\u001b[0m     \"\"\"\n\u001b[0;32m   3335\u001b[0m     r, k = _ureduce(a, func=_median, axis=axis, out=out,\n\u001b[1;32m-> 3336\u001b[1;33m                     overwrite_input=overwrite_input)\n\u001b[0m\u001b[0;32m   3337\u001b[0m     \u001b[1;32mif\u001b[0m \u001b[0mkeepdims\u001b[0m\u001b[1;33m:\u001b[0m\u001b[1;33m\u001b[0m\u001b[1;33m\u001b[0m\u001b[0m\n\u001b[0;32m   3338\u001b[0m         \u001b[1;32mreturn\u001b[0m \u001b[0mr\u001b[0m\u001b[1;33m.\u001b[0m\u001b[0mreshape\u001b[0m\u001b[1;33m(\u001b[0m\u001b[0mk\u001b[0m\u001b[1;33m)\u001b[0m\u001b[1;33m\u001b[0m\u001b[1;33m\u001b[0m\u001b[0m\n",
      "\u001b[1;32m~\\.conda\\envs\\TensorFlow-GPU-Keras\\lib\\site-packages\\numpy\\lib\\function_base.py\u001b[0m in \u001b[0;36m_ureduce\u001b[1;34m(a, func, **kwargs)\u001b[0m\n\u001b[0;32m   3248\u001b[0m         \u001b[0mkeepdim\u001b[0m \u001b[1;33m=\u001b[0m \u001b[1;33m(\u001b[0m\u001b[1;36m1\u001b[0m\u001b[1;33m,\u001b[0m\u001b[1;33m)\u001b[0m \u001b[1;33m*\u001b[0m \u001b[0ma\u001b[0m\u001b[1;33m.\u001b[0m\u001b[0mndim\u001b[0m\u001b[1;33m\u001b[0m\u001b[1;33m\u001b[0m\u001b[0m\n\u001b[0;32m   3249\u001b[0m \u001b[1;33m\u001b[0m\u001b[0m\n\u001b[1;32m-> 3250\u001b[1;33m     \u001b[0mr\u001b[0m \u001b[1;33m=\u001b[0m \u001b[0mfunc\u001b[0m\u001b[1;33m(\u001b[0m\u001b[0ma\u001b[0m\u001b[1;33m,\u001b[0m \u001b[1;33m**\u001b[0m\u001b[0mkwargs\u001b[0m\u001b[1;33m)\u001b[0m\u001b[1;33m\u001b[0m\u001b[1;33m\u001b[0m\u001b[0m\n\u001b[0m\u001b[0;32m   3251\u001b[0m     \u001b[1;32mreturn\u001b[0m \u001b[0mr\u001b[0m\u001b[1;33m,\u001b[0m \u001b[0mkeepdim\u001b[0m\u001b[1;33m\u001b[0m\u001b[1;33m\u001b[0m\u001b[0m\n\u001b[0;32m   3252\u001b[0m \u001b[1;33m\u001b[0m\u001b[0m\n",
      "\u001b[1;32m~\\.conda\\envs\\TensorFlow-GPU-Keras\\lib\\site-packages\\numpy\\lib\\function_base.py\u001b[0m in \u001b[0;36m_median\u001b[1;34m(a, axis, out, overwrite_input)\u001b[0m\n\u001b[0;32m   3367\u001b[0m             \u001b[0mpart\u001b[0m \u001b[1;33m=\u001b[0m \u001b[0ma\u001b[0m\u001b[1;33m\u001b[0m\u001b[1;33m\u001b[0m\u001b[0m\n\u001b[0;32m   3368\u001b[0m     \u001b[1;32melse\u001b[0m\u001b[1;33m:\u001b[0m\u001b[1;33m\u001b[0m\u001b[1;33m\u001b[0m\u001b[0m\n\u001b[1;32m-> 3369\u001b[1;33m         \u001b[0mpart\u001b[0m \u001b[1;33m=\u001b[0m \u001b[0mpartition\u001b[0m\u001b[1;33m(\u001b[0m\u001b[0ma\u001b[0m\u001b[1;33m,\u001b[0m \u001b[0mkth\u001b[0m\u001b[1;33m,\u001b[0m \u001b[0maxis\u001b[0m\u001b[1;33m=\u001b[0m\u001b[0maxis\u001b[0m\u001b[1;33m)\u001b[0m\u001b[1;33m\u001b[0m\u001b[1;33m\u001b[0m\u001b[0m\n\u001b[0m\u001b[0;32m   3370\u001b[0m \u001b[1;33m\u001b[0m\u001b[0m\n\u001b[0;32m   3371\u001b[0m     \u001b[1;32mif\u001b[0m \u001b[0mpart\u001b[0m\u001b[1;33m.\u001b[0m\u001b[0mshape\u001b[0m \u001b[1;33m==\u001b[0m \u001b[1;33m(\u001b[0m\u001b[1;33m)\u001b[0m\u001b[1;33m:\u001b[0m\u001b[1;33m\u001b[0m\u001b[1;33m\u001b[0m\u001b[0m\n",
      "\u001b[1;32m~\\.conda\\envs\\TensorFlow-GPU-Keras\\lib\\site-packages\\numpy\\core\\fromnumeric.py\u001b[0m in \u001b[0;36mpartition\u001b[1;34m(a, kth, axis, kind, order)\u001b[0m\n\u001b[0;32m    686\u001b[0m     \u001b[1;32melse\u001b[0m\u001b[1;33m:\u001b[0m\u001b[1;33m\u001b[0m\u001b[1;33m\u001b[0m\u001b[0m\n\u001b[0;32m    687\u001b[0m         \u001b[0ma\u001b[0m \u001b[1;33m=\u001b[0m \u001b[0masanyarray\u001b[0m\u001b[1;33m(\u001b[0m\u001b[0ma\u001b[0m\u001b[1;33m)\u001b[0m\u001b[1;33m.\u001b[0m\u001b[0mcopy\u001b[0m\u001b[1;33m(\u001b[0m\u001b[0morder\u001b[0m\u001b[1;33m=\u001b[0m\u001b[1;34m\"K\"\u001b[0m\u001b[1;33m)\u001b[0m\u001b[1;33m\u001b[0m\u001b[1;33m\u001b[0m\u001b[0m\n\u001b[1;32m--> 688\u001b[1;33m     \u001b[0ma\u001b[0m\u001b[1;33m.\u001b[0m\u001b[0mpartition\u001b[0m\u001b[1;33m(\u001b[0m\u001b[0mkth\u001b[0m\u001b[1;33m,\u001b[0m \u001b[0maxis\u001b[0m\u001b[1;33m=\u001b[0m\u001b[0maxis\u001b[0m\u001b[1;33m,\u001b[0m \u001b[0mkind\u001b[0m\u001b[1;33m=\u001b[0m\u001b[0mkind\u001b[0m\u001b[1;33m,\u001b[0m \u001b[0morder\u001b[0m\u001b[1;33m=\u001b[0m\u001b[0morder\u001b[0m\u001b[1;33m)\u001b[0m\u001b[1;33m\u001b[0m\u001b[1;33m\u001b[0m\u001b[0m\n\u001b[0m\u001b[0;32m    689\u001b[0m     \u001b[1;32mreturn\u001b[0m \u001b[0ma\u001b[0m\u001b[1;33m\u001b[0m\u001b[1;33m\u001b[0m\u001b[0m\n\u001b[0;32m    690\u001b[0m \u001b[1;33m\u001b[0m\u001b[0m\n",
      "\u001b[1;31mKeyboardInterrupt\u001b[0m: "
     ]
    }
   ],
   "source": [
    "model = Sequential()\n",
    "model.add(Dense(30, activation='relu', input_dim=94))\n",
    "model.add(Dense(40, activation='relu'))\n",
    "model.add(Dense(30, activation='relu'))\n",
    "model.add(Dense(1, activation='linear'))\n",
    "model.compile(loss='mae',optimizer='sgd',metrics=['mae', 'acc'],)\n",
    "#model.compile(loss='mae', optimizer='adam')\n",
    "\n",
    "model.fit(X_train_scaled, y_train, epochs=100, batch_size=10)"
   ]
  },
  {
   "cell_type": "code",
   "execution_count": 21,
   "metadata": {
    "ExecuteTime": {
     "end_time": "2019-03-27T16:52:18.084509Z",
     "start_time": "2019-03-27T16:52:18.066461Z"
    }
   },
   "outputs": [
    {
     "name": "stderr",
     "output_type": "stream",
     "text": [
      "C:\\Users\\taacodo4\\AppData\\Local\\Continuum\\anaconda3\\envs\\deeplearning\\lib\\site-packages\\ipykernel_launcher.py:1: DataConversionWarning: Data with input dtype int64, float64 were all converted to float64 by StandardScaler.\n",
      "  \"\"\"Entry point for launching an IPython kernel.\n"
     ]
    }
   ],
   "source": [
    "X_test_scaled=scaler.transform(X_test)"
   ]
  },
  {
   "cell_type": "code",
   "execution_count": 22,
   "metadata": {
    "ExecuteTime": {
     "end_time": "2019-03-27T16:52:36.715713Z",
     "start_time": "2019-03-27T16:52:36.709694Z"
    }
   },
   "outputs": [
    {
     "name": "stdout",
     "output_type": "stream",
     "text": [
      "_________________________________________________________________\n",
      "Layer (type)                 Output Shape              Param #   \n",
      "=================================================================\n",
      "dense_17 (Dense)             (None, 30)                2850      \n",
      "_________________________________________________________________\n",
      "dense_18 (Dense)             (None, 40)                1240      \n",
      "_________________________________________________________________\n",
      "dense_19 (Dense)             (None, 30)                1230      \n",
      "_________________________________________________________________\n",
      "dense_20 (Dense)             (None, 1)                 31        \n",
      "=================================================================\n",
      "Total params: 5,351\n",
      "Trainable params: 5,351\n",
      "Non-trainable params: 0\n",
      "_________________________________________________________________\n"
     ]
    }
   ],
   "source": [
    "model.summary()"
   ]
  },
  {
   "cell_type": "code",
   "execution_count": 23,
   "metadata": {
    "ExecuteTime": {
     "end_time": "2019-03-27T16:52:40.574655Z",
     "start_time": "2019-03-27T16:52:40.427722Z"
    }
   },
   "outputs": [
    {
     "name": "stdout",
     "output_type": "stream",
     "text": [
      "\n",
      "Model Report\n",
      "<bound method Network.summary of <keras.engine.sequential.Sequential object at 0x00000123187E60F0>>\n",
      "MAE train data: 1.774\n"
     ]
    }
   ],
   "source": [
    "prediction=model.predict(X_test_scaled)\n",
    "#Print model report:\n",
    "print(\"\\nModel Report\")\n",
    "print(model.summary)\n",
    "print(\"MAE train data: %.4g\" % mean_absolute_error(y_test, prediction))"
   ]
  }
 ],
 "metadata": {
  "kernelspec": {
   "display_name": "Python 3",
   "language": "python",
   "name": "python3"
  },
  "language_info": {
   "codemirror_mode": {
    "name": "ipython",
    "version": 3
   },
   "file_extension": ".py",
   "mimetype": "text/x-python",
   "name": "python",
   "nbconvert_exporter": "python",
   "pygments_lexer": "ipython3",
   "version": "3.7.2"
  },
  "toc": {
   "base_numbering": 1,
   "nav_menu": {
    "height": "347.003px",
    "width": "275.994px"
   },
   "number_sections": true,
   "sideBar": true,
   "skip_h1_title": false,
   "title_cell": "Table of Contents",
   "title_sidebar": "Contents",
   "toc_cell": false,
   "toc_position": {},
   "toc_section_display": true,
   "toc_window_display": true
  }
 },
 "nbformat": 4,
 "nbformat_minor": 2
}
