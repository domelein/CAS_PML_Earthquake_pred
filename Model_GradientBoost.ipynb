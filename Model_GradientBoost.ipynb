{
 "cells": [
  {
   "cell_type": "markdown",
   "metadata": {},
   "source": [
    "# Gradient Boost Model"
   ]
  },
  {
   "cell_type": "markdown",
   "metadata": {},
   "source": [
    "\n",
    "## Einleitung\n",
    "\n",
    "boosting controls both the aspects (bias & variance). It combines a set of weak learners and delivers improved prediction accuracy.\n",
    "\n",
    "The overall parameters can be divided into 3 categories:\n",
    "\n",
    "  -  Tree-Specific Parameters: These affect each individual tree in the model.\n",
    "  -  Boosting Parameters: These affect the boosting operation in the model.\n",
    "  -  Miscellaneous Parameters: Other parameters for overall functioning.\n",
    "  \n",
    "  \n",
    "  Quelle:\n",
    "https://www.analyticsvidhya.com/blog/2016/02/complete-guide-parameter-tuning-gradient-boosting-gbm-python/https://www.analyticsvidhya.com/blog/2016/02/complete-guide-parameter-tuning-gradient-boosting-gbm-python/"
   ]
  },
  {
   "cell_type": "code",
   "execution_count": 3,
   "metadata": {
    "ExecuteTime": {
     "end_time": "2019-03-27T15:02:50.743566Z",
     "start_time": "2019-03-27T15:02:50.736584Z"
    }
   },
   "outputs": [],
   "source": [
    "import pandas as pd\n",
    "import numpy as np\n",
    "#data visualization\n",
    "import matplotlib.pyplot as plt\n",
    "import librosa\n",
    "from sklearn.model_selection import train_test_split\n",
    "\n",
    "from scipy.stats import kurtosis\n",
    "from scipy.stats import skew\n",
    "\n",
    "pd.options.display.precision = 10"
   ]
  },
  {
   "cell_type": "markdown",
   "metadata": {},
   "source": [
    "## Umgebungsvariablen"
   ]
  },
  {
   "cell_type": "code",
   "execution_count": 4,
   "metadata": {
    "ExecuteTime": {
     "end_time": "2019-03-27T15:02:52.069946Z",
     "start_time": "2019-03-27T15:02:52.063963Z"
    }
   },
   "outputs": [],
   "source": [
    "#feature generated 24.03.2019\n",
    "earthquake_daten = '''C:/studium/studium/CAS_PML/Projekt_Arbeit/earthquake/Daten/earthquake_data/'''\n",
    "feature_62900_94 = 'Features_62900-94.csv'\n",
    "feature_41934_94 = 'Features_41934_94.csv'\n",
    "Features_4194_94 = 'Features_4194_94.csv'"
   ]
  },
  {
   "cell_type": "markdown",
   "metadata": {},
   "source": [
    "# Feature laden"
   ]
  },
  {
   "cell_type": "code",
   "execution_count": 5,
   "metadata": {
    "ExecuteTime": {
     "end_time": "2019-03-27T15:02:54.721612Z",
     "start_time": "2019-03-27T15:02:53.742958Z"
    }
   },
   "outputs": [],
   "source": [
    "train_data = pd.read_csv(earthquake_daten+feature_41934_94)"
   ]
  },
  {
   "cell_type": "code",
   "execution_count": 6,
   "metadata": {
    "ExecuteTime": {
     "end_time": "2019-03-27T15:02:54.744528Z",
     "start_time": "2019-03-27T15:02:54.723765Z"
    }
   },
   "outputs": [],
   "source": [
    "feature_data = train_data.iloc[:,1:95]\n",
    "time_to_failure = np.array(train_data.iloc[:,-1])"
   ]
  },
  {
   "cell_type": "markdown",
   "metadata": {},
   "source": [
    "## Feature Filtern"
   ]
  },
  {
   "cell_type": "code",
   "execution_count": 22,
   "metadata": {
    "ExecuteTime": {
     "end_time": "2019-03-22T18:33:35.990282Z",
     "start_time": "2019-03-22T18:33:35.953381Z"
    }
   },
   "outputs": [],
   "source": [
    "items_to_filter = ['']"
   ]
  },
  {
   "cell_type": "code",
   "execution_count": 23,
   "metadata": {},
   "outputs": [],
   "source": [
    "filtered_feature_data = feature_data.filter(items=items_to_filter)"
   ]
  },
  {
   "cell_type": "code",
   "execution_count": 24,
   "metadata": {},
   "outputs": [],
   "source": [
    "feature_data = filtered_feature_data"
   ]
  },
  {
   "cell_type": "markdown",
   "metadata": {},
   "source": [
    "## Training / Testdaten vorbereiten"
   ]
  },
  {
   "cell_type": "code",
   "execution_count": 41,
   "metadata": {},
   "outputs": [],
   "source": [
    "X_train, X_test, y_train, y_test = train_test_split(\n",
    "    feature_data,\n",
    "    time_to_failure,\n",
    "    random_state=0,\n",
    "    test_size=0.25)"
   ]
  },
  {
   "cell_type": "markdown",
   "metadata": {},
   "source": [
    "# Model Workbench"
   ]
  },
  {
   "cell_type": "markdown",
   "metadata": {},
   "source": [
    "## Imports"
   ]
  },
  {
   "cell_type": "code",
   "execution_count": 7,
   "metadata": {
    "ExecuteTime": {
     "end_time": "2019-03-27T15:02:59.704412Z",
     "start_time": "2019-03-27T15:02:58.591386Z"
    }
   },
   "outputs": [],
   "source": [
    "# Scaler\n",
    "\n",
    "\n",
    "# Model selection\n",
    "from sklearn.pipeline import Pipeline\n",
    "from sklearn.model_selection import GridSearchCV\n",
    "from sklearn.model_selection import cross_val_score\n",
    "from sklearn.metrics import mean_absolute_error\n",
    "from sklearn.model_selection import train_test_split\n",
    "from sklearn.preprocessing import PolynomialFeatures\n",
    "\n",
    "# Modell\n",
    "from sklearn.ensemble import GradientBoostingRegressor\n",
    "from catboost import CatBoostRegressor, Pool\n",
    "from sklearn.ensemble import RandomForestRegressor\n",
    "from sklearn.svm import SVR"
   ]
  },
  {
   "cell_type": "markdown",
   "metadata": {},
   "source": [
    "Quelle: https://www.analyticsvidhya.com/blog/2016/02/complete-guide-parameter-tuning-gradient-boosting-gbm-python/"
   ]
  },
  {
   "cell_type": "code",
   "execution_count": 8,
   "metadata": {
    "ExecuteTime": {
     "end_time": "2019-03-27T15:03:01.083728Z",
     "start_time": "2019-03-27T15:03:01.079739Z"
    }
   },
   "outputs": [],
   "source": [
    "def getMostImportendFeatuers(feat_imp, topAmount):\n",
    "    '''Gibt die wichtigsten Features zurück. Wird benötigt, um die Trainingsdaten und Testdaten \n",
    "    anhand Featuers zu filtern.'''\n",
    "    i = 0\n",
    "    featureFilter = list()\n",
    "    for feature in feat_imp:\n",
    "        featureFilter.append(feature)\n",
    "        i +=1\n",
    "        if i >= topAmount:\n",
    "            break\n",
    "    return featureFilter"
   ]
  },
  {
   "cell_type": "code",
   "execution_count": 11,
   "metadata": {
    "ExecuteTime": {
     "end_time": "2019-03-27T15:05:41.086168Z",
     "start_time": "2019-03-27T15:05:41.080448Z"
    }
   },
   "outputs": [],
   "source": [
    "def modelfit(alg, dtrain, time_to_failure, performCV=True, printFeatureImportance=True, cv_folds=5):\n",
    "    #Fit the algorithm on the data\n",
    "    alg.fit(dtrain, time_to_failure)\n",
    "      \n",
    "    #Predict training set:\n",
    "    dtrain_predictions = alg.predict(dtrain)\n",
    "\n",
    "    #Perform cross-validation:\n",
    "    if performCV:\n",
    "        cv_score = cross_val_score(alg, dtrain, time_to_failure, cv=cv_folds, scoring='neg_mean_absolute_error',n_jobs=-1)\n",
    "    \n",
    "    #Print model report:\n",
    "    print(\"\\nModel Report\")\n",
    "    print(\"MAE train data: %.4g\" % mean_absolute_error(time_to_failure, dtrain_predictions)) \n",
    "    \n",
    "    if performCV:\n",
    "        print(\"CV Score MAE: \\nMean %.7g \\nStd %.7g \\nMin %.7g \\nMax %.7g\" % (np.mean(cv_score),np.std(cv_score),np.min(cv_score),np.max(cv_score)))\n",
    "    \n",
    "    #Print Feature Importance:\n",
    "    if printFeatureImportance:\n",
    "        feat_imp = pd.Series(alg.feature_importances_, dtrain.columns).sort_values(ascending=False)\n",
    "        feat_imp.plot(kind='bar', title='Feature Importances',figsize=(15,10))\n",
    "        plt.ylabel('Feature Importance Score')\n",
    "        plt.show()\n",
    "        print('Top 30 Feature')\n",
    "        print(getMostImportendFeatuers(feat_imp.index,30))"
   ]
  },
  {
   "cell_type": "markdown",
   "metadata": {},
   "source": [
    "# Baseline"
   ]
  },
  {
   "cell_type": "code",
   "execution_count": 12,
   "metadata": {
    "ExecuteTime": {
     "end_time": "2019-03-27T15:07:26.662795Z",
     "start_time": "2019-03-27T15:06:27.791817Z"
    }
   },
   "outputs": [
    {
     "name": "stdout",
     "output_type": "stream",
     "text": [
      "\n",
      "Model Report\n",
      "MAE train data: 1.962\n",
      "CV Score MAE: \n",
      "Mean -2.190147 \n",
      "Std 0.4668447 \n",
      "Min -2.628976 \n",
      "Max -1.326725\n"
     ]
    },
    {
     "data": {
      "image/png": "[encoded data removed]",
      "text/plain": [
       "<Figure size 1080x720 with 1 Axes>"
      ]
     },
     "metadata": {
      "needs_background": "light"
     },
     "output_type": "display_data"
    },
    {
     "name": "stdout",
     "output_type": "stream",
     "text": [
      "Top 30 Feature\n",
      "['spec_cent_75%q', 'rolloff_75%q', 'spec_cent_95%q', 'zero_crossings', 'spec_bw_75%q', 'spec_bw_25%q', 'spec_cent_skew', 'mean', 'skew', 'min', 'psd_skew', 'spec_bw_min', 'spec_bw_skew', 'spec_cent_std', 'absMean', 'spec_cent_absStd', 'absMax', 'psd_kurt', 'rolloff_25%q', 'rolloff_max', 'rolloff_99%q', 'spec_cent_5%q', 'spec_cent_99%q', 'chroma_stft_mean', 'spec_cent_min', 'chroma_stft_skew', 'psd_max', 'spec_cent_absMax', 'spec_cent_25%q', 'rolloff_min']\n"
     ]
    }
   ],
   "source": [
    "gbm0 = GradientBoostingRegressor(random_state=10)\n",
    "modelfit(gbm0, feature_data, time_to_failure)"
   ]
  },
  {
   "cell_type": "markdown",
   "metadata": {},
   "source": [
    "# Parameter Tuning"
   ]
  },
  {
   "cell_type": "markdown",
   "metadata": {},
   "source": [
    " Tune tree based and boosting parameters"
   ]
  },
  {
   "cell_type": "markdown",
   "metadata": {},
   "source": [
    "## Tree based parameter"
   ]
  },
  {
   "cell_type": "markdown",
   "metadata": {},
   "source": [
    "Fix learning rate and number of estimators for tuning tree-based parameters"
   ]
  },
  {
   "cell_type": "markdown",
   "metadata": {},
   "source": [
    "### Determine the optimum number of trees for fix learning rate 0.1"
   ]
  },
  {
   "cell_type": "code",
   "execution_count": 93,
   "metadata": {},
   "outputs": [],
   "source": [
    "param_test1 = {'n_estimators':range(20,81,10)}"
   ]
  },
  {
   "cell_type": "markdown",
   "metadata": {},
   "source": [
    "Fix learning rate and number of estimators for tuning tree-based parameters\n",
    "In order to decide on boosting parameters, we need to set some initial values of other parameters. Lets take the following values:\n",
    "\n",
    "min_samples_split = 500 : This should be ~0.5-1% of total values. Since this is imbalanced class problem, we’ll take a small value from the range.\n",
    "min_samples_leaf = 50 : Can be selected based on intuition. This is just used for preventing overfitting and again a small value because of imbalanced classes.\n",
    "max_depth = 8 : Should be chosen (5-8) based on the number of observations and predictors. This has 87K rows and 49 columns so lets take 8 here.\n",
    "max_features = ‘sqrt’ : Its a general thumb-rule to start with square root.\n",
    "subsample = 0.8 : This is a commonly used used start value"
   ]
  },
  {
   "cell_type": "code",
   "execution_count": 94,
   "metadata": {},
   "outputs": [
    {
     "data": {
      "text/plain": [
       "GridSearchCV(cv=5, error_score='raise-deprecating',\n",
       "       estimator=GradientBoostingRegressor(alpha=0.9, criterion='friedman_mse', init=None,\n",
       "             learning_rate=0.1, loss='ls', max_depth=8,\n",
       "             max_features='sqrt', max_leaf_nodes=None,\n",
       "             min_impurity_decrease=0.0, min_impurity_split=None,\n",
       "             min_samples_leaf=50, min_sa...       subsample=0.8, tol=0.0001, validation_fraction=0.1, verbose=0,\n",
       "             warm_start=False),\n",
       "       fit_params=None, iid=False, n_jobs=-1,\n",
       "       param_grid={'n_estimators': range(20, 81, 10)},\n",
       "       pre_dispatch='2*n_jobs', refit=True, return_train_score='warn',\n",
       "       scoring='neg_mean_absolute_error', verbose=0)"
      ]
     },
     "execution_count": 94,
     "metadata": {},
     "output_type": "execute_result"
    }
   ],
   "source": [
    "min_samples_split = int(filtered_feature_data.shape[0]*0.008)\n",
    "\n",
    "estimator = GradientBoostingRegressor(\n",
    "            learning_rate=0.1, \n",
    "            min_samples_split=500,\n",
    "            min_samples_leaf=50,\n",
    "            max_depth=8,\n",
    "            max_features='sqrt',\n",
    "            subsample=0.8,\n",
    "            random_state=10)\n",
    "\n",
    "gsearch1 = GridSearchCV(\n",
    "    estimator = estimator,\n",
    "    param_grid = param_test1, \n",
    "    scoring='neg_mean_absolute_error',\n",
    "    iid=False,\n",
    "    n_jobs=-1,\n",
    "    cv=5)\n",
    "                        \n",
    "gsearch1.fit(feature_data,time_to_failure)"
   ]
  },
  {
   "cell_type": "code",
   "execution_count": 95,
   "metadata": {},
   "outputs": [
    {
     "name": "stdout",
     "output_type": "stream",
     "text": [
      "Best params {'n_estimators': 30}\n",
      "Best MAE score: -2.1959848493751033\n"
     ]
    }
   ],
   "source": [
    "print('Best params {}'.format(gsearch1.best_params_))\n",
    "print('Best MAE score: {}'.format(gsearch1.best_score_))"
   ]
  },
  {
   "cell_type": "code",
   "execution_count": null,
   "metadata": {},
   "outputs": [],
   "source": []
  }
 ],
 "metadata": {
  "kernelspec": {
   "display_name": "Python 3",
   "language": "python",
   "name": "python3"
  },
  "language_info": {
   "codemirror_mode": {
    "name": "ipython",
    "version": 3
   },
   "file_extension": ".py",
   "mimetype": "text/x-python",
   "name": "python",
   "nbconvert_exporter": "python",
   "pygments_lexer": "ipython3",
   "version": "3.6.8"
  },
  "toc": {
   "base_numbering": 1,
   "nav_menu": {},
   "number_sections": true,
   "sideBar": true,
   "skip_h1_title": false,
   "title_cell": "Table of Contents",
   "title_sidebar": "Contents",
   "toc_cell": false,
   "toc_position": {
    "height": "calc(100% - 180px)",
    "left": "10px",
    "top": "150px",
    "width": "349.091px"
   },
   "toc_section_display": true,
   "toc_window_display": true
  }
 },
 "nbformat": 4,
 "nbformat_minor": 2
}
