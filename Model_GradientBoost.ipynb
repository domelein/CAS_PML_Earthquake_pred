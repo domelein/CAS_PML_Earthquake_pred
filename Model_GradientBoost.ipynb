{
 "cells": [
  {
   "cell_type": "markdown",
   "metadata": {},
   "source": [
    "# Gradient Boost Machine"
   ]
  },
  {
   "cell_type": "markdown",
   "metadata": {},
   "source": [
    "\n",
    "## Einleitung\n",
    "\n",
    "boosting controls both the aspects (bias & variance). It combines a set of weak learners and delivers improved prediction accuracy.\n",
    "\n",
    "The overall parameters can be divided into 3 categories:\n",
    "\n",
    "  -  Tree-Specific Parameters: These affect each individual tree in the model.\n",
    "  -  Boosting Parameters: These affect the boosting operation in the model.\n",
    "  -  Miscellaneous Parameters: Other parameters for overall functioning.\n",
    "  \n",
    "  \n",
    "  Quelle:\n",
    "https://www.analyticsvidhya.com/blog/2016/02/complete-guide-parameter-tuning-gradient-boosting-gbm-python/https://www.analyticsvidhya.com/blog/2016/02/complete-guide-parameter-tuning-gradient-boosting-gbm-python/"
   ]
  },
  {
   "cell_type": "code",
   "execution_count": 14,
   "metadata": {
    "ExecuteTime": {
     "end_time": "2019-03-31T13:40:28.915461Z",
     "start_time": "2019-03-31T13:40:28.852570Z"
    }
   },
   "outputs": [],
   "source": [
    "import pandas as pd\n",
    "import numpy as np\n",
    "#data visualization\n",
    "import matplotlib.pyplot as plt\n",
    "import librosa\n",
    "from sklearn.model_selection import train_test_split\n",
    "\n",
    "from scipy.stats import kurtosis\n",
    "from scipy.stats import skew\n",
    "\n",
    "from sklearn.utils import shuffle\n",
    "\n",
    "import seaborn as sns\n",
    "\n",
    "%matplotlib inline\n",
    "\n",
    "\n",
    "pd.options.display.precision = 10"
   ]
  },
  {
   "cell_type": "markdown",
   "metadata": {},
   "source": [
    "## Umgebungsvariablen"
   ]
  },
  {
   "cell_type": "code",
   "execution_count": 3,
   "metadata": {
    "ExecuteTime": {
     "end_time": "2019-03-31T13:36:32.729592Z",
     "start_time": "2019-03-31T13:36:32.726288Z"
    }
   },
   "outputs": [],
   "source": [
    "#feature generated 24.03.2019\n",
    "earthquake_daten = '''C:/studium/studium/CAS_PML/Projekt_Arbeit/earthquake/Daten/earthquake_data/'''\n",
    "feature_62900_94 = 'Features_62900-94.csv'\n",
    "feature_41934_94 = 'Features_41934_94.csv'\n",
    "Features_4194_94 = 'Features_4194_94.csv'"
   ]
  },
  {
   "cell_type": "markdown",
   "metadata": {},
   "source": [
    "# Feature laden"
   ]
  },
  {
   "cell_type": "code",
   "execution_count": 4,
   "metadata": {
    "ExecuteTime": {
     "end_time": "2019-03-31T13:36:44.677543Z",
     "start_time": "2019-03-31T13:36:43.907572Z"
    }
   },
   "outputs": [],
   "source": [
    "train_data = pd.read_csv(earthquake_daten+feature_41934_94)\n",
    "train_data = shuffle(train_data, random_state=10)"
   ]
  },
  {
   "cell_type": "code",
   "execution_count": 5,
   "metadata": {
    "ExecuteTime": {
     "end_time": "2019-03-31T13:36:45.083925Z",
     "start_time": "2019-03-31T13:36:45.067250Z"
    }
   },
   "outputs": [],
   "source": [
    "feature_data = train_data.iloc[:,1:95]\n",
    "time_to_failure = np.array(train_data.iloc[:,-1])"
   ]
  },
  {
   "cell_type": "markdown",
   "metadata": {},
   "source": [
    "## Feature Filtern"
   ]
  },
  {
   "cell_type": "code",
   "execution_count": 22,
   "metadata": {
    "ExecuteTime": {
     "end_time": "2019-03-22T18:33:35.990282Z",
     "start_time": "2019-03-22T18:33:35.953381Z"
    }
   },
   "outputs": [],
   "source": [
    "items_to_filter = ['']"
   ]
  },
  {
   "cell_type": "code",
   "execution_count": 23,
   "metadata": {},
   "outputs": [],
   "source": [
    "filtered_feature_data = feature_data.filter(items=items_to_filter)"
   ]
  },
  {
   "cell_type": "code",
   "execution_count": 24,
   "metadata": {},
   "outputs": [],
   "source": [
    "feature_data = filtered_feature_data"
   ]
  },
  {
   "cell_type": "markdown",
   "metadata": {},
   "source": [
    "# Model Workbench"
   ]
  },
  {
   "cell_type": "markdown",
   "metadata": {},
   "source": [
    "## Imports"
   ]
  },
  {
   "cell_type": "code",
   "execution_count": 6,
   "metadata": {
    "ExecuteTime": {
     "end_time": "2019-03-31T13:36:57.212043Z",
     "start_time": "2019-03-31T13:36:56.154783Z"
    }
   },
   "outputs": [],
   "source": [
    "# Scaler\n",
    "\n",
    "\n",
    "# Model selection\n",
    "from sklearn.pipeline import Pipeline\n",
    "from sklearn.model_selection import GridSearchCV\n",
    "from sklearn.model_selection import cross_val_score\n",
    "from sklearn.metrics import mean_absolute_error\n",
    "from sklearn.model_selection import train_test_split\n",
    "from sklearn.preprocessing import PolynomialFeatures\n",
    "\n",
    "# Modell\n",
    "from sklearn.ensemble import GradientBoostingRegressor\n",
    "from catboost import CatBoostRegressor, Pool\n",
    "from sklearn.ensemble import RandomForestRegressor\n",
    "from sklearn.svm import SVR"
   ]
  },
  {
   "cell_type": "markdown",
   "metadata": {},
   "source": [
    "Quelle: https://www.analyticsvidhya.com/blog/2016/02/complete-guide-parameter-tuning-gradient-boosting-gbm-python/"
   ]
  },
  {
   "cell_type": "code",
   "execution_count": 7,
   "metadata": {
    "ExecuteTime": {
     "end_time": "2019-03-31T13:36:57.217698Z",
     "start_time": "2019-03-31T13:36:57.213652Z"
    }
   },
   "outputs": [],
   "source": [
    "def getMostImportendFeatuers(feat_imp, topAmount):\n",
    "    '''Gibt die wichtigsten Features zurück. Wird benötigt, um die Trainingsdaten und Testdaten \n",
    "    anhand Featuers zu filtern.'''\n",
    "    i = 0\n",
    "    featureFilter = list()\n",
    "    for feature in feat_imp:\n",
    "        featureFilter.append(feature)\n",
    "        i +=1\n",
    "        if i >= topAmount:\n",
    "            break\n",
    "    return featureFilter"
   ]
  },
  {
   "cell_type": "code",
   "execution_count": 8,
   "metadata": {
    "ExecuteTime": {
     "end_time": "2019-03-31T13:36:57.514992Z",
     "start_time": "2019-03-31T13:36:57.508039Z"
    }
   },
   "outputs": [],
   "source": [
    "def modelfit(alg, dtrain, time_to_failure, performCV=True, printFeatureImportance=True, cv_folds=5):\n",
    "    #Fit the algorithm on the data\n",
    "    alg.fit(dtrain, time_to_failure)\n",
    "      \n",
    "    #Predict training set:\n",
    "    dtrain_predictions = alg.predict(dtrain)\n",
    "\n",
    "    #Perform cross-validation:\n",
    "    if performCV:\n",
    "        cv_score = cross_val_score(alg, dtrain, time_to_failure, cv=cv_folds, scoring='neg_mean_absolute_error',n_jobs=-1)\n",
    "    \n",
    "    #Print model report:\n",
    "    print(\"\\nModel Report\")\n",
    "    print(\"MAE train data: %.4g\" % mean_absolute_error(time_to_failure, dtrain_predictions)) \n",
    "    \n",
    "    if performCV:\n",
    "        print(\"CV Score MAE: \\nMean %.7g \\nStd %.7g \\nMin %.7g \\nMax %.7g\" % (np.mean(cv_score),np.std(cv_score),np.min(cv_score),np.max(cv_score)))\n",
    "    \n",
    "    #Print Feature Importance:\n",
    "    if printFeatureImportance:\n",
    "        feat_imp = pd.Series(alg.feature_importances_, dtrain.columns).sort_values(ascending=False)\n",
    "        feat_imp.plot(kind='bar', title='Feature Importances',figsize=(15,10))\n",
    "        plt.ylabel('Feature Importance Score')\n",
    "        plt.show()\n",
    "        print('Top 20 Feature')\n",
    "        print(getMostImportendFeatuers(feat_imp.index,20))"
   ]
  },
  {
   "cell_type": "markdown",
   "metadata": {},
   "source": [
    "# Baseline 94 Features / 41934 rows"
   ]
  },
  {
   "cell_type": "code",
   "execution_count": 9,
   "metadata": {
    "ExecuteTime": {
     "end_time": "2019-03-31T13:37:53.057395Z",
     "start_time": "2019-03-31T13:37:09.938448Z"
    }
   },
   "outputs": [
    {
     "name": "stdout",
     "output_type": "stream",
     "text": [
      "\n",
      "Model Report\n",
      "MAE train data: 1.962\n",
      "CV Score MAE: \n",
      "Mean -1.990055 \n",
      "Std 0.006864405 \n",
      "Min -1.999474 \n",
      "Max -1.979146\n"
     ]
    },
    {
     "data": {
      "image/png": "[encoded data removed]",
      "text/plain": [
       "<Figure size 1080x720 with 1 Axes>"
      ]
     },
     "metadata": {
      "needs_background": "light"
     },
     "output_type": "display_data"
    },
    {
     "name": "stdout",
     "output_type": "stream",
     "text": [
      "Top 20 Feature\n",
      "['spec_cent_75%q', 'rolloff_75%q', 'spec_cent_95%q', 'zero_crossings', 'spec_bw_75%q', 'spec_bw_25%q', 'spec_cent_skew', 'mean', 'skew', 'min', 'psd_skew', 'spec_bw_min', 'spec_bw_skew', 'spec_cent_std', 'absMean', 'spec_cent_absStd', 'absMax', 'psd_kurt', 'rolloff_25%q', 'rolloff_max']\n"
     ]
    }
   ],
   "source": [
    "gbm0 = GradientBoostingRegressor(random_state=10)\n",
    "modelfit(gbm0, feature_data, time_to_failure)"
   ]
  },
  {
   "cell_type": "markdown",
   "metadata": {},
   "source": [
    "# Model with 20 Features"
   ]
  },
  {
   "cell_type": "markdown",
   "metadata": {},
   "source": [
    "## Filter Feature\n",
    "Anhand Feature importence ("
   ]
  },
  {
   "cell_type": "code",
   "execution_count": 10,
   "metadata": {
    "ExecuteTime": {
     "end_time": "2019-03-31T13:38:22.371594Z",
     "start_time": "2019-03-31T13:38:22.364605Z"
    }
   },
   "outputs": [],
   "source": [
    "# Erhalten aus dem Notebook Model_CatBoost_94\n",
    "items_to_filter = ['spec_cent_75%q', 'rolloff_75%q', 'spec_cent_95%q', 'zero_crossings', 'spec_bw_75%q', 'spec_bw_25%q', 'spec_cent_skew', 'mean', 'skew', 'min', 'psd_skew', 'spec_bw_min', 'spec_bw_skew', 'spec_cent_std', 'absMean', 'spec_cent_absStd', 'absMax', 'psd_kurt', 'rolloff_25%q', 'rolloff_max']\n",
    "filtered_feature_data = feature_data.filter(items=items_to_filter)  "
   ]
  },
  {
   "cell_type": "markdown",
   "metadata": {},
   "source": [
    "## Feature Analyse"
   ]
  },
  {
   "cell_type": "code",
   "execution_count": 11,
   "metadata": {
    "ExecuteTime": {
     "end_time": "2019-03-31T13:38:37.107757Z",
     "start_time": "2019-03-31T13:38:37.026938Z"
    }
   },
   "outputs": [
    {
     "data": {
      "text/html": [
       "<div>\n",
       "<style scoped>\n",
       "    .dataframe tbody tr th:only-of-type {\n",
       "        vertical-align: middle;\n",
       "    }\n",
       "\n",
       "    .dataframe tbody tr th {\n",
       "        vertical-align: top;\n",
       "    }\n",
       "\n",
       "    .dataframe thead th {\n",
       "        text-align: right;\n",
       "    }\n",
       "</style>\n",
       "<table border=\"1\" class=\"dataframe\">\n",
       "  <thead>\n",
       "    <tr style=\"text-align: right;\">\n",
       "      <th></th>\n",
       "      <th>spec_cent_75%q</th>\n",
       "      <th>rolloff_75%q</th>\n",
       "      <th>spec_cent_95%q</th>\n",
       "      <th>zero_crossings</th>\n",
       "      <th>spec_bw_75%q</th>\n",
       "      <th>spec_bw_25%q</th>\n",
       "      <th>spec_cent_skew</th>\n",
       "      <th>mean</th>\n",
       "      <th>skew</th>\n",
       "      <th>min</th>\n",
       "      <th>psd_skew</th>\n",
       "      <th>spec_bw_min</th>\n",
       "      <th>spec_bw_skew</th>\n",
       "      <th>spec_cent_std</th>\n",
       "      <th>absMean</th>\n",
       "      <th>spec_cent_absStd</th>\n",
       "      <th>absMax</th>\n",
       "      <th>psd_kurt</th>\n",
       "      <th>rolloff_25%q</th>\n",
       "      <th>rolloff_max</th>\n",
       "    </tr>\n",
       "  </thead>\n",
       "  <tbody>\n",
       "    <tr>\n",
       "      <th>count</th>\n",
       "      <td>41934.0000000000</td>\n",
       "      <td>4.1934000000e+04</td>\n",
       "      <td>41934.0000000000</td>\n",
       "      <td>41934.0000000000</td>\n",
       "      <td>41934.0000000000</td>\n",
       "      <td>41934.0000000000</td>\n",
       "      <td>41934.0000000000</td>\n",
       "      <td>41934.0000000000</td>\n",
       "      <td>41934.0000000000</td>\n",
       "      <td>41934.0000000000</td>\n",
       "      <td>41934.0000000000</td>\n",
       "      <td>41934.0000000000</td>\n",
       "      <td>41934.0000000000</td>\n",
       "      <td>41934.0000000000</td>\n",
       "      <td>41934.0000000000</td>\n",
       "      <td>41934.0000000000</td>\n",
       "      <td>41934.0000000000</td>\n",
       "      <td>41934.0000000000</td>\n",
       "      <td>4.1934000000e+04</td>\n",
       "      <td>4.1934000000e+04</td>\n",
       "    </tr>\n",
       "    <tr>\n",
       "      <th>mean</th>\n",
       "      <td>742387.2523088438</td>\n",
       "      <td>1.4689638778e+06</td>\n",
       "      <td>766501.4226891467</td>\n",
       "      <td>12364.2003386274</td>\n",
       "      <td>578274.0256393899</td>\n",
       "      <td>557027.9247439427</td>\n",
       "      <td>-1.7684765868</td>\n",
       "      <td>4.5194207052</td>\n",
       "      <td>0.1252057914</td>\n",
       "      <td>-149.3662421901</td>\n",
       "      <td>4.3532761010</td>\n",
       "      <td>369580.5488563732</td>\n",
       "      <td>-3.1091462491</td>\n",
       "      <td>84680.0669979103</td>\n",
       "      <td>5.5475340882</td>\n",
       "      <td>84680.0669979103</td>\n",
       "      <td>170.2135260171</td>\n",
       "      <td>21.3592964286</td>\n",
       "      <td>1.3654761519e+06</td>\n",
       "      <td>1.5279052257e+06</td>\n",
       "    </tr>\n",
       "    <tr>\n",
       "      <th>std</th>\n",
       "      <td>20776.6077719682</td>\n",
       "      <td>2.0638896524e+04</td>\n",
       "      <td>12738.7647896970</td>\n",
       "      <td>2350.7020123311</td>\n",
       "      <td>3704.6218152966</td>\n",
       "      <td>15881.1905858769</td>\n",
       "      <td>0.6537748001</td>\n",
       "      <td>0.2561034062</td>\n",
       "      <td>0.4860815241</td>\n",
       "      <td>266.0096389602</td>\n",
       "      <td>0.6992302210</td>\n",
       "      <td>61468.9499724829</td>\n",
       "      <td>0.9061073529</td>\n",
       "      <td>17685.2075445529</td>\n",
       "      <td>1.5159142190</td>\n",
       "      <td>17685.2075445529</td>\n",
       "      <td>297.8494453362</td>\n",
       "      <td>7.5717075103</td>\n",
       "      <td>7.7640648481e+04</td>\n",
       "      <td>1.3003077356e+04</td>\n",
       "    </tr>\n",
       "    <tr>\n",
       "      <th>min</th>\n",
       "      <td>539282.7949792275</td>\n",
       "      <td>1.1894531250e+06</td>\n",
       "      <td>647020.8741038998</td>\n",
       "      <td>5124.0000000000</td>\n",
       "      <td>517037.1742718818</td>\n",
       "      <td>359230.6531110291</td>\n",
       "      <td>-6.3139636437</td>\n",
       "      <td>3.5550933333</td>\n",
       "      <td>-5.5187945968</td>\n",
       "      <td>-5515.0000000000</td>\n",
       "      <td>1.8558664322</td>\n",
       "      <td>113489.2027425448</td>\n",
       "      <td>-8.7072632508</td>\n",
       "      <td>24103.5421957797</td>\n",
       "      <td>4.1009866667</td>\n",
       "      <td>24103.5421957797</td>\n",
       "      <td>23.0000000000</td>\n",
       "      <td>3.9797691222</td>\n",
       "      <td>4.5117187500e+05</td>\n",
       "      <td>1.4453125000e+06</td>\n",
       "    </tr>\n",
       "    <tr>\n",
       "      <th>25%</th>\n",
       "      <td>728775.4999623451</td>\n",
       "      <td>1.4550781250e+06</td>\n",
       "      <td>757997.6752581031</td>\n",
       "      <td>10627.0000000000</td>\n",
       "      <td>576065.4411271894</td>\n",
       "      <td>549252.2569360731</td>\n",
       "      <td>-2.1248839140</td>\n",
       "      <td>4.3517900000</td>\n",
       "      <td>-0.0386432786</td>\n",
       "      <td>-155.0000000000</td>\n",
       "      <td>3.8615123630</td>\n",
       "      <td>333638.5920621625</td>\n",
       "      <td>-3.5548990084</td>\n",
       "      <td>73311.8920516433</td>\n",
       "      <td>5.0598266667</td>\n",
       "      <td>73311.8920516433</td>\n",
       "      <td>93.0000000000</td>\n",
       "      <td>15.8853275321</td>\n",
       "      <td>1.3242187500e+06</td>\n",
       "      <td>1.5195312500e+06</td>\n",
       "    </tr>\n",
       "    <tr>\n",
       "      <th>50%</th>\n",
       "      <td>742654.9275670950</td>\n",
       "      <td>1.4687500000e+06</td>\n",
       "      <td>766364.8596778678</td>\n",
       "      <td>12508.0000000000</td>\n",
       "      <td>578318.5132638491</td>\n",
       "      <td>558842.0486257107</td>\n",
       "      <td>-1.5966534869</td>\n",
       "      <td>4.5227633333</td>\n",
       "      <td>0.0862328996</td>\n",
       "      <td>-110.0000000000</td>\n",
       "      <td>4.2880156040</td>\n",
       "      <td>371274.4264139568</td>\n",
       "      <td>-2.9292740624</td>\n",
       "      <td>86503.1387702648</td>\n",
       "      <td>5.3774700000</td>\n",
       "      <td>86503.1387702648</td>\n",
       "      <td>127.0000000000</td>\n",
       "      <td>20.3492070936</td>\n",
       "      <td>1.3671875000e+06</td>\n",
       "      <td>1.5273437500e+06</td>\n",
       "    </tr>\n",
       "    <tr>\n",
       "      <th>75%</th>\n",
       "      <td>758660.7690201603</td>\n",
       "      <td>1.4843750000e+06</td>\n",
       "      <td>775932.4720382815</td>\n",
       "      <td>14132.0000000000</td>\n",
       "      <td>580908.6034652712</td>\n",
       "      <td>568587.5202436801</td>\n",
       "      <td>-1.2990743945</td>\n",
       "      <td>4.6929233333</td>\n",
       "      <td>0.2564331411</td>\n",
       "      <td>-79.0000000000</td>\n",
       "      <td>4.7566037178</td>\n",
       "      <td>410187.1897359705</td>\n",
       "      <td>-2.4763579426</td>\n",
       "      <td>96847.1908938453</td>\n",
       "      <td>5.7577166667</td>\n",
       "      <td>96847.1908938453</td>\n",
       "      <td>175.0000000000</td>\n",
       "      <td>25.4352391253</td>\n",
       "      <td>1.4218750000e+06</td>\n",
       "      <td>1.5371093750e+06</td>\n",
       "    </tr>\n",
       "    <tr>\n",
       "      <th>max</th>\n",
       "      <td>787634.4965454257</td>\n",
       "      <td>1.5097656250e+06</td>\n",
       "      <td>801471.0921077820</td>\n",
       "      <td>19956.0000000000</td>\n",
       "      <td>586966.0075451231</td>\n",
       "      <td>578136.8393907149</td>\n",
       "      <td>0.1351299478</td>\n",
       "      <td>5.4638133333</td>\n",
       "      <td>10.5922843032</td>\n",
       "      <td>-15.0000000000</td>\n",
       "      <td>7.9966616631</td>\n",
       "      <td>552562.8899506893</td>\n",
       "      <td>-0.7233254603</td>\n",
       "      <td>179844.2450618852</td>\n",
       "      <td>33.4719600000</td>\n",
       "      <td>179844.2450618852</td>\n",
       "      <td>5515.0000000000</td>\n",
       "      <td>70.4963456266</td>\n",
       "      <td>1.4765625000e+06</td>\n",
       "      <td>1.5878906250e+06</td>\n",
       "    </tr>\n",
       "  </tbody>\n",
       "</table>\n",
       "</div>"
      ],
      "text/plain": [
       "          spec_cent_75%q      rolloff_75%q     spec_cent_95%q  \\\n",
       "count   41934.0000000000  4.1934000000e+04   41934.0000000000   \n",
       "mean   742387.2523088438  1.4689638778e+06  766501.4226891467   \n",
       "std     20776.6077719682  2.0638896524e+04   12738.7647896970   \n",
       "min    539282.7949792275  1.1894531250e+06  647020.8741038998   \n",
       "25%    728775.4999623451  1.4550781250e+06  757997.6752581031   \n",
       "50%    742654.9275670950  1.4687500000e+06  766364.8596778678   \n",
       "75%    758660.7690201603  1.4843750000e+06  775932.4720382815   \n",
       "max    787634.4965454257  1.5097656250e+06  801471.0921077820   \n",
       "\n",
       "         zero_crossings       spec_bw_75%q       spec_bw_25%q  \\\n",
       "count  41934.0000000000   41934.0000000000   41934.0000000000   \n",
       "mean   12364.2003386274  578274.0256393899  557027.9247439427   \n",
       "std     2350.7020123311    3704.6218152966   15881.1905858769   \n",
       "min     5124.0000000000  517037.1742718818  359230.6531110291   \n",
       "25%    10627.0000000000  576065.4411271894  549252.2569360731   \n",
       "50%    12508.0000000000  578318.5132638491  558842.0486257107   \n",
       "75%    14132.0000000000  580908.6034652712  568587.5202436801   \n",
       "max    19956.0000000000  586966.0075451231  578136.8393907149   \n",
       "\n",
       "         spec_cent_skew              mean              skew               min  \\\n",
       "count  41934.0000000000  41934.0000000000  41934.0000000000  41934.0000000000   \n",
       "mean      -1.7684765868      4.5194207052      0.1252057914   -149.3662421901   \n",
       "std        0.6537748001      0.2561034062      0.4860815241    266.0096389602   \n",
       "min       -6.3139636437      3.5550933333     -5.5187945968  -5515.0000000000   \n",
       "25%       -2.1248839140      4.3517900000     -0.0386432786   -155.0000000000   \n",
       "50%       -1.5966534869      4.5227633333      0.0862328996   -110.0000000000   \n",
       "75%       -1.2990743945      4.6929233333      0.2564331411    -79.0000000000   \n",
       "max        0.1351299478      5.4638133333     10.5922843032    -15.0000000000   \n",
       "\n",
       "               psd_skew        spec_bw_min      spec_bw_skew  \\\n",
       "count  41934.0000000000   41934.0000000000  41934.0000000000   \n",
       "mean       4.3532761010  369580.5488563732     -3.1091462491   \n",
       "std        0.6992302210   61468.9499724829      0.9061073529   \n",
       "min        1.8558664322  113489.2027425448     -8.7072632508   \n",
       "25%        3.8615123630  333638.5920621625     -3.5548990084   \n",
       "50%        4.2880156040  371274.4264139568     -2.9292740624   \n",
       "75%        4.7566037178  410187.1897359705     -2.4763579426   \n",
       "max        7.9966616631  552562.8899506893     -0.7233254603   \n",
       "\n",
       "           spec_cent_std           absMean   spec_cent_absStd  \\\n",
       "count   41934.0000000000  41934.0000000000   41934.0000000000   \n",
       "mean    84680.0669979103      5.5475340882   84680.0669979103   \n",
       "std     17685.2075445529      1.5159142190   17685.2075445529   \n",
       "min     24103.5421957797      4.1009866667   24103.5421957797   \n",
       "25%     73311.8920516433      5.0598266667   73311.8920516433   \n",
       "50%     86503.1387702648      5.3774700000   86503.1387702648   \n",
       "75%     96847.1908938453      5.7577166667   96847.1908938453   \n",
       "max    179844.2450618852     33.4719600000  179844.2450618852   \n",
       "\n",
       "                 absMax          psd_kurt      rolloff_25%q       rolloff_max  \n",
       "count  41934.0000000000  41934.0000000000  4.1934000000e+04  4.1934000000e+04  \n",
       "mean     170.2135260171     21.3592964286  1.3654761519e+06  1.5279052257e+06  \n",
       "std      297.8494453362      7.5717075103  7.7640648481e+04  1.3003077356e+04  \n",
       "min       23.0000000000      3.9797691222  4.5117187500e+05  1.4453125000e+06  \n",
       "25%       93.0000000000     15.8853275321  1.3242187500e+06  1.5195312500e+06  \n",
       "50%      127.0000000000     20.3492070936  1.3671875000e+06  1.5273437500e+06  \n",
       "75%      175.0000000000     25.4352391253  1.4218750000e+06  1.5371093750e+06  \n",
       "max     5515.0000000000     70.4963456266  1.4765625000e+06  1.5878906250e+06  "
      ]
     },
     "execution_count": 11,
     "metadata": {},
     "output_type": "execute_result"
    }
   ],
   "source": [
    "filtered_feature_data.describe()"
   ]
  },
  {
   "cell_type": "markdown",
   "metadata": {},
   "source": [
    "### Verteilung der einzelnen Features"
   ]
  },
  {
   "cell_type": "code",
   "execution_count": 12,
   "metadata": {
    "ExecuteTime": {
     "end_time": "2019-03-31T13:39:27.664448Z",
     "start_time": "2019-03-31T13:39:16.027402Z"
    }
   },
   "outputs": [
    {
     "data": {
      "text/plain": [
       "Text(0.5, 0.98, 'Feature Histogramm')"
      ]
     },
     "execution_count": 12,
     "metadata": {},
     "output_type": "execute_result"
    },
    {
     "data": {
      "image/png": "[encoded data removed]",
      "text/plain": [
       "<Figure size 1296x2016 with 20 Axes>"
      ]
     },
     "metadata": {
      "needs_background": "light"
     },
     "output_type": "display_data"
    }
   ],
   "source": [
    "axes = filtered_feature_data.hist(bins='auto', figsize=(18, 28), layout=(10, 2))\n",
    "plt.suptitle(\"Feature Histogramm\")"
   ]
  },
  {
   "cell_type": "markdown",
   "metadata": {},
   "source": [
    "### Korrelationen zwischen den Features"
   ]
  },
  {
   "cell_type": "code",
   "execution_count": 15,
   "metadata": {
    "ExecuteTime": {
     "end_time": "2019-03-31T13:40:37.117953Z",
     "start_time": "2019-03-31T13:40:36.691093Z"
    }
   },
   "outputs": [
    {
     "data": {
      "text/plain": [
       "<matplotlib.axes._subplots.AxesSubplot at 0x208f04ae3c8>"
      ]
     },
     "execution_count": 15,
     "metadata": {},
     "output_type": "execute_result"
    },
    {
     "data": {
      "image/png": "[encoded data removed]",
      "text/plain": [
       "<Figure size 1440x1080 with 2 Axes>"
      ]
     },
     "metadata": {
      "needs_background": "light"
     },
     "output_type": "display_data"
    }
   ],
   "source": [
    "corr = filtered_feature_data.corr()\n",
    "colormap = sns.diverging_palette(220, 10, as_cmap=True)\n",
    "\n",
    "plt.subplots(figsize=(20,15))\n",
    "sns.heatmap(corr,cmap=colormap)"
   ]
  },
  {
   "cell_type": "markdown",
   "metadata": {},
   "source": [
    "# Parameter Tuning 20 Features 4194 rows"
   ]
  },
  {
   "cell_type": "code",
   "execution_count": 16,
   "metadata": {
    "ExecuteTime": {
     "end_time": "2019-03-31T13:43:32.564069Z",
     "start_time": "2019-03-31T13:43:32.459334Z"
    }
   },
   "outputs": [],
   "source": [
    "train_data = pd.read_csv(earthquake_daten+Features_4194_94)\n",
    "train_data = shuffle(train_data, random_state=10)\n",
    "\n",
    "\n",
    "feature_data = train_data.iloc[:,1:95]\n",
    "time_to_failure_tuning = np.array(train_data.iloc[:,-1])\n",
    "# Erhalten aus dem Notebook Model_CatBoost_94\n",
    "items_to_filter = ['spec_cent_75%q', 'rolloff_75%q', 'spec_cent_95%q', 'zero_crossings', 'spec_bw_75%q', 'spec_bw_25%q', 'spec_cent_skew', 'mean', 'skew', 'min', 'psd_skew', 'spec_bw_min', 'spec_bw_skew', 'spec_cent_std', 'absMean', 'spec_cent_absStd', 'absMax', 'psd_kurt', 'rolloff_25%q', 'rolloff_max']\n",
    "filtered_feature_data_tuning = feature_data.filter(items=items_to_filter) "
   ]
  },
  {
   "cell_type": "markdown",
   "metadata": {},
   "source": [
    "## Baseline 20 Features 4194 rows"
   ]
  },
  {
   "cell_type": "code",
   "execution_count": 17,
   "metadata": {
    "ExecuteTime": {
     "end_time": "2019-03-31T13:44:11.538185Z",
     "start_time": "2019-03-31T13:44:09.146849Z"
    }
   },
   "outputs": [
    {
     "name": "stdout",
     "output_type": "stream",
     "text": [
      "\n",
      "Model Report\n",
      "MAE train data: 1.868\n",
      "CV Score MAE: \n",
      "Mean -2.072287 \n",
      "Std 0.06819201 \n",
      "Min -2.170945 \n",
      "Max -1.981071\n"
     ]
    }
   ],
   "source": [
    "gbm0 = GradientBoostingRegressor(random_state=10, verbose = False)\n",
    "modelfit(gbm0, filtered_feature_data_tuning, time_to_failure_tuning,printFeatureImportance=False)"
   ]
  },
  {
   "cell_type": "markdown",
   "metadata": {},
   "source": [
    " Tune tree based and boosting parameters"
   ]
  },
  {
   "cell_type": "markdown",
   "metadata": {},
   "source": [
    "## Tree based parameter"
   ]
  },
  {
   "cell_type": "markdown",
   "metadata": {},
   "source": [
    "Fix learning rate and number of estimators for tuning tree-based parameters"
   ]
  },
  {
   "cell_type": "markdown",
   "metadata": {},
   "source": [
    "### Determine the optimum number of trees and learning rate arround to tune tree based parameter"
   ]
  },
  {
   "cell_type": "code",
   "execution_count": 21,
   "metadata": {
    "ExecuteTime": {
     "end_time": "2019-03-31T13:45:06.160629Z",
     "start_time": "2019-03-31T13:45:06.156507Z"
    }
   },
   "outputs": [],
   "source": [
    "param_test1 = {'n_estimators':range(40,121,10)}"
   ]
  },
  {
   "cell_type": "markdown",
   "metadata": {},
   "source": [
    "Fix learning rate and number of estimators for tuning tree-based parameters\n",
    "In order to decide on boosting parameters, we need to set some initial values of other parameters. Lets take the following values:\n",
    "\n",
    "min_samples_split = 500 : This should be ~0.5-1% of total values. Since this is imbalanced class problem, we’ll take a small value from the range.\n",
    "min_samples_leaf = 50 : Can be selected based on intuition. This is just used for preventing overfitting and again a small value because of imbalanced classes.\n",
    "max_depth = 8 : Should be chosen (5-8) based on the number of observations and predictors. This has 87K rows and 49 columns so lets take 8 here.\n",
    "max_features = ‘sqrt’ : Its a general thumb-rule to start with square root.\n",
    "subsample = 0.8 : This is a commonly used used start value"
   ]
  },
  {
   "cell_type": "code",
   "execution_count": 22,
   "metadata": {
    "ExecuteTime": {
     "end_time": "2019-03-31T13:45:10.560332Z",
     "start_time": "2019-03-31T13:45:07.962281Z"
    }
   },
   "outputs": [
    {
     "name": "stdout",
     "output_type": "stream",
     "text": [
      "Best params {'n_estimators': 60}\n",
      "Best MAE score: -2.0543926810238062\n"
     ]
    }
   ],
   "source": [
    "min_samples_split = int(feature_data.shape[0]*0.008)\n",
    "\n",
    "estimator = GradientBoostingRegressor(\n",
    "            learning_rate=0.1, \n",
    "            min_samples_split=500,\n",
    "            min_samples_leaf=50,\n",
    "            max_depth=8,\n",
    "            max_features='sqrt',\n",
    "            subsample=0.8,\n",
    "            random_state=10)\n",
    "\n",
    "gsearch1 = GridSearchCV(\n",
    "    estimator = estimator,\n",
    "    param_grid = param_test1, \n",
    "    scoring='neg_mean_absolute_error',\n",
    "    iid=False,\n",
    "    n_jobs=-1,\n",
    "    cv=5)\n",
    "                        \n",
    "gsearch1.fit(filtered_feature_data_tuning,time_to_failure_tuning)\n",
    "\n",
    "print('Best params {}'.format(gsearch1.best_params_))\n",
    "print('Best MAE score: {}'.format(gsearch1.best_score_))"
   ]
  },
  {
   "cell_type": "markdown",
   "metadata": {},
   "source": [
    "learning-rate verringern, damit die Anzahl Bäume steigt"
   ]
  },
  {
   "cell_type": "markdown",
   "metadata": {},
   "source": [
    "### Tuning tree-specific parameters"
   ]
  },
  {
   "cell_type": "code",
   "execution_count": 23,
   "metadata": {
    "ExecuteTime": {
     "end_time": "2019-03-31T13:45:21.685514Z",
     "start_time": "2019-03-31T13:45:21.682763Z"
    }
   },
   "outputs": [],
   "source": [
    "n_estimators = 60\n",
    "learning_rate = 0.1"
   ]
  },
  {
   "cell_type": "markdown",
   "metadata": {},
   "source": [
    "### Tune max_depth and num_samples_split"
   ]
  },
  {
   "cell_type": "code",
   "execution_count": 25,
   "metadata": {
    "ExecuteTime": {
     "end_time": "2019-03-31T13:45:59.122142Z",
     "start_time": "2019-03-31T13:45:44.394940Z"
    },
    "scrolled": true
   },
   "outputs": [
    {
     "name": "stdout",
     "output_type": "stream",
     "text": [
      "Best params {'max_depth': 4, 'min_samples_split': 11}\n",
      "Best MAE score: -2.065517784084633\n"
     ]
    }
   ],
   "source": [
    "param_test2 = {'max_depth':range(2,16,2), 'min_samples_split':range(2,12,1)}\n",
    "\n",
    "gsearch2 = GridSearchCV(\n",
    "    estimator = GradientBoostingRegressor(\n",
    "        learning_rate=learning_rate, \n",
    "        n_estimators=n_estimators, \n",
    "        max_features='sqrt', \n",
    "        subsample=0.8, \n",
    "        random_state=10), \n",
    "    param_grid = param_test2, \n",
    "    scoring='neg_mean_absolute_error',\n",
    "    iid=False,\n",
    "    n_jobs=-1,\n",
    "    cv=5)\n",
    "gsearch2.fit(filtered_feature_data_tuning,time_to_failure_tuning)\n",
    "print('Best params {}'.format(gsearch2.best_params_))\n",
    "print('Best MAE score: {}'.format(gsearch2.best_score_))"
   ]
  },
  {
   "cell_type": "code",
   "execution_count": 26,
   "metadata": {
    "ExecuteTime": {
     "end_time": "2019-03-31T13:47:05.966401Z",
     "start_time": "2019-03-31T13:47:05.962383Z"
    }
   },
   "outputs": [],
   "source": [
    "max_depth = 4\n",
    "min_samples_split = 11"
   ]
  },
  {
   "cell_type": "markdown",
   "metadata": {},
   "source": [
    "Tune min_samples_leaf"
   ]
  },
  {
   "cell_type": "code",
   "execution_count": 28,
   "metadata": {
    "ExecuteTime": {
     "end_time": "2019-03-31T13:47:30.395729Z",
     "start_time": "2019-03-31T13:47:29.706604Z"
    }
   },
   "outputs": [
    {
     "name": "stdout",
     "output_type": "stream",
     "text": [
      "Best params {'min_samples_leaf': 40}\n",
      "Best MAE score: -2.059165059399919\n"
     ]
    }
   ],
   "source": [
    "param_test3 = {'min_samples_leaf':range(10,80,10)}\n",
    "gsearch3 = GridSearchCV(estimator = \n",
    "                        GradientBoostingRegressor(\n",
    "                            learning_rate=learning_rate, \n",
    "                            n_estimators=n_estimators,\n",
    "                            max_depth=max_depth,\n",
    "                            min_samples_split=min_samples_split,\n",
    "                            max_features='sqrt', \n",
    "                            subsample=0.8, \n",
    "                            random_state=10), \n",
    "                            param_grid = \n",
    "                            param_test3,\n",
    "                            scoring='neg_mean_absolute_error',\n",
    "                            iid=False,\n",
    "                            n_jobs=-1,\n",
    "                            cv=5)\n",
    "gsearch3.fit(filtered_feature_data_tuning,time_to_failure_tuning)\n",
    "print('Best params {}'.format(gsearch3.best_params_))\n",
    "print('Best MAE score: {}'.format(gsearch3.best_score_))"
   ]
  },
  {
   "cell_type": "code",
   "execution_count": 29,
   "metadata": {
    "ExecuteTime": {
     "end_time": "2019-03-31T13:47:36.782536Z",
     "start_time": "2019-03-31T13:47:36.778445Z"
    }
   },
   "outputs": [],
   "source": [
    "min_samples_leaf=40"
   ]
  },
  {
   "cell_type": "markdown",
   "metadata": {},
   "source": [
    "Jetzt werden mehrere Varibeln für die Entscheidung berücksichtigt!"
   ]
  },
  {
   "cell_type": "markdown",
   "metadata": {},
   "source": [
    "Tune max_features"
   ]
  },
  {
   "cell_type": "code",
   "execution_count": 30,
   "metadata": {
    "ExecuteTime": {
     "end_time": "2019-03-31T13:47:50.232792Z",
     "start_time": "2019-03-31T13:47:47.449661Z"
    }
   },
   "outputs": [
    {
     "name": "stdout",
     "output_type": "stream",
     "text": [
      "Best params {'max_features': 16}\n",
      "Best MAE score: -2.066610935761202\n"
     ]
    }
   ],
   "source": [
    "param_test4 = {'max_features':range(10,30,2)}\n",
    "gsearch4 = GridSearchCV(estimator = \n",
    "                        GradientBoostingRegressor(\n",
    "                            learning_rate=learning_rate, \n",
    "                            n_estimators=n_estimators,\n",
    "                            max_depth=max_depth, \n",
    "                            min_samples_split=min_samples_split,\n",
    "                            min_samples_leaf=min_samples_leaf,\n",
    "                            subsample=0.8,\n",
    "                            random_state=10),\n",
    "                            param_grid = param_test4, \n",
    "                            scoring='neg_mean_absolute_error',\n",
    "                            iid=False,\n",
    "                            n_jobs=-1,\n",
    "                            cv=5)\n",
    "gsearch4.fit(feature_data,time_to_failure_tuning)\n",
    "print('Best params {}'.format(gsearch4.best_params_))\n",
    "print('Best MAE score: {}'.format(gsearch4.best_score_))"
   ]
  },
  {
   "cell_type": "code",
   "execution_count": 31,
   "metadata": {
    "ExecuteTime": {
     "end_time": "2019-03-31T13:47:58.093343Z",
     "start_time": "2019-03-31T13:47:58.090361Z"
    }
   },
   "outputs": [],
   "source": [
    "max_features = 16"
   ]
  },
  {
   "cell_type": "markdown",
   "metadata": {},
   "source": [
    " Take the variables with a higher impact on outcome first\n",
    "  - Tune max_depth and num_samples_split\n",
    "  - Tune min_samples_leaf\n",
    "  - Tune max_features"
   ]
  },
  {
   "cell_type": "markdown",
   "metadata": {},
   "source": [
    "### Tuning subsample"
   ]
  },
  {
   "cell_type": "code",
   "execution_count": 32,
   "metadata": {
    "ExecuteTime": {
     "end_time": "2019-03-31T13:48:03.189897Z",
     "start_time": "2019-03-31T13:48:01.626110Z"
    }
   },
   "outputs": [
    {
     "name": "stdout",
     "output_type": "stream",
     "text": [
      "Best params {'subsample': 0.8}\n",
      "Best MAE score: -2.066610935761202\n"
     ]
    }
   ],
   "source": [
    "param_test5 = {'subsample':[0.65,0.7,0.75,0.8,0.85,0.9]}\n",
    "gsearch5 = GridSearchCV(estimator = \n",
    "                        GradientBoostingRegressor(\n",
    "                            learning_rate=learning_rate,\n",
    "                            n_estimators=n_estimators,\n",
    "                            max_depth=max_depth,\n",
    "                            min_samples_split=min_samples_split,\n",
    "                            min_samples_leaf=min_samples_leaf,\n",
    "                            random_state=10,\n",
    "                            max_features=max_features),\n",
    "                            param_grid = param_test5,\n",
    "                            scoring='neg_mean_absolute_error',\n",
    "                            iid=False,\n",
    "                            n_jobs=-1,\n",
    "                            cv=5)\n",
    "gsearch5.fit(feature_data,time_to_failure_tuning)\n",
    "print('Best params {}'.format(gsearch5.best_params_))\n",
    "print('Best MAE score: {}'.format(gsearch5.best_score_))"
   ]
  },
  {
   "cell_type": "code",
   "execution_count": 33,
   "metadata": {
    "ExecuteTime": {
     "end_time": "2019-03-31T13:48:10.605339Z",
     "start_time": "2019-03-31T13:48:10.602308Z"
    }
   },
   "outputs": [],
   "source": [
    "subsample = 0.8"
   ]
  },
  {
   "cell_type": "markdown",
   "metadata": {},
   "source": [
    "### Tune learning_rate and n_estimators"
   ]
  },
  {
   "cell_type": "code",
   "execution_count": 48,
   "metadata": {
    "ExecuteTime": {
     "end_time": "2019-03-31T13:59:39.925509Z",
     "start_time": "2019-03-31T13:58:12.682226Z"
    }
   },
   "outputs": [
    {
     "name": "stdout",
     "output_type": "stream",
     "text": [
      "Best params {'learning_rate': 0.08, 'n_estimators': 50}\n",
      "Best MAE score: -2.040172457952127\n"
     ]
    }
   ],
   "source": [
    "param_test6 = {'learning_rate':[0.09,0.08, 0.07],'n_estimators' :[50]}\n",
    "gsearch6 = GridSearchCV(estimator = \n",
    "                        GradientBoostingRegressor(\n",
    "                            criterion='mae',\n",
    "                            learning_rate=learning_rate,\n",
    "                            n_estimators=n_estimators,\n",
    "                            max_depth=max_depth,\n",
    "                            min_samples_split=min_samples_split,\n",
    "                            min_samples_leaf=min_samples_leaf,\n",
    "                            max_features=max_features,\n",
    "                            subsample=subsample,\n",
    "                            random_state=10),\n",
    "                        param_grid = param_test6,\n",
    "                        scoring='neg_mean_absolute_error',\n",
    "                        iid=False,\n",
    "                        n_jobs=-1,\n",
    "                        cv=5)\n",
    "\n",
    "gsearch6.fit(feature_data,time_to_failure_tuning)\n",
    "print('Best params {}'.format(gsearch6.best_params_))\n",
    "print('Best MAE score: {}'.format(gsearch6.best_score_))"
   ]
  },
  {
   "cell_type": "code",
   "execution_count": 49,
   "metadata": {
    "ExecuteTime": {
     "end_time": "2019-03-31T13:59:51.590949Z",
     "start_time": "2019-03-31T13:59:51.586925Z"
    }
   },
   "outputs": [],
   "source": [
    "learning_rate = 0.08\n",
    "n_estimators = 50"
   ]
  },
  {
   "cell_type": "markdown",
   "metadata": {},
   "source": [
    "### Tuned model with 20 Features / 4194 rows"
   ]
  },
  {
   "cell_type": "code",
   "execution_count": 50,
   "metadata": {
    "ExecuteTime": {
     "end_time": "2019-03-31T14:01:28.279685Z",
     "start_time": "2019-03-31T13:59:58.930605Z"
    }
   },
   "outputs": [
    {
     "name": "stdout",
     "output_type": "stream",
     "text": [
      "GradientBoostingRegressor(alpha=0.9, criterion='mae', init=None,\n",
      "             learning_rate=0.1, loss='ls', max_depth=4, max_features=16,\n",
      "             max_leaf_nodes=None, min_impurity_decrease=0.0,\n",
      "             min_impurity_split=None, min_samples_leaf=40,\n",
      "             min_samples_split=11, min_weight_fraction_leaf=0.0,\n",
      "             n_estimators=50, n_iter_no_change=None, presort='auto',\n",
      "             random_state=10, subsample=1.0, tol=0.0001,\n",
      "             validation_fraction=0.1, verbose=0, warm_start=False)\n",
      "\n",
      "Model Report\n",
      "MAE train data: 1.824\n",
      "CV Score MAE: \n",
      "Mean -2.033888 \n",
      "Std 0.06087941 \n",
      "Min -2.12581 \n",
      "Max -1.960044\n"
     ]
    }
   ],
   "source": [
    "model = GradientBoostingRegressor(criterion='mae',\n",
    "                            n_estimators=n_estimators,\n",
    "                            max_depth=max_depth,\n",
    "                            min_samples_split=min_samples_split,\n",
    "                            min_samples_leaf=min_samples_leaf,\n",
    "                            max_features=max_features,\n",
    "                            random_state=10)\n",
    "print(model)\n",
    "                              \n",
    "                              \n",
    "modelfit(model,  filtered_feature_data_tuning, time_to_failure_tuning,printFeatureImportance=False)"
   ]
  },
  {
   "cell_type": "markdown",
   "metadata": {},
   "source": [
    "# Validate (crossvalidation) tuned Model with 41934 rows"
   ]
  },
  {
   "cell_type": "code",
   "execution_count": 54,
   "metadata": {
    "ExecuteTime": {
     "end_time": "2019-03-31T14:14:17.279553Z",
     "start_time": "2019-03-31T14:14:16.490562Z"
    }
   },
   "outputs": [],
   "source": [
    "train_data = pd.read_csv(earthquake_daten+feature_41934_94)\n",
    "train_data = shuffle(train_data, random_state=10)\n",
    "\n",
    "feature_data = train_data.iloc[:,1:95]\n",
    "time_to_failure_validation = np.array(train_data.iloc[:,-1])\n",
    "\n",
    "items_to_filter = ['spec_cent_75%q', 'rolloff_75%q', 'spec_cent_95%q', 'zero_crossings', 'spec_bw_75%q', 'spec_bw_25%q', 'spec_cent_skew', 'mean', 'skew', 'min', 'psd_skew', 'spec_bw_min', 'spec_bw_skew', 'spec_cent_std', 'absMean', 'spec_cent_absStd', 'absMax', 'psd_kurt', 'rolloff_25%q', 'rolloff_max']\n",
    "filtered_feature_data_validation = feature_data.filter(items=items_to_filter)"
   ]
  },
  {
   "cell_type": "code",
   "execution_count": null,
   "metadata": {
    "ExecuteTime": {
     "end_time": "2019-03-31T14:21:02.372242Z",
     "start_time": "2019-03-31T14:17:47.592Z"
    }
   },
   "outputs": [],
   "source": [
    "filtered_feature_data_validation"
   ]
  },
  {
   "cell_type": "code",
   "execution_count": 56,
   "metadata": {
    "ExecuteTime": {
     "end_time": "2019-03-31T14:21:02.370248Z",
     "start_time": "2019-03-31T14:14:33.339357Z"
    }
   },
   "outputs": [
    {
     "ename": "KeyboardInterrupt",
     "evalue": "",
     "output_type": "error",
     "traceback": [
      "\u001b[1;31m---------------------------------------------------------------------------\u001b[0m",
      "\u001b[1;31mKeyboardInterrupt\u001b[0m                         Traceback (most recent call last)",
      "\u001b[1;32m<ipython-input-56-7bf727bdd1f0>\u001b[0m in \u001b[0;36m<module>\u001b[1;34m\u001b[0m\n\u001b[0;32m      8\u001b[0m              validation_fraction=0.1, verbose=0, warm_start=False)\n\u001b[0;32m      9\u001b[0m \u001b[1;33m\u001b[0m\u001b[0m\n\u001b[1;32m---> 10\u001b[1;33m \u001b[0mmodelfit\u001b[0m\u001b[1;33m(\u001b[0m\u001b[0mmodel\u001b[0m\u001b[1;33m,\u001b[0m  \u001b[0mfiltered_feature_data_validation\u001b[0m\u001b[1;33m,\u001b[0m \u001b[0mtime_to_failure_validation\u001b[0m\u001b[1;33m,\u001b[0m\u001b[0mprintFeatureImportance\u001b[0m\u001b[1;33m=\u001b[0m\u001b[1;32mFalse\u001b[0m\u001b[1;33m)\u001b[0m\u001b[1;33m\u001b[0m\u001b[1;33m\u001b[0m\u001b[0m\n\u001b[0m",
      "\u001b[1;32m<ipython-input-8-6618ae0686b6>\u001b[0m in \u001b[0;36mmodelfit\u001b[1;34m(alg, dtrain, time_to_failure, performCV, printFeatureImportance, cv_folds)\u001b[0m\n\u001b[0;32m      1\u001b[0m \u001b[1;32mdef\u001b[0m \u001b[0mmodelfit\u001b[0m\u001b[1;33m(\u001b[0m\u001b[0malg\u001b[0m\u001b[1;33m,\u001b[0m \u001b[0mdtrain\u001b[0m\u001b[1;33m,\u001b[0m \u001b[0mtime_to_failure\u001b[0m\u001b[1;33m,\u001b[0m \u001b[0mperformCV\u001b[0m\u001b[1;33m=\u001b[0m\u001b[1;32mTrue\u001b[0m\u001b[1;33m,\u001b[0m \u001b[0mprintFeatureImportance\u001b[0m\u001b[1;33m=\u001b[0m\u001b[1;32mTrue\u001b[0m\u001b[1;33m,\u001b[0m \u001b[0mcv_folds\u001b[0m\u001b[1;33m=\u001b[0m\u001b[1;36m5\u001b[0m\u001b[1;33m)\u001b[0m\u001b[1;33m:\u001b[0m\u001b[1;33m\u001b[0m\u001b[1;33m\u001b[0m\u001b[0m\n\u001b[0;32m      2\u001b[0m     \u001b[1;31m#Fit the algorithm on the data\u001b[0m\u001b[1;33m\u001b[0m\u001b[1;33m\u001b[0m\u001b[1;33m\u001b[0m\u001b[0m\n\u001b[1;32m----> 3\u001b[1;33m     \u001b[0malg\u001b[0m\u001b[1;33m.\u001b[0m\u001b[0mfit\u001b[0m\u001b[1;33m(\u001b[0m\u001b[0mdtrain\u001b[0m\u001b[1;33m,\u001b[0m \u001b[0mtime_to_failure\u001b[0m\u001b[1;33m)\u001b[0m\u001b[1;33m\u001b[0m\u001b[1;33m\u001b[0m\u001b[0m\n\u001b[0m\u001b[0;32m      4\u001b[0m \u001b[1;33m\u001b[0m\u001b[0m\n\u001b[0;32m      5\u001b[0m     \u001b[1;31m#Predict training set:\u001b[0m\u001b[1;33m\u001b[0m\u001b[1;33m\u001b[0m\u001b[1;33m\u001b[0m\u001b[0m\n",
      "\u001b[1;32mC:\\ProgramData\\Anaconda3\\lib\\site-packages\\sklearn\\ensemble\\gradient_boosting.py\u001b[0m in \u001b[0;36mfit\u001b[1;34m(self, X, y, sample_weight, monitor)\u001b[0m\n\u001b[0;32m   1463\u001b[0m         n_stages = self._fit_stages(X, y, y_pred, sample_weight, self._rng,\n\u001b[0;32m   1464\u001b[0m                                     \u001b[0mX_val\u001b[0m\u001b[1;33m,\u001b[0m \u001b[0my_val\u001b[0m\u001b[1;33m,\u001b[0m \u001b[0msample_weight_val\u001b[0m\u001b[1;33m,\u001b[0m\u001b[1;33m\u001b[0m\u001b[1;33m\u001b[0m\u001b[0m\n\u001b[1;32m-> 1465\u001b[1;33m                                     begin_at_stage, monitor, X_idx_sorted)\n\u001b[0m\u001b[0;32m   1466\u001b[0m \u001b[1;33m\u001b[0m\u001b[0m\n\u001b[0;32m   1467\u001b[0m         \u001b[1;31m# change shape of arrays after fit (early-stopping or additional ests)\u001b[0m\u001b[1;33m\u001b[0m\u001b[1;33m\u001b[0m\u001b[1;33m\u001b[0m\u001b[0m\n",
      "\u001b[1;32mC:\\ProgramData\\Anaconda3\\lib\\site-packages\\sklearn\\ensemble\\gradient_boosting.py\u001b[0m in \u001b[0;36m_fit_stages\u001b[1;34m(self, X, y, y_pred, sample_weight, random_state, X_val, y_val, sample_weight_val, begin_at_stage, monitor, X_idx_sorted)\u001b[0m\n\u001b[0;32m   1527\u001b[0m             y_pred = self._fit_stage(i, X, y, y_pred, sample_weight,\n\u001b[0;32m   1528\u001b[0m                                      \u001b[0msample_mask\u001b[0m\u001b[1;33m,\u001b[0m \u001b[0mrandom_state\u001b[0m\u001b[1;33m,\u001b[0m \u001b[0mX_idx_sorted\u001b[0m\u001b[1;33m,\u001b[0m\u001b[1;33m\u001b[0m\u001b[1;33m\u001b[0m\u001b[0m\n\u001b[1;32m-> 1529\u001b[1;33m                                      X_csc, X_csr)\n\u001b[0m\u001b[0;32m   1530\u001b[0m \u001b[1;33m\u001b[0m\u001b[0m\n\u001b[0;32m   1531\u001b[0m             \u001b[1;31m# track deviance (= loss)\u001b[0m\u001b[1;33m\u001b[0m\u001b[1;33m\u001b[0m\u001b[1;33m\u001b[0m\u001b[0m\n",
      "\u001b[1;32mC:\\ProgramData\\Anaconda3\\lib\\site-packages\\sklearn\\ensemble\\gradient_boosting.py\u001b[0m in \u001b[0;36m_fit_stage\u001b[1;34m(self, i, X, y, y_pred, sample_weight, sample_mask, random_state, X_idx_sorted, X_csc, X_csr)\u001b[0m\n\u001b[0;32m   1192\u001b[0m             \u001b[0mX\u001b[0m \u001b[1;33m=\u001b[0m \u001b[0mX_csr\u001b[0m \u001b[1;32mif\u001b[0m \u001b[0mX_csr\u001b[0m \u001b[1;32mis\u001b[0m \u001b[1;32mnot\u001b[0m \u001b[1;32mNone\u001b[0m \u001b[1;32melse\u001b[0m \u001b[0mX\u001b[0m\u001b[1;33m\u001b[0m\u001b[1;33m\u001b[0m\u001b[0m\n\u001b[0;32m   1193\u001b[0m             tree.fit(X, residual, sample_weight=sample_weight,\n\u001b[1;32m-> 1194\u001b[1;33m                      check_input=False, X_idx_sorted=X_idx_sorted)\n\u001b[0m\u001b[0;32m   1195\u001b[0m \u001b[1;33m\u001b[0m\u001b[0m\n\u001b[0;32m   1196\u001b[0m             \u001b[1;31m# update tree leaves\u001b[0m\u001b[1;33m\u001b[0m\u001b[1;33m\u001b[0m\u001b[1;33m\u001b[0m\u001b[0m\n",
      "\u001b[1;32mC:\\ProgramData\\Anaconda3\\lib\\site-packages\\sklearn\\tree\\tree.py\u001b[0m in \u001b[0;36mfit\u001b[1;34m(self, X, y, sample_weight, check_input, X_idx_sorted)\u001b[0m\n\u001b[0;32m   1140\u001b[0m             \u001b[0msample_weight\u001b[0m\u001b[1;33m=\u001b[0m\u001b[0msample_weight\u001b[0m\u001b[1;33m,\u001b[0m\u001b[1;33m\u001b[0m\u001b[1;33m\u001b[0m\u001b[0m\n\u001b[0;32m   1141\u001b[0m             \u001b[0mcheck_input\u001b[0m\u001b[1;33m=\u001b[0m\u001b[0mcheck_input\u001b[0m\u001b[1;33m,\u001b[0m\u001b[1;33m\u001b[0m\u001b[1;33m\u001b[0m\u001b[0m\n\u001b[1;32m-> 1142\u001b[1;33m             X_idx_sorted=X_idx_sorted)\n\u001b[0m\u001b[0;32m   1143\u001b[0m         \u001b[1;32mreturn\u001b[0m \u001b[0mself\u001b[0m\u001b[1;33m\u001b[0m\u001b[1;33m\u001b[0m\u001b[0m\n\u001b[0;32m   1144\u001b[0m \u001b[1;33m\u001b[0m\u001b[0m\n",
      "\u001b[1;32mC:\\ProgramData\\Anaconda3\\lib\\site-packages\\sklearn\\tree\\tree.py\u001b[0m in \u001b[0;36mfit\u001b[1;34m(self, X, y, sample_weight, check_input, X_idx_sorted)\u001b[0m\n\u001b[0;32m    364\u001b[0m                                            min_impurity_split)\n\u001b[0;32m    365\u001b[0m \u001b[1;33m\u001b[0m\u001b[0m\n\u001b[1;32m--> 366\u001b[1;33m         \u001b[0mbuilder\u001b[0m\u001b[1;33m.\u001b[0m\u001b[0mbuild\u001b[0m\u001b[1;33m(\u001b[0m\u001b[0mself\u001b[0m\u001b[1;33m.\u001b[0m\u001b[0mtree_\u001b[0m\u001b[1;33m,\u001b[0m \u001b[0mX\u001b[0m\u001b[1;33m,\u001b[0m \u001b[0my\u001b[0m\u001b[1;33m,\u001b[0m \u001b[0msample_weight\u001b[0m\u001b[1;33m,\u001b[0m \u001b[0mX_idx_sorted\u001b[0m\u001b[1;33m)\u001b[0m\u001b[1;33m\u001b[0m\u001b[1;33m\u001b[0m\u001b[0m\n\u001b[0m\u001b[0;32m    367\u001b[0m \u001b[1;33m\u001b[0m\u001b[0m\n\u001b[0;32m    368\u001b[0m         \u001b[1;32mif\u001b[0m \u001b[0mself\u001b[0m\u001b[1;33m.\u001b[0m\u001b[0mn_outputs_\u001b[0m \u001b[1;33m==\u001b[0m \u001b[1;36m1\u001b[0m\u001b[1;33m:\u001b[0m\u001b[1;33m\u001b[0m\u001b[1;33m\u001b[0m\u001b[0m\n",
      "\u001b[1;31mKeyboardInterrupt\u001b[0m: "
     ]
    }
   ],
   "source": [
    "model = GradientBoostingRegressor(criterion='mae',\n",
    "                                  learning_rate=0.1, \n",
    "                                  loss='ls', \n",
    "                                  max_depth=4, \n",
    "                                  max_features=16,\n",
    "                                  min_samples_leaf=40,\n",
    "                                  min_samples_split=11,\n",
    "                                  n_estimators=50,\n",
    "                                  random_state=10,\n",
    "                                  subsample=1.0)\n",
    "\n",
    "modelfit(model,  filtered_feature_data_validation, time_to_failure_validation,printFeatureImportance=False)"
   ]
  },
  {
   "cell_type": "code",
   "execution_count": null,
   "metadata": {},
   "outputs": [],
   "source": []
  }
 ],
 "metadata": {
  "kernelspec": {
   "display_name": "Python 3",
   "language": "python",
   "name": "python3"
  },
  "language_info": {
   "codemirror_mode": {
    "name": "ipython",
    "version": 3
   },
   "file_extension": ".py",
   "mimetype": "text/x-python",
   "name": "python",
   "nbconvert_exporter": "python",
   "pygments_lexer": "ipython3",
   "version": "3.6.8"
  },
  "toc": {
   "base_numbering": 1,
   "nav_menu": {},
   "number_sections": true,
   "sideBar": true,
   "skip_h1_title": false,
   "title_cell": "Table of Contents",
   "title_sidebar": "Contents",
   "toc_cell": false,
   "toc_position": {
    "height": "calc(100% - 180px)",
    "left": "10px",
    "top": "150px",
    "width": "349.08px"
   },
   "toc_section_display": true,
   "toc_window_display": true
  }
 },
 "nbformat": 4,
 "nbformat_minor": 2
}
