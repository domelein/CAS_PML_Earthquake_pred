{
 "cells": [
  {
   "cell_type": "code",
   "execution_count": 18,
   "metadata": {
    "ExecuteTime": {
     "end_time": "2019-03-23T13:09:09.774065Z",
     "start_time": "2019-03-23T13:09:09.766741Z"
    }
   },
   "outputs": [],
   "source": [
    "import pandas as pd\n",
    "import numpy as np\n",
    "#data visualization\n",
    "import matplotlib.pyplot as plt\n",
    "import librosa\n",
    "\n",
    "import time\n",
    "\n",
    "from scipy.stats import kurtosis\n",
    "from scipy.stats import skew\n",
    "\n",
    "from sklearn.model_selection import train_test_split\n",
    "\n",
    "pd.options.display.precision = 10"
   ]
  },
  {
   "cell_type": "markdown",
   "metadata": {},
   "source": [
    "## Umgebungsvariablen"
   ]
  },
  {
   "cell_type": "code",
   "execution_count": 2,
   "metadata": {
    "ExecuteTime": {
     "end_time": "2019-03-23T12:05:31.113500Z",
     "start_time": "2019-03-23T12:05:31.103974Z"
    }
   },
   "outputs": [],
   "source": [
    "feature_data_path = '''C:/studium/studium/CAS_PML/Projekt_Arbeit/earthquake/Daten/all/earthquakeFeatures_1553342293.3349762_.csv'''\n",
    "cat_boost_model = '''C:/studium/studium/CAS_PML/Projekt_Arbeit/earthquake/Daten/all/catboost.dump'''"
   ]
  },
  {
   "cell_type": "markdown",
   "metadata": {},
   "source": [
    "# Feature laden"
   ]
  },
  {
   "cell_type": "code",
   "execution_count": 3,
   "metadata": {
    "ExecuteTime": {
     "end_time": "2019-03-23T12:05:34.222486Z",
     "start_time": "2019-03-23T12:05:31.116780Z"
    }
   },
   "outputs": [],
   "source": [
    "train_data = pd.read_csv(feature_data_path, dtype={'acoustic_data': np.int16, 'time_to_failure': np.float64})"
   ]
  },
  {
   "cell_type": "code",
   "execution_count": 8,
   "metadata": {
    "ExecuteTime": {
     "end_time": "2019-03-23T12:06:15.998193Z",
     "start_time": "2019-03-23T12:06:15.924458Z"
    }
   },
   "outputs": [
    {
     "data": {
      "text/html": [
       "<div>\n",
       "<style scoped>\n",
       "    .dataframe tbody tr th:only-of-type {\n",
       "        vertical-align: middle;\n",
       "    }\n",
       "\n",
       "    .dataframe tbody tr th {\n",
       "        vertical-align: top;\n",
       "    }\n",
       "\n",
       "    .dataframe thead th {\n",
       "        text-align: right;\n",
       "    }\n",
       "</style>\n",
       "<table border=\"1\" class=\"dataframe\">\n",
       "  <thead>\n",
       "    <tr style=\"text-align: right;\">\n",
       "      <th></th>\n",
       "      <th>mean</th>\n",
       "      <th>std</th>\n",
       "      <th>kurt</th>\n",
       "      <th>skew</th>\n",
       "      <th>min</th>\n",
       "      <th>max</th>\n",
       "      <th>1%q</th>\n",
       "      <th>5%q</th>\n",
       "      <th>25%q</th>\n",
       "      <th>75%q</th>\n",
       "      <th>...</th>\n",
       "      <th>spec_bw_kurt</th>\n",
       "      <th>spec_bw_skew</th>\n",
       "      <th>spec_bw_min</th>\n",
       "      <th>spec_bw_max</th>\n",
       "      <th>spec_bw_1%q</th>\n",
       "      <th>spec_bw_5%q</th>\n",
       "      <th>spec_bw_25%q</th>\n",
       "      <th>spec_bw_75%q</th>\n",
       "      <th>spec_bw_95%q</th>\n",
       "      <th>spec_bw_99%q</th>\n",
       "    </tr>\n",
       "  </thead>\n",
       "  <tbody>\n",
       "    <tr>\n",
       "      <th>0</th>\n",
       "      <td>4.8841133333</td>\n",
       "      <td>5.1011061306</td>\n",
       "      <td>33.6624812935</td>\n",
       "      <td>-0.0240611666</td>\n",
       "      <td>-98.0</td>\n",
       "      <td>104.0</td>\n",
       "      <td>-8.0</td>\n",
       "      <td>-2.0</td>\n",
       "      <td>3.0</td>\n",
       "      <td>7.0</td>\n",
       "      <td>...</td>\n",
       "      <td>12.7760446198</td>\n",
       "      <td>-2.9176274163</td>\n",
       "      <td>381349.1865900679</td>\n",
       "      <td>593848.0949585186</td>\n",
       "      <td>464802.9437660335</td>\n",
       "      <td>513229.8197951605</td>\n",
       "      <td>557429.6937546992</td>\n",
       "      <td>578910.9580815419</td>\n",
       "      <td>586597.8954874629</td>\n",
       "      <td>589247.3423812583</td>\n",
       "    </tr>\n",
       "    <tr>\n",
       "      <th>1</th>\n",
       "      <td>4.8571266667</td>\n",
       "      <td>4.3240072299</td>\n",
       "      <td>8.4650571655</td>\n",
       "      <td>0.0587541958</td>\n",
       "      <td>-56.0</td>\n",
       "      <td>52.0</td>\n",
       "      <td>-7.0</td>\n",
       "      <td>-1.0</td>\n",
       "      <td>3.0</td>\n",
       "      <td>7.0</td>\n",
       "      <td>...</td>\n",
       "      <td>3.0236650767</td>\n",
       "      <td>-1.6920770163</td>\n",
       "      <td>473999.4882262739</td>\n",
       "      <td>593584.9494675705</td>\n",
       "      <td>496767.4351236603</td>\n",
       "      <td>522165.6770328701</td>\n",
       "      <td>558931.0723155735</td>\n",
       "      <td>579312.3933050043</td>\n",
       "      <td>586314.7130109678</td>\n",
       "      <td>588315.3456784203</td>\n",
       "    </tr>\n",
       "    <tr>\n",
       "      <th>2</th>\n",
       "      <td>4.8376266667</td>\n",
       "      <td>5.3342163992</td>\n",
       "      <td>109.4686695306</td>\n",
       "      <td>0.3999465498</td>\n",
       "      <td>-154.0</td>\n",
       "      <td>181.0</td>\n",
       "      <td>-8.0</td>\n",
       "      <td>-2.0</td>\n",
       "      <td>3.0</td>\n",
       "      <td>7.0</td>\n",
       "      <td>...</td>\n",
       "      <td>23.1760591584</td>\n",
       "      <td>-3.9070500266</td>\n",
       "      <td>334862.6694803852</td>\n",
       "      <td>593503.1188252728</td>\n",
       "      <td>457056.1477548956</td>\n",
       "      <td>516048.5313389048</td>\n",
       "      <td>558020.4346092035</td>\n",
       "      <td>579521.9126454300</td>\n",
       "      <td>586696.8275960149</td>\n",
       "      <td>589603.5340530913</td>\n",
       "    </tr>\n",
       "    <tr>\n",
       "      <th>3</th>\n",
       "      <td>4.8111600000</td>\n",
       "      <td>5.3222446671</td>\n",
       "      <td>110.4614763269</td>\n",
       "      <td>0.4131461554</td>\n",
       "      <td>-154.0</td>\n",
       "      <td>181.0</td>\n",
       "      <td>-8.0</td>\n",
       "      <td>-2.0</td>\n",
       "      <td>2.0</td>\n",
       "      <td>7.0</td>\n",
       "      <td>...</td>\n",
       "      <td>23.7946792295</td>\n",
       "      <td>-3.9943724011</td>\n",
       "      <td>332568.2442054225</td>\n",
       "      <td>593958.4716608603</td>\n",
       "      <td>445689.0151435903</td>\n",
       "      <td>516651.7592641455</td>\n",
       "      <td>558113.8118867078</td>\n",
       "      <td>578970.1809539023</td>\n",
       "      <td>585994.1793593073</td>\n",
       "      <td>588331.0470630293</td>\n",
       "    </tr>\n",
       "    <tr>\n",
       "      <th>4</th>\n",
       "      <td>4.7928533333</td>\n",
       "      <td>5.4182032051</td>\n",
       "      <td>103.2711186532</td>\n",
       "      <td>0.3964407128</td>\n",
       "      <td>-154.0</td>\n",
       "      <td>181.0</td>\n",
       "      <td>-8.0</td>\n",
       "      <td>-2.0</td>\n",
       "      <td>2.0</td>\n",
       "      <td>7.0</td>\n",
       "      <td>...</td>\n",
       "      <td>21.3302543901</td>\n",
       "      <td>-3.7569395880</td>\n",
       "      <td>332795.9142868448</td>\n",
       "      <td>593107.2663205061</td>\n",
       "      <td>453205.2527339894</td>\n",
       "      <td>512382.8547605443</td>\n",
       "      <td>558646.1750177351</td>\n",
       "      <td>579336.2976062959</td>\n",
       "      <td>586284.5423266705</td>\n",
       "      <td>589841.4762130631</td>\n",
       "    </tr>\n",
       "  </tbody>\n",
       "</table>\n",
       "<p>5 rows × 94 columns</p>\n",
       "</div>"
      ],
      "text/plain": [
       "           mean           std            kurt          skew    min    max  \\\n",
       "0  4.8841133333  5.1011061306   33.6624812935 -0.0240611666  -98.0  104.0   \n",
       "1  4.8571266667  4.3240072299    8.4650571655  0.0587541958  -56.0   52.0   \n",
       "2  4.8376266667  5.3342163992  109.4686695306  0.3999465498 -154.0  181.0   \n",
       "3  4.8111600000  5.3222446671  110.4614763269  0.4131461554 -154.0  181.0   \n",
       "4  4.7928533333  5.4182032051  103.2711186532  0.3964407128 -154.0  181.0   \n",
       "\n",
       "   1%q  5%q  25%q  75%q  ...   spec_bw_kurt  spec_bw_skew        spec_bw_min  \\\n",
       "0 -8.0 -2.0   3.0   7.0  ...  12.7760446198 -2.9176274163  381349.1865900679   \n",
       "1 -7.0 -1.0   3.0   7.0  ...   3.0236650767 -1.6920770163  473999.4882262739   \n",
       "2 -8.0 -2.0   3.0   7.0  ...  23.1760591584 -3.9070500266  334862.6694803852   \n",
       "3 -8.0 -2.0   2.0   7.0  ...  23.7946792295 -3.9943724011  332568.2442054225   \n",
       "4 -8.0 -2.0   2.0   7.0  ...  21.3302543901 -3.7569395880  332795.9142868448   \n",
       "\n",
       "         spec_bw_max        spec_bw_1%q        spec_bw_5%q       spec_bw_25%q  \\\n",
       "0  593848.0949585186  464802.9437660335  513229.8197951605  557429.6937546992   \n",
       "1  593584.9494675705  496767.4351236603  522165.6770328701  558931.0723155735   \n",
       "2  593503.1188252728  457056.1477548956  516048.5313389048  558020.4346092035   \n",
       "3  593958.4716608603  445689.0151435903  516651.7592641455  558113.8118867078   \n",
       "4  593107.2663205061  453205.2527339894  512382.8547605443  558646.1750177351   \n",
       "\n",
       "        spec_bw_75%q       spec_bw_95%q       spec_bw_99%q  \n",
       "0  578910.9580815419  586597.8954874629  589247.3423812583  \n",
       "1  579312.3933050043  586314.7130109678  588315.3456784203  \n",
       "2  579521.9126454300  586696.8275960149  589603.5340530913  \n",
       "3  578970.1809539023  585994.1793593073  588331.0470630293  \n",
       "4  579336.2976062959  586284.5423266705  589841.4762130631  \n",
       "\n",
       "[5 rows x 94 columns]"
      ]
     },
     "execution_count": 8,
     "metadata": {},
     "output_type": "execute_result"
    }
   ],
   "source": [
    "train_data.iloc[:,1:95].head()"
   ]
  },
  {
   "cell_type": "markdown",
   "metadata": {},
   "source": [
    "## Testdaten vorbereiten"
   ]
  },
  {
   "cell_type": "code",
   "execution_count": 12,
   "metadata": {
    "ExecuteTime": {
     "end_time": "2019-03-23T12:07:45.433537Z",
     "start_time": "2019-03-23T12:07:45.316201Z"
    }
   },
   "outputs": [],
   "source": [
    "X_train, X_test, y_train, y_test = train_test_split(\n",
    "    train_data.iloc[:,1:95], train_data.iloc[:,-1], random_state=0, test_size=0.25)"
   ]
  },
  {
   "cell_type": "markdown",
   "metadata": {},
   "source": [
    "# Create Model Workbench"
   ]
  },
  {
   "cell_type": "markdown",
   "metadata": {},
   "source": [
    "## Imports"
   ]
  },
  {
   "cell_type": "code",
   "execution_count": 13,
   "metadata": {
    "ExecuteTime": {
     "end_time": "2019-03-23T12:07:55.623516Z",
     "start_time": "2019-03-23T12:07:53.924883Z"
    }
   },
   "outputs": [],
   "source": [
    "# Scaler\n",
    "from sklearn.preprocessing import StandardScaler\n",
    "from sklearn.preprocessing import RobustScaler\n",
    "\n",
    "# Model selection\n",
    "from sklearn.pipeline import Pipeline\n",
    "from sklearn.model_selection import GridSearchCV\n",
    "from sklearn.metrics import mean_absolute_error\n",
    "from sklearn.model_selection import train_test_split\n",
    "from sklearn.preprocessing import PolynomialFeatures\n",
    "\n",
    "# Modell\n",
    "from sklearn.ensemble import GradientBoostingRegressor\n",
    "from catboost import CatBoostRegressor, Pool\n",
    "from sklearn.ensemble import RandomForestRegressor\n",
    "from sklearn.svm import SVR"
   ]
  },
  {
   "cell_type": "markdown",
   "metadata": {},
   "source": [
    "# CatBoost"
   ]
  },
  {
   "cell_type": "markdown",
   "metadata": {},
   "source": [
    "https://github.com/catboost/tutorials/blob/master/python_tutorial.ipynb"
   ]
  },
  {
   "cell_type": "markdown",
   "metadata": {},
   "source": [
    "## Erster Versuch"
   ]
  },
  {
   "cell_type": "code",
   "execution_count": 14,
   "metadata": {
    "ExecuteTime": {
     "end_time": "2019-03-23T12:15:01.687298Z",
     "start_time": "2019-03-23T12:08:42.524391Z"
    }
   },
   "outputs": [
    {
     "name": "stdout",
     "output_type": "stream",
     "text": [
      "{'learn': {'MAE': 0.5669221979332273}}\n"
     ]
    }
   ],
   "source": [
    "#Model #1 - Catboost\n",
    "\n",
    "train_pool = Pool(X_train, y_train)\n",
    "m = CatBoostRegressor(iterations=10000, learning_rate=1, loss_function='MAE', boosting_type='Ordered',task_type='GPU')\n",
    "m.fit(train_pool, silent=True)\n",
    "print(m.best_score_)"
   ]
  },
  {
   "cell_type": "markdown",
   "metadata": {},
   "source": [
    "### Feature Importances CatBoost"
   ]
  },
  {
   "cell_type": "code",
   "execution_count": null,
   "metadata": {},
   "outputs": [],
   "source": [
    "feature_importances = m.get_feature_importance(train_pool)\n",
    "feature_names = X_train.columns\n",
    "for score, name in sorted(zip(feature_importances, feature_names), reverse=True):\n",
    "    print('{}: {}'.format(name, score))"
   ]
  },
  {
   "cell_type": "markdown",
   "metadata": {},
   "source": [
    "## Zweiter Versuch"
   ]
  },
  {
   "cell_type": "code",
   "execution_count": 16,
   "metadata": {
    "ExecuteTime": {
     "end_time": "2019-03-23T12:46:40.969502Z",
     "start_time": "2019-03-23T12:16:40.210184Z"
    }
   },
   "outputs": [
    {
     "name": "stdout",
     "output_type": "stream",
     "text": [
      "{'learn': {'MAE': 0.28749238208797034}}\n"
     ]
    }
   ],
   "source": [
    "#Model #2 - Catboost\n",
    "\n",
    "train_pool = Pool(X_train, y_train)\n",
    "m = CatBoostRegressor(iterations=50000, learning_rate=1, loss_function='MAE', boosting_type='Ordered',task_type='GPU')\n",
    "m.fit(train_pool, silent=True)\n",
    "print(m.best_score_)"
   ]
  },
  {
   "cell_type": "markdown",
   "metadata": {},
   "source": [
    "### Feature Importances CatBoost"
   ]
  },
  {
   "cell_type": "code",
   "execution_count": 17,
   "metadata": {
    "ExecuteTime": {
     "end_time": "2019-03-23T13:06:28.579770Z",
     "start_time": "2019-03-23T13:06:27.615716Z"
    }
   },
   "outputs": [
    {
     "name": "stdout",
     "output_type": "stream",
     "text": [
      "skew: 4.076301783656566\n",
      "mean: 3.4809914190580478\n",
      "rms_kurt: 3.352433021560001\n",
      "spec_bw_max: 3.1619310461873407\n",
      "rms_skew: 2.7621800298628836\n",
      "chroma_stft_5%q: 2.60962868855731\n",
      "chroma_stft_75%q: 2.5330716263547073\n",
      "spec_bw_99%q: 2.396200820055166\n",
      "zero_crossings: 2.394212260630585\n",
      "chroma_stft_skew: 2.210974835131619\n",
      "kurt: 2.2019925670217737\n",
      "chroma_stft_1%q: 2.2019702734849917\n",
      "spec_cent_max: 2.0454893060040207\n",
      "chroma_stft_kurt: 2.044862258311427\n",
      "min: 2.0299909562342555\n",
      "spec_bw_95%q: 1.9934165482193889\n",
      "chroma_stft_std: 1.969802539830376\n",
      "chroma_stft_25%q: 1.8612862283040155\n",
      "max: 1.8392417760292923\n",
      "spec_cent_99%q: 1.7512604147211441\n",
      "chroma_stft_min: 1.7457941287271987\n",
      "chroma_stft_mean: 1.7070988543795973\n",
      "rolloff_max: 1.6567401325818834\n",
      "rms_std: 1.6487141060856076\n",
      "spec_bw_75%q: 1.589703560765567\n",
      "absMax: 1.5642231742914035\n",
      "spec_bw_kurt: 1.5585406214115693\n",
      "rolloff_99%q: 1.5117624264003107\n",
      "rolloff_min: 1.5035207109910542\n",
      "spec_bw_skew: 1.4729828536009388\n",
      "spec_cent_75%q: 1.4716846830093138\n",
      "rolloff_kurt: 1.4664118957577639\n",
      "spec_cent_95%q: 1.4248894505573728\n",
      "rolloff_skew: 1.4010862094439605\n",
      "spec_cent_min: 1.3926504624582359\n",
      "spec_bw_min: 1.3347697369816336\n",
      "spec_cent_skew: 1.2959206778671075\n",
      "absMean: 1.2358133092696988\n",
      "spec_cent_kurt: 1.2233741091309314\n",
      "rolloff_95%q: 1.1387734350707759\n",
      "rms_25%q: 1.045382976990341\n",
      "spec_cent_1%q: 1.0097125271077676\n",
      "spec_bw_1%q: 0.992160830784089\n",
      "spec_bw_25%q: 0.9796727639272428\n",
      "rms_5%q: 0.9553278014534811\n",
      "rolloff_1%q: 0.9251415901890578\n",
      "spec_cent_std: 0.9166185555365259\n",
      "spec_bw_5%q: 0.8327736683141469\n",
      "rms_1%q: 0.8054527249187482\n",
      "spec_cent_5%q: 0.8050994933779926\n",
      "rolloff_25%q: 0.797679758813599\n",
      "rms_min: 0.7960034015039924\n",
      "spec_cent_25%q: 0.7597152656223147\n",
      "spec_bw_mean: 0.7393154886976777\n",
      "rolloff_75%q: 0.7221976043717689\n",
      "rolloff_5%q: 0.6871211817218331\n",
      "rms_75%q: 0.683427408997179\n",
      "rolloff_std: 0.6587245322574774\n",
      "spec_bw_std: 0.6094630495822088\n",
      "rolloff_mean: 0.6018310793844283\n",
      "rms_95%q: 0.5572668013767353\n",
      "absStd: 0.5568464791164557\n",
      "spec_cent_mean: 0.5224582567387644\n",
      "std: 0.5204645427432829\n",
      "rms_mean: 0.46889979140685745\n",
      "spec_cent_absMax: 0.39685010592528036\n",
      "rms_99%q: 0.39272381556007235\n",
      "rms_max: 0.3650816766889465\n",
      "99%q: 0.3013176744962767\n",
      "1%q: 0.29499600102507084\n",
      "rms_absStd: 0.27679231098735535\n",
      "5%q: 0.13414048689690455\n",
      "spec_cent_absMean: 0.1261287529509096\n",
      "95%q: 0.11904969718362966\n",
      "75%q: 0.11863082867822732\n",
      "rms_absMean: 0.09797840891919621\n",
      "25%q: 0.08636839504987694\n",
      "rms_absMax: 0.07570763801971453\n",
      "spec_cent_absStd: 0.003783694687739505\n",
      "psd_std: 0.0\n",
      "psd_skew: 0.0\n",
      "psd_min: 0.0\n",
      "psd_mean: 0.0\n",
      "psd_max: 0.0\n",
      "psd_kurt: 0.0\n",
      "psd_99%q: 0.0\n",
      "psd_95%q: 0.0\n",
      "psd_75%q: 0.0\n",
      "psd_5%q: 0.0\n",
      "psd_25%q: 0.0\n",
      "psd_1%q: 0.0\n",
      "chroma_stft_max: 0.0\n",
      "chroma_stft_99%q: 0.0\n",
      "chroma_stft_95%q: 0.0\n"
     ]
    }
   ],
   "source": [
    "feature_importances = m.get_feature_importance(train_pool)\n",
    "feature_names = X_train.columns\n",
    "for score, name in sorted(zip(feature_importances, feature_names), reverse=True):\n",
    "    print('{}: {}'.format(name, score))"
   ]
  },
  {
   "cell_type": "code",
   "execution_count": 25,
   "metadata": {
    "ExecuteTime": {
     "end_time": "2019-03-20T22:04:47.715132Z",
     "start_time": "2019-03-20T22:04:47.669021Z"
    }
   },
   "outputs": [],
   "source": []
  },
  {
   "cell_type": "code",
   "execution_count": null,
   "metadata": {},
   "outputs": [],
   "source": []
  },
  {
   "cell_type": "markdown",
   "metadata": {},
   "source": [
    "### Feature Importances CatBoost\n"
   ]
  },
  {
   "cell_type": "code",
   "execution_count": 15,
   "metadata": {
    "ExecuteTime": {
     "end_time": "2019-03-23T12:16:00.827178Z",
     "start_time": "2019-03-23T12:16:00.635493Z"
    }
   },
   "outputs": [
    {
     "name": "stdout",
     "output_type": "stream",
     "text": [
      "skew: 4.650670943408212\n",
      "mean: 4.044511211246174\n",
      "min: 3.8143070447859793\n",
      "max: 3.506119528936808\n",
      "zero_crossings: 3.021236760917733\n",
      "absMax: 3.01573497383846\n",
      "spec_cent_75%q: 2.5692290948180094\n",
      "kurt: 2.4963686329476102\n",
      "spec_bw_max: 2.465606317261001\n",
      "chroma_stft_std: 2.2598725295629527\n",
      "chroma_stft_75%q: 2.239163425125106\n",
      "chroma_stft_skew: 2.1650634781557363\n",
      "rms_kurt: 2.049620994387276\n",
      "rolloff_min: 2.0380305502193727\n",
      "spec_bw_99%q: 1.9972544039004516\n",
      "spec_cent_min: 1.9941023358200385\n",
      "spec_bw_min: 1.8723248109760737\n",
      "chroma_stft_kurt: 1.8507307583890595\n",
      "spec_cent_max: 1.8160196526232901\n",
      "chroma_stft_mean: 1.7968146791630495\n",
      "spec_cent_99%q: 1.7658182153211508\n",
      "chroma_stft_5%q: 1.7174674865246597\n",
      "spec_bw_95%q: 1.6660885855414274\n",
      "chroma_stft_min: 1.6611482001439941\n",
      "chroma_stft_1%q: 1.623560985419079\n",
      "chroma_stft_25%q: 1.6197646253341869\n",
      "rms_skew: 1.6100694559429622\n",
      "spec_bw_75%q: 1.5990716447081543\n",
      "spec_cent_95%q: 1.550679173059365\n",
      "rolloff_max: 1.5455279414089582\n",
      "rolloff_99%q: 1.3826195974280275\n",
      "spec_bw_kurt: 1.2842127295447936\n",
      "rolloff_kurt: 1.2566471626570037\n",
      "spec_bw_skew: 1.2301622736065516\n",
      "rolloff_95%q: 1.1489983173516383\n",
      "absMean: 1.1376649129919276\n",
      "spec_cent_skew: 1.101218428231596\n",
      "rolloff_skew: 1.087810776045268\n",
      "spec_cent_kurt: 1.0396088000585375\n",
      "rms_std: 1.0348823198487391\n",
      "spec_bw_25%q: 0.9959665294594711\n",
      "spec_bw_1%q: 0.9638308238787916\n",
      "spec_cent_1%q: 0.9298445510990034\n",
      "rolloff_1%q: 0.9134259662114425\n",
      "spec_cent_std: 0.8799984399866839\n",
      "rolloff_75%q: 0.8707130182280282\n",
      "spec_cent_25%q: 0.7952074077917022\n",
      "rms_25%q: 0.780445000844786\n",
      "rolloff_25%q: 0.7797295848257941\n",
      "spec_bw_5%q: 0.7676212908614508\n",
      "spec_cent_5%q: 0.7345686266959726\n",
      "rms_1%q: 0.7113391434043601\n",
      "rms_5%q: 0.6774598807770559\n",
      "spec_bw_mean: 0.6594887619760685\n",
      "rolloff_std: 0.639602947373405\n",
      "absStd: 0.5941243209083993\n",
      "rms_min: 0.590135637983743\n",
      "rolloff_5%q: 0.5879848523455706\n",
      "rms_75%q: 0.5566256911996132\n",
      "spec_bw_std: 0.5534868087756567\n",
      "spec_cent_mean: 0.5520357566663251\n",
      "rolloff_mean: 0.5140204912908097\n",
      "std: 0.4897512543846975\n",
      "rms_95%q: 0.47203863162432574\n",
      "rms_mean: 0.43538553049920753\n",
      "99%q: 0.3564357109470323\n",
      "spec_cent_absMax: 0.3548626155301825\n",
      "rms_max: 0.3462982278752579\n",
      "1%q: 0.2967004828093961\n",
      "rms_99%q: 0.2652122952634377\n",
      "75%q: 0.20277678742747135\n",
      "5%q: 0.19900476782579896\n",
      "95%q: 0.19032971836508625\n",
      "rms_absStd: 0.18531442276311724\n",
      "25%q: 0.13542471931887046\n",
      "spec_cent_absMean: 0.1256794306415837\n",
      "rms_absMean: 0.090148342191249\n",
      "rms_absMax: 0.06662822579915581\n",
      "spec_cent_absStd: 0.014549546499542113\n",
      "psd_std: 0.0\n",
      "psd_skew: 0.0\n",
      "psd_min: 0.0\n",
      "psd_mean: 0.0\n",
      "psd_max: 0.0\n",
      "psd_kurt: 0.0\n",
      "psd_99%q: 0.0\n",
      "psd_95%q: 0.0\n",
      "psd_75%q: 0.0\n",
      "psd_5%q: 0.0\n",
      "psd_25%q: 0.0\n",
      "psd_1%q: 0.0\n",
      "chroma_stft_max: 0.0\n",
      "chroma_stft_99%q: 0.0\n",
      "chroma_stft_95%q: 0.0\n"
     ]
    }
   ],
   "source": [
    "feature_importances = m.get_feature_importance(train_pool)\n",
    "feature_names = X_train.columns\n",
    "for score, name in sorted(zip(feature_importances, feature_names), reverse=True):\n",
    "    print('{}: {}'.format(name, score))"
   ]
  },
  {
   "cell_type": "markdown",
   "metadata": {},
   "source": [
    "## Save Model"
   ]
  },
  {
   "cell_type": "code",
   "execution_count": 20,
   "metadata": {
    "ExecuteTime": {
     "end_time": "2019-03-23T13:09:52.454217Z",
     "start_time": "2019-03-23T13:09:52.119847Z"
    }
   },
   "outputs": [],
   "source": [
    "timestamp = time.time()\n",
    "#https://catboost.ai/docs/concepts/python-reference_catboost_save_model.html\n",
    "m.save_model(cat_boost_model+str(timestamp), \n",
    "           format=\"cbm\", \n",
    "           export_parameters=None,\n",
    "           pool=None)"
   ]
  },
  {
   "cell_type": "markdown",
   "metadata": {},
   "source": [
    "## Load Model"
   ]
  },
  {
   "cell_type": "code",
   "execution_count": null,
   "metadata": {},
   "outputs": [],
   "source": [
    "model = CatBoostClassifier()\n",
    "model.load_model(cat_boost_path);"
   ]
  },
  {
   "cell_type": "markdown",
   "metadata": {},
   "source": [
    "# Hyperparameter Optimierung"
   ]
  },
  {
   "cell_type": "markdown",
   "metadata": {},
   "source": [
    "load model"
   ]
  },
  {
   "cell_type": "code",
   "execution_count": null,
   "metadata": {},
   "outputs": [],
   "source": [
    "parameters = {'depth'         : [6,8,10],\n",
    "              'learning_rate' : [0.01, 0.05, 0.1,1],\n",
    "              'iterations'    : [10000]}"
   ]
  },
  {
   "cell_type": "code",
   "execution_count": null,
   "metadata": {},
   "outputs": [],
   "source": [
    "#https://setscholars.net/2019/02/19/how-to-find-optimal-parameters-for-catboost-using-gridsearchcv-for-regression-in-python/\n",
    "model = CatBoostRegressor(loss_function='MAE', boosting_type='Ordered',task_type='GPU')\n",
    "parameters = {'depth'         : [6],\n",
    "              'learning_rate' : [1],\n",
    "              'iterations'    : [10000]}\n",
    "grid = GridSearchCV(estimator=model, param_grid = parameters, scoring='neg_mean_absolute_error',cv = 2)\n",
    "grid.fit(X_train, y_train)"
   ]
  },
  {
   "cell_type": "code",
   "execution_count": 10,
   "metadata": {
    "ExecuteTime": {
     "end_time": "2019-03-22T09:08:11.434180Z",
     "start_time": "2019-03-22T09:08:11.203765Z"
    }
   },
   "outputs": [
    {
     "name": "stdout",
     "output_type": "stream",
     "text": [
      "SVR(kernel=rbf\n",
      "Best params:\n",
      "{'depth': 6, 'iterations': 10000, 'learning_rate': 1}\n",
      "\n",
      "Best cross-validation score: -2.00\n",
      "Test-set score: -1.64\n",
      "The best score across ALL searched params:  -1.9965746342232633\n",
      "Test-set: mean absolute error : 1.64\n"
     ]
    }
   ],
   "source": [
    "print('SVR(kernel=rbf')\n",
    "print(\"Best params:\\n{}\\n\".format(grid.best_params_))\n",
    "print(\"Best cross-validation score: {:.2f}\".format(grid.best_score_))\n",
    "print(\"Test-set score: {:.2f}\".format(grid.score(X_test, y_test)))\n",
    "print(\"The best score across ALL searched params: \", grid.best_score_)\n",
    "print(\"Test-set: mean absolute error : {:.2f}\".format(mean_absolute_error(y_test, grid.predict(X_test))))"
   ]
  },
  {
   "cell_type": "code",
   "execution_count": 11,
   "metadata": {
    "ExecuteTime": {
     "end_time": "2019-03-22T09:17:01.543026Z",
     "start_time": "2019-03-22T09:17:01.539062Z"
    }
   },
   "outputs": [
    {
     "name": "stdout",
     "output_type": "stream",
     "text": [
      "\n",
      "========================================================\n",
      " Results from Grid Search \n",
      "========================================================\n",
      "\n",
      " The best estimator across ALL searched params:\n",
      " <catboost.core.CatBoostRegressor object at 0x000001E500028978>\n",
      "\n",
      " The best score across ALL searched params:\n",
      " -1.9965746342232633\n",
      "\n",
      " The best parameters across ALL searched params:\n",
      " {'depth': 6, 'iterations': 10000, 'learning_rate': 1}\n"
     ]
    }
   ],
   "source": [
    "print(\"\\n========================================================\")\n",
    "print(\" Results from Grid Search \" )\n",
    "print(\"========================================================\")    \n",
    "    \n",
    "print(\"\\n The best estimator across ALL searched params:\\n\", grid.best_estimator_)\n",
    "    \n",
    "print(\"\\n The best score across ALL searched params:\\n\", grid.best_score_)\n",
    "    \n",
    "print(\"\\n The best parameters across ALL searched params:\\n\", grid.best_params_)"
   ]
  },
  {
   "cell_type": "markdown",
   "metadata": {},
   "source": [
    "# Erkenntnisse"
   ]
  },
  {
   "cell_type": "code",
   "execution_count": null,
   "metadata": {},
   "outputs": [],
   "source": []
  },
  {
   "cell_type": "code",
   "execution_count": null,
   "metadata": {},
   "outputs": [],
   "source": []
  },
  {
   "cell_type": "markdown",
   "metadata": {},
   "source": [
    "# Model selection\n",
    " - Random forrest\n",
    " - Other GradientBoost (AdaBoost)\n",
    "\n",
    " - Feed Forward NN (with Karas)\n",
    " - Reccurent Neuronal Net: LSTM (with Karas)\n",
    " - Convolutional NN https://www.kaggle.com/michael422/spectrogram-convolution https://www.kaggle.com/michael422/spectrogram-convolution\n",
    " \n",
    " \n",
    " - CatBoost vs. Light GBM vs. XGBoost https://www.kdnuggets.com/2018/03/catboost-vs-light-gbm-vs-xgboost.html\n",
    " - CatBoost-GridSearch https://setscholars.net/2019/02/19/how-to-find-optimal-parameters-for-catboost-using-gridsearchcv-for-regression-in-python/"
   ]
  },
  {
   "cell_type": "code",
   "execution_count": null,
   "metadata": {},
   "outputs": [],
   "source": []
  }
 ],
 "metadata": {
  "kernelspec": {
   "display_name": "Python 3",
   "language": "python",
   "name": "python3"
  },
  "language_info": {
   "codemirror_mode": {
    "name": "ipython",
    "version": 3
   },
   "file_extension": ".py",
   "mimetype": "text/x-python",
   "name": "python",
   "nbconvert_exporter": "python",
   "pygments_lexer": "ipython3",
   "version": "3.6.8"
  },
  "toc": {
   "base_numbering": 1,
   "nav_menu": {},
   "number_sections": true,
   "sideBar": true,
   "skip_h1_title": false,
   "title_cell": "Table of Contents",
   "title_sidebar": "Contents",
   "toc_cell": false,
   "toc_position": {
    "height": "calc(100% - 180px)",
    "left": "10px",
    "top": "150px",
    "width": "349.08px"
   },
   "toc_section_display": true,
   "toc_window_display": true
  }
 },
 "nbformat": 4,
 "nbformat_minor": 2
}
