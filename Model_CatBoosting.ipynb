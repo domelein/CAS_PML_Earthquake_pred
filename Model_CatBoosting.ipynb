{
 "cells": [
  {
   "cell_type": "code",
   "execution_count": 1,
   "metadata": {
    "ExecuteTime": {
     "end_time": "2019-03-22T18:45:13.233260Z",
     "start_time": "2019-03-22T18:45:12.020629Z"
    }
   },
   "outputs": [],
   "source": [
    "import pandas as pd\n",
    "import numpy as np\n",
    "#data visualization\n",
    "import matplotlib.pyplot as plt\n",
    "import librosa\n",
    "\n",
    "from scipy.stats import kurtosis\n",
    "from scipy.stats import skew\n",
    "\n",
    "pd.options.display.precision = 10"
   ]
  },
  {
   "cell_type": "markdown",
   "metadata": {},
   "source": [
    "## Umgebungsvariablen"
   ]
  },
  {
   "cell_type": "code",
   "execution_count": 2,
   "metadata": {
    "ExecuteTime": {
     "end_time": "2019-03-22T18:45:14.334027Z",
     "start_time": "2019-03-22T18:45:14.329995Z"
    }
   },
   "outputs": [],
   "source": [
    "feature_data_path = '''C:/studium/studium/CAS_PML/Projekt_Arbeit/earthquake/Daten/all/earthquakeFeatures_ext.csv'''\n",
    "cat_boost_model = '''C:/studium/studium/CAS_PML/Projekt_Arbeit/earthquake/Daten/all/catboost.dump'''"
   ]
  },
  {
   "cell_type": "markdown",
   "metadata": {},
   "source": [
    "# Feature laden"
   ]
  },
  {
   "cell_type": "code",
   "execution_count": 3,
   "metadata": {
    "ExecuteTime": {
     "end_time": "2019-03-22T18:45:16.434733Z",
     "start_time": "2019-03-22T18:45:15.690691Z"
    }
   },
   "outputs": [],
   "source": [
    "train_data = pd.read_csv(feature_data_path, dtype={'acoustic_data': np.int16, 'time_to_failure': np.float64})"
   ]
  },
  {
   "cell_type": "code",
   "execution_count": 4,
   "metadata": {
    "ExecuteTime": {
     "end_time": "2019-03-22T18:45:16.470630Z",
     "start_time": "2019-03-22T18:45:16.435699Z"
    }
   },
   "outputs": [
    {
     "data": {
      "text/html": [
       "<div>\n",
       "<style scoped>\n",
       "    .dataframe tbody tr th:only-of-type {\n",
       "        vertical-align: middle;\n",
       "    }\n",
       "\n",
       "    .dataframe tbody tr th {\n",
       "        vertical-align: top;\n",
       "    }\n",
       "\n",
       "    .dataframe thead th {\n",
       "        text-align: right;\n",
       "    }\n",
       "</style>\n",
       "<table border=\"1\" class=\"dataframe\">\n",
       "  <thead>\n",
       "    <tr style=\"text-align: right;\">\n",
       "      <th></th>\n",
       "      <th>mean</th>\n",
       "      <th>std</th>\n",
       "      <th>kurt</th>\n",
       "      <th>skew</th>\n",
       "      <th>min</th>\n",
       "      <th>max</th>\n",
       "      <th>1%q</th>\n",
       "      <th>5%q</th>\n",
       "      <th>25%q</th>\n",
       "      <th>75%q</th>\n",
       "      <th>...</th>\n",
       "      <th>mfcc_kurt</th>\n",
       "      <th>mfcc_skew</th>\n",
       "      <th>mfcc_min</th>\n",
       "      <th>mfcc_max</th>\n",
       "      <th>mfcc_1%q</th>\n",
       "      <th>mfcc_cent_5%q</th>\n",
       "      <th>mfcc_25%q</th>\n",
       "      <th>mfcc_75%q</th>\n",
       "      <th>mfcc_95%q</th>\n",
       "      <th>mfcc_99%q</th>\n",
       "    </tr>\n",
       "  </thead>\n",
       "  <tbody>\n",
       "    <tr>\n",
       "      <th>0</th>\n",
       "      <td>4.8841133333</td>\n",
       "      <td>5.1011061306</td>\n",
       "      <td>33.6624812935</td>\n",
       "      <td>-0.0240611666</td>\n",
       "      <td>-98.0</td>\n",
       "      <td>104.0</td>\n",
       "      <td>-8.0</td>\n",
       "      <td>-2.0</td>\n",
       "      <td>3.0</td>\n",
       "      <td>7.0</td>\n",
       "      <td>...</td>\n",
       "      <td>1.7926250934</td>\n",
       "      <td>1.1048759751</td>\n",
       "      <td>-92.1321830370</td>\n",
       "      <td>-26.1769160053</td>\n",
       "      <td>-90.0217627353</td>\n",
       "      <td>-86.1592492713</td>\n",
       "      <td>-79.7193050066</td>\n",
       "      <td>-65.7660047365</td>\n",
       "      <td>-50.0668287365</td>\n",
       "      <td>-32.7776445855</td>\n",
       "    </tr>\n",
       "    <tr>\n",
       "      <th>1</th>\n",
       "      <td>4.8460000000</td>\n",
       "      <td>5.3572687695</td>\n",
       "      <td>107.6590450983</td>\n",
       "      <td>0.3925487681</td>\n",
       "      <td>-154.0</td>\n",
       "      <td>181.0</td>\n",
       "      <td>-8.0</td>\n",
       "      <td>-2.0</td>\n",
       "      <td>3.0</td>\n",
       "      <td>7.0</td>\n",
       "      <td>...</td>\n",
       "      <td>8.0171198003</td>\n",
       "      <td>2.1118007117</td>\n",
       "      <td>-94.6178824145</td>\n",
       "      <td>8.7770193809</td>\n",
       "      <td>-91.3045186191</td>\n",
       "      <td>-86.4059601901</td>\n",
       "      <td>-80.3792653428</td>\n",
       "      <td>-66.6538662214</td>\n",
       "      <td>-49.0992852678</td>\n",
       "      <td>-22.1753170523</td>\n",
       "    </tr>\n",
       "    <tr>\n",
       "      <th>2</th>\n",
       "      <td>4.8111600000</td>\n",
       "      <td>5.3222446671</td>\n",
       "      <td>110.4614763269</td>\n",
       "      <td>0.4131461554</td>\n",
       "      <td>-154.0</td>\n",
       "      <td>181.0</td>\n",
       "      <td>-8.0</td>\n",
       "      <td>-2.0</td>\n",
       "      <td>2.0</td>\n",
       "      <td>7.0</td>\n",
       "      <td>...</td>\n",
       "      <td>8.4097814588</td>\n",
       "      <td>2.1560211118</td>\n",
       "      <td>-93.5586801788</td>\n",
       "      <td>8.4034865258</td>\n",
       "      <td>-90.8004274661</td>\n",
       "      <td>-87.0472882567</td>\n",
       "      <td>-80.2364598913</td>\n",
       "      <td>-66.9781009956</td>\n",
       "      <td>-49.1871208009</td>\n",
       "      <td>-21.8952768726</td>\n",
       "    </tr>\n",
       "    <tr>\n",
       "      <th>3</th>\n",
       "      <td>4.7970666667</td>\n",
       "      <td>5.4298018331</td>\n",
       "      <td>102.2839738481</td>\n",
       "      <td>0.3948502125</td>\n",
       "      <td>-154.0</td>\n",
       "      <td>181.0</td>\n",
       "      <td>-8.0</td>\n",
       "      <td>-2.0</td>\n",
       "      <td>2.0</td>\n",
       "      <td>7.0</td>\n",
       "      <td>...</td>\n",
       "      <td>7.6028397846</td>\n",
       "      <td>2.0502703394</td>\n",
       "      <td>-91.5577131484</td>\n",
       "      <td>5.1744835678</td>\n",
       "      <td>-89.8584868555</td>\n",
       "      <td>-86.7583032378</td>\n",
       "      <td>-79.7758637117</td>\n",
       "      <td>-65.7594193299</td>\n",
       "      <td>-46.1734484492</td>\n",
       "      <td>-25.5316359156</td>\n",
       "    </tr>\n",
       "    <tr>\n",
       "      <th>4</th>\n",
       "      <td>4.7963466667</td>\n",
       "      <td>6.2361343193</td>\n",
       "      <td>112.5711765807</td>\n",
       "      <td>0.4967878159</td>\n",
       "      <td>-154.0</td>\n",
       "      <td>181.0</td>\n",
       "      <td>-9.0</td>\n",
       "      <td>-2.0</td>\n",
       "      <td>2.0</td>\n",
       "      <td>7.0</td>\n",
       "      <td>...</td>\n",
       "      <td>8.7301748746</td>\n",
       "      <td>2.3213224679</td>\n",
       "      <td>-97.9336550547</td>\n",
       "      <td>14.4407606366</td>\n",
       "      <td>-93.0912226709</td>\n",
       "      <td>-85.1069205537</td>\n",
       "      <td>-79.4264194550</td>\n",
       "      <td>-65.0716703608</td>\n",
       "      <td>-44.3139940022</td>\n",
       "      <td>-8.9330467796</td>\n",
       "    </tr>\n",
       "  </tbody>\n",
       "</table>\n",
       "<p>5 rows × 92 columns</p>\n",
       "</div>"
      ],
      "text/plain": [
       "           mean           std            kurt          skew    min    max  \\\n",
       "0  4.8841133333  5.1011061306   33.6624812935 -0.0240611666  -98.0  104.0   \n",
       "1  4.8460000000  5.3572687695  107.6590450983  0.3925487681 -154.0  181.0   \n",
       "2  4.8111600000  5.3222446671  110.4614763269  0.4131461554 -154.0  181.0   \n",
       "3  4.7970666667  5.4298018331  102.2839738481  0.3948502125 -154.0  181.0   \n",
       "4  4.7963466667  6.2361343193  112.5711765807  0.4967878159 -154.0  181.0   \n",
       "\n",
       "   1%q  5%q  25%q  75%q  ...     mfcc_kurt     mfcc_skew       mfcc_min  \\\n",
       "0 -8.0 -2.0   3.0   7.0  ...  1.7926250934  1.1048759751 -92.1321830370   \n",
       "1 -8.0 -2.0   3.0   7.0  ...  8.0171198003  2.1118007117 -94.6178824145   \n",
       "2 -8.0 -2.0   2.0   7.0  ...  8.4097814588  2.1560211118 -93.5586801788   \n",
       "3 -8.0 -2.0   2.0   7.0  ...  7.6028397846  2.0502703394 -91.5577131484   \n",
       "4 -9.0 -2.0   2.0   7.0  ...  8.7301748746  2.3213224679 -97.9336550547   \n",
       "\n",
       "        mfcc_max       mfcc_1%q  mfcc_cent_5%q      mfcc_25%q      mfcc_75%q  \\\n",
       "0 -26.1769160053 -90.0217627353 -86.1592492713 -79.7193050066 -65.7660047365   \n",
       "1   8.7770193809 -91.3045186191 -86.4059601901 -80.3792653428 -66.6538662214   \n",
       "2   8.4034865258 -90.8004274661 -87.0472882567 -80.2364598913 -66.9781009956   \n",
       "3   5.1744835678 -89.8584868555 -86.7583032378 -79.7758637117 -65.7594193299   \n",
       "4  14.4407606366 -93.0912226709 -85.1069205537 -79.4264194550 -65.0716703608   \n",
       "\n",
       "       mfcc_95%q      mfcc_99%q  \n",
       "0 -50.0668287365 -32.7776445855  \n",
       "1 -49.0992852678 -22.1753170523  \n",
       "2 -49.1871208009 -21.8952768726  \n",
       "3 -46.1734484492 -25.5316359156  \n",
       "4 -44.3139940022  -8.9330467796  \n",
       "\n",
       "[5 rows x 92 columns]"
      ]
     },
     "execution_count": 4,
     "metadata": {},
     "output_type": "execute_result"
    }
   ],
   "source": [
    "train_data.iloc[:,1:93].head()"
   ]
  },
  {
   "cell_type": "markdown",
   "metadata": {},
   "source": [
    "## Testdaten vorbereiten"
   ]
  },
  {
   "cell_type": "code",
   "execution_count": null,
   "metadata": {},
   "outputs": [],
   "source": [
    "X_train, X_test, y_train, y_test = train_test_split(\n",
    "    features.iloc[:,1:93], features.iloc[:,-1], random_state=0, test_size=0.25)"
   ]
  },
  {
   "cell_type": "markdown",
   "metadata": {},
   "source": [
    "# Create Model Workbench"
   ]
  },
  {
   "cell_type": "markdown",
   "metadata": {},
   "source": [
    "## Imports"
   ]
  },
  {
   "cell_type": "code",
   "execution_count": 8,
   "metadata": {
    "ExecuteTime": {
     "end_time": "2019-03-22T16:13:06.413639Z",
     "start_time": "2019-03-22T16:13:06.409381Z"
    }
   },
   "outputs": [],
   "source": [
    "# Scaler\n",
    "from sklearn.preprocessing import StandardScaler\n",
    "from sklearn.preprocessing import RobustScaler\n",
    "\n",
    "# Model selection\n",
    "from sklearn.pipeline import Pipeline\n",
    "from sklearn.model_selection import GridSearchCV\n",
    "from sklearn.metrics import mean_absolute_error\n",
    "from sklearn.model_selection import train_test_split\n",
    "from sklearn.preprocessing import PolynomialFeatures\n",
    "\n",
    "# Modell\n",
    "from sklearn.ensemble import GradientBoostingRegressor\n",
    "from catboost import CatBoostRegressor, Pool\n",
    "from sklearn.ensemble import RandomForestRegressor\n",
    "from sklearn.svm import SVR"
   ]
  },
  {
   "cell_type": "markdown",
   "metadata": {},
   "source": [
    "# CatBoost"
   ]
  },
  {
   "cell_type": "markdown",
   "metadata": {},
   "source": [
    "https://github.com/catboost/tutorials/blob/master/python_tutorial.ipynb"
   ]
  },
  {
   "cell_type": "markdown",
   "metadata": {},
   "source": [
    "## Erster Versuch"
   ]
  },
  {
   "cell_type": "code",
   "execution_count": 6,
   "metadata": {
    "ExecuteTime": {
     "end_time": "2019-03-22T07:44:08.264505Z",
     "start_time": "2019-03-22T07:40:21.502147Z"
    }
   },
   "outputs": [
    {
     "name": "stdout",
     "output_type": "stream",
     "text": [
      "{'learn': {'MAE': 0.519663745777027}}\n"
     ]
    }
   ],
   "source": [
    "#Model #1 - Catboost\n",
    "\n",
    "train_pool = Pool(X_train, y_train)\n",
    "m = CatBoostRegressor(iterations=10000, learning_rate=1, loss_function='MAE', boosting_type='Ordered',task_type='GPU')\n",
    "m.fit(train_pool, silent=True)\n",
    "print(m.best_score_)"
   ]
  },
  {
   "cell_type": "code",
   "execution_count": 7,
   "metadata": {
    "ExecuteTime": {
     "end_time": "2019-03-22T07:55:01.497548Z",
     "start_time": "2019-03-22T07:44:50.446212Z"
    }
   },
   "outputs": [
    {
     "name": "stdout",
     "output_type": "stream",
     "text": [
      "{'learn': {'MAE': 0.5413089612597032}}\n"
     ]
    }
   ],
   "source": [
    "#Model #1 - Catboost\n",
    "\n",
    "train_pool = Pool(X_train, y_train)\n",
    "m = CatBoostRegressor(iterations=10000, learning_rate=1, loss_function='MAE', boosting_type='Ordered')\n",
    "m.fit(train_pool, silent=True)\n",
    "print(m.best_score_)"
   ]
  },
  {
   "cell_type": "markdown",
   "metadata": {},
   "source": [
    "Save CatBoost model"
   ]
  },
  {
   "cell_type": "code",
   "execution_count": 25,
   "metadata": {
    "ExecuteTime": {
     "end_time": "2019-03-20T22:04:47.715132Z",
     "start_time": "2019-03-20T22:04:47.669021Z"
    }
   },
   "outputs": [],
   "source": [
    "#https://catboost.ai/docs/concepts/python-reference_catboost_save_model.html\n",
    "m.save_model(cat_boost_path, \n",
    "           format=\"cbm\", \n",
    "           export_parameters=None,\n",
    "           pool=None)"
   ]
  },
  {
   "cell_type": "code",
   "execution_count": null,
   "metadata": {},
   "outputs": [],
   "source": [
    "model = CatBoostClassifier()\n",
    "model.load_model(cat_boost_path);"
   ]
  },
  {
   "cell_type": "markdown",
   "metadata": {},
   "source": [
    "## Feature Importances CatBoost\n"
   ]
  },
  {
   "cell_type": "code",
   "execution_count": 170,
   "metadata": {
    "ExecuteTime": {
     "end_time": "2019-03-21T17:31:56.929338Z",
     "start_time": "2019-03-21T17:31:56.852534Z"
    }
   },
   "outputs": [
    {
     "name": "stdout",
     "output_type": "stream",
     "text": [
      "skew: 3.7327485058842353\n",
      "zero_crossings: 2.6910612666765195\n",
      "chroma_stft_95%q: 2.492919097851608\n",
      "chroma_stft_max: 2.433370716668\n",
      "spec_bw_max: 2.309247317085658\n",
      "chroma_stft_75%q: 2.2380370796342484\n",
      "mfcc_kurt: 2.212971303619402\n",
      "chroma_stft_99%q: 2.2002330843379094\n",
      "mfcc_skew: 2.167079335930965\n",
      "rms_kurt: 2.1335816699215036\n",
      "min: 2.0465433937015933\n",
      "chroma_stft_25%q: 2.0404246925114564\n",
      "spec_cent_max: 2.024123956689253\n",
      "spec_bw_99%q: 1.9896295759118838\n",
      "rms_skew: 1.9504872156983881\n",
      "kurt: 1.9240578966757738\n",
      "max: 1.8776868053134221\n",
      "chroma_stft_mean: 1.7746410969446156\n",
      "chroma_stft_skew: 1.7474203251129428\n",
      "spec_cent_75%q: 1.7346653567125268\n",
      "absMax: 1.7147830785704512\n",
      "spec_bw_95%q: 1.6481040240890352\n",
      "spec_cent_95%q: 1.632193162272066\n",
      "chroma_stft_kurt: 1.6308604302491063\n",
      "chroma_stft_cent_5%q: 1.6195931150780902\n",
      "mfcc_min: 1.5905301411387578\n",
      "mfcc_max: 1.5582226588007155\n",
      "spec_bw_75%q: 1.5080148235854145\n",
      "rolloff_min: 1.4766048108376157\n",
      "chroma_stft_1%q: 1.410350911652337\n",
      "rms_std: 1.3869328563784704\n",
      "spec_cent_99%q: 1.370492183205879\n",
      "rolloff_kurt: 1.36128326486732\n",
      "chroma_stft_std: 1.2958352398550153\n",
      "chroma_stft_min: 1.2686847306310283\n",
      "mfcc_1%q: 1.2622246028126582\n",
      "rolloff_skew: 1.261170099011707\n",
      "spec_cent_min: 1.2449919325201246\n",
      "absMean: 1.219407119395118\n",
      "spec_cent_skew: 1.181788251655536\n",
      "rolloff_max: 1.1303961582146738\n",
      "rolloff_99%q: 1.0850340260870375\n",
      "mfcc_std: 1.0723148627459738\n",
      "spec_bw_min: 1.0434145920105058\n",
      "mfcc_cent_5%q: 1.012927415676519\n",
      "mfcc_99%q: 0.9761784976469826\n",
      "mfcc_25%q: 0.9578715402969195\n",
      "spec_cent_kurt: 0.9271291384166707\n",
      "mfcc_95%q: 0.8301191263537726\n",
      "spec_bw_1%q: 0.8256000289551378\n",
      "spec_bw_25%q: 0.82218485097543\n",
      "rolloff_95%q: 0.814850056368579\n",
      "rms_25%q: 0.7983552268474053\n",
      "spec_cent_1%q: 0.7428334446205432\n",
      "rolloff_1%q: 0.7321202436469965\n",
      "mfcc_75%q: 0.7228955499571769\n",
      "rms_5%q: 0.7191945427776975\n",
      "spec_cent_25%q: 0.7184032889751828\n",
      "mfcc_mean: 0.6768609217660342\n",
      "spec_cent_std: 0.6650846528774952\n",
      "spec_bw_mean: 0.6596929592678302\n",
      "spec_bw_cent_5%q: 0.6479349138395546\n",
      "rms_min: 0.6452020539009523\n",
      "spec_cent_5%q: 0.6179276602883318\n",
      "rolloff_75%q: 0.604241487377702\n",
      "rms_1%q: 0.5980243585540965\n",
      "rolloff_cent_5%q: 0.5704798065030335\n",
      "rolloff_std: 0.5356647833729898\n",
      "spec_bw_std: 0.5199258445283467\n",
      "spec_cent_mean: 0.5192788855877728\n",
      "rolloff_25%q: 0.49108469755664663\n",
      "rms_mean: 0.4680047207271729\n",
      "rolloff_mean: 0.45090156734043124\n",
      "rms_75%q: 0.4173020170235812\n",
      "rms_95%q: 0.39572658700084185\n",
      "absStd: 0.3881493849648715\n",
      "std: 0.37323059487463633\n",
      "rms_99%q: 0.333825641712031\n",
      "rms_max: 0.3064667191694071\n",
      "99%q: 0.16751925662412845\n",
      "1%q: 0.1406954670085134\n",
      "25%q: 0.11761791839892399\n",
      "5%q: 0.1073579400670154\n",
      "75%q: 0.1032539308917555\n",
      "95%q: 0.10285376863207381\n",
      "spec_cent_absStd: 0.027693781102372382\n",
      "spec_cent_absMean: 0.022496099878553732\n",
      "rms_absMean: 0.0157979182926267\n",
      "spec_cent_absMax: 0.014883940808730536\n",
      "rms_absStd: 0.0\n",
      "rms_absMax: 0.0\n"
     ]
    }
   ],
   "source": [
    "feature_importances = m.get_feature_importance(train_pool)\n",
    "feature_names = X_train.columns\n",
    "for score, name in sorted(zip(feature_importances, feature_names), reverse=True):\n",
    "    print('{}: {}'.format(name, score))"
   ]
  },
  {
   "cell_type": "markdown",
   "metadata": {},
   "source": [
    "# Hyperparameter Optimierung"
   ]
  },
  {
   "cell_type": "markdown",
   "metadata": {},
   "source": [
    "load model"
   ]
  },
  {
   "cell_type": "code",
   "execution_count": null,
   "metadata": {},
   "outputs": [],
   "source": [
    "parameters = {'depth'         : [6,8,10],\n",
    "              'learning_rate' : [0.01, 0.05, 0.1,1],\n",
    "              'iterations'    : [10000]}"
   ]
  },
  {
   "cell_type": "code",
   "execution_count": null,
   "metadata": {},
   "outputs": [],
   "source": [
    "#https://setscholars.net/2019/02/19/how-to-find-optimal-parameters-for-catboost-using-gridsearchcv-for-regression-in-python/\n",
    "model = CatBoostRegressor(loss_function='MAE', boosting_type='Ordered',task_type='GPU')\n",
    "parameters = {'depth'         : [6],\n",
    "              'learning_rate' : [1],\n",
    "              'iterations'    : [10000]}\n",
    "grid = GridSearchCV(estimator=model, param_grid = parameters, scoring='neg_mean_absolute_error',cv = 2)\n",
    "grid.fit(X_train, y_train)"
   ]
  },
  {
   "cell_type": "code",
   "execution_count": 10,
   "metadata": {
    "ExecuteTime": {
     "end_time": "2019-03-22T09:08:11.434180Z",
     "start_time": "2019-03-22T09:08:11.203765Z"
    }
   },
   "outputs": [
    {
     "name": "stdout",
     "output_type": "stream",
     "text": [
      "SVR(kernel=rbf\n",
      "Best params:\n",
      "{'depth': 6, 'iterations': 10000, 'learning_rate': 1}\n",
      "\n",
      "Best cross-validation score: -2.00\n",
      "Test-set score: -1.64\n",
      "The best score across ALL searched params:  -1.9965746342232633\n",
      "Test-set: mean absolute error : 1.64\n"
     ]
    }
   ],
   "source": [
    "print('SVR(kernel=rbf')\n",
    "print(\"Best params:\\n{}\\n\".format(grid.best_params_))\n",
    "print(\"Best cross-validation score: {:.2f}\".format(grid.best_score_))\n",
    "print(\"Test-set score: {:.2f}\".format(grid.score(X_test, y_test)))\n",
    "print(\"The best score across ALL searched params: \", grid.best_score_)\n",
    "print(\"Test-set: mean absolute error : {:.2f}\".format(mean_absolute_error(y_test, grid.predict(X_test))))"
   ]
  },
  {
   "cell_type": "code",
   "execution_count": 11,
   "metadata": {
    "ExecuteTime": {
     "end_time": "2019-03-22T09:17:01.543026Z",
     "start_time": "2019-03-22T09:17:01.539062Z"
    }
   },
   "outputs": [
    {
     "name": "stdout",
     "output_type": "stream",
     "text": [
      "\n",
      "========================================================\n",
      " Results from Grid Search \n",
      "========================================================\n",
      "\n",
      " The best estimator across ALL searched params:\n",
      " <catboost.core.CatBoostRegressor object at 0x000001E500028978>\n",
      "\n",
      " The best score across ALL searched params:\n",
      " -1.9965746342232633\n",
      "\n",
      " The best parameters across ALL searched params:\n",
      " {'depth': 6, 'iterations': 10000, 'learning_rate': 1}\n"
     ]
    }
   ],
   "source": [
    "print(\"\\n========================================================\")\n",
    "print(\" Results from Grid Search \" )\n",
    "print(\"========================================================\")    \n",
    "    \n",
    "print(\"\\n The best estimator across ALL searched params:\\n\", grid.best_estimator_)\n",
    "    \n",
    "print(\"\\n The best score across ALL searched params:\\n\", grid.best_score_)\n",
    "    \n",
    "print(\"\\n The best parameters across ALL searched params:\\n\", grid.best_params_)"
   ]
  },
  {
   "cell_type": "markdown",
   "metadata": {},
   "source": [
    "# Erkenntnisse"
   ]
  },
  {
   "cell_type": "code",
   "execution_count": null,
   "metadata": {},
   "outputs": [],
   "source": []
  },
  {
   "cell_type": "code",
   "execution_count": null,
   "metadata": {},
   "outputs": [],
   "source": []
  },
  {
   "cell_type": "markdown",
   "metadata": {},
   "source": [
    "# Model selection\n",
    " - Random forrest\n",
    " - Other GradientBoost (AdaBoost)\n",
    "\n",
    " - Feed Forward NN (with Karas)\n",
    " - Reccurent Neuronal Net: LSTM (with Karas)\n",
    " - Convolutional NN https://www.kaggle.com/michael422/spectrogram-convolution https://www.kaggle.com/michael422/spectrogram-convolution\n",
    " \n",
    " \n",
    " - CatBoost vs. Light GBM vs. XGBoost https://www.kdnuggets.com/2018/03/catboost-vs-light-gbm-vs-xgboost.html\n",
    " - CatBoost-GridSearch https://setscholars.net/2019/02/19/how-to-find-optimal-parameters-for-catboost-using-gridsearchcv-for-regression-in-python/"
   ]
  },
  {
   "cell_type": "code",
   "execution_count": null,
   "metadata": {},
   "outputs": [],
   "source": []
  }
 ],
 "metadata": {
  "kernelspec": {
   "display_name": "Python 3",
   "language": "python",
   "name": "python3"
  },
  "language_info": {
   "codemirror_mode": {
    "name": "ipython",
    "version": 3
   },
   "file_extension": ".py",
   "mimetype": "text/x-python",
   "name": "python",
   "nbconvert_exporter": "python",
   "pygments_lexer": "ipython3",
   "version": "3.6.8"
  },
  "toc": {
   "base_numbering": 1,
   "nav_menu": {},
   "number_sections": true,
   "sideBar": true,
   "skip_h1_title": false,
   "title_cell": "Table of Contents",
   "title_sidebar": "Contents",
   "toc_cell": false,
   "toc_position": {
    "height": "calc(100% - 180px)",
    "left": "10px",
    "top": "150px",
    "width": "349.091px"
   },
   "toc_section_display": true,
   "toc_window_display": true
  }
 },
 "nbformat": 4,
 "nbformat_minor": 2
}
