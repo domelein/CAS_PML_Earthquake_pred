{
 "cells": [
  {
   "cell_type": "markdown",
   "metadata": {},
   "source": [
    "# Imports"
   ]
  },
  {
   "cell_type": "code",
   "execution_count": 1,
   "metadata": {
    "ExecuteTime": {
     "end_time": "2019-03-30T10:36:09.123612Z",
     "start_time": "2019-03-30T10:36:04.044274Z"
    }
   },
   "outputs": [
    {
     "name": "stderr",
     "output_type": "stream",
     "text": [
      "Using TensorFlow backend.\n"
     ]
    }
   ],
   "source": [
    "import pandas as pd\n",
    "import numpy as np\n",
    "#data visualization\n",
    "import matplotlib.pyplot as plt\n",
    "from sklearn.model_selection import train_test_split\n",
    "from sklearn.preprocessing import StandardScaler\n",
    "from sklearn.metrics import mean_absolute_error\n",
    "\n",
    "from keras.models import Sequential\n",
    "from keras.layers import Dense, Activation\n",
    "\n",
    "pd.options.display.precision = 10"
   ]
  },
  {
   "cell_type": "markdown",
   "metadata": {},
   "source": [
    "https://datascience.stackexchange.com/questions/26683/does-it-makes-sense-to-combine-pca-with-an-artificial-neural-network"
   ]
  },
  {
   "cell_type": "markdown",
   "metadata": {},
   "source": [
    "# Umgebungsvariablen"
   ]
  },
  {
   "cell_type": "code",
   "execution_count": 4,
   "metadata": {
    "ExecuteTime": {
     "end_time": "2019-03-30T10:36:51.330910Z",
     "start_time": "2019-03-30T10:36:51.326936Z"
    }
   },
   "outputs": [],
   "source": [
    "# path data Domenico\n",
    "#feature generated 24.03.2019\n",
    "earthquake_daten = '''C:/Users/taacodo4/GITRepos/CAS_PML_Earthquake_pred/data/'''\n",
    "#earthquake_daten = '''C:/studium/studium/CAS_PML/Projekt_Arbeit/earthquake/Daten/earthquake_data/'''\n",
    "feature_62900_94 = 'Features_62900-94.csv'\n",
    "feature_41934_94 = 'Features_41934_94.csv'\n",
    "Features_4194_94 = 'Features_4194_94.csv'\n",
    "Features_PCA_20 = 'Features_PCA_20.csv'"
   ]
  },
  {
   "cell_type": "markdown",
   "metadata": {},
   "source": [
    "# Feature laden"
   ]
  },
  {
   "cell_type": "code",
   "execution_count": 13,
   "metadata": {
    "ExecuteTime": {
     "end_time": "2019-03-30T10:46:18.679826Z",
     "start_time": "2019-03-30T10:46:18.444934Z"
    }
   },
   "outputs": [],
   "source": [
    "train_data = pd.read_csv(earthquake_daten+Features_PCA_20)"
   ]
  },
  {
   "cell_type": "code",
   "execution_count": 21,
   "metadata": {
    "ExecuteTime": {
     "end_time": "2019-03-30T10:48:47.411711Z",
     "start_time": "2019-03-30T10:48:47.399645Z"
    }
   },
   "outputs": [],
   "source": [
    "feature_data = train_data.iloc[:,1:len(train_data.columns)-1] # first column is an index column\n",
    "time_to_failure = np.array(train_data.iloc[:,-1])"
   ]
  },
  {
   "cell_type": "code",
   "execution_count": 22,
   "metadata": {
    "ExecuteTime": {
     "end_time": "2019-03-30T10:48:49.201850Z",
     "start_time": "2019-03-30T10:48:49.179463Z"
    }
   },
   "outputs": [
    {
     "data": {
      "text/html": [
       "<div>\n",
       "<style scoped>\n",
       "    .dataframe tbody tr th:only-of-type {\n",
       "        vertical-align: middle;\n",
       "    }\n",
       "\n",
       "    .dataframe tbody tr th {\n",
       "        vertical-align: top;\n",
       "    }\n",
       "\n",
       "    .dataframe thead th {\n",
       "        text-align: right;\n",
       "    }\n",
       "</style>\n",
       "<table border=\"1\" class=\"dataframe\">\n",
       "  <thead>\n",
       "    <tr style=\"text-align: right;\">\n",
       "      <th></th>\n",
       "      <th>0</th>\n",
       "      <th>1</th>\n",
       "      <th>2</th>\n",
       "      <th>3</th>\n",
       "      <th>4</th>\n",
       "      <th>5</th>\n",
       "      <th>6</th>\n",
       "      <th>7</th>\n",
       "      <th>8</th>\n",
       "      <th>9</th>\n",
       "      <th>10</th>\n",
       "      <th>11</th>\n",
       "      <th>12</th>\n",
       "      <th>13</th>\n",
       "      <th>14</th>\n",
       "      <th>15</th>\n",
       "      <th>16</th>\n",
       "      <th>17</th>\n",
       "      <th>18</th>\n",
       "      <th>19</th>\n",
       "    </tr>\n",
       "  </thead>\n",
       "  <tbody>\n",
       "    <tr>\n",
       "      <th>0</th>\n",
       "      <td>-181972.1853794308</td>\n",
       "      <td>-36394.4330613614</td>\n",
       "      <td>171797.4110913957</td>\n",
       "      <td>34215.6471338381</td>\n",
       "      <td>-16537.1427292294</td>\n",
       "      <td>-25374.3358475975</td>\n",
       "      <td>-9163.4684621953</td>\n",
       "      <td>-973.5793706044</td>\n",
       "      <td>436.5975131236</td>\n",
       "      <td>-5306.7119861762</td>\n",
       "      <td>-7561.8837686360</td>\n",
       "      <td>-8861.3086886483</td>\n",
       "      <td>435.1073150531</td>\n",
       "      <td>2599.5293264597</td>\n",
       "      <td>5827.3065790978</td>\n",
       "      <td>3899.7353809885</td>\n",
       "      <td>844.6447900626</td>\n",
       "      <td>3173.9729980851</td>\n",
       "      <td>581.2348830360</td>\n",
       "      <td>-1849.4742178128</td>\n",
       "    </tr>\n",
       "    <tr>\n",
       "      <th>1</th>\n",
       "      <td>32038.3753533388</td>\n",
       "      <td>-202095.5031528999</td>\n",
       "      <td>139289.5299211791</td>\n",
       "      <td>64373.9133703959</td>\n",
       "      <td>1535.9736276593</td>\n",
       "      <td>-34176.0585049977</td>\n",
       "      <td>-21203.8189938500</td>\n",
       "      <td>7278.2682088342</td>\n",
       "      <td>-16701.2324171912</td>\n",
       "      <td>1718.9346804158</td>\n",
       "      <td>-6044.9629427035</td>\n",
       "      <td>-7500.5319545162</td>\n",
       "      <td>-3672.3887329261</td>\n",
       "      <td>-1123.5655536854</td>\n",
       "      <td>3165.8767853318</td>\n",
       "      <td>2800.2756968933</td>\n",
       "      <td>4399.6977812728</td>\n",
       "      <td>-275.3775521937</td>\n",
       "      <td>920.6525028753</td>\n",
       "      <td>-2914.7814367958</td>\n",
       "    </tr>\n",
       "    <tr>\n",
       "      <th>2</th>\n",
       "      <td>25667.4929448198</td>\n",
       "      <td>-182281.7878288151</td>\n",
       "      <td>144853.2288013907</td>\n",
       "      <td>54935.6898090541</td>\n",
       "      <td>1447.0919139677</td>\n",
       "      <td>-29844.8868954802</td>\n",
       "      <td>-11506.0408995832</td>\n",
       "      <td>5446.0308954168</td>\n",
       "      <td>-26210.9237662784</td>\n",
       "      <td>915.2516619176</td>\n",
       "      <td>-6561.7496088643</td>\n",
       "      <td>-10574.2543327356</td>\n",
       "      <td>-5109.5128560110</td>\n",
       "      <td>-4351.6538986543</td>\n",
       "      <td>1224.2467228688</td>\n",
       "      <td>3290.0466044985</td>\n",
       "      <td>2546.5951971767</td>\n",
       "      <td>-2463.1167409446</td>\n",
       "      <td>2659.2812237225</td>\n",
       "      <td>-253.5059425272</td>\n",
       "    </tr>\n",
       "    <tr>\n",
       "      <th>3</th>\n",
       "      <td>-36024.5929071542</td>\n",
       "      <td>-159717.6077189532</td>\n",
       "      <td>206702.1214032233</td>\n",
       "      <td>40980.5964933687</td>\n",
       "      <td>-4080.2999216007</td>\n",
       "      <td>-33193.6078340895</td>\n",
       "      <td>-25126.0092570235</td>\n",
       "      <td>3896.1132328577</td>\n",
       "      <td>-21692.3131856223</td>\n",
       "      <td>2750.2677843304</td>\n",
       "      <td>-5320.3337029861</td>\n",
       "      <td>-7871.3474418265</td>\n",
       "      <td>-5032.7298388222</td>\n",
       "      <td>5632.0350853996</td>\n",
       "      <td>3024.7730232733</td>\n",
       "      <td>3248.3538846192</td>\n",
       "      <td>-484.8656966210</td>\n",
       "      <td>-243.1747067263</td>\n",
       "      <td>1671.6518074349</td>\n",
       "      <td>-463.8872388748</td>\n",
       "    </tr>\n",
       "    <tr>\n",
       "      <th>4</th>\n",
       "      <td>160130.7931162381</td>\n",
       "      <td>-167169.2179537113</td>\n",
       "      <td>50782.7070804358</td>\n",
       "      <td>84391.9080612415</td>\n",
       "      <td>971.3349438410</td>\n",
       "      <td>-15930.9713005078</td>\n",
       "      <td>-12440.7454561887</td>\n",
       "      <td>8432.0139615597</td>\n",
       "      <td>-10442.1547949744</td>\n",
       "      <td>1505.7788509406</td>\n",
       "      <td>-3935.1399515704</td>\n",
       "      <td>-5361.3998252004</td>\n",
       "      <td>21807.1105677856</td>\n",
       "      <td>-5947.1028865481</td>\n",
       "      <td>6713.8148199810</td>\n",
       "      <td>2314.7725357341</td>\n",
       "      <td>1284.6035750450</td>\n",
       "      <td>1419.5036439726</td>\n",
       "      <td>1250.3087708477</td>\n",
       "      <td>-1077.8288501696</td>\n",
       "    </tr>\n",
       "  </tbody>\n",
       "</table>\n",
       "</div>"
      ],
      "text/plain": [
       "                   0                  1                  2                 3  \\\n",
       "0 -181972.1853794308  -36394.4330613614  171797.4110913957  34215.6471338381   \n",
       "1   32038.3753533388 -202095.5031528999  139289.5299211791  64373.9133703959   \n",
       "2   25667.4929448198 -182281.7878288151  144853.2288013907  54935.6898090541   \n",
       "3  -36024.5929071542 -159717.6077189532  206702.1214032233  40980.5964933687   \n",
       "4  160130.7931162381 -167169.2179537113   50782.7070804358  84391.9080612415   \n",
       "\n",
       "                  4                 5                 6                7  \\\n",
       "0 -16537.1427292294 -25374.3358475975  -9163.4684621953  -973.5793706044   \n",
       "1   1535.9736276593 -34176.0585049977 -21203.8189938500  7278.2682088342   \n",
       "2   1447.0919139677 -29844.8868954802 -11506.0408995832  5446.0308954168   \n",
       "3  -4080.2999216007 -33193.6078340895 -25126.0092570235  3896.1132328577   \n",
       "4    971.3349438410 -15930.9713005078 -12440.7454561887  8432.0139615597   \n",
       "\n",
       "                  8                9               10                11  \\\n",
       "0    436.5975131236 -5306.7119861762 -7561.8837686360  -8861.3086886483   \n",
       "1 -16701.2324171912  1718.9346804158 -6044.9629427035  -7500.5319545162   \n",
       "2 -26210.9237662784   915.2516619176 -6561.7496088643 -10574.2543327356   \n",
       "3 -21692.3131856223  2750.2677843304 -5320.3337029861  -7871.3474418265   \n",
       "4 -10442.1547949744  1505.7788509406 -3935.1399515704  -5361.3998252004   \n",
       "\n",
       "                 12               13               14               15  \\\n",
       "0    435.1073150531  2599.5293264597  5827.3065790978  3899.7353809885   \n",
       "1  -3672.3887329261 -1123.5655536854  3165.8767853318  2800.2756968933   \n",
       "2  -5109.5128560110 -4351.6538986543  1224.2467228688  3290.0466044985   \n",
       "3  -5032.7298388222  5632.0350853996  3024.7730232733  3248.3538846192   \n",
       "4  21807.1105677856 -5947.1028865481  6713.8148199810  2314.7725357341   \n",
       "\n",
       "                16               17               18               19  \n",
       "0   844.6447900626  3173.9729980851   581.2348830360 -1849.4742178128  \n",
       "1  4399.6977812728  -275.3775521937   920.6525028753 -2914.7814367958  \n",
       "2  2546.5951971767 -2463.1167409446  2659.2812237225  -253.5059425272  \n",
       "3  -484.8656966210  -243.1747067263  1671.6518074349  -463.8872388748  \n",
       "4  1284.6035750450  1419.5036439726  1250.3087708477 -1077.8288501696  "
      ]
     },
     "execution_count": 22,
     "metadata": {},
     "output_type": "execute_result"
    }
   ],
   "source": [
    "feature_data.head()"
   ]
  },
  {
   "cell_type": "markdown",
   "metadata": {},
   "source": [
    "# Training / Testdaten vorbereiten"
   ]
  },
  {
   "cell_type": "code",
   "execution_count": 23,
   "metadata": {
    "ExecuteTime": {
     "end_time": "2019-03-30T10:49:14.981435Z",
     "start_time": "2019-03-30T10:49:14.968398Z"
    }
   },
   "outputs": [],
   "source": [
    "X_train, X_test, y_train, y_test = train_test_split(\n",
    "    feature_data,\n",
    "    time_to_failure,\n",
    "    random_state=0,\n",
    "    test_size=0.25)"
   ]
  },
  {
   "cell_type": "code",
   "execution_count": 24,
   "metadata": {
    "ExecuteTime": {
     "end_time": "2019-03-30T10:49:15.924189Z",
     "start_time": "2019-03-30T10:49:15.898118Z"
    }
   },
   "outputs": [],
   "source": [
    "scaler = StandardScaler().fit(X_train)\n",
    "X_train_scaled=scaler.transform(X_train)"
   ]
  },
  {
   "cell_type": "markdown",
   "metadata": {},
   "source": [
    "# Create Model"
   ]
  },
  {
   "cell_type": "markdown",
   "metadata": {},
   "source": [
    "# Compilation"
   ]
  },
  {
   "cell_type": "code",
   "execution_count": 34,
   "metadata": {
    "ExecuteTime": {
     "end_time": "2019-03-30T11:07:22.754516Z",
     "start_time": "2019-03-30T11:03:20.552632Z"
    }
   },
   "outputs": [
    {
     "name": "stdout",
     "output_type": "stream",
     "text": [
      "Epoch 1/100\n",
      "31450/31450 [==============================] - 3s 80us/step - loss: 8.1202\n",
      "Epoch 2/100\n",
      "31450/31450 [==============================] - 2s 71us/step - loss: 7.0693\n",
      "Epoch 3/100\n",
      "31450/31450 [==============================] - 2s 67us/step - loss: 6.9435\n",
      "Epoch 4/100\n",
      "31450/31450 [==============================] - 2s 70us/step - loss: 6.8697\n",
      "Epoch 5/100\n",
      "31450/31450 [==============================] - 2s 67us/step - loss: 6.7807\n",
      "Epoch 6/100\n",
      "31450/31450 [==============================] - 2s 68us/step - loss: 6.7176\n",
      "Epoch 7/100\n",
      "31450/31450 [==============================] - 2s 74us/step - loss: 6.6510\n",
      "Epoch 8/100\n",
      "31450/31450 [==============================] - 2s 63us/step - loss: 6.5851\n",
      "Epoch 9/100\n",
      "31450/31450 [==============================] - 2s 63us/step - loss: 6.5363\n",
      "Epoch 10/100\n",
      "31450/31450 [==============================] - 2s 64us/step - loss: 6.4797\n",
      "Epoch 11/100\n",
      "31450/31450 [==============================] - 3s 91us/step - loss: 6.4414\n",
      "Epoch 12/100\n",
      "31450/31450 [==============================] - 2s 78us/step - loss: 6.3935\n",
      "Epoch 13/100\n",
      "31450/31450 [==============================] - 2s 67us/step - loss: 6.3466\n",
      "Epoch 14/100\n",
      "31450/31450 [==============================] - 2s 71us/step - loss: 6.3193\n",
      "Epoch 15/100\n",
      "31450/31450 [==============================] - 2s 74us/step - loss: 6.2877\n",
      "Epoch 16/100\n",
      "31450/31450 [==============================] - 2s 74us/step - loss: 6.2311\n",
      "Epoch 17/100\n",
      "31450/31450 [==============================] - 2s 71us/step - loss: 6.2024\n",
      "Epoch 18/100\n",
      "31450/31450 [==============================] - 3s 80us/step - loss: 6.1879\n",
      "Epoch 19/100\n",
      "31450/31450 [==============================] - 2s 75us/step - loss: 6.1337\n",
      "Epoch 20/100\n",
      "31450/31450 [==============================] - 2s 75us/step - loss: 6.1216\n",
      "Epoch 21/100\n",
      "31450/31450 [==============================] - 2s 70us/step - loss: 6.0963\n",
      "Epoch 22/100\n",
      "31450/31450 [==============================] - 2s 68us/step - loss: 6.0370\n",
      "Epoch 23/100\n",
      "31450/31450 [==============================] - 2s 73us/step - loss: 6.0123\n",
      "Epoch 24/100\n",
      "31450/31450 [==============================] - 2s 67us/step - loss: 5.9973\n",
      "Epoch 25/100\n",
      "31450/31450 [==============================] - 2s 77us/step - loss: 5.9672\n",
      "Epoch 26/100\n",
      "31450/31450 [==============================] - 2s 72us/step - loss: 5.9284\n",
      "Epoch 27/100\n",
      "31450/31450 [==============================] - 2s 69us/step - loss: 5.9370\n",
      "Epoch 28/100\n",
      "31450/31450 [==============================] - 2s 73us/step - loss: 5.8966\n",
      "Epoch 29/100\n",
      "31450/31450 [==============================] - 3s 85us/step - loss: 5.8815\n",
      "Epoch 30/100\n",
      "31450/31450 [==============================] - 3s 83us/step - loss: 5.8346\n",
      "Epoch 31/100\n",
      "31450/31450 [==============================] - 2s 72us/step - loss: 5.8374\n",
      "Epoch 32/100\n",
      "31450/31450 [==============================] - 3s 108us/step - loss: 5.8029\n",
      "Epoch 33/100\n",
      "31450/31450 [==============================] - 5s 150us/step - loss: 5.7958\n",
      "Epoch 34/100\n",
      "31450/31450 [==============================] - 3s 107us/step - loss: 5.7874\n",
      "Epoch 35/100\n",
      "31450/31450 [==============================] - 3s 94us/step - loss: 5.7569\n",
      "Epoch 36/100\n",
      "31450/31450 [==============================] - 3s 100us/step - loss: 5.7207\n",
      "Epoch 37/100\n",
      "31450/31450 [==============================] - 3s 106us/step - loss: 5.7228\n",
      "Epoch 38/100\n",
      "31450/31450 [==============================] - 3s 94us/step - loss: 5.6952\n",
      "Epoch 39/100\n",
      "31450/31450 [==============================] - 3s 84us/step - loss: 5.6870\n",
      "Epoch 40/100\n",
      "31450/31450 [==============================] - 2s 75us/step - loss: 5.6787\n",
      "Epoch 41/100\n",
      "31450/31450 [==============================] - 2s 73us/step - loss: 5.6766\n",
      "Epoch 42/100\n",
      "31450/31450 [==============================] - 3s 80us/step - loss: 5.6329\n",
      "Epoch 43/100\n",
      "31450/31450 [==============================] - 2s 77us/step - loss: 5.6393\n",
      "Epoch 44/100\n",
      "31450/31450 [==============================] - 2s 79us/step - loss: 5.6043\n",
      "Epoch 45/100\n",
      "31450/31450 [==============================] - 2s 74us/step - loss: 5.6006\n",
      "Epoch 46/100\n",
      "31450/31450 [==============================] - 2s 76us/step - loss: 5.5753\n",
      "Epoch 47/100\n",
      "31450/31450 [==============================] - 3s 81us/step - loss: 5.5552\n",
      "Epoch 48/100\n",
      "31450/31450 [==============================] - 3s 82us/step - loss: 5.5720\n",
      "Epoch 49/100\n",
      "31450/31450 [==============================] - 3s 83us/step - loss: 5.5422\n",
      "Epoch 50/100\n",
      "31450/31450 [==============================] - 2s 79us/step - loss: 5.5187\n",
      "Epoch 51/100\n",
      "31450/31450 [==============================] - 2s 75us/step - loss: 5.5461\n",
      "Epoch 52/100\n",
      "31450/31450 [==============================] - 2s 77us/step - loss: 5.5171\n",
      "Epoch 53/100\n",
      "31450/31450 [==============================] - 2s 72us/step - loss: 5.4971\n",
      "Epoch 54/100\n",
      "31450/31450 [==============================] - 2s 69us/step - loss: 5.4986\n",
      "Epoch 55/100\n",
      "31450/31450 [==============================] - 2s 74us/step - loss: 5.4818\n",
      "Epoch 56/100\n",
      "31450/31450 [==============================] - 2s 77us/step - loss: 5.4637\n",
      "Epoch 57/100\n",
      "31450/31450 [==============================] - 2s 71us/step - loss: 5.4437\n",
      "Epoch 58/100\n",
      "31450/31450 [==============================] - 2s 68us/step - loss: 5.4309\n",
      "Epoch 59/100\n",
      "31450/31450 [==============================] - 2s 73us/step - loss: 5.4356\n",
      "Epoch 60/100\n",
      "31450/31450 [==============================] - 2s 70us/step - loss: 5.4102\n",
      "Epoch 61/100\n",
      "31450/31450 [==============================] - 2s 72us/step - loss: 5.4183\n",
      "Epoch 62/100\n",
      "31450/31450 [==============================] - 2s 70us/step - loss: 5.3841\n",
      "Epoch 63/100\n",
      "31450/31450 [==============================] - 2s 75us/step - loss: 5.3948\n",
      "Epoch 64/100\n",
      "31450/31450 [==============================] - 2s 70us/step - loss: 5.3679\n",
      "Epoch 65/100\n",
      "31450/31450 [==============================] - 2s 70us/step - loss: 5.3729\n",
      "Epoch 66/100\n",
      "31450/31450 [==============================] - 2s 71us/step - loss: 5.3428\n",
      "Epoch 67/100\n",
      "31450/31450 [==============================] - 2s 71us/step - loss: 5.3464\n",
      "Epoch 68/100\n",
      "31450/31450 [==============================] - 2s 69us/step - loss: 5.3412\n",
      "Epoch 69/100\n",
      "31450/31450 [==============================] - 2s 74us/step - loss: 5.3165\n",
      "Epoch 70/100\n",
      "31450/31450 [==============================] - 2s 76us/step - loss: 5.3179\n",
      "Epoch 71/100\n",
      "31450/31450 [==============================] - 2s 68us/step - loss: 5.2987\n",
      "Epoch 72/100\n",
      "31450/31450 [==============================] - 2s 68us/step - loss: 5.2765\n",
      "Epoch 73/100\n",
      "31450/31450 [==============================] - 2s 68us/step - loss: 5.3039\n",
      "Epoch 74/100\n",
      "31450/31450 [==============================] - 2s 67us/step - loss: 5.2829\n",
      "Epoch 75/100\n",
      "31450/31450 [==============================] - 2s 71us/step - loss: 5.2614\n",
      "Epoch 76/100\n",
      "31450/31450 [==============================] - 2s 70us/step - loss: 5.2628\n",
      "Epoch 77/100\n",
      "31450/31450 [==============================] - 2s 79us/step - loss: 5.2589\n",
      "Epoch 78/100\n",
      "31450/31450 [==============================] - 2s 68us/step - loss: 5.2187\n",
      "Epoch 79/100\n",
      "31450/31450 [==============================] - 3s 88us/step - loss: 5.2397\n",
      "Epoch 80/100\n",
      "31450/31450 [==============================] - 2s 75us/step - loss: 5.2191\n",
      "Epoch 81/100\n",
      "31450/31450 [==============================] - 2s 77us/step - loss: 5.2201\n",
      "Epoch 82/100\n",
      "31450/31450 [==============================] - 2s 76us/step - loss: 5.2054\n",
      "Epoch 83/100\n",
      "31450/31450 [==============================] - 3s 80us/step - loss: 5.2135\n",
      "Epoch 84/100\n",
      "31450/31450 [==============================] - 3s 81us/step - loss: 5.1866\n",
      "Epoch 85/100\n",
      "31450/31450 [==============================] - 2s 76us/step - loss: 5.1977\n",
      "Epoch 86/100\n",
      "31450/31450 [==============================] - 2s 75us/step - loss: 5.1752\n",
      "Epoch 87/100\n",
      "31450/31450 [==============================] - 2s 77us/step - loss: 5.1652\n",
      "Epoch 88/100\n",
      "31450/31450 [==============================] - 2s 75us/step - loss: 5.1397\n",
      "Epoch 89/100\n",
      "31450/31450 [==============================] - 2s 75us/step - loss: 5.1636\n",
      "Epoch 90/100\n",
      "31450/31450 [==============================] - 3s 101us/step - loss: 5.1484\n",
      "Epoch 91/100\n",
      "31450/31450 [==============================] - 3s 92us/step - loss: 5.1366\n",
      "Epoch 92/100\n",
      "31450/31450 [==============================] - 3s 82us/step - loss: 5.1452\n",
      "Epoch 93/100\n",
      "31450/31450 [==============================] - 2s 76us/step - loss: 5.1455\n",
      "Epoch 94/100\n"
     ]
    },
    {
     "name": "stdout",
     "output_type": "stream",
     "text": [
      "31450/31450 [==============================] - 2s 78us/step - loss: 5.1299\n",
      "Epoch 95/100\n",
      "31450/31450 [==============================] - 2s 74us/step - loss: 5.1374\n",
      "Epoch 96/100\n",
      "31450/31450 [==============================] - 3s 80us/step - loss: 5.1303\n",
      "Epoch 97/100\n",
      "31450/31450 [==============================] - 2s 77us/step - loss: 5.1161\n",
      "Epoch 98/100\n",
      "31450/31450 [==============================] - 2s 71us/step - loss: 5.1089\n",
      "Epoch 99/100\n",
      "31450/31450 [==============================] - 2s 74us/step - loss: 5.1149\n",
      "Epoch 100/100\n",
      "31450/31450 [==============================] - 2s 76us/step - loss: 5.1040\n"
     ]
    },
    {
     "data": {
      "text/plain": [
       "<keras.callbacks.History at 0x1fb1351fef0>"
      ]
     },
     "execution_count": 34,
     "metadata": {},
     "output_type": "execute_result"
    }
   ],
   "source": [
    "model = Sequential()\n",
    "model.add(Dense(30, activation='relu', input_dim=20))\n",
    "model.add(Dense(40, activation='relu'))\n",
    "model.add(Dense(30, activation='relu'))\n",
    "model.add(Dense(1, activation='linear'))\n",
    "#model.compile(loss='mae',optimizer='sgd',metrics=['mae', 'acc'],)\n",
    "model.compile(loss='mse', optimizer='adam')\n",
    "\n",
    "model.fit(X_train_scaled, y_train, epochs=100, batch_size=10)"
   ]
  },
  {
   "cell_type": "code",
   "execution_count": 35,
   "metadata": {
    "ExecuteTime": {
     "end_time": "2019-03-30T11:08:23.895138Z",
     "start_time": "2019-03-30T11:08:23.888150Z"
    }
   },
   "outputs": [],
   "source": [
    "X_test_scaled=scaler.transform(X_test)"
   ]
  },
  {
   "cell_type": "code",
   "execution_count": 36,
   "metadata": {
    "ExecuteTime": {
     "end_time": "2019-03-30T11:08:25.911351Z",
     "start_time": "2019-03-30T11:08:25.905335Z"
    }
   },
   "outputs": [
    {
     "name": "stdout",
     "output_type": "stream",
     "text": [
      "_________________________________________________________________\n",
      "Layer (type)                 Output Shape              Param #   \n",
      "=================================================================\n",
      "dense_17 (Dense)             (None, 30)                630       \n",
      "_________________________________________________________________\n",
      "dense_18 (Dense)             (None, 40)                1240      \n",
      "_________________________________________________________________\n",
      "dense_19 (Dense)             (None, 30)                1230      \n",
      "_________________________________________________________________\n",
      "dense_20 (Dense)             (None, 1)                 31        \n",
      "=================================================================\n",
      "Total params: 3,131\n",
      "Trainable params: 3,131\n",
      "Non-trainable params: 0\n",
      "_________________________________________________________________\n"
     ]
    }
   ],
   "source": [
    "model.summary()"
   ]
  },
  {
   "cell_type": "code",
   "execution_count": 29,
   "metadata": {
    "ExecuteTime": {
     "end_time": "2019-03-30T10:56:55.676996Z",
     "start_time": "2019-03-30T10:56:55.584592Z"
    }
   },
   "outputs": [
    {
     "name": "stdout",
     "output_type": "stream",
     "text": [
      "\n",
      "Model Report\n",
      "Settings: PCA 20, 30/40/30, 100 epochs, 10 batch size, optimizer sgd, loss function mae\n",
      "<bound method Network.summary of <keras.engine.sequential.Sequential object at 0x000001FB12A4D390>>\n",
      "MAE train data: 1.998\n"
     ]
    }
   ],
   "source": [
    "prediction=model.predict(X_test_scaled)\n",
    "#Print model report:\n",
    "print(\"\\nModel Report\")\n",
    "print(\"Settings: PCA 20, 30/40/30, 100 epochs, 10 batch size, optimizer sgd, loss function mae\")\n",
    "print(model.summary)\n",
    "print(\"MAE train data: %.4g\" % mean_absolute_error(y_test, prediction))"
   ]
  },
  {
   "cell_type": "code",
   "execution_count": 33,
   "metadata": {
    "ExecuteTime": {
     "end_time": "2019-03-30T11:02:58.187380Z",
     "start_time": "2019-03-30T11:02:58.047479Z"
    }
   },
   "outputs": [
    {
     "name": "stdout",
     "output_type": "stream",
     "text": [
      "\n",
      "Model Report\n",
      "Settings: PCA 20, 30/40/30, 100 epochs, 10 batch size, optimizer adam, loss function mae\n",
      "<bound method Network.summary of <keras.engine.sequential.Sequential object at 0x000001FB14C7E898>>\n",
      "MAE train data: 2.003\n"
     ]
    }
   ],
   "source": [
    "prediction=model.predict(X_test_scaled)\n",
    "#Print model report:\n",
    "print(\"\\nModel Report\")\n",
    "print(\"Settings: PCA 20, 30/40/30, 100 epochs, 10 batch size, optimizer adam, loss function mae\")\n",
    "print(model.summary)\n",
    "print(\"MAE train data: %.4g\" % mean_absolute_error(y_test, prediction))"
   ]
  },
  {
   "cell_type": "code",
   "execution_count": 37,
   "metadata": {
    "ExecuteTime": {
     "end_time": "2019-03-30T11:08:29.061633Z",
     "start_time": "2019-03-30T11:08:28.909918Z"
    }
   },
   "outputs": [
    {
     "name": "stdout",
     "output_type": "stream",
     "text": [
      "\n",
      "Model Report\n",
      "Settings: PCA 20, 30/40/30, 100 epochs, 10 batch size, optimizer adam, loss function mse\n",
      "<bound method Network.summary of <keras.engine.sequential.Sequential object at 0x000001FB1350A7F0>>\n",
      "MAE train data: 2.039\n"
     ]
    }
   ],
   "source": [
    "prediction=model.predict(X_test_scaled)\n",
    "#Print model report:\n",
    "print(\"\\nModel Report\")\n",
    "print(\"Settings: PCA 20, 30/40/30, 100 epochs, 10 batch size, optimizer adam, loss function mse\")\n",
    "print(model.summary)\n",
    "print(\"MAE train data: %.4g\" % mean_absolute_error(y_test, prediction))"
   ]
  }
 ],
 "metadata": {
  "kernelspec": {
   "display_name": "Python 3",
   "language": "python",
   "name": "python3"
  },
  "language_info": {
   "codemirror_mode": {
    "name": "ipython",
    "version": 3
   },
   "file_extension": ".py",
   "mimetype": "text/x-python",
   "name": "python",
   "nbconvert_exporter": "python",
   "pygments_lexer": "ipython3",
   "version": "3.7.2"
  },
  "toc": {
   "base_numbering": 1,
   "nav_menu": {
    "height": "347.003px",
    "width": "275.994px"
   },
   "number_sections": true,
   "sideBar": true,
   "skip_h1_title": false,
   "title_cell": "Table of Contents",
   "title_sidebar": "Contents",
   "toc_cell": false,
   "toc_position": {},
   "toc_section_display": true,
   "toc_window_display": true
  }
 },
 "nbformat": 4,
 "nbformat_minor": 2
}
